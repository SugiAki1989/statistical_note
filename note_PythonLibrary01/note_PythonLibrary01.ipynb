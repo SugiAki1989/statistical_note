{
 "cells": [
  {
   "cell_type": "markdown",
   "metadata": {},
   "source": [
    "# はじめに\n",
    "\n",
    "このノートではPythonのpolarsライブラリの使い方をまとめておく。polarsライブラリはRustで書かれており、高速に動作することやメモリ効率が良いことが特徴での大規模データを処理するのに適しているライブラリ。\n",
    "\n",
    "- [Polars — DataFrames for the new era](https://pola.rs/)"
   ]
  },
  {
   "cell_type": "markdown",
   "metadata": {},
   "source": [
    "## ライブラリの読み込み"
   ]
  },
  {
   "cell_type": "code",
   "execution_count": 1,
   "metadata": {},
   "outputs": [],
   "source": [
    "# load library\n",
    "# import numpy as np\n",
    "# import pandas as pd \n",
    "# import seaborn as sns\n",
    "import polars as pl\n",
    "\n",
    "# display 10 rows\n",
    "pl.Config.set_tbl_rows(10)\n",
    "\n",
    "iris = pl.read_csv('./data/iris.csv')\n",
    "diamonds = pl.read_csv('./data/diamonds.csv')\n"
   ]
  },
  {
   "cell_type": "markdown",
   "metadata": {},
   "source": [
    "## パイプ処理\n",
    "\n",
    "polarsライブラリの関数はR言語のmagrittrパッケージが提供するパイプ演算子`|>`を使ったパイプライン処理が可能。ただ、パイプを繋げる際は、バックスラッシュ`\\`をつけて改行する必要があるので注意が必要。\n",
    "\n"
   ]
  },
  {
   "cell_type": "code",
   "execution_count": 2,
   "metadata": {},
   "outputs": [
    {
     "data": {
      "text/html": [
       "<div><style>\n",
       ".dataframe > thead > tr,\n",
       ".dataframe > tbody > tr {\n",
       "  text-align: right;\n",
       "  white-space: pre-wrap;\n",
       "}\n",
       "</style>\n",
       "<small>shape: (2, 6)</small><table border=\"1\" class=\"dataframe\"><thead><tr><th>sepal_length</th><th>sepal_width</th><th>petal_length</th><th>petal_width</th><th>species</th><th>sepal_lw</th></tr><tr><td>f64</td><td>f64</td><td>f64</td><td>f64</td><td>str</td><td>f64</td></tr></thead><tbody><tr><td>7.7</td><td>3.8</td><td>6.7</td><td>2.2</td><td>&quot;virginica&quot;</td><td>11.5</td></tr><tr><td>7.9</td><td>3.8</td><td>6.4</td><td>2.0</td><td>&quot;virginica&quot;</td><td>11.7</td></tr></tbody></table></div>"
      ],
      "text/plain": [
       "shape: (2, 6)\n",
       "┌──────────────┬─────────────┬──────────────┬─────────────┬───────────┬──────────┐\n",
       "│ sepal_length ┆ sepal_width ┆ petal_length ┆ petal_width ┆ species   ┆ sepal_lw │\n",
       "│ ---          ┆ ---         ┆ ---          ┆ ---         ┆ ---       ┆ ---      │\n",
       "│ f64          ┆ f64         ┆ f64          ┆ f64         ┆ str       ┆ f64      │\n",
       "╞══════════════╪═════════════╪══════════════╪═════════════╪═══════════╪══════════╡\n",
       "│ 7.7          ┆ 3.8         ┆ 6.7          ┆ 2.2         ┆ virginica ┆ 11.5     │\n",
       "│ 7.9          ┆ 3.8         ┆ 6.4          ┆ 2.0         ┆ virginica ┆ 11.7     │\n",
       "└──────────────┴─────────────┴──────────────┴─────────────┴───────────┴──────────┘"
      ]
     },
     "execution_count": 2,
     "metadata": {},
     "output_type": "execute_result"
    }
   ],
   "source": [
    "iris \\\n",
    "  .with_columns(sepal_lw = (pl.col('sepal_length') + pl.col('sepal_width'))) \\\n",
    "  .filter(pl.col('sepal_lw') > 11)"
   ]
  },
  {
   "cell_type": "markdown",
   "metadata": {},
   "source": [
    "## 行の操作\n",
    "\n",
    "特定の条件に一致するレコードを取り出したい場合は`filter()`を利用する。\n",
    "\n"
   ]
  },
  {
   "cell_type": "code",
   "execution_count": 3,
   "metadata": {},
   "outputs": [
    {
     "data": {
      "text/html": [
       "<div><style>\n",
       ".dataframe > thead > tr,\n",
       ".dataframe > tbody > tr {\n",
       "  text-align: right;\n",
       "  white-space: pre-wrap;\n",
       "}\n",
       "</style>\n",
       "<small>shape: (6_268, 10)</small><table border=\"1\" class=\"dataframe\"><thead><tr><th>carat</th><th>cut</th><th>color</th><th>clarity</th><th>depth</th><th>table</th><th>price</th><th>x</th><th>y</th><th>z</th></tr><tr><td>f64</td><td>str</td><td>str</td><td>str</td><td>f64</td><td>f64</td><td>i64</td><td>f64</td><td>f64</td><td>f64</td></tr></thead><tbody><tr><td>0.23</td><td>&quot;Ideal&quot;</td><td>&quot;E&quot;</td><td>&quot;SI2&quot;</td><td>61.5</td><td>55.0</td><td>326</td><td>3.95</td><td>3.98</td><td>2.43</td></tr><tr><td>0.26</td><td>&quot;Very Good&quot;</td><td>&quot;H&quot;</td><td>&quot;SI1&quot;</td><td>61.9</td><td>55.0</td><td>337</td><td>4.07</td><td>4.11</td><td>2.53</td></tr><tr><td>0.3</td><td>&quot;Good&quot;</td><td>&quot;J&quot;</td><td>&quot;SI1&quot;</td><td>64.0</td><td>55.0</td><td>339</td><td>4.25</td><td>4.28</td><td>2.73</td></tr><tr><td>0.23</td><td>&quot;Very Good&quot;</td><td>&quot;E&quot;</td><td>&quot;VS2&quot;</td><td>63.8</td><td>55.0</td><td>352</td><td>3.85</td><td>3.92</td><td>2.48</td></tr><tr><td>0.33</td><td>&quot;Ideal&quot;</td><td>&quot;I&quot;</td><td>&quot;SI2&quot;</td><td>61.8</td><td>55.0</td><td>403</td><td>4.49</td><td>4.51</td><td>2.78</td></tr><tr><td>&hellip;</td><td>&hellip;</td><td>&hellip;</td><td>&hellip;</td><td>&hellip;</td><td>&hellip;</td><td>&hellip;</td><td>&hellip;</td><td>&hellip;</td><td>&hellip;</td></tr><tr><td>0.76</td><td>&quot;Ideal&quot;</td><td>&quot;I&quot;</td><td>&quot;VVS1&quot;</td><td>62.2</td><td>55.0</td><td>2753</td><td>5.89</td><td>5.87</td><td>3.66</td></tr><tr><td>0.73</td><td>&quot;Ideal&quot;</td><td>&quot;I&quot;</td><td>&quot;VS2&quot;</td><td>61.6</td><td>55.0</td><td>2756</td><td>5.82</td><td>5.84</td><td>3.59</td></tr><tr><td>0.71</td><td>&quot;Premium&quot;</td><td>&quot;E&quot;</td><td>&quot;SI1&quot;</td><td>60.5</td><td>55.0</td><td>2756</td><td>5.79</td><td>5.74</td><td>3.49</td></tr><tr><td>0.72</td><td>&quot;Good&quot;</td><td>&quot;D&quot;</td><td>&quot;SI1&quot;</td><td>63.1</td><td>55.0</td><td>2757</td><td>5.69</td><td>5.75</td><td>3.61</td></tr><tr><td>0.75</td><td>&quot;Ideal&quot;</td><td>&quot;D&quot;</td><td>&quot;SI2&quot;</td><td>62.2</td><td>55.0</td><td>2757</td><td>5.83</td><td>5.87</td><td>3.64</td></tr></tbody></table></div>"
      ],
      "text/plain": [
       "shape: (6_268, 10)\n",
       "┌───────┬───────────┬───────┬─────────┬───┬───────┬──────┬──────┬──────┐\n",
       "│ carat ┆ cut       ┆ color ┆ clarity ┆ … ┆ price ┆ x    ┆ y    ┆ z    │\n",
       "│ ---   ┆ ---       ┆ ---   ┆ ---     ┆   ┆ ---   ┆ ---  ┆ ---  ┆ ---  │\n",
       "│ f64   ┆ str       ┆ str   ┆ str     ┆   ┆ i64   ┆ f64  ┆ f64  ┆ f64  │\n",
       "╞═══════╪═══════════╪═══════╪═════════╪═══╪═══════╪══════╪══════╪══════╡\n",
       "│ 0.23  ┆ Ideal     ┆ E     ┆ SI2     ┆ … ┆ 326   ┆ 3.95 ┆ 3.98 ┆ 2.43 │\n",
       "│ 0.26  ┆ Very Good ┆ H     ┆ SI1     ┆ … ┆ 337   ┆ 4.07 ┆ 4.11 ┆ 2.53 │\n",
       "│ 0.3   ┆ Good      ┆ J     ┆ SI1     ┆ … ┆ 339   ┆ 4.25 ┆ 4.28 ┆ 2.73 │\n",
       "│ 0.23  ┆ Very Good ┆ E     ┆ VS2     ┆ … ┆ 352   ┆ 3.85 ┆ 3.92 ┆ 2.48 │\n",
       "│ 0.33  ┆ Ideal     ┆ I     ┆ SI2     ┆ … ┆ 403   ┆ 4.49 ┆ 4.51 ┆ 2.78 │\n",
       "│ …     ┆ …         ┆ …     ┆ …       ┆ … ┆ …     ┆ …    ┆ …    ┆ …    │\n",
       "│ 0.76  ┆ Ideal     ┆ I     ┆ VVS1    ┆ … ┆ 2753  ┆ 5.89 ┆ 5.87 ┆ 3.66 │\n",
       "│ 0.73  ┆ Ideal     ┆ I     ┆ VS2     ┆ … ┆ 2756  ┆ 5.82 ┆ 5.84 ┆ 3.59 │\n",
       "│ 0.71  ┆ Premium   ┆ E     ┆ SI1     ┆ … ┆ 2756  ┆ 5.79 ┆ 5.74 ┆ 3.49 │\n",
       "│ 0.72  ┆ Good      ┆ D     ┆ SI1     ┆ … ┆ 2757  ┆ 5.69 ┆ 5.75 ┆ 3.61 │\n",
       "│ 0.75  ┆ Ideal     ┆ D     ┆ SI2     ┆ … ┆ 2757  ┆ 5.83 ┆ 5.87 ┆ 3.64 │\n",
       "└───────┴───────────┴───────┴─────────┴───┴───────┴──────┴──────┴──────┘"
      ]
     },
     "execution_count": 3,
     "metadata": {},
     "output_type": "execute_result"
    }
   ],
   "source": [
    "diamonds.filter(pl.col('table') == 55)"
   ]
  },
  {
   "cell_type": "code",
   "execution_count": 4,
   "metadata": {},
   "outputs": [
    {
     "data": {
      "text/html": [
       "<div><style>\n",
       ".dataframe > thead > tr,\n",
       ".dataframe > tbody > tr {\n",
       "  text-align: right;\n",
       "  white-space: pre-wrap;\n",
       "}\n",
       "</style>\n",
       "<small>shape: (16_313, 10)</small><table border=\"1\" class=\"dataframe\"><thead><tr><th>carat</th><th>cut</th><th>color</th><th>clarity</th><th>depth</th><th>table</th><th>price</th><th>x</th><th>y</th><th>z</th></tr><tr><td>f64</td><td>str</td><td>str</td><td>str</td><td>f64</td><td>f64</td><td>i64</td><td>f64</td><td>f64</td><td>f64</td></tr></thead><tbody><tr><td>0.23</td><td>&quot;Ideal&quot;</td><td>&quot;E&quot;</td><td>&quot;SI2&quot;</td><td>61.5</td><td>55.0</td><td>326</td><td>3.95</td><td>3.98</td><td>2.43</td></tr><tr><td>0.26</td><td>&quot;Very Good&quot;</td><td>&quot;H&quot;</td><td>&quot;SI1&quot;</td><td>61.9</td><td>55.0</td><td>337</td><td>4.07</td><td>4.11</td><td>2.53</td></tr><tr><td>0.3</td><td>&quot;Good&quot;</td><td>&quot;J&quot;</td><td>&quot;SI1&quot;</td><td>64.0</td><td>55.0</td><td>339</td><td>4.25</td><td>4.28</td><td>2.73</td></tr><tr><td>0.23</td><td>&quot;Ideal&quot;</td><td>&quot;J&quot;</td><td>&quot;VS1&quot;</td><td>62.8</td><td>56.0</td><td>340</td><td>3.93</td><td>3.9</td><td>2.46</td></tr><tr><td>0.3</td><td>&quot;Good&quot;</td><td>&quot;J&quot;</td><td>&quot;SI1&quot;</td><td>63.8</td><td>56.0</td><td>351</td><td>4.23</td><td>4.26</td><td>2.71</td></tr><tr><td>&hellip;</td><td>&hellip;</td><td>&hellip;</td><td>&hellip;</td><td>&hellip;</td><td>&hellip;</td><td>&hellip;</td><td>&hellip;</td><td>&hellip;</td><td>&hellip;</td></tr><tr><td>0.71</td><td>&quot;Ideal&quot;</td><td>&quot;E&quot;</td><td>&quot;SI1&quot;</td><td>61.9</td><td>56.0</td><td>2756</td><td>5.71</td><td>5.73</td><td>3.54</td></tr><tr><td>0.71</td><td>&quot;Ideal&quot;</td><td>&quot;G&quot;</td><td>&quot;VS1&quot;</td><td>61.4</td><td>56.0</td><td>2756</td><td>5.76</td><td>5.73</td><td>3.53</td></tr><tr><td>0.71</td><td>&quot;Premium&quot;</td><td>&quot;E&quot;</td><td>&quot;SI1&quot;</td><td>60.5</td><td>55.0</td><td>2756</td><td>5.79</td><td>5.74</td><td>3.49</td></tr><tr><td>0.72</td><td>&quot;Good&quot;</td><td>&quot;D&quot;</td><td>&quot;SI1&quot;</td><td>63.1</td><td>55.0</td><td>2757</td><td>5.69</td><td>5.75</td><td>3.61</td></tr><tr><td>0.75</td><td>&quot;Ideal&quot;</td><td>&quot;D&quot;</td><td>&quot;SI2&quot;</td><td>62.2</td><td>55.0</td><td>2757</td><td>5.83</td><td>5.87</td><td>3.64</td></tr></tbody></table></div>"
      ],
      "text/plain": [
       "shape: (16_313, 10)\n",
       "┌───────┬───────────┬───────┬─────────┬───┬───────┬──────┬──────┬──────┐\n",
       "│ carat ┆ cut       ┆ color ┆ clarity ┆ … ┆ price ┆ x    ┆ y    ┆ z    │\n",
       "│ ---   ┆ ---       ┆ ---   ┆ ---     ┆   ┆ ---   ┆ ---  ┆ ---  ┆ ---  │\n",
       "│ f64   ┆ str       ┆ str   ┆ str     ┆   ┆ i64   ┆ f64  ┆ f64  ┆ f64  │\n",
       "╞═══════╪═══════════╪═══════╪═════════╪═══╪═══════╪══════╪══════╪══════╡\n",
       "│ 0.23  ┆ Ideal     ┆ E     ┆ SI2     ┆ … ┆ 326   ┆ 3.95 ┆ 3.98 ┆ 2.43 │\n",
       "│ 0.26  ┆ Very Good ┆ H     ┆ SI1     ┆ … ┆ 337   ┆ 4.07 ┆ 4.11 ┆ 2.53 │\n",
       "│ 0.3   ┆ Good      ┆ J     ┆ SI1     ┆ … ┆ 339   ┆ 4.25 ┆ 4.28 ┆ 2.73 │\n",
       "│ 0.23  ┆ Ideal     ┆ J     ┆ VS1     ┆ … ┆ 340   ┆ 3.93 ┆ 3.9  ┆ 2.46 │\n",
       "│ 0.3   ┆ Good      ┆ J     ┆ SI1     ┆ … ┆ 351   ┆ 4.23 ┆ 4.26 ┆ 2.71 │\n",
       "│ …     ┆ …         ┆ …     ┆ …       ┆ … ┆ …     ┆ …    ┆ …    ┆ …    │\n",
       "│ 0.71  ┆ Ideal     ┆ E     ┆ SI1     ┆ … ┆ 2756  ┆ 5.71 ┆ 5.73 ┆ 3.54 │\n",
       "│ 0.71  ┆ Ideal     ┆ G     ┆ VS1     ┆ … ┆ 2756  ┆ 5.76 ┆ 5.73 ┆ 3.53 │\n",
       "│ 0.71  ┆ Premium   ┆ E     ┆ SI1     ┆ … ┆ 2756  ┆ 5.79 ┆ 5.74 ┆ 3.49 │\n",
       "│ 0.72  ┆ Good      ┆ D     ┆ SI1     ┆ … ┆ 2757  ┆ 5.69 ┆ 5.75 ┆ 3.61 │\n",
       "│ 0.75  ┆ Ideal     ┆ D     ┆ SI2     ┆ … ┆ 2757  ┆ 5.83 ┆ 5.87 ┆ 3.64 │\n",
       "└───────┴───────────┴───────┴─────────┴───┴───────┴──────┴──────┴──────┘"
      ]
     },
     "execution_count": 4,
     "metadata": {},
     "output_type": "execute_result"
    }
   ],
   "source": [
    "diamonds.filter(pl.col('table').is_between(55, 56))"
   ]
  },
  {
   "cell_type": "code",
   "execution_count": 5,
   "metadata": {},
   "outputs": [
    {
     "data": {
      "text/html": [
       "<div><style>\n",
       ".dataframe > thead > tr,\n",
       ".dataframe > tbody > tr {\n",
       "  text-align: right;\n",
       "  white-space: pre-wrap;\n",
       "}\n",
       "</style>\n",
       "<small>shape: (13_791, 10)</small><table border=\"1\" class=\"dataframe\"><thead><tr><th>carat</th><th>cut</th><th>color</th><th>clarity</th><th>depth</th><th>table</th><th>price</th><th>x</th><th>y</th><th>z</th></tr><tr><td>f64</td><td>str</td><td>str</td><td>str</td><td>f64</td><td>f64</td><td>i64</td><td>f64</td><td>f64</td><td>f64</td></tr></thead><tbody><tr><td>0.21</td><td>&quot;Premium&quot;</td><td>&quot;E&quot;</td><td>&quot;SI1&quot;</td><td>59.8</td><td>61.0</td><td>326</td><td>3.89</td><td>3.84</td><td>2.31</td></tr><tr><td>0.29</td><td>&quot;Premium&quot;</td><td>&quot;I&quot;</td><td>&quot;VS2&quot;</td><td>62.4</td><td>58.0</td><td>334</td><td>4.2</td><td>4.23</td><td>2.63</td></tr><tr><td>0.22</td><td>&quot;Premium&quot;</td><td>&quot;F&quot;</td><td>&quot;SI1&quot;</td><td>60.4</td><td>61.0</td><td>342</td><td>3.88</td><td>3.84</td><td>2.33</td></tr><tr><td>0.2</td><td>&quot;Premium&quot;</td><td>&quot;E&quot;</td><td>&quot;SI2&quot;</td><td>60.2</td><td>62.0</td><td>345</td><td>3.79</td><td>3.75</td><td>2.27</td></tr><tr><td>0.32</td><td>&quot;Premium&quot;</td><td>&quot;E&quot;</td><td>&quot;I1&quot;</td><td>60.9</td><td>58.0</td><td>345</td><td>4.38</td><td>4.42</td><td>2.68</td></tr><tr><td>&hellip;</td><td>&hellip;</td><td>&hellip;</td><td>&hellip;</td><td>&hellip;</td><td>&hellip;</td><td>&hellip;</td><td>&hellip;</td><td>&hellip;</td><td>&hellip;</td></tr><tr><td>0.79</td><td>&quot;Premium&quot;</td><td>&quot;E&quot;</td><td>&quot;SI2&quot;</td><td>61.4</td><td>58.0</td><td>2756</td><td>6.03</td><td>5.96</td><td>3.68</td></tr><tr><td>0.71</td><td>&quot;Premium&quot;</td><td>&quot;E&quot;</td><td>&quot;SI1&quot;</td><td>60.5</td><td>55.0</td><td>2756</td><td>5.79</td><td>5.74</td><td>3.49</td></tr><tr><td>0.71</td><td>&quot;Premium&quot;</td><td>&quot;F&quot;</td><td>&quot;SI1&quot;</td><td>59.8</td><td>62.0</td><td>2756</td><td>5.74</td><td>5.73</td><td>3.43</td></tr><tr><td>0.72</td><td>&quot;Premium&quot;</td><td>&quot;D&quot;</td><td>&quot;SI1&quot;</td><td>62.7</td><td>59.0</td><td>2757</td><td>5.69</td><td>5.73</td><td>3.58</td></tr><tr><td>0.86</td><td>&quot;Premium&quot;</td><td>&quot;H&quot;</td><td>&quot;SI2&quot;</td><td>61.0</td><td>58.0</td><td>2757</td><td>6.15</td><td>6.12</td><td>3.74</td></tr></tbody></table></div>"
      ],
      "text/plain": [
       "shape: (13_791, 10)\n",
       "┌───────┬─────────┬───────┬─────────┬───┬───────┬──────┬──────┬──────┐\n",
       "│ carat ┆ cut     ┆ color ┆ clarity ┆ … ┆ price ┆ x    ┆ y    ┆ z    │\n",
       "│ ---   ┆ ---     ┆ ---   ┆ ---     ┆   ┆ ---   ┆ ---  ┆ ---  ┆ ---  │\n",
       "│ f64   ┆ str     ┆ str   ┆ str     ┆   ┆ i64   ┆ f64  ┆ f64  ┆ f64  │\n",
       "╞═══════╪═════════╪═══════╪═════════╪═══╪═══════╪══════╪══════╪══════╡\n",
       "│ 0.21  ┆ Premium ┆ E     ┆ SI1     ┆ … ┆ 326   ┆ 3.89 ┆ 3.84 ┆ 2.31 │\n",
       "│ 0.29  ┆ Premium ┆ I     ┆ VS2     ┆ … ┆ 334   ┆ 4.2  ┆ 4.23 ┆ 2.63 │\n",
       "│ 0.22  ┆ Premium ┆ F     ┆ SI1     ┆ … ┆ 342   ┆ 3.88 ┆ 3.84 ┆ 2.33 │\n",
       "│ 0.2   ┆ Premium ┆ E     ┆ SI2     ┆ … ┆ 345   ┆ 3.79 ┆ 3.75 ┆ 2.27 │\n",
       "│ 0.32  ┆ Premium ┆ E     ┆ I1      ┆ … ┆ 345   ┆ 4.38 ┆ 4.42 ┆ 2.68 │\n",
       "│ …     ┆ …       ┆ …     ┆ …       ┆ … ┆ …     ┆ …    ┆ …    ┆ …    │\n",
       "│ 0.79  ┆ Premium ┆ E     ┆ SI2     ┆ … ┆ 2756  ┆ 6.03 ┆ 5.96 ┆ 3.68 │\n",
       "│ 0.71  ┆ Premium ┆ E     ┆ SI1     ┆ … ┆ 2756  ┆ 5.79 ┆ 5.74 ┆ 3.49 │\n",
       "│ 0.71  ┆ Premium ┆ F     ┆ SI1     ┆ … ┆ 2756  ┆ 5.74 ┆ 5.73 ┆ 3.43 │\n",
       "│ 0.72  ┆ Premium ┆ D     ┆ SI1     ┆ … ┆ 2757  ┆ 5.69 ┆ 5.73 ┆ 3.58 │\n",
       "│ 0.86  ┆ Premium ┆ H     ┆ SI2     ┆ … ┆ 2757  ┆ 6.15 ┆ 6.12 ┆ 3.74 │\n",
       "└───────┴─────────┴───────┴─────────┴───┴───────┴──────┴──────┴──────┘"
      ]
     },
     "execution_count": 5,
     "metadata": {},
     "output_type": "execute_result"
    }
   ],
   "source": [
    "diamonds.filter(pl.col('cut') == 'Premium')"
   ]
  },
  {
   "cell_type": "code",
   "execution_count": 6,
   "metadata": {},
   "outputs": [
    {
     "data": {
      "text/html": [
       "<div><style>\n",
       ".dataframe > thead > tr,\n",
       ".dataframe > tbody > tr {\n",
       "  text-align: right;\n",
       "  white-space: pre-wrap;\n",
       "}\n",
       "</style>\n",
       "<small>shape: (15_219, 10)</small><table border=\"1\" class=\"dataframe\"><thead><tr><th>carat</th><th>cut</th><th>color</th><th>clarity</th><th>depth</th><th>table</th><th>price</th><th>x</th><th>y</th><th>z</th></tr><tr><td>f64</td><td>str</td><td>str</td><td>str</td><td>f64</td><td>f64</td><td>i64</td><td>f64</td><td>f64</td><td>f64</td></tr></thead><tbody><tr><td>0.23</td><td>&quot;Ideal&quot;</td><td>&quot;E&quot;</td><td>&quot;SI2&quot;</td><td>61.5</td><td>55.0</td><td>326</td><td>3.95</td><td>3.98</td><td>2.43</td></tr><tr><td>0.21</td><td>&quot;Premium&quot;</td><td>&quot;E&quot;</td><td>&quot;SI1&quot;</td><td>59.8</td><td>61.0</td><td>326</td><td>3.89</td><td>3.84</td><td>2.31</td></tr><tr><td>0.23</td><td>&quot;Good&quot;</td><td>&quot;E&quot;</td><td>&quot;VS1&quot;</td><td>56.9</td><td>65.0</td><td>327</td><td>4.05</td><td>4.07</td><td>2.31</td></tr><tr><td>0.29</td><td>&quot;Premium&quot;</td><td>&quot;I&quot;</td><td>&quot;VS2&quot;</td><td>62.4</td><td>58.0</td><td>334</td><td>4.2</td><td>4.23</td><td>2.63</td></tr><tr><td>0.24</td><td>&quot;Very Good&quot;</td><td>&quot;I&quot;</td><td>&quot;VVS1&quot;</td><td>62.3</td><td>57.0</td><td>336</td><td>3.95</td><td>3.98</td><td>2.47</td></tr><tr><td>&hellip;</td><td>&hellip;</td><td>&hellip;</td><td>&hellip;</td><td>&hellip;</td><td>&hellip;</td><td>&hellip;</td><td>&hellip;</td><td>&hellip;</td><td>&hellip;</td></tr><tr><td>0.71</td><td>&quot;Ideal&quot;</td><td>&quot;E&quot;</td><td>&quot;SI1&quot;</td><td>61.9</td><td>56.0</td><td>2756</td><td>5.71</td><td>5.73</td><td>3.54</td></tr><tr><td>0.79</td><td>&quot;Premium&quot;</td><td>&quot;E&quot;</td><td>&quot;SI2&quot;</td><td>61.4</td><td>58.0</td><td>2756</td><td>6.03</td><td>5.96</td><td>3.68</td></tr><tr><td>0.71</td><td>&quot;Premium&quot;</td><td>&quot;E&quot;</td><td>&quot;SI1&quot;</td><td>60.5</td><td>55.0</td><td>2756</td><td>5.79</td><td>5.74</td><td>3.49</td></tr><tr><td>0.7</td><td>&quot;Very Good&quot;</td><td>&quot;E&quot;</td><td>&quot;VS2&quot;</td><td>60.5</td><td>59.0</td><td>2757</td><td>5.71</td><td>5.76</td><td>3.47</td></tr><tr><td>0.7</td><td>&quot;Very Good&quot;</td><td>&quot;E&quot;</td><td>&quot;VS2&quot;</td><td>61.2</td><td>59.0</td><td>2757</td><td>5.69</td><td>5.72</td><td>3.49</td></tr></tbody></table></div>"
      ],
      "text/plain": [
       "shape: (15_219, 10)\n",
       "┌───────┬───────────┬───────┬─────────┬───┬───────┬──────┬──────┬──────┐\n",
       "│ carat ┆ cut       ┆ color ┆ clarity ┆ … ┆ price ┆ x    ┆ y    ┆ z    │\n",
       "│ ---   ┆ ---       ┆ ---   ┆ ---     ┆   ┆ ---   ┆ ---  ┆ ---  ┆ ---  │\n",
       "│ f64   ┆ str       ┆ str   ┆ str     ┆   ┆ i64   ┆ f64  ┆ f64  ┆ f64  │\n",
       "╞═══════╪═══════════╪═══════╪═════════╪═══╪═══════╪══════╪══════╪══════╡\n",
       "│ 0.23  ┆ Ideal     ┆ E     ┆ SI2     ┆ … ┆ 326   ┆ 3.95 ┆ 3.98 ┆ 2.43 │\n",
       "│ 0.21  ┆ Premium   ┆ E     ┆ SI1     ┆ … ┆ 326   ┆ 3.89 ┆ 3.84 ┆ 2.31 │\n",
       "│ 0.23  ┆ Good      ┆ E     ┆ VS1     ┆ … ┆ 327   ┆ 4.05 ┆ 4.07 ┆ 2.31 │\n",
       "│ 0.29  ┆ Premium   ┆ I     ┆ VS2     ┆ … ┆ 334   ┆ 4.2  ┆ 4.23 ┆ 2.63 │\n",
       "│ 0.24  ┆ Very Good ┆ I     ┆ VVS1    ┆ … ┆ 336   ┆ 3.95 ┆ 3.98 ┆ 2.47 │\n",
       "│ …     ┆ …         ┆ …     ┆ …       ┆ … ┆ …     ┆ …    ┆ …    ┆ …    │\n",
       "│ 0.71  ┆ Ideal     ┆ E     ┆ SI1     ┆ … ┆ 2756  ┆ 5.71 ┆ 5.73 ┆ 3.54 │\n",
       "│ 0.79  ┆ Premium   ┆ E     ┆ SI2     ┆ … ┆ 2756  ┆ 6.03 ┆ 5.96 ┆ 3.68 │\n",
       "│ 0.71  ┆ Premium   ┆ E     ┆ SI1     ┆ … ┆ 2756  ┆ 5.79 ┆ 5.74 ┆ 3.49 │\n",
       "│ 0.7   ┆ Very Good ┆ E     ┆ VS2     ┆ … ┆ 2757  ┆ 5.71 ┆ 5.76 ┆ 3.47 │\n",
       "│ 0.7   ┆ Very Good ┆ E     ┆ VS2     ┆ … ┆ 2757  ┆ 5.69 ┆ 5.72 ┆ 3.49 │\n",
       "└───────┴───────────┴───────┴─────────┴───┴───────┴──────┴──────┴──────┘"
      ]
     },
     "execution_count": 6,
     "metadata": {},
     "output_type": "execute_result"
    }
   ],
   "source": [
    "# colorカラムがカテゴリ型の場合は、cast(pl.Utf8)で変換してから実行\n",
    "diamonds.filter(pl.col('color').is_in(['E', 'I']))"
   ]
  },
  {
   "cell_type": "code",
   "execution_count": 7,
   "metadata": {},
   "outputs": [
    {
     "data": {
      "text/html": [
       "<div><style>\n",
       ".dataframe > thead > tr,\n",
       ".dataframe > tbody > tr {\n",
       "  text-align: right;\n",
       "  white-space: pre-wrap;\n",
       "}\n",
       "</style>\n",
       "<small>shape: (4_208, 10)</small><table border=\"1\" class=\"dataframe\"><thead><tr><th>carat</th><th>cut</th><th>color</th><th>clarity</th><th>depth</th><th>table</th><th>price</th><th>x</th><th>y</th><th>z</th></tr><tr><td>f64</td><td>str</td><td>str</td><td>str</td><td>f64</td><td>f64</td><td>i64</td><td>f64</td><td>f64</td><td>f64</td></tr></thead><tbody><tr><td>0.22</td><td>&quot;Fair&quot;</td><td>&quot;E&quot;</td><td>&quot;VS2&quot;</td><td>65.1</td><td>61.0</td><td>337</td><td>3.87</td><td>3.78</td><td>2.49</td></tr><tr><td>0.23</td><td>&quot;Very Good&quot;</td><td>&quot;E&quot;</td><td>&quot;VS2&quot;</td><td>63.8</td><td>55.0</td><td>352</td><td>3.85</td><td>3.92</td><td>2.48</td></tr><tr><td>0.23</td><td>&quot;Good&quot;</td><td>&quot;E&quot;</td><td>&quot;VS1&quot;</td><td>64.1</td><td>59.0</td><td>402</td><td>3.83</td><td>3.85</td><td>2.46</td></tr><tr><td>0.25</td><td>&quot;Very Good&quot;</td><td>&quot;E&quot;</td><td>&quot;VS2&quot;</td><td>63.3</td><td>60.0</td><td>404</td><td>4.0</td><td>4.03</td><td>2.54</td></tr><tr><td>0.26</td><td>&quot;Very Good&quot;</td><td>&quot;E&quot;</td><td>&quot;VVS1&quot;</td><td>62.6</td><td>59.0</td><td>554</td><td>4.06</td><td>4.09</td><td>2.55</td></tr><tr><td>&hellip;</td><td>&hellip;</td><td>&hellip;</td><td>&hellip;</td><td>&hellip;</td><td>&hellip;</td><td>&hellip;</td><td>&hellip;</td><td>&hellip;</td><td>&hellip;</td></tr><tr><td>0.75</td><td>&quot;Very Good&quot;</td><td>&quot;E&quot;</td><td>&quot;SI1&quot;</td><td>63.0</td><td>55.0</td><td>2753</td><td>5.76</td><td>5.79</td><td>3.64</td></tr><tr><td>0.7</td><td>&quot;Very Good&quot;</td><td>&quot;E&quot;</td><td>&quot;SI1&quot;</td><td>62.7</td><td>59.0</td><td>2753</td><td>5.63</td><td>5.67</td><td>3.54</td></tr><tr><td>0.77</td><td>&quot;Ideal&quot;</td><td>&quot;E&quot;</td><td>&quot;SI2&quot;</td><td>62.1</td><td>56.0</td><td>2753</td><td>5.84</td><td>5.86</td><td>3.63</td></tr><tr><td>0.7</td><td>&quot;Very Good&quot;</td><td>&quot;E&quot;</td><td>&quot;VS2&quot;</td><td>62.4</td><td>60.0</td><td>2755</td><td>5.57</td><td>5.61</td><td>3.49</td></tr><tr><td>0.7</td><td>&quot;Very Good&quot;</td><td>&quot;E&quot;</td><td>&quot;VS2&quot;</td><td>62.8</td><td>60.0</td><td>2755</td><td>5.59</td><td>5.65</td><td>3.53</td></tr></tbody></table></div>"
      ],
      "text/plain": [
       "shape: (4_208, 10)\n",
       "┌───────┬───────────┬───────┬─────────┬───┬───────┬──────┬──────┬──────┐\n",
       "│ carat ┆ cut       ┆ color ┆ clarity ┆ … ┆ price ┆ x    ┆ y    ┆ z    │\n",
       "│ ---   ┆ ---       ┆ ---   ┆ ---     ┆   ┆ ---   ┆ ---  ┆ ---  ┆ ---  │\n",
       "│ f64   ┆ str       ┆ str   ┆ str     ┆   ┆ i64   ┆ f64  ┆ f64  ┆ f64  │\n",
       "╞═══════╪═══════════╪═══════╪═════════╪═══╪═══════╪══════╪══════╪══════╡\n",
       "│ 0.22  ┆ Fair      ┆ E     ┆ VS2     ┆ … ┆ 337   ┆ 3.87 ┆ 3.78 ┆ 2.49 │\n",
       "│ 0.23  ┆ Very Good ┆ E     ┆ VS2     ┆ … ┆ 352   ┆ 3.85 ┆ 3.92 ┆ 2.48 │\n",
       "│ 0.23  ┆ Good      ┆ E     ┆ VS1     ┆ … ┆ 402   ┆ 3.83 ┆ 3.85 ┆ 2.46 │\n",
       "│ 0.25  ┆ Very Good ┆ E     ┆ VS2     ┆ … ┆ 404   ┆ 4.0  ┆ 4.03 ┆ 2.54 │\n",
       "│ 0.26  ┆ Very Good ┆ E     ┆ VVS1    ┆ … ┆ 554   ┆ 4.06 ┆ 4.09 ┆ 2.55 │\n",
       "│ …     ┆ …         ┆ …     ┆ …       ┆ … ┆ …     ┆ …    ┆ …    ┆ …    │\n",
       "│ 0.75  ┆ Very Good ┆ E     ┆ SI1     ┆ … ┆ 2753  ┆ 5.76 ┆ 5.79 ┆ 3.64 │\n",
       "│ 0.7   ┆ Very Good ┆ E     ┆ SI1     ┆ … ┆ 2753  ┆ 5.63 ┆ 5.67 ┆ 3.54 │\n",
       "│ 0.77  ┆ Ideal     ┆ E     ┆ SI2     ┆ … ┆ 2753  ┆ 5.84 ┆ 5.86 ┆ 3.63 │\n",
       "│ 0.7   ┆ Very Good ┆ E     ┆ VS2     ┆ … ┆ 2755  ┆ 5.57 ┆ 5.61 ┆ 3.49 │\n",
       "│ 0.7   ┆ Very Good ┆ E     ┆ VS2     ┆ … ┆ 2755  ┆ 5.59 ┆ 5.65 ┆ 3.53 │\n",
       "└───────┴───────────┴───────┴─────────┴───┴───────┴──────┴──────┴──────┘"
      ]
     },
     "execution_count": 7,
     "metadata": {},
     "output_type": "execute_result"
    }
   ],
   "source": [
    "# AND: &\n",
    "# Or : |\n",
    "# Xor: ^\n",
    "# deny: ~\n",
    "diamonds.filter(\n",
    "  (pl.col('depth') >= 62) & (pl.col('color') == 'E')\n",
    "  )"
   ]
  },
  {
   "cell_type": "code",
   "execution_count": 8,
   "metadata": {},
   "outputs": [
    {
     "data": {
      "text/html": [
       "<div><style>\n",
       ".dataframe > thead > tr,\n",
       ".dataframe > tbody > tr {\n",
       "  text-align: right;\n",
       "  white-space: pre-wrap;\n",
       "}\n",
       "</style>\n",
       "<small>shape: (1_136, 10)</small><table border=\"1\" class=\"dataframe\"><thead><tr><th>carat</th><th>cut</th><th>color</th><th>clarity</th><th>depth</th><th>table</th><th>price</th><th>x</th><th>y</th><th>z</th></tr><tr><td>f64</td><td>str</td><td>str</td><td>str</td><td>f64</td><td>f64</td><td>i64</td><td>f64</td><td>f64</td><td>f64</td></tr></thead><tbody><tr><td>0.7</td><td>&quot;Ideal&quot;</td><td>&quot;E&quot;</td><td>&quot;VS2&quot;</td><td>60.7</td><td>58.0</td><td>2762</td><td>5.73</td><td>5.76</td><td>3.49</td></tr><tr><td>0.71</td><td>&quot;Ideal&quot;</td><td>&quot;E&quot;</td><td>&quot;VS2&quot;</td><td>62.2</td><td>57.0</td><td>2776</td><td>5.79</td><td>5.62</td><td>3.55</td></tr><tr><td>0.7</td><td>&quot;Ideal&quot;</td><td>&quot;E&quot;</td><td>&quot;VS2&quot;</td><td>62.1</td><td>55.0</td><td>2777</td><td>5.7</td><td>5.67</td><td>3.53</td></tr><tr><td>0.71</td><td>&quot;Ideal&quot;</td><td>&quot;E&quot;</td><td>&quot;VS2&quot;</td><td>62.7</td><td>57.0</td><td>2817</td><td>5.66</td><td>5.64</td><td>3.54</td></tr><tr><td>0.7</td><td>&quot;Ideal&quot;</td><td>&quot;E&quot;</td><td>&quot;VS2&quot;</td><td>61.5</td><td>54.0</td><td>2835</td><td>5.7</td><td>5.75</td><td>3.52</td></tr><tr><td>&hellip;</td><td>&hellip;</td><td>&hellip;</td><td>&hellip;</td><td>&hellip;</td><td>&hellip;</td><td>&hellip;</td><td>&hellip;</td><td>&hellip;</td><td>&hellip;</td></tr><tr><td>0.7</td><td>&quot;Ideal&quot;</td><td>&quot;E&quot;</td><td>&quot;VS2&quot;</td><td>62.5</td><td>55.0</td><td>2693</td><td>5.73</td><td>5.7</td><td>3.57</td></tr><tr><td>0.7</td><td>&quot;Ideal&quot;</td><td>&quot;E&quot;</td><td>&quot;VS2&quot;</td><td>62.8</td><td>57.0</td><td>2697</td><td>5.71</td><td>5.62</td><td>3.56</td></tr><tr><td>0.7</td><td>&quot;Ideal&quot;</td><td>&quot;E&quot;</td><td>&quot;VS2&quot;</td><td>62.7</td><td>56.0</td><td>2697</td><td>5.73</td><td>5.63</td><td>3.56</td></tr><tr><td>0.71</td><td>&quot;Ideal&quot;</td><td>&quot;E&quot;</td><td>&quot;VS2&quot;</td><td>61.7</td><td>56.0</td><td>2709</td><td>5.73</td><td>5.75</td><td>3.54</td></tr><tr><td>0.7</td><td>&quot;Ideal&quot;</td><td>&quot;E&quot;</td><td>&quot;VS2&quot;</td><td>60.3</td><td>57.0</td><td>2719</td><td>5.7</td><td>5.8</td><td>3.47</td></tr></tbody></table></div>"
      ],
      "text/plain": [
       "shape: (1_136, 10)\n",
       "┌───────┬───────┬───────┬─────────┬───┬───────┬──────┬──────┬──────┐\n",
       "│ carat ┆ cut   ┆ color ┆ clarity ┆ … ┆ price ┆ x    ┆ y    ┆ z    │\n",
       "│ ---   ┆ ---   ┆ ---   ┆ ---     ┆   ┆ ---   ┆ ---  ┆ ---  ┆ ---  │\n",
       "│ f64   ┆ str   ┆ str   ┆ str     ┆   ┆ i64   ┆ f64  ┆ f64  ┆ f64  │\n",
       "╞═══════╪═══════╪═══════╪═════════╪═══╪═══════╪══════╪══════╪══════╡\n",
       "│ 0.7   ┆ Ideal ┆ E     ┆ VS2     ┆ … ┆ 2762  ┆ 5.73 ┆ 5.76 ┆ 3.49 │\n",
       "│ 0.71  ┆ Ideal ┆ E     ┆ VS2     ┆ … ┆ 2776  ┆ 5.79 ┆ 5.62 ┆ 3.55 │\n",
       "│ 0.7   ┆ Ideal ┆ E     ┆ VS2     ┆ … ┆ 2777  ┆ 5.7  ┆ 5.67 ┆ 3.53 │\n",
       "│ 0.71  ┆ Ideal ┆ E     ┆ VS2     ┆ … ┆ 2817  ┆ 5.66 ┆ 5.64 ┆ 3.54 │\n",
       "│ 0.7   ┆ Ideal ┆ E     ┆ VS2     ┆ … ┆ 2835  ┆ 5.7  ┆ 5.75 ┆ 3.52 │\n",
       "│ …     ┆ …     ┆ …     ┆ …       ┆ … ┆ …     ┆ …    ┆ …    ┆ …    │\n",
       "│ 0.7   ┆ Ideal ┆ E     ┆ VS2     ┆ … ┆ 2693  ┆ 5.73 ┆ 5.7  ┆ 3.57 │\n",
       "│ 0.7   ┆ Ideal ┆ E     ┆ VS2     ┆ … ┆ 2697  ┆ 5.71 ┆ 5.62 ┆ 3.56 │\n",
       "│ 0.7   ┆ Ideal ┆ E     ┆ VS2     ┆ … ┆ 2697  ┆ 5.73 ┆ 5.63 ┆ 3.56 │\n",
       "│ 0.71  ┆ Ideal ┆ E     ┆ VS2     ┆ … ┆ 2709  ┆ 5.73 ┆ 5.75 ┆ 3.54 │\n",
       "│ 0.7   ┆ Ideal ┆ E     ┆ VS2     ┆ … ┆ 2719  ┆ 5.7  ┆ 5.8  ┆ 3.47 │\n",
       "└───────┴───────┴───────┴─────────┴───┴───────┴──────┴──────┴──────┘"
      ]
     },
     "execution_count": 8,
     "metadata": {},
     "output_type": "execute_result"
    }
   ],
   "source": [
    "diamonds.filter(\n",
    "  (pl.col('cut') == 'Ideal') & (pl.col('color') == 'E') & (pl.col('clarity') == 'VS2')\n",
    "  )"
   ]
  },
  {
   "cell_type": "markdown",
   "metadata": {},
   "source": [
    "## 列の操作\n",
    "\n"
   ]
  },
  {
   "cell_type": "code",
   "execution_count": 9,
   "metadata": {},
   "outputs": [
    {
     "data": {
      "text/html": [
       "<div><style>\n",
       ".dataframe > thead > tr,\n",
       ".dataframe > tbody > tr {\n",
       "  text-align: right;\n",
       "  white-space: pre-wrap;\n",
       "}\n",
       "</style>\n",
       "<small>shape: (53_940, 2)</small><table border=\"1\" class=\"dataframe\"><thead><tr><th>carat</th><th>cut</th></tr><tr><td>f64</td><td>str</td></tr></thead><tbody><tr><td>0.23</td><td>&quot;Ideal&quot;</td></tr><tr><td>0.21</td><td>&quot;Premium&quot;</td></tr><tr><td>0.23</td><td>&quot;Good&quot;</td></tr><tr><td>0.29</td><td>&quot;Premium&quot;</td></tr><tr><td>0.31</td><td>&quot;Good&quot;</td></tr><tr><td>&hellip;</td><td>&hellip;</td></tr><tr><td>0.72</td><td>&quot;Ideal&quot;</td></tr><tr><td>0.72</td><td>&quot;Good&quot;</td></tr><tr><td>0.7</td><td>&quot;Very Good&quot;</td></tr><tr><td>0.86</td><td>&quot;Premium&quot;</td></tr><tr><td>0.75</td><td>&quot;Ideal&quot;</td></tr></tbody></table></div>"
      ],
      "text/plain": [
       "shape: (53_940, 2)\n",
       "┌───────┬───────────┐\n",
       "│ carat ┆ cut       │\n",
       "│ ---   ┆ ---       │\n",
       "│ f64   ┆ str       │\n",
       "╞═══════╪═══════════╡\n",
       "│ 0.23  ┆ Ideal     │\n",
       "│ 0.21  ┆ Premium   │\n",
       "│ 0.23  ┆ Good      │\n",
       "│ 0.29  ┆ Premium   │\n",
       "│ 0.31  ┆ Good      │\n",
       "│ …     ┆ …         │\n",
       "│ 0.72  ┆ Ideal     │\n",
       "│ 0.72  ┆ Good      │\n",
       "│ 0.7   ┆ Very Good │\n",
       "│ 0.86  ┆ Premium   │\n",
       "│ 0.75  ┆ Ideal     │\n",
       "└───────┴───────────┘"
      ]
     },
     "execution_count": 9,
     "metadata": {},
     "output_type": "execute_result"
    }
   ],
   "source": [
    "diamonds.select('carat', 'cut')"
   ]
  },
  {
   "cell_type": "code",
   "execution_count": 10,
   "metadata": {},
   "outputs": [
    {
     "data": {
      "text/html": [
       "<div><style>\n",
       ".dataframe > thead > tr,\n",
       ".dataframe > tbody > tr {\n",
       "  text-align: right;\n",
       "  white-space: pre-wrap;\n",
       "}\n",
       "</style>\n",
       "<small>shape: (53_940,)</small><table border=\"1\" class=\"dataframe\"><thead><tr><th>carat</th></tr><tr><td>f64</td></tr></thead><tbody><tr><td>0.23</td></tr><tr><td>0.21</td></tr><tr><td>0.23</td></tr><tr><td>0.29</td></tr><tr><td>0.31</td></tr><tr><td>&hellip;</td></tr><tr><td>0.72</td></tr><tr><td>0.72</td></tr><tr><td>0.7</td></tr><tr><td>0.86</td></tr><tr><td>0.75</td></tr></tbody></table></div>"
      ],
      "text/plain": [
       "shape: (53_940,)\n",
       "Series: 'carat' [f64]\n",
       "[\n",
       "\t0.23\n",
       "\t0.21\n",
       "\t0.23\n",
       "\t0.29\n",
       "\t0.31\n",
       "\t…\n",
       "\t0.72\n",
       "\t0.72\n",
       "\t0.7\n",
       "\t0.86\n",
       "\t0.75\n",
       "]"
      ]
     },
     "execution_count": 10,
     "metadata": {},
     "output_type": "execute_result"
    }
   ],
   "source": [
    "# vector \n",
    "diamonds.get_column('carat')"
   ]
  },
  {
   "cell_type": "code",
   "execution_count": 11,
   "metadata": {},
   "outputs": [
    {
     "data": {
      "text/html": [
       "<div><style>\n",
       ".dataframe > thead > tr,\n",
       ".dataframe > tbody > tr {\n",
       "  text-align: right;\n",
       "  white-space: pre-wrap;\n",
       "}\n",
       "</style>\n",
       "<small>shape: (53_940, 4)</small><table border=\"1\" class=\"dataframe\"><thead><tr><th>carat</th><th>cut</th><th>color</th><th>clarity</th></tr><tr><td>f64</td><td>str</td><td>str</td><td>str</td></tr></thead><tbody><tr><td>0.23</td><td>&quot;Ideal&quot;</td><td>&quot;E&quot;</td><td>&quot;SI2&quot;</td></tr><tr><td>0.21</td><td>&quot;Premium&quot;</td><td>&quot;E&quot;</td><td>&quot;SI1&quot;</td></tr><tr><td>0.23</td><td>&quot;Good&quot;</td><td>&quot;E&quot;</td><td>&quot;VS1&quot;</td></tr><tr><td>0.29</td><td>&quot;Premium&quot;</td><td>&quot;I&quot;</td><td>&quot;VS2&quot;</td></tr><tr><td>0.31</td><td>&quot;Good&quot;</td><td>&quot;J&quot;</td><td>&quot;SI2&quot;</td></tr><tr><td>&hellip;</td><td>&hellip;</td><td>&hellip;</td><td>&hellip;</td></tr><tr><td>0.72</td><td>&quot;Ideal&quot;</td><td>&quot;D&quot;</td><td>&quot;SI1&quot;</td></tr><tr><td>0.72</td><td>&quot;Good&quot;</td><td>&quot;D&quot;</td><td>&quot;SI1&quot;</td></tr><tr><td>0.7</td><td>&quot;Very Good&quot;</td><td>&quot;D&quot;</td><td>&quot;SI1&quot;</td></tr><tr><td>0.86</td><td>&quot;Premium&quot;</td><td>&quot;H&quot;</td><td>&quot;SI2&quot;</td></tr><tr><td>0.75</td><td>&quot;Ideal&quot;</td><td>&quot;D&quot;</td><td>&quot;SI2&quot;</td></tr></tbody></table></div>"
      ],
      "text/plain": [
       "shape: (53_940, 4)\n",
       "┌───────┬───────────┬───────┬─────────┐\n",
       "│ carat ┆ cut       ┆ color ┆ clarity │\n",
       "│ ---   ┆ ---       ┆ ---   ┆ ---     │\n",
       "│ f64   ┆ str       ┆ str   ┆ str     │\n",
       "╞═══════╪═══════════╪═══════╪═════════╡\n",
       "│ 0.23  ┆ Ideal     ┆ E     ┆ SI2     │\n",
       "│ 0.21  ┆ Premium   ┆ E     ┆ SI1     │\n",
       "│ 0.23  ┆ Good      ┆ E     ┆ VS1     │\n",
       "│ 0.29  ┆ Premium   ┆ I     ┆ VS2     │\n",
       "│ 0.31  ┆ Good      ┆ J     ┆ SI2     │\n",
       "│ …     ┆ …         ┆ …     ┆ …       │\n",
       "│ 0.72  ┆ Ideal     ┆ D     ┆ SI1     │\n",
       "│ 0.72  ┆ Good      ┆ D     ┆ SI1     │\n",
       "│ 0.7   ┆ Very Good ┆ D     ┆ SI1     │\n",
       "│ 0.86  ┆ Premium   ┆ H     ┆ SI2     │\n",
       "│ 0.75  ┆ Ideal     ┆ D     ┆ SI2     │\n",
       "└───────┴───────────┴───────┴─────────┘"
      ]
     },
     "execution_count": 11,
     "metadata": {},
     "output_type": "execute_result"
    }
   ],
   "source": [
    "diamonds.select(pl.col('^c.*$'))"
   ]
  },
  {
   "cell_type": "code",
   "execution_count": 12,
   "metadata": {},
   "outputs": [
    {
     "data": {
      "text/html": [
       "<div><style>\n",
       ".dataframe > thead > tr,\n",
       ".dataframe > tbody > tr {\n",
       "  text-align: right;\n",
       "  white-space: pre-wrap;\n",
       "}\n",
       "</style>\n",
       "<small>shape: (53_940, 3)</small><table border=\"1\" class=\"dataframe\"><thead><tr><th>cut</th><th>color</th><th>clarity</th></tr><tr><td>str</td><td>str</td><td>str</td></tr></thead><tbody><tr><td>&quot;Ideal&quot;</td><td>&quot;E&quot;</td><td>&quot;SI2&quot;</td></tr><tr><td>&quot;Premium&quot;</td><td>&quot;E&quot;</td><td>&quot;SI1&quot;</td></tr><tr><td>&quot;Good&quot;</td><td>&quot;E&quot;</td><td>&quot;VS1&quot;</td></tr><tr><td>&quot;Premium&quot;</td><td>&quot;I&quot;</td><td>&quot;VS2&quot;</td></tr><tr><td>&quot;Good&quot;</td><td>&quot;J&quot;</td><td>&quot;SI2&quot;</td></tr><tr><td>&hellip;</td><td>&hellip;</td><td>&hellip;</td></tr><tr><td>&quot;Ideal&quot;</td><td>&quot;D&quot;</td><td>&quot;SI1&quot;</td></tr><tr><td>&quot;Good&quot;</td><td>&quot;D&quot;</td><td>&quot;SI1&quot;</td></tr><tr><td>&quot;Very Good&quot;</td><td>&quot;D&quot;</td><td>&quot;SI1&quot;</td></tr><tr><td>&quot;Premium&quot;</td><td>&quot;H&quot;</td><td>&quot;SI2&quot;</td></tr><tr><td>&quot;Ideal&quot;</td><td>&quot;D&quot;</td><td>&quot;SI2&quot;</td></tr></tbody></table></div>"
      ],
      "text/plain": [
       "shape: (53_940, 3)\n",
       "┌───────────┬───────┬─────────┐\n",
       "│ cut       ┆ color ┆ clarity │\n",
       "│ ---       ┆ ---   ┆ ---     │\n",
       "│ str       ┆ str   ┆ str     │\n",
       "╞═══════════╪═══════╪═════════╡\n",
       "│ Ideal     ┆ E     ┆ SI2     │\n",
       "│ Premium   ┆ E     ┆ SI1     │\n",
       "│ Good      ┆ E     ┆ VS1     │\n",
       "│ Premium   ┆ I     ┆ VS2     │\n",
       "│ Good      ┆ J     ┆ SI2     │\n",
       "│ …         ┆ …     ┆ …       │\n",
       "│ Ideal     ┆ D     ┆ SI1     │\n",
       "│ Good      ┆ D     ┆ SI1     │\n",
       "│ Very Good ┆ D     ┆ SI1     │\n",
       "│ Premium   ┆ H     ┆ SI2     │\n",
       "│ Ideal     ┆ D     ┆ SI2     │\n",
       "└───────────┴───────┴─────────┘"
      ]
     },
     "execution_count": 12,
     "metadata": {},
     "output_type": "execute_result"
    }
   ],
   "source": [
    "diamonds.select(pl.col(pl.Utf8))"
   ]
  },
  {
   "cell_type": "code",
   "execution_count": 13,
   "metadata": {},
   "outputs": [
    {
     "data": {
      "text/html": [
       "<div><style>\n",
       ".dataframe > thead > tr,\n",
       ".dataframe > tbody > tr {\n",
       "  text-align: right;\n",
       "  white-space: pre-wrap;\n",
       "}\n",
       "</style>\n",
       "<small>shape: (53_940, 4)</small><table border=\"1\" class=\"dataframe\"><thead><tr><th>depth</th><th>table</th><th>color</th><th>table2</th></tr><tr><td>f64</td><td>f64</td><td>str</td><td>f64</td></tr></thead><tbody><tr><td>61.5</td><td>55.0</td><td>&quot;color-E&quot;</td><td>110.0</td></tr><tr><td>59.8</td><td>61.0</td><td>&quot;color-E&quot;</td><td>122.0</td></tr><tr><td>56.9</td><td>65.0</td><td>&quot;color-E&quot;</td><td>130.0</td></tr><tr><td>62.4</td><td>58.0</td><td>&quot;color-I&quot;</td><td>116.0</td></tr><tr><td>63.3</td><td>58.0</td><td>&quot;color-J&quot;</td><td>116.0</td></tr><tr><td>&hellip;</td><td>&hellip;</td><td>&hellip;</td><td>&hellip;</td></tr><tr><td>60.8</td><td>57.0</td><td>&quot;color-D&quot;</td><td>114.0</td></tr><tr><td>63.1</td><td>55.0</td><td>&quot;color-D&quot;</td><td>110.0</td></tr><tr><td>62.8</td><td>60.0</td><td>&quot;color-D&quot;</td><td>120.0</td></tr><tr><td>61.0</td><td>58.0</td><td>&quot;color-H&quot;</td><td>116.0</td></tr><tr><td>62.2</td><td>55.0</td><td>&quot;color-D&quot;</td><td>110.0</td></tr></tbody></table></div>"
      ],
      "text/plain": [
       "shape: (53_940, 4)\n",
       "┌───────┬───────┬─────────┬────────┐\n",
       "│ depth ┆ table ┆ color   ┆ table2 │\n",
       "│ ---   ┆ ---   ┆ ---     ┆ ---    │\n",
       "│ f64   ┆ f64   ┆ str     ┆ f64    │\n",
       "╞═══════╪═══════╪═════════╪════════╡\n",
       "│ 61.5  ┆ 55.0  ┆ color-E ┆ 110.0  │\n",
       "│ 59.8  ┆ 61.0  ┆ color-E ┆ 122.0  │\n",
       "│ 56.9  ┆ 65.0  ┆ color-E ┆ 130.0  │\n",
       "│ 62.4  ┆ 58.0  ┆ color-I ┆ 116.0  │\n",
       "│ 63.3  ┆ 58.0  ┆ color-J ┆ 116.0  │\n",
       "│ …     ┆ …     ┆ …       ┆ …      │\n",
       "│ 60.8  ┆ 57.0  ┆ color-D ┆ 114.0  │\n",
       "│ 63.1  ┆ 55.0  ┆ color-D ┆ 110.0  │\n",
       "│ 62.8  ┆ 60.0  ┆ color-D ┆ 120.0  │\n",
       "│ 61.0  ┆ 58.0  ┆ color-H ┆ 116.0  │\n",
       "│ 62.2  ┆ 55.0  ┆ color-D ┆ 110.0  │\n",
       "└───────┴───────┴─────────┴────────┘"
      ]
     },
     "execution_count": 13,
     "metadata": {},
     "output_type": "execute_result"
    }
   ],
   "source": [
    "diamonds\\\n",
    "  .select('depth', 'table', 'color')\\\n",
    "  .with_columns(\n",
    "    color = pl.lit('color-') + pl.col('color'),\n",
    "    table2 = 2 * pl.col('table')\n",
    "  )"
   ]
  },
  {
   "cell_type": "code",
   "execution_count": 14,
   "metadata": {},
   "outputs": [
    {
     "data": {
      "text/html": [
       "<div><style>\n",
       ".dataframe > thead > tr,\n",
       ".dataframe > tbody > tr {\n",
       "  text-align: right;\n",
       "  white-space: pre-wrap;\n",
       "}\n",
       "</style>\n",
       "<small>shape: (53_940, 4)</small><table border=\"1\" class=\"dataframe\"><thead><tr><th>depth</th><th>table</th><th>color</th><th>new</th></tr><tr><td>f64</td><td>f64</td><td>str</td><td>str</td></tr></thead><tbody><tr><td>61.5</td><td>55.0</td><td>&quot;E&quot;</td><td>&quot;E&quot;</td></tr><tr><td>59.8</td><td>61.0</td><td>&quot;E&quot;</td><td>&quot;E&quot;</td></tr><tr><td>56.9</td><td>65.0</td><td>&quot;E&quot;</td><td>&quot;E&quot;</td></tr><tr><td>62.4</td><td>58.0</td><td>&quot;I&quot;</td><td>&quot;not_E&quot;</td></tr><tr><td>63.3</td><td>58.0</td><td>&quot;J&quot;</td><td>&quot;not_E&quot;</td></tr><tr><td>&hellip;</td><td>&hellip;</td><td>&hellip;</td><td>&hellip;</td></tr><tr><td>60.8</td><td>57.0</td><td>&quot;D&quot;</td><td>&quot;not_E&quot;</td></tr><tr><td>63.1</td><td>55.0</td><td>&quot;D&quot;</td><td>&quot;not_E&quot;</td></tr><tr><td>62.8</td><td>60.0</td><td>&quot;D&quot;</td><td>&quot;not_E&quot;</td></tr><tr><td>61.0</td><td>58.0</td><td>&quot;H&quot;</td><td>&quot;not_E&quot;</td></tr><tr><td>62.2</td><td>55.0</td><td>&quot;D&quot;</td><td>&quot;not_E&quot;</td></tr></tbody></table></div>"
      ],
      "text/plain": [
       "shape: (53_940, 4)\n",
       "┌───────┬───────┬───────┬───────┐\n",
       "│ depth ┆ table ┆ color ┆ new   │\n",
       "│ ---   ┆ ---   ┆ ---   ┆ ---   │\n",
       "│ f64   ┆ f64   ┆ str   ┆ str   │\n",
       "╞═══════╪═══════╪═══════╪═══════╡\n",
       "│ 61.5  ┆ 55.0  ┆ E     ┆ E     │\n",
       "│ 59.8  ┆ 61.0  ┆ E     ┆ E     │\n",
       "│ 56.9  ┆ 65.0  ┆ E     ┆ E     │\n",
       "│ 62.4  ┆ 58.0  ┆ I     ┆ not_E │\n",
       "│ 63.3  ┆ 58.0  ┆ J     ┆ not_E │\n",
       "│ …     ┆ …     ┆ …     ┆ …     │\n",
       "│ 60.8  ┆ 57.0  ┆ D     ┆ not_E │\n",
       "│ 63.1  ┆ 55.0  ┆ D     ┆ not_E │\n",
       "│ 62.8  ┆ 60.0  ┆ D     ┆ not_E │\n",
       "│ 61.0  ┆ 58.0  ┆ H     ┆ not_E │\n",
       "│ 62.2  ┆ 55.0  ┆ D     ┆ not_E │\n",
       "└───────┴───────┴───────┴───────┘"
      ]
     },
     "execution_count": 14,
     "metadata": {},
     "output_type": "execute_result"
    }
   ],
   "source": [
    "diamonds\\\n",
    "  .select('depth', 'table', 'color')\\\n",
    "  .with_columns(\n",
    "    new =\n",
    "    pl.when(pl.col('color') == 'E')\n",
    "    .then(pl.lit('E'))\n",
    "    .otherwise(pl.lit('not_E'))\n",
    "  )\n"
   ]
  },
  {
   "cell_type": "code",
   "execution_count": 15,
   "metadata": {},
   "outputs": [
    {
     "data": {
      "text/html": [
       "<div><style>\n",
       ".dataframe > thead > tr,\n",
       ".dataframe > tbody > tr {\n",
       "  text-align: right;\n",
       "  white-space: pre-wrap;\n",
       "}\n",
       "</style>\n",
       "<small>shape: (53_940, 4)</small><table border=\"1\" class=\"dataframe\"><thead><tr><th>depth</th><th>table</th><th>color</th><th>new</th></tr><tr><td>f64</td><td>f64</td><td>str</td><td>str</td></tr></thead><tbody><tr><td>61.5</td><td>55.0</td><td>&quot;E&quot;</td><td>&quot;EEE&quot;</td></tr><tr><td>59.8</td><td>61.0</td><td>&quot;E&quot;</td><td>&quot;EEE&quot;</td></tr><tr><td>56.9</td><td>65.0</td><td>&quot;E&quot;</td><td>&quot;EEE&quot;</td></tr><tr><td>62.4</td><td>58.0</td><td>&quot;I&quot;</td><td>&quot;III&quot;</td></tr><tr><td>63.3</td><td>58.0</td><td>&quot;J&quot;</td><td>&quot;not_EI&quot;</td></tr><tr><td>&hellip;</td><td>&hellip;</td><td>&hellip;</td><td>&hellip;</td></tr><tr><td>60.8</td><td>57.0</td><td>&quot;D&quot;</td><td>&quot;not_EI&quot;</td></tr><tr><td>63.1</td><td>55.0</td><td>&quot;D&quot;</td><td>&quot;not_EI&quot;</td></tr><tr><td>62.8</td><td>60.0</td><td>&quot;D&quot;</td><td>&quot;not_EI&quot;</td></tr><tr><td>61.0</td><td>58.0</td><td>&quot;H&quot;</td><td>&quot;not_EI&quot;</td></tr><tr><td>62.2</td><td>55.0</td><td>&quot;D&quot;</td><td>&quot;not_EI&quot;</td></tr></tbody></table></div>"
      ],
      "text/plain": [
       "shape: (53_940, 4)\n",
       "┌───────┬───────┬───────┬────────┐\n",
       "│ depth ┆ table ┆ color ┆ new    │\n",
       "│ ---   ┆ ---   ┆ ---   ┆ ---    │\n",
       "│ f64   ┆ f64   ┆ str   ┆ str    │\n",
       "╞═══════╪═══════╪═══════╪════════╡\n",
       "│ 61.5  ┆ 55.0  ┆ E     ┆ EEE    │\n",
       "│ 59.8  ┆ 61.0  ┆ E     ┆ EEE    │\n",
       "│ 56.9  ┆ 65.0  ┆ E     ┆ EEE    │\n",
       "│ 62.4  ┆ 58.0  ┆ I     ┆ III    │\n",
       "│ 63.3  ┆ 58.0  ┆ J     ┆ not_EI │\n",
       "│ …     ┆ …     ┆ …     ┆ …      │\n",
       "│ 60.8  ┆ 57.0  ┆ D     ┆ not_EI │\n",
       "│ 63.1  ┆ 55.0  ┆ D     ┆ not_EI │\n",
       "│ 62.8  ┆ 60.0  ┆ D     ┆ not_EI │\n",
       "│ 61.0  ┆ 58.0  ┆ H     ┆ not_EI │\n",
       "│ 62.2  ┆ 55.0  ┆ D     ┆ not_EI │\n",
       "└───────┴───────┴───────┴────────┘"
      ]
     },
     "execution_count": 15,
     "metadata": {},
     "output_type": "execute_result"
    }
   ],
   "source": [
    "diamonds\\\n",
    "  .select('depth', 'table', 'color')\\\n",
    "  .with_columns(\n",
    "    new =\n",
    "    pl.when(pl.col('color') == 'E').then(pl.lit('EEE'))\\\n",
    "      .when(pl.col('color') == 'I').then(pl.lit('III'))\\\n",
    "      .otherwise(pl.lit('not_EI'))\n",
    "  )"
   ]
  },
  {
   "cell_type": "markdown",
   "metadata": {},
   "source": [
    "## テーブル結合\n",
    "\n"
   ]
  },
  {
   "cell_type": "code",
   "execution_count": 16,
   "metadata": {},
   "outputs": [
    {
     "data": {
      "text/html": [
       "<div><style>\n",
       ".dataframe > thead > tr,\n",
       ".dataframe > tbody > tr {\n",
       "  text-align: right;\n",
       "  white-space: pre-wrap;\n",
       "}\n",
       "</style>\n",
       "<small>shape: (5, 2)</small><table border=\"1\" class=\"dataframe\"><thead><tr><th>id</th><th>name</th></tr><tr><td>i64</td><td>str</td></tr></thead><tbody><tr><td>1</td><td>&quot;A&quot;</td></tr><tr><td>2</td><td>&quot;B&quot;</td></tr><tr><td>3</td><td>&quot;C&quot;</td></tr><tr><td>2</td><td>&quot;D&quot;</td></tr><tr><td>5</td><td>&quot;E&quot;</td></tr></tbody></table></div>"
      ],
      "text/plain": [
       "shape: (5, 2)\n",
       "┌─────┬──────┐\n",
       "│ id  ┆ name │\n",
       "│ --- ┆ ---  │\n",
       "│ i64 ┆ str  │\n",
       "╞═════╪══════╡\n",
       "│ 1   ┆ A    │\n",
       "│ 2   ┆ B    │\n",
       "│ 3   ┆ C    │\n",
       "│ 2   ┆ D    │\n",
       "│ 5   ┆ E    │\n",
       "└─────┴──────┘"
      ]
     },
     "execution_count": 16,
     "metadata": {},
     "output_type": "execute_result"
    }
   ],
   "source": [
    "df_emp = pl.DataFrame(\n",
    "    {\n",
    "      'id':[1, 2, 3, 2, 5],\n",
    "      'name':['A', 'B', 'C', 'D', 'E']\n",
    "     }\n",
    ")\n",
    "df_emp\n"
   ]
  },
  {
   "cell_type": "code",
   "execution_count": 17,
   "metadata": {},
   "outputs": [
    {
     "data": {
      "text/html": [
       "<div><style>\n",
       ".dataframe > thead > tr,\n",
       ".dataframe > tbody > tr {\n",
       "  text-align: right;\n",
       "  white-space: pre-wrap;\n",
       "}\n",
       "</style>\n",
       "<small>shape: (4, 2)</small><table border=\"1\" class=\"dataframe\"><thead><tr><th>id</th><th>group</th></tr><tr><td>i64</td><td>str</td></tr></thead><tbody><tr><td>1</td><td>&quot;divA&quot;</td></tr><tr><td>2</td><td>&quot;divB&quot;</td></tr><tr><td>3</td><td>&quot;divC&quot;</td></tr><tr><td>4</td><td>&quot;divD&quot;</td></tr></tbody></table></div>"
      ],
      "text/plain": [
       "shape: (4, 2)\n",
       "┌─────┬───────┐\n",
       "│ id  ┆ group │\n",
       "│ --- ┆ ---   │\n",
       "│ i64 ┆ str   │\n",
       "╞═════╪═══════╡\n",
       "│ 1   ┆ divA  │\n",
       "│ 2   ┆ divB  │\n",
       "│ 3   ┆ divC  │\n",
       "│ 4   ┆ divD  │\n",
       "└─────┴───────┘"
      ]
     },
     "execution_count": 17,
     "metadata": {},
     "output_type": "execute_result"
    }
   ],
   "source": [
    "df_div = pl.DataFrame(\n",
    "    {\n",
    "        'id':[1, 2, 3, 4],\n",
    "        'group':['divA', 'divB', 'divC', 'divD']\n",
    "     }\n",
    ")\n",
    "df_div"
   ]
  },
  {
   "cell_type": "code",
   "execution_count": 18,
   "metadata": {},
   "outputs": [
    {
     "data": {
      "text/html": [
       "<div><style>\n",
       ".dataframe > thead > tr,\n",
       ".dataframe > tbody > tr {\n",
       "  text-align: right;\n",
       "  white-space: pre-wrap;\n",
       "}\n",
       "</style>\n",
       "<small>shape: (4, 3)</small><table border=\"1\" class=\"dataframe\"><thead><tr><th>id</th><th>name</th><th>group</th></tr><tr><td>i64</td><td>str</td><td>str</td></tr></thead><tbody><tr><td>1</td><td>&quot;A&quot;</td><td>&quot;divA&quot;</td></tr><tr><td>2</td><td>&quot;B&quot;</td><td>&quot;divB&quot;</td></tr><tr><td>3</td><td>&quot;C&quot;</td><td>&quot;divC&quot;</td></tr><tr><td>2</td><td>&quot;D&quot;</td><td>&quot;divB&quot;</td></tr></tbody></table></div>"
      ],
      "text/plain": [
       "shape: (4, 3)\n",
       "┌─────┬──────┬───────┐\n",
       "│ id  ┆ name ┆ group │\n",
       "│ --- ┆ ---  ┆ ---   │\n",
       "│ i64 ┆ str  ┆ str   │\n",
       "╞═════╪══════╪═══════╡\n",
       "│ 1   ┆ A    ┆ divA  │\n",
       "│ 2   ┆ B    ┆ divB  │\n",
       "│ 3   ┆ C    ┆ divC  │\n",
       "│ 2   ┆ D    ┆ divB  │\n",
       "└─────┴──────┴───────┘"
      ]
     },
     "execution_count": 18,
     "metadata": {},
     "output_type": "execute_result"
    }
   ],
   "source": [
    "# keyとなるカラムを双方のテーブルで指定できないため、名前を変更する必要がある\n",
    "df_emp.join(df_div, on = 'id', how = 'inner')"
   ]
  },
  {
   "cell_type": "code",
   "execution_count": 19,
   "metadata": {},
   "outputs": [
    {
     "data": {
      "text/html": [
       "<div><style>\n",
       ".dataframe > thead > tr,\n",
       ".dataframe > tbody > tr {\n",
       "  text-align: right;\n",
       "  white-space: pre-wrap;\n",
       "}\n",
       "</style>\n",
       "<small>shape: (5, 3)</small><table border=\"1\" class=\"dataframe\"><thead><tr><th>id</th><th>name</th><th>group</th></tr><tr><td>i64</td><td>str</td><td>str</td></tr></thead><tbody><tr><td>1</td><td>&quot;A&quot;</td><td>&quot;divA&quot;</td></tr><tr><td>2</td><td>&quot;B&quot;</td><td>&quot;divB&quot;</td></tr><tr><td>3</td><td>&quot;C&quot;</td><td>&quot;divC&quot;</td></tr><tr><td>2</td><td>&quot;D&quot;</td><td>&quot;divB&quot;</td></tr><tr><td>5</td><td>&quot;E&quot;</td><td>null</td></tr></tbody></table></div>"
      ],
      "text/plain": [
       "shape: (5, 3)\n",
       "┌─────┬──────┬───────┐\n",
       "│ id  ┆ name ┆ group │\n",
       "│ --- ┆ ---  ┆ ---   │\n",
       "│ i64 ┆ str  ┆ str   │\n",
       "╞═════╪══════╪═══════╡\n",
       "│ 1   ┆ A    ┆ divA  │\n",
       "│ 2   ┆ B    ┆ divB  │\n",
       "│ 3   ┆ C    ┆ divC  │\n",
       "│ 2   ┆ D    ┆ divB  │\n",
       "│ 5   ┆ E    ┆ null  │\n",
       "└─────┴──────┴───────┘"
      ]
     },
     "execution_count": 19,
     "metadata": {},
     "output_type": "execute_result"
    }
   ],
   "source": [
    "df_emp.join(df_div, on = 'id', how = 'left')"
   ]
  },
  {
   "cell_type": "code",
   "execution_count": 20,
   "metadata": {},
   "outputs": [
    {
     "data": {
      "text/html": [
       "<div><style>\n",
       ".dataframe > thead > tr,\n",
       ".dataframe > tbody > tr {\n",
       "  text-align: right;\n",
       "  white-space: pre-wrap;\n",
       "}\n",
       "</style>\n",
       "<small>shape: (6, 4)</small><table border=\"1\" class=\"dataframe\"><thead><tr><th>id</th><th>name</th><th>id_right</th><th>group</th></tr><tr><td>i64</td><td>str</td><td>i64</td><td>str</td></tr></thead><tbody><tr><td>1</td><td>&quot;A&quot;</td><td>1</td><td>&quot;divA&quot;</td></tr><tr><td>2</td><td>&quot;B&quot;</td><td>2</td><td>&quot;divB&quot;</td></tr><tr><td>3</td><td>&quot;C&quot;</td><td>3</td><td>&quot;divC&quot;</td></tr><tr><td>2</td><td>&quot;D&quot;</td><td>2</td><td>&quot;divB&quot;</td></tr><tr><td>5</td><td>&quot;E&quot;</td><td>null</td><td>null</td></tr><tr><td>null</td><td>null</td><td>4</td><td>&quot;divD&quot;</td></tr></tbody></table></div>"
      ],
      "text/plain": [
       "shape: (6, 4)\n",
       "┌──────┬──────┬──────────┬───────┐\n",
       "│ id   ┆ name ┆ id_right ┆ group │\n",
       "│ ---  ┆ ---  ┆ ---      ┆ ---   │\n",
       "│ i64  ┆ str  ┆ i64      ┆ str   │\n",
       "╞══════╪══════╪══════════╪═══════╡\n",
       "│ 1    ┆ A    ┆ 1        ┆ divA  │\n",
       "│ 2    ┆ B    ┆ 2        ┆ divB  │\n",
       "│ 3    ┆ C    ┆ 3        ┆ divC  │\n",
       "│ 2    ┆ D    ┆ 2        ┆ divB  │\n",
       "│ 5    ┆ E    ┆ null     ┆ null  │\n",
       "│ null ┆ null ┆ 4        ┆ divD  │\n",
       "└──────┴──────┴──────────┴───────┘"
      ]
     },
     "execution_count": 20,
     "metadata": {},
     "output_type": "execute_result"
    }
   ],
   "source": [
    "df_emp.join(df_div, on = 'id', how = 'outer')"
   ]
  },
  {
   "cell_type": "code",
   "execution_count": 21,
   "metadata": {},
   "outputs": [
    {
     "data": {
      "text/html": [
       "<div><style>\n",
       ".dataframe > thead > tr,\n",
       ".dataframe > tbody > tr {\n",
       "  text-align: right;\n",
       "  white-space: pre-wrap;\n",
       "}\n",
       "</style>\n",
       "<small>shape: (10, 2)</small><table border=\"1\" class=\"dataframe\"><thead><tr><th>id</th><th>name</th></tr><tr><td>i64</td><td>str</td></tr></thead><tbody><tr><td>1</td><td>&quot;A&quot;</td></tr><tr><td>2</td><td>&quot;B&quot;</td></tr><tr><td>3</td><td>&quot;C&quot;</td></tr><tr><td>2</td><td>&quot;D&quot;</td></tr><tr><td>5</td><td>&quot;E&quot;</td></tr><tr><td>6</td><td>&quot;F&quot;</td></tr><tr><td>7</td><td>&quot;G&quot;</td></tr><tr><td>8</td><td>&quot;H&quot;</td></tr><tr><td>9</td><td>&quot;I&quot;</td></tr><tr><td>10</td><td>&quot;J&quot;</td></tr></tbody></table></div>"
      ],
      "text/plain": [
       "shape: (10, 2)\n",
       "┌─────┬──────┐\n",
       "│ id  ┆ name │\n",
       "│ --- ┆ ---  │\n",
       "│ i64 ┆ str  │\n",
       "╞═════╪══════╡\n",
       "│ 1   ┆ A    │\n",
       "│ 2   ┆ B    │\n",
       "│ 3   ┆ C    │\n",
       "│ 2   ┆ D    │\n",
       "│ 5   ┆ E    │\n",
       "│ 6   ┆ F    │\n",
       "│ 7   ┆ G    │\n",
       "│ 8   ┆ H    │\n",
       "│ 9   ┆ I    │\n",
       "│ 10  ┆ J    │\n",
       "└─────┴──────┘"
      ]
     },
     "execution_count": 21,
     "metadata": {},
     "output_type": "execute_result"
    }
   ],
   "source": [
    "df_emp2 = pl.DataFrame(\n",
    "    {\n",
    "      'id':[6, 7, 8, 9, 10],\n",
    "      'name':['F', 'G', 'H', 'I', 'J']\n",
    "     }\n",
    ")\n",
    "\n",
    "pl.concat([df_emp, df_emp2], how = 'vertical')"
   ]
  },
  {
   "cell_type": "code",
   "execution_count": 22,
   "metadata": {},
   "outputs": [
    {
     "data": {
      "text/html": [
       "<div><style>\n",
       ".dataframe > thead > tr,\n",
       ".dataframe > tbody > tr {\n",
       "  text-align: right;\n",
       "  white-space: pre-wrap;\n",
       "}\n",
       "</style>\n",
       "<small>shape: (5, 3)</small><table border=\"1\" class=\"dataframe\"><thead><tr><th>id</th><th>name</th><th>name2</th></tr><tr><td>i64</td><td>str</td><td>str</td></tr></thead><tbody><tr><td>1</td><td>&quot;A&quot;</td><td>&quot;F&quot;</td></tr><tr><td>2</td><td>&quot;B&quot;</td><td>&quot;G&quot;</td></tr><tr><td>3</td><td>&quot;C&quot;</td><td>&quot;H&quot;</td></tr><tr><td>2</td><td>&quot;D&quot;</td><td>&quot;I&quot;</td></tr><tr><td>5</td><td>&quot;E&quot;</td><td>&quot;J&quot;</td></tr></tbody></table></div>"
      ],
      "text/plain": [
       "shape: (5, 3)\n",
       "┌─────┬──────┬───────┐\n",
       "│ id  ┆ name ┆ name2 │\n",
       "│ --- ┆ ---  ┆ ---   │\n",
       "│ i64 ┆ str  ┆ str   │\n",
       "╞═════╪══════╪═══════╡\n",
       "│ 1   ┆ A    ┆ F     │\n",
       "│ 2   ┆ B    ┆ G     │\n",
       "│ 3   ┆ C    ┆ H     │\n",
       "│ 2   ┆ D    ┆ I     │\n",
       "│ 5   ┆ E    ┆ J     │\n",
       "└─────┴──────┴───────┘"
      ]
     },
     "execution_count": 22,
     "metadata": {},
     "output_type": "execute_result"
    }
   ],
   "source": [
    "pl.concat([df_emp, df_emp2.select(name2 = pl.col('name'))], how = 'horizontal')"
   ]
  },
  {
   "cell_type": "markdown",
   "metadata": {},
   "source": [
    "## グループ化、並び替え、重複\n",
    "\n"
   ]
  },
  {
   "cell_type": "code",
   "execution_count": 23,
   "metadata": {},
   "outputs": [
    {
     "data": {
      "text/html": [
       "<div><style>\n",
       ".dataframe > thead > tr,\n",
       ".dataframe > tbody > tr {\n",
       "  text-align: right;\n",
       "  white-space: pre-wrap;\n",
       "}\n",
       "</style>\n",
       "<small>shape: (7, 10)</small><table border=\"1\" class=\"dataframe\"><thead><tr><th>color</th><th>carat</th><th>cut</th><th>clarity</th><th>depth</th><th>table</th><th>price</th><th>x</th><th>y</th><th>z</th></tr><tr><td>str</td><td>f64</td><td>str</td><td>str</td><td>f64</td><td>f64</td><td>f64</td><td>f64</td><td>f64</td><td>f64</td></tr></thead><tbody><tr><td>&quot;J&quot;</td><td>1.162137</td><td>null</td><td>null</td><td>61.887215</td><td>57.812393</td><td>5323.81802</td><td>6.519338</td><td>6.518105</td><td>4.033251</td></tr><tr><td>&quot;E&quot;</td><td>0.657867</td><td>null</td><td>null</td><td>61.66209</td><td>57.491201</td><td>3076.752475</td><td>5.41158</td><td>5.419029</td><td>3.340689</td></tr><tr><td>&quot;G&quot;</td><td>0.77119</td><td>null</td><td>null</td><td>61.757111</td><td>57.288629</td><td>3999.135671</td><td>5.677543</td><td>5.680192</td><td>3.505021</td></tr><tr><td>&quot;H&quot;</td><td>0.911799</td><td>null</td><td>null</td><td>61.83685</td><td>57.517811</td><td>4486.669196</td><td>5.983335</td><td>5.984815</td><td>3.695965</td></tr><tr><td>&quot;I&quot;</td><td>1.026927</td><td>null</td><td>null</td><td>61.846385</td><td>57.577278</td><td>5091.874954</td><td>6.222826</td><td>6.22273</td><td>3.845411</td></tr><tr><td>&quot;D&quot;</td><td>0.657795</td><td>null</td><td>null</td><td>61.698125</td><td>57.40459</td><td>3169.954096</td><td>5.417051</td><td>5.421128</td><td>3.342827</td></tr><tr><td>&quot;F&quot;</td><td>0.736538</td><td>null</td><td>null</td><td>61.694582</td><td>57.433536</td><td>3724.886397</td><td>5.614961</td><td>5.619456</td><td>3.464446</td></tr></tbody></table></div>"
      ],
      "text/plain": [
       "shape: (7, 10)\n",
       "┌───────┬──────────┬──────┬─────────┬───┬─────────────┬──────────┬──────────┬──────────┐\n",
       "│ color ┆ carat    ┆ cut  ┆ clarity ┆ … ┆ price       ┆ x        ┆ y        ┆ z        │\n",
       "│ ---   ┆ ---      ┆ ---  ┆ ---     ┆   ┆ ---         ┆ ---      ┆ ---      ┆ ---      │\n",
       "│ str   ┆ f64      ┆ str  ┆ str     ┆   ┆ f64         ┆ f64      ┆ f64      ┆ f64      │\n",
       "╞═══════╪══════════╪══════╪═════════╪═══╪═════════════╪══════════╪══════════╪══════════╡\n",
       "│ J     ┆ 1.162137 ┆ null ┆ null    ┆ … ┆ 5323.81802  ┆ 6.519338 ┆ 6.518105 ┆ 4.033251 │\n",
       "│ E     ┆ 0.657867 ┆ null ┆ null    ┆ … ┆ 3076.752475 ┆ 5.41158  ┆ 5.419029 ┆ 3.340689 │\n",
       "│ G     ┆ 0.77119  ┆ null ┆ null    ┆ … ┆ 3999.135671 ┆ 5.677543 ┆ 5.680192 ┆ 3.505021 │\n",
       "│ H     ┆ 0.911799 ┆ null ┆ null    ┆ … ┆ 4486.669196 ┆ 5.983335 ┆ 5.984815 ┆ 3.695965 │\n",
       "│ I     ┆ 1.026927 ┆ null ┆ null    ┆ … ┆ 5091.874954 ┆ 6.222826 ┆ 6.22273  ┆ 3.845411 │\n",
       "│ D     ┆ 0.657795 ┆ null ┆ null    ┆ … ┆ 3169.954096 ┆ 5.417051 ┆ 5.421128 ┆ 3.342827 │\n",
       "│ F     ┆ 0.736538 ┆ null ┆ null    ┆ … ┆ 3724.886397 ┆ 5.614961 ┆ 5.619456 ┆ 3.464446 │\n",
       "└───────┴──────────┴──────┴─────────┴───┴─────────────┴──────────┴──────────┴──────────┘"
      ]
     },
     "execution_count": 23,
     "metadata": {},
     "output_type": "execute_result"
    }
   ],
   "source": [
    "diamonds\\\n",
    "  .group_by('color')\\\n",
    "  .mean()"
   ]
  },
  {
   "cell_type": "code",
   "execution_count": 24,
   "metadata": {},
   "outputs": [
    {
     "data": {
      "text/html": [
       "<div><style>\n",
       ".dataframe > thead > tr,\n",
       ".dataframe > tbody > tr {\n",
       "  text-align: right;\n",
       "  white-space: pre-wrap;\n",
       "}\n",
       "</style>\n",
       "<small>shape: (276, 10)</small><table border=\"1\" class=\"dataframe\"><thead><tr><th>color</th><th>cut</th><th>clarity</th><th>carat</th><th>depth</th><th>table</th><th>price</th><th>x</th><th>y</th><th>z</th></tr><tr><td>str</td><td>str</td><td>str</td><td>f64</td><td>f64</td><td>f64</td><td>i64</td><td>f64</td><td>f64</td><td>f64</td></tr></thead><tbody><tr><td>&quot;J&quot;</td><td>&quot;Very Good&quot;</td><td>&quot;VVS2&quot;</td><td>31.96</td><td>1809.9</td><td>1692.0</td><td>172853</td><td>183.84</td><td>184.7</td><td>114.98</td></tr><tr><td>&quot;J&quot;</td><td>&quot;Very Good&quot;</td><td>&quot;VVS1&quot;</td><td>14.54</td><td>1172.0</td><td>1102.5</td><td>60335</td><td>107.57</td><td>108.46</td><td>66.75</td></tr><tr><td>&quot;J&quot;</td><td>&quot;Very Good&quot;</td><td>&quot;VS2&quot;</td><td>209.86</td><td>11383.8</td><td>10727.7</td><td>979901</td><td>1192.34</td><td>1198.53</td><td>739.22</td></tr><tr><td>&quot;J&quot;</td><td>&quot;Very Good&quot;</td><td>&quot;VS1&quot;</td><td>115.79</td><td>7442.9</td><td>6965.2</td><td>520751</td><td>731.17</td><td>735.29</td><td>454.2</td></tr><tr><td>&quot;J&quot;</td><td>&quot;Very Good&quot;</td><td>&quot;SI2&quot;</td><td>174.2</td><td>7915.0</td><td>7522.9</td><td>767091</td><td>890.11</td><td>894.86</td><td>550.78</td></tr><tr><td>&hellip;</td><td>&hellip;</td><td>&hellip;</td><td>&hellip;</td><td>&hellip;</td><td>&hellip;</td><td>&hellip;</td><td>&hellip;</td><td>&hellip;</td><td>&hellip;</td></tr><tr><td>&quot;D&quot;</td><td>&quot;Fair&quot;</td><td>&quot;VS1&quot;</td><td>3.15</td><td>315.8</td><td>289.0</td><td>14606</td><td>26.85</td><td>26.77</td><td>17.46</td></tr><tr><td>&quot;D&quot;</td><td>&quot;Fair&quot;</td><td>&quot;SI2&quot;</td><td>56.95</td><td>3623.4</td><td>3284.0</td><td>243888</td><td>349.25</td><td>345.66</td><td>224.51</td></tr><tr><td>&quot;D&quot;</td><td>&quot;Fair&quot;</td><td>&quot;SI1&quot;</td><td>53.0</td><td>3748.8</td><td>3408.0</td><td>247854</td><td>348.61</td><td>345.51</td><td>224.16</td></tr><tr><td>&quot;D&quot;</td><td>&quot;Fair&quot;</td><td>&quot;IF&quot;</td><td>1.14</td><td>182.3</td><td>174.0</td><td>4859</td><td>14.24</td><td>14.06</td><td>8.6</td></tr><tr><td>&quot;D&quot;</td><td>&quot;Fair&quot;</td><td>&quot;I1&quot;</td><td>7.51</td><td>262.4</td><td>227.0</td><td>29532</td><td>30.07</td><td>29.69</td><td>19.62</td></tr></tbody></table></div>"
      ],
      "text/plain": [
       "shape: (276, 10)\n",
       "┌───────┬───────────┬─────────┬────────┬───┬────────┬─────────┬─────────┬────────┐\n",
       "│ color ┆ cut       ┆ clarity ┆ carat  ┆ … ┆ price  ┆ x       ┆ y       ┆ z      │\n",
       "│ ---   ┆ ---       ┆ ---     ┆ ---    ┆   ┆ ---    ┆ ---     ┆ ---     ┆ ---    │\n",
       "│ str   ┆ str       ┆ str     ┆ f64    ┆   ┆ i64    ┆ f64     ┆ f64     ┆ f64    │\n",
       "╞═══════╪═══════════╪═════════╪════════╪═══╪════════╪═════════╪═════════╪════════╡\n",
       "│ J     ┆ Very Good ┆ VVS2    ┆ 31.96  ┆ … ┆ 172853 ┆ 183.84  ┆ 184.7   ┆ 114.98 │\n",
       "│ J     ┆ Very Good ┆ VVS1    ┆ 14.54  ┆ … ┆ 60335  ┆ 107.57  ┆ 108.46  ┆ 66.75  │\n",
       "│ J     ┆ Very Good ┆ VS2     ┆ 209.86 ┆ … ┆ 979901 ┆ 1192.34 ┆ 1198.53 ┆ 739.22 │\n",
       "│ J     ┆ Very Good ┆ VS1     ┆ 115.79 ┆ … ┆ 520751 ┆ 731.17  ┆ 735.29  ┆ 454.2  │\n",
       "│ J     ┆ Very Good ┆ SI2     ┆ 174.2  ┆ … ┆ 767091 ┆ 890.11  ┆ 894.86  ┆ 550.78 │\n",
       "│ …     ┆ …         ┆ …       ┆ …      ┆ … ┆ …      ┆ …       ┆ …       ┆ …      │\n",
       "│ D     ┆ Fair      ┆ VS1     ┆ 3.15   ┆ … ┆ 14606  ┆ 26.85   ┆ 26.77   ┆ 17.46  │\n",
       "│ D     ┆ Fair      ┆ SI2     ┆ 56.95  ┆ … ┆ 243888 ┆ 349.25  ┆ 345.66  ┆ 224.51 │\n",
       "│ D     ┆ Fair      ┆ SI1     ┆ 53.0   ┆ … ┆ 247854 ┆ 348.61  ┆ 345.51  ┆ 224.16 │\n",
       "│ D     ┆ Fair      ┆ IF      ┆ 1.14   ┆ … ┆ 4859   ┆ 14.24   ┆ 14.06   ┆ 8.6    │\n",
       "│ D     ┆ Fair      ┆ I1      ┆ 7.51   ┆ … ┆ 29532  ┆ 30.07   ┆ 29.69   ┆ 19.62  │\n",
       "└───────┴───────────┴─────────┴────────┴───┴────────┴─────────┴─────────┴────────┘"
      ]
     },
     "execution_count": 24,
     "metadata": {},
     "output_type": "execute_result"
    }
   ],
   "source": [
    "diamonds\\\n",
    "  .group_by(['color', 'cut', 'clarity'])\\\n",
    "  .sum()\\\n",
    "  .sort(['color', 'cut', 'clarity'], descending=True)"
   ]
  },
  {
   "cell_type": "code",
   "execution_count": 25,
   "metadata": {},
   "outputs": [
    {
     "data": {
      "text/html": [
       "<div><style>\n",
       ".dataframe > thead > tr,\n",
       ".dataframe > tbody > tr {\n",
       "  text-align: right;\n",
       "  white-space: pre-wrap;\n",
       "}\n",
       "</style>\n",
       "<small>shape: (7, 2)</small><table border=\"1\" class=\"dataframe\"><thead><tr><th>color</th><th>depth</th></tr><tr><td>str</td><td>f64</td></tr></thead><tbody><tr><td>&quot;D&quot;</td><td>61.698125</td></tr><tr><td>&quot;E&quot;</td><td>61.66209</td></tr><tr><td>&quot;F&quot;</td><td>61.694582</td></tr><tr><td>&quot;G&quot;</td><td>61.757111</td></tr><tr><td>&quot;H&quot;</td><td>61.83685</td></tr><tr><td>&quot;I&quot;</td><td>61.846385</td></tr><tr><td>&quot;J&quot;</td><td>61.887215</td></tr></tbody></table></div>"
      ],
      "text/plain": [
       "shape: (7, 2)\n",
       "┌───────┬───────────┐\n",
       "│ color ┆ depth     │\n",
       "│ ---   ┆ ---       │\n",
       "│ str   ┆ f64       │\n",
       "╞═══════╪═══════════╡\n",
       "│ D     ┆ 61.698125 │\n",
       "│ E     ┆ 61.66209  │\n",
       "│ F     ┆ 61.694582 │\n",
       "│ G     ┆ 61.757111 │\n",
       "│ H     ┆ 61.83685  │\n",
       "│ I     ┆ 61.846385 │\n",
       "│ J     ┆ 61.887215 │\n",
       "└───────┴───────────┘"
      ]
     },
     "execution_count": 25,
     "metadata": {},
     "output_type": "execute_result"
    }
   ],
   "source": [
    "diamonds\\\n",
    "  .select('depth', 'color')\\\n",
    "  .group_by('color')\\\n",
    "  .mean()\\\n",
    "  .sort('color')"
   ]
  },
  {
   "cell_type": "code",
   "execution_count": 26,
   "metadata": {},
   "outputs": [
    {
     "data": {
      "text/html": [
       "<div><style>\n",
       ".dataframe > thead > tr,\n",
       ".dataframe > tbody > tr {\n",
       "  text-align: right;\n",
       "  white-space: pre-wrap;\n",
       "}\n",
       "</style>\n",
       "<small>shape: (5, 1)</small><table border=\"1\" class=\"dataframe\"><thead><tr><th>cut</th></tr><tr><td>str</td></tr></thead><tbody><tr><td>&quot;Very Good&quot;</td></tr><tr><td>&quot;Premium&quot;</td></tr><tr><td>&quot;Good&quot;</td></tr><tr><td>&quot;Ideal&quot;</td></tr><tr><td>&quot;Fair&quot;</td></tr></tbody></table></div>"
      ],
      "text/plain": [
       "shape: (5, 1)\n",
       "┌───────────┐\n",
       "│ cut       │\n",
       "│ ---       │\n",
       "│ str       │\n",
       "╞═══════════╡\n",
       "│ Very Good │\n",
       "│ Premium   │\n",
       "│ Good      │\n",
       "│ Ideal     │\n",
       "│ Fair      │\n",
       "└───────────┘"
      ]
     },
     "execution_count": 26,
     "metadata": {},
     "output_type": "execute_result"
    }
   ],
   "source": [
    "diamonds\\\n",
    "  .select('cut')\\\n",
    "  .unique('cut')"
   ]
  },
  {
   "cell_type": "code",
   "execution_count": 27,
   "metadata": {},
   "outputs": [
    {
     "data": {
      "text/html": [
       "<div><style>\n",
       ".dataframe > thead > tr,\n",
       ".dataframe > tbody > tr {\n",
       "  text-align: right;\n",
       "  white-space: pre-wrap;\n",
       "}\n",
       "</style>\n",
       "<small>shape: (35, 2)</small><table border=\"1\" class=\"dataframe\"><thead><tr><th>cut</th><th>color</th></tr><tr><td>str</td><td>str</td></tr></thead><tbody><tr><td>&quot;Ideal&quot;</td><td>&quot;J&quot;</td></tr><tr><td>&quot;Premium&quot;</td><td>&quot;E&quot;</td></tr><tr><td>&quot;Good&quot;</td><td>&quot;D&quot;</td></tr><tr><td>&quot;Good&quot;</td><td>&quot;I&quot;</td></tr><tr><td>&quot;Premium&quot;</td><td>&quot;F&quot;</td></tr><tr><td>&hellip;</td><td>&hellip;</td></tr><tr><td>&quot;Ideal&quot;</td><td>&quot;E&quot;</td></tr><tr><td>&quot;Premium&quot;</td><td>&quot;J&quot;</td></tr><tr><td>&quot;Very Good&quot;</td><td>&quot;E&quot;</td></tr><tr><td>&quot;Fair&quot;</td><td>&quot;I&quot;</td></tr><tr><td>&quot;Fair&quot;</td><td>&quot;G&quot;</td></tr></tbody></table></div>"
      ],
      "text/plain": [
       "shape: (35, 2)\n",
       "┌───────────┬───────┐\n",
       "│ cut       ┆ color │\n",
       "│ ---       ┆ ---   │\n",
       "│ str       ┆ str   │\n",
       "╞═══════════╪═══════╡\n",
       "│ Ideal     ┆ J     │\n",
       "│ Premium   ┆ E     │\n",
       "│ Good      ┆ D     │\n",
       "│ Good      ┆ I     │\n",
       "│ Premium   ┆ F     │\n",
       "│ …         ┆ …     │\n",
       "│ Ideal     ┆ E     │\n",
       "│ Premium   ┆ J     │\n",
       "│ Very Good ┆ E     │\n",
       "│ Fair      ┆ I     │\n",
       "│ Fair      ┆ G     │\n",
       "└───────────┴───────┘"
      ]
     },
     "execution_count": 27,
     "metadata": {},
     "output_type": "execute_result"
    }
   ],
   "source": [
    "diamonds\\\n",
    "  .select('cut', 'color')\\\n",
    "  .unique(['cut', 'color'])"
   ]
  },
  {
   "cell_type": "markdown",
   "metadata": {},
   "source": [
    "## テーブル構造の変換\n",
    "\n"
   ]
  },
  {
   "cell_type": "code",
   "execution_count": 28,
   "metadata": {},
   "outputs": [
    {
     "data": {
      "text/html": [
       "<div><style>\n",
       ".dataframe > thead > tr,\n",
       ".dataframe > tbody > tr {\n",
       "  text-align: right;\n",
       "  white-space: pre-wrap;\n",
       "}\n",
       "</style>\n",
       "<small>shape: (3, 3)</small><table border=\"1\" class=\"dataframe\"><thead><tr><th>group</th><th>a</th><th>b</th></tr><tr><td>str</td><td>i64</td><td>i64</td></tr></thead><tbody><tr><td>&quot;A&quot;</td><td>10</td><td>15</td></tr><tr><td>&quot;B&quot;</td><td>1</td><td>129</td></tr><tr><td>&quot;C&quot;</td><td>4</td><td>83</td></tr></tbody></table></div>"
      ],
      "text/plain": [
       "shape: (3, 3)\n",
       "┌───────┬─────┬─────┐\n",
       "│ group ┆ a   ┆ b   │\n",
       "│ ---   ┆ --- ┆ --- │\n",
       "│ str   ┆ i64 ┆ i64 │\n",
       "╞═══════╪═════╪═════╡\n",
       "│ A     ┆ 10  ┆ 15  │\n",
       "│ B     ┆ 1   ┆ 129 │\n",
       "│ C     ┆ 4   ┆ 83  │\n",
       "└───────┴─────┴─────┘"
      ]
     },
     "execution_count": 28,
     "metadata": {},
     "output_type": "execute_result"
    }
   ],
   "source": [
    "df_wide = pl.DataFrame(\n",
    "  {\n",
    "    'group':['A', 'B', 'C'],\n",
    "    'a':[10, 1, 4],\n",
    "    'b':[15, 129, 83]\n",
    "  }\n",
    ")\n",
    "df_wide"
   ]
  },
  {
   "cell_type": "code",
   "execution_count": 29,
   "metadata": {},
   "outputs": [
    {
     "data": {
      "text/html": [
       "<div><style>\n",
       ".dataframe > thead > tr,\n",
       ".dataframe > tbody > tr {\n",
       "  text-align: right;\n",
       "  white-space: pre-wrap;\n",
       "}\n",
       "</style>\n",
       "<small>shape: (6, 3)</small><table border=\"1\" class=\"dataframe\"><thead><tr><th>group</th><th>col_name</th><th>val_name</th></tr><tr><td>str</td><td>str</td><td>i64</td></tr></thead><tbody><tr><td>&quot;A&quot;</td><td>&quot;a&quot;</td><td>10</td></tr><tr><td>&quot;B&quot;</td><td>&quot;a&quot;</td><td>1</td></tr><tr><td>&quot;C&quot;</td><td>&quot;a&quot;</td><td>4</td></tr><tr><td>&quot;A&quot;</td><td>&quot;b&quot;</td><td>15</td></tr><tr><td>&quot;B&quot;</td><td>&quot;b&quot;</td><td>129</td></tr><tr><td>&quot;C&quot;</td><td>&quot;b&quot;</td><td>83</td></tr></tbody></table></div>"
      ],
      "text/plain": [
       "shape: (6, 3)\n",
       "┌───────┬──────────┬──────────┐\n",
       "│ group ┆ col_name ┆ val_name │\n",
       "│ ---   ┆ ---      ┆ ---      │\n",
       "│ str   ┆ str      ┆ i64      │\n",
       "╞═══════╪══════════╪══════════╡\n",
       "│ A     ┆ a        ┆ 10       │\n",
       "│ B     ┆ a        ┆ 1        │\n",
       "│ C     ┆ a        ┆ 4        │\n",
       "│ A     ┆ b        ┆ 15       │\n",
       "│ B     ┆ b        ┆ 129      │\n",
       "│ C     ┆ b        ┆ 83       │\n",
       "└───────┴──────────┴──────────┘"
      ]
     },
     "execution_count": 29,
     "metadata": {},
     "output_type": "execute_result"
    }
   ],
   "source": [
    "df_long = df_wide.melt(\n",
    "  id_vars = 'group',\n",
    "  value_vars = ['a', 'b'],\n",
    "  variable_name = 'col_name',\n",
    "  value_name = 'val_name'\n",
    ")\n",
    "df_long"
   ]
  },
  {
   "cell_type": "code",
   "execution_count": 30,
   "metadata": {},
   "outputs": [
    {
     "data": {
      "text/html": [
       "<div><style>\n",
       ".dataframe > thead > tr,\n",
       ".dataframe > tbody > tr {\n",
       "  text-align: right;\n",
       "  white-space: pre-wrap;\n",
       "}\n",
       "</style>\n",
       "<small>shape: (3, 3)</small><table border=\"1\" class=\"dataframe\"><thead><tr><th>group</th><th>a</th><th>b</th></tr><tr><td>str</td><td>i64</td><td>i64</td></tr></thead><tbody><tr><td>&quot;A&quot;</td><td>10</td><td>15</td></tr><tr><td>&quot;B&quot;</td><td>1</td><td>129</td></tr><tr><td>&quot;C&quot;</td><td>4</td><td>83</td></tr></tbody></table></div>"
      ],
      "text/plain": [
       "shape: (3, 3)\n",
       "┌───────┬─────┬─────┐\n",
       "│ group ┆ a   ┆ b   │\n",
       "│ ---   ┆ --- ┆ --- │\n",
       "│ str   ┆ i64 ┆ i64 │\n",
       "╞═══════╪═════╪═════╡\n",
       "│ A     ┆ 10  ┆ 15  │\n",
       "│ B     ┆ 1   ┆ 129 │\n",
       "│ C     ┆ 4   ┆ 83  │\n",
       "└───────┴─────┴─────┘"
      ]
     },
     "execution_count": 30,
     "metadata": {},
     "output_type": "execute_result"
    }
   ],
   "source": [
    "df_wide2 = df_long.pivot(\n",
    "  index = 'group',\n",
    "  columns = 'col_name',\n",
    "  values = 'val_name'\n",
    ")\n",
    "df_wide2"
   ]
  },
  {
   "cell_type": "markdown",
   "metadata": {},
   "source": [
    "## 文字列処理\n",
    "\n"
   ]
  },
  {
   "cell_type": "code",
   "execution_count": 31,
   "metadata": {},
   "outputs": [
    {
     "data": {
      "text/html": [
       "<div><style>\n",
       ".dataframe > thead > tr,\n",
       ".dataframe > tbody > tr {\n",
       "  text-align: right;\n",
       "  white-space: pre-wrap;\n",
       "}\n",
       "</style>\n",
       "<small>shape: (1,)</small><table border=\"1\" class=\"dataframe\"><thead><tr><th></th></tr><tr><td>str</td></tr></thead><tbody><tr><td>&quot;H&quot;</td></tr></tbody></table></div>"
      ],
      "text/plain": [
       "shape: (1,)\n",
       "Series: '' [str]\n",
       "[\n",
       "\t\"H\"\n",
       "]"
      ]
     },
     "execution_count": 31,
     "metadata": {},
     "output_type": "execute_result"
    }
   ],
   "source": [
    "# シリーズ\n",
    "series = pl.Series(['Hello-Polars'])\n",
    "series.str.slice(0,1)"
   ]
  },
  {
   "cell_type": "code",
   "execution_count": 32,
   "metadata": {},
   "outputs": [
    {
     "data": {
      "text/html": [
       "<div><style>\n",
       ".dataframe > thead > tr,\n",
       ".dataframe > tbody > tr {\n",
       "  text-align: right;\n",
       "  white-space: pre-wrap;\n",
       "}\n",
       "</style>\n",
       "<small>shape: (1,)</small><table border=\"1\" class=\"dataframe\"><thead><tr><th></th></tr><tr><td>str</td></tr></thead><tbody><tr><td>&quot;Hello&quot;</td></tr></tbody></table></div>"
      ],
      "text/plain": [
       "shape: (1,)\n",
       "Series: '' [str]\n",
       "[\n",
       "\t\"Hello\"\n",
       "]"
      ]
     },
     "execution_count": 32,
     "metadata": {},
     "output_type": "execute_result"
    }
   ],
   "source": [
    "series.str.slice(0, 5)"
   ]
  },
  {
   "cell_type": "code",
   "execution_count": 33,
   "metadata": {},
   "outputs": [
    {
     "data": {
      "text/html": [
       "<div><style>\n",
       ".dataframe > thead > tr,\n",
       ".dataframe > tbody > tr {\n",
       "  text-align: right;\n",
       "  white-space: pre-wrap;\n",
       "}\n",
       "</style>\n",
       "<small>shape: (1,)</small><table border=\"1\" class=\"dataframe\"><thead><tr><th></th></tr><tr><td>str</td></tr></thead><tbody><tr><td>&quot;s&quot;</td></tr></tbody></table></div>"
      ],
      "text/plain": [
       "shape: (1,)\n",
       "Series: '' [str]\n",
       "[\n",
       "\t\"s\"\n",
       "]"
      ]
     },
     "execution_count": 33,
     "metadata": {},
     "output_type": "execute_result"
    }
   ],
   "source": [
    "series.str.slice(-1)"
   ]
  },
  {
   "cell_type": "code",
   "execution_count": 34,
   "metadata": {},
   "outputs": [
    {
     "name": "stderr",
     "output_type": "stream",
     "text": [
      "/var/folders/s7/r__8fgpd56l0s3kgg97276280000gn/T/ipykernel_19380/2243004816.py:2: DeprecationWarning: `n_chars` is deprecated. It has been renamed to `len_chars`.\n",
      "  series.str.n_chars()\n"
     ]
    },
    {
     "data": {
      "text/html": [
       "<div><style>\n",
       ".dataframe > thead > tr,\n",
       ".dataframe > tbody > tr {\n",
       "  text-align: right;\n",
       "  white-space: pre-wrap;\n",
       "}\n",
       "</style>\n",
       "<small>shape: (3,)</small><table border=\"1\" class=\"dataframe\"><thead><tr><th></th></tr><tr><td>u32</td></tr></thead><tbody><tr><td>12</td></tr><tr><td>3</td></tr><tr><td>5</td></tr></tbody></table></div>"
      ],
      "text/plain": [
       "shape: (3,)\n",
       "Series: '' [u32]\n",
       "[\n",
       "\t12\n",
       "\t3\n",
       "\t5\n",
       "]"
      ]
     },
     "execution_count": 34,
     "metadata": {},
     "output_type": "execute_result"
    }
   ],
   "source": [
    "series = pl.Series(['Hello-Polars', 'Hel', 'polar'])\n",
    "series.str.n_chars()"
   ]
  },
  {
   "cell_type": "code",
   "execution_count": 35,
   "metadata": {},
   "outputs": [
    {
     "data": {
      "text/html": [
       "<div><style>\n",
       ".dataframe > thead > tr,\n",
       ".dataframe > tbody > tr {\n",
       "  text-align: right;\n",
       "  white-space: pre-wrap;\n",
       "}\n",
       "</style>\n",
       "<small>shape: (1,)</small><table border=\"1\" class=\"dataframe\"><thead><tr><th></th></tr><tr><td>str</td></tr></thead><tbody><tr><td>&quot;Hello+@+Polars&quot;</td></tr></tbody></table></div>"
      ],
      "text/plain": [
       "shape: (1,)\n",
       "Series: '' [str]\n",
       "[\n",
       "\t\"Hello+@+Polars\"\n",
       "]"
      ]
     },
     "execution_count": 35,
     "metadata": {},
     "output_type": "execute_result"
    }
   ],
   "source": [
    "series = pl.Series(['Hello', '@', 'Polars'])\n",
    "series.str.concat('+')"
   ]
  },
  {
   "cell_type": "code",
   "execution_count": 36,
   "metadata": {},
   "outputs": [
    {
     "data": {
      "text/html": [
       "<div><style>\n",
       ".dataframe > thead > tr,\n",
       ".dataframe > tbody > tr {\n",
       "  text-align: right;\n",
       "  white-space: pre-wrap;\n",
       "}\n",
       "</style>\n",
       "<small>shape: (3,)</small><table border=\"1\" class=\"dataframe\"><thead><tr><th></th></tr><tr><td>bool</td></tr></thead><tbody><tr><td>true</td></tr><tr><td>false</td></tr><tr><td>false</td></tr></tbody></table></div>"
      ],
      "text/plain": [
       "shape: (3,)\n",
       "Series: '' [bool]\n",
       "[\n",
       "\ttrue\n",
       "\tfalse\n",
       "\tfalse\n",
       "]"
      ]
     },
     "execution_count": 36,
     "metadata": {},
     "output_type": "execute_result"
    }
   ],
   "source": [
    "series = pl.Series(['Apple', 'Orange', 'Banana'])\n",
    "series.str.contains('Apple')"
   ]
  },
  {
   "cell_type": "code",
   "execution_count": 37,
   "metadata": {},
   "outputs": [
    {
     "data": {
      "text/html": [
       "<div><style>\n",
       ".dataframe > thead > tr,\n",
       ".dataframe > tbody > tr {\n",
       "  text-align: right;\n",
       "  white-space: pre-wrap;\n",
       "}\n",
       "</style>\n",
       "<small>shape: (3,)</small><table border=\"1\" class=\"dataframe\"><thead><tr><th></th></tr><tr><td>str</td></tr></thead><tbody><tr><td>&quot;Apple&quot;</td></tr><tr><td>&quot;OrAnge&quot;</td></tr><tr><td>&quot;BAnana&quot;</td></tr></tbody></table></div>"
      ],
      "text/plain": [
       "shape: (3,)\n",
       "Series: '' [str]\n",
       "[\n",
       "\t\"Apple\"\n",
       "\t\"OrAnge\"\n",
       "\t\"BAnana\"\n",
       "]"
      ]
     },
     "execution_count": 37,
     "metadata": {},
     "output_type": "execute_result"
    }
   ],
   "source": [
    "series = pl.Series(['Apple', 'Orange', 'Banana'])\n",
    "series.str.replace('a', 'A')"
   ]
  },
  {
   "cell_type": "code",
   "execution_count": 38,
   "metadata": {},
   "outputs": [
    {
     "data": {
      "text/html": [
       "<div><style>\n",
       ".dataframe > thead > tr,\n",
       ".dataframe > tbody > tr {\n",
       "  text-align: right;\n",
       "  white-space: pre-wrap;\n",
       "}\n",
       "</style>\n",
       "<small>shape: (3,)</small><table border=\"1\" class=\"dataframe\"><thead><tr><th></th></tr><tr><td>str</td></tr></thead><tbody><tr><td>&quot;Apple&quot;</td></tr><tr><td>&quot;OrAnge&quot;</td></tr><tr><td>&quot;BAnAnA&quot;</td></tr></tbody></table></div>"
      ],
      "text/plain": [
       "shape: (3,)\n",
       "Series: '' [str]\n",
       "[\n",
       "\t\"Apple\"\n",
       "\t\"OrAnge\"\n",
       "\t\"BAnAnA\"\n",
       "]"
      ]
     },
     "execution_count": 38,
     "metadata": {},
     "output_type": "execute_result"
    }
   ],
   "source": [
    "series.str.replace_all('a', 'A')"
   ]
  },
  {
   "cell_type": "code",
   "execution_count": 39,
   "metadata": {},
   "outputs": [
    {
     "data": {
      "text/html": [
       "<div><style>\n",
       ".dataframe > thead > tr,\n",
       ".dataframe > tbody > tr {\n",
       "  text-align: right;\n",
       "  white-space: pre-wrap;\n",
       "}\n",
       "</style>\n",
       "<small>shape: (3,)</small><table border=\"1\" class=\"dataframe\"><thead><tr><th></th></tr><tr><td>list[str]</td></tr></thead><tbody><tr><td>[&quot;A&quot;, &quot;B&quot;, &quot;C&quot;]</td></tr><tr><td>[&quot;A&quot;]</td></tr><tr><td>[&quot;B&quot;, &quot;C&quot;]</td></tr></tbody></table></div>"
      ],
      "text/plain": [
       "shape: (3,)\n",
       "Series: '' [list[str]]\n",
       "[\n",
       "\t[\"A\", \"B\", \"C\"]\n",
       "\t[\"A\"]\n",
       "\t[\"B\", \"C\"]\n",
       "]"
      ]
     },
     "execution_count": 39,
     "metadata": {},
     "output_type": "execute_result"
    }
   ],
   "source": [
    "series = pl.Series(['A,B,C', 'A', 'B,C'])\n",
    "series.str.split(',')"
   ]
  },
  {
   "cell_type": "markdown",
   "metadata": {},
   "source": [
    "## 繰り返し\n",
    "\n"
   ]
  },
  {
   "cell_type": "code",
   "execution_count": 40,
   "metadata": {},
   "outputs": [
    {
     "data": {
      "text/html": [
       "<div><style>\n",
       ".dataframe > thead > tr,\n",
       ".dataframe > tbody > tr {\n",
       "  text-align: right;\n",
       "  white-space: pre-wrap;\n",
       "}\n",
       "</style>\n",
       "<small>shape: (53_940,)</small><table border=\"1\" class=\"dataframe\"><thead><tr><th>color</th></tr><tr><td>str</td></tr></thead><tbody><tr><td>&quot;E&quot;</td></tr><tr><td>&quot;E&quot;</td></tr><tr><td>&quot;E&quot;</td></tr><tr><td>&quot;I&quot;</td></tr><tr><td>&quot;not_E_I&quot;</td></tr><tr><td>&hellip;</td></tr><tr><td>&quot;not_E_I&quot;</td></tr><tr><td>&quot;not_E_I&quot;</td></tr><tr><td>&quot;not_E_I&quot;</td></tr><tr><td>&quot;not_E_I&quot;</td></tr><tr><td>&quot;not_E_I&quot;</td></tr></tbody></table></div>"
      ],
      "text/plain": [
       "shape: (53_940,)\n",
       "Series: 'color' [str]\n",
       "[\n",
       "\t\"E\"\n",
       "\t\"E\"\n",
       "\t\"E\"\n",
       "\t\"I\"\n",
       "\t\"not_E_I\"\n",
       "\t…\n",
       "\t\"not_E_I\"\n",
       "\t\"not_E_I\"\n",
       "\t\"not_E_I\"\n",
       "\t\"not_E_I\"\n",
       "\t\"not_E_I\"\n",
       "]"
      ]
     },
     "execution_count": 40,
     "metadata": {},
     "output_type": "execute_result"
    }
   ],
   "source": [
    "def conv(x):\n",
    "  if x == 'E':\n",
    "    return('E')\n",
    "  elif x == 'I':\n",
    "    return('I')\n",
    "  else:\n",
    "    return('not_E_I')\n",
    "  \n",
    "series = diamonds.get_column('color')\n",
    "series.map_elements(conv, return_dtype=pl.Utf8)"
   ]
  },
  {
   "cell_type": "code",
   "execution_count": 41,
   "metadata": {},
   "outputs": [
    {
     "data": {
      "text/html": [
       "<div><style>\n",
       ".dataframe > thead > tr,\n",
       ".dataframe > tbody > tr {\n",
       "  text-align: right;\n",
       "  white-space: pre-wrap;\n",
       "}\n",
       "</style>\n",
       "<small>shape: (53_940, 4)</small><table border=\"1\" class=\"dataframe\"><thead><tr><th>color</th><th>depth</th><th>table</th><th>new</th></tr><tr><td>str</td><td>f64</td><td>f64</td><td>str</td></tr></thead><tbody><tr><td>&quot;E&quot;</td><td>61.5</td><td>55.0</td><td>&quot;E&quot;</td></tr><tr><td>&quot;E&quot;</td><td>59.8</td><td>61.0</td><td>&quot;E&quot;</td></tr><tr><td>&quot;E&quot;</td><td>56.9</td><td>65.0</td><td>&quot;E&quot;</td></tr><tr><td>&quot;I&quot;</td><td>62.4</td><td>58.0</td><td>&quot;I&quot;</td></tr><tr><td>&quot;J&quot;</td><td>63.3</td><td>58.0</td><td>&quot;not_E_I&quot;</td></tr><tr><td>&hellip;</td><td>&hellip;</td><td>&hellip;</td><td>&hellip;</td></tr><tr><td>&quot;D&quot;</td><td>60.8</td><td>57.0</td><td>&quot;not_E_I&quot;</td></tr><tr><td>&quot;D&quot;</td><td>63.1</td><td>55.0</td><td>&quot;not_E_I&quot;</td></tr><tr><td>&quot;D&quot;</td><td>62.8</td><td>60.0</td><td>&quot;not_E_I&quot;</td></tr><tr><td>&quot;H&quot;</td><td>61.0</td><td>58.0</td><td>&quot;not_E_I&quot;</td></tr><tr><td>&quot;D&quot;</td><td>62.2</td><td>55.0</td><td>&quot;not_E_I&quot;</td></tr></tbody></table></div>"
      ],
      "text/plain": [
       "shape: (53_940, 4)\n",
       "┌───────┬───────┬───────┬─────────┐\n",
       "│ color ┆ depth ┆ table ┆ new     │\n",
       "│ ---   ┆ ---   ┆ ---   ┆ ---     │\n",
       "│ str   ┆ f64   ┆ f64   ┆ str     │\n",
       "╞═══════╪═══════╪═══════╪═════════╡\n",
       "│ E     ┆ 61.5  ┆ 55.0  ┆ E       │\n",
       "│ E     ┆ 59.8  ┆ 61.0  ┆ E       │\n",
       "│ E     ┆ 56.9  ┆ 65.0  ┆ E       │\n",
       "│ I     ┆ 62.4  ┆ 58.0  ┆ I       │\n",
       "│ J     ┆ 63.3  ┆ 58.0  ┆ not_E_I │\n",
       "│ …     ┆ …     ┆ …     ┆ …       │\n",
       "│ D     ┆ 60.8  ┆ 57.0  ┆ not_E_I │\n",
       "│ D     ┆ 63.1  ┆ 55.0  ┆ not_E_I │\n",
       "│ D     ┆ 62.8  ┆ 60.0  ┆ not_E_I │\n",
       "│ H     ┆ 61.0  ┆ 58.0  ┆ not_E_I │\n",
       "│ D     ┆ 62.2  ┆ 55.0  ┆ not_E_I │\n",
       "└───────┴───────┴───────┴─────────┘"
      ]
     },
     "execution_count": 41,
     "metadata": {},
     "output_type": "execute_result"
    }
   ],
   "source": [
    "df = diamonds.select('color', 'depth', 'table')\n",
    "df.with_columns(\n",
    "  new = pl.col('color').map_elements(conv, return_dtype=pl.Utf8)\n",
    ")"
   ]
  },
  {
   "cell_type": "code",
   "execution_count": 42,
   "metadata": {},
   "outputs": [
    {
     "data": {
      "text/html": [
       "<div><style>\n",
       ".dataframe > thead > tr,\n",
       ".dataframe > tbody > tr {\n",
       "  text-align: right;\n",
       "  white-space: pre-wrap;\n",
       "}\n",
       "</style>\n",
       "<small>shape: (53_940, 3)</small><table border=\"1\" class=\"dataframe\"><thead><tr><th>x</th><th>y</th><th>z</th></tr><tr><td>f32</td><td>f32</td><td>f32</td></tr></thead><tbody><tr><td>395.0</td><td>398.0</td><td>243.0</td></tr><tr><td>389.0</td><td>384.0</td><td>231.0</td></tr><tr><td>405.0</td><td>407.0</td><td>231.0</td></tr><tr><td>420.0</td><td>423.0</td><td>263.0</td></tr><tr><td>434.0</td><td>435.0</td><td>275.0</td></tr><tr><td>&hellip;</td><td>&hellip;</td><td>&hellip;</td></tr><tr><td>575.0</td><td>576.0</td><td>350.0</td></tr><tr><td>569.0</td><td>575.0</td><td>361.0</td></tr><tr><td>566.0</td><td>568.0</td><td>356.0</td></tr><tr><td>615.0</td><td>612.0</td><td>374.0</td></tr><tr><td>583.0</td><td>587.0</td><td>364.0</td></tr></tbody></table></div>"
      ],
      "text/plain": [
       "shape: (53_940, 3)\n",
       "┌───────┬───────┬───────┐\n",
       "│ x     ┆ y     ┆ z     │\n",
       "│ ---   ┆ ---   ┆ ---   │\n",
       "│ f32   ┆ f32   ┆ f32   │\n",
       "╞═══════╪═══════╪═══════╡\n",
       "│ 395.0 ┆ 398.0 ┆ 243.0 │\n",
       "│ 389.0 ┆ 384.0 ┆ 231.0 │\n",
       "│ 405.0 ┆ 407.0 ┆ 231.0 │\n",
       "│ 420.0 ┆ 423.0 ┆ 263.0 │\n",
       "│ 434.0 ┆ 435.0 ┆ 275.0 │\n",
       "│ …     ┆ …     ┆ …     │\n",
       "│ 575.0 ┆ 576.0 ┆ 350.0 │\n",
       "│ 569.0 ┆ 575.0 ┆ 361.0 │\n",
       "│ 566.0 ┆ 568.0 ┆ 356.0 │\n",
       "│ 615.0 ┆ 612.0 ┆ 374.0 │\n",
       "│ 583.0 ┆ 587.0 ┆ 364.0 │\n",
       "└───────┴───────┴───────┘"
      ]
     },
     "execution_count": 42,
     "metadata": {},
     "output_type": "execute_result"
    }
   ],
   "source": [
    "df = diamonds.select('x', 'y', 'z')\n",
    "\n",
    "def f100(x):\n",
    "    return x*100\n",
    "\n",
    "df.select(pl.all().map_elements(f100, return_dtype=pl.Float32))"
   ]
  },
  {
   "cell_type": "markdown",
   "metadata": {},
   "source": [
    "## 欠損値\n",
    "\n"
   ]
  },
  {
   "cell_type": "code",
   "execution_count": 43,
   "metadata": {},
   "outputs": [
    {
     "data": {
      "text/html": [
       "<div><style>\n",
       ".dataframe > thead > tr,\n",
       ".dataframe > tbody > tr {\n",
       "  text-align: right;\n",
       "  white-space: pre-wrap;\n",
       "}\n",
       "</style>\n",
       "<small>shape: (2, 3)</small><table border=\"1\" class=\"dataframe\"><thead><tr><th>x</th><th>y</th><th>z</th></tr><tr><td>i64</td><td>i64</td><td>i64</td></tr></thead><tbody><tr><td>3</td><td>4</td><td>8</td></tr><tr><td>8</td><td>6</td><td>8</td></tr></tbody></table></div>"
      ],
      "text/plain": [
       "shape: (2, 3)\n",
       "┌─────┬─────┬─────┐\n",
       "│ x   ┆ y   ┆ z   │\n",
       "│ --- ┆ --- ┆ --- │\n",
       "│ i64 ┆ i64 ┆ i64 │\n",
       "╞═════╪═════╪═════╡\n",
       "│ 3   ┆ 4   ┆ 8   │\n",
       "│ 8   ┆ 6   ┆ 8   │\n",
       "└─────┴─────┴─────┘"
      ]
     },
     "execution_count": 43,
     "metadata": {},
     "output_type": "execute_result"
    }
   ],
   "source": [
    "df = pl.DataFrame(\n",
    "  {\n",
    "    'x':[1, 3, 2, 8, 10],\n",
    "    'y':[10, 4, None, 6, None],\n",
    "    'z':[None, 8, 7, 8, None]\n",
    "    }\n",
    ")\n",
    "\n",
    "df.drop_nulls()"
   ]
  },
  {
   "cell_type": "code",
   "execution_count": 44,
   "metadata": {},
   "outputs": [
    {
     "data": {
      "text/html": [
       "<div><style>\n",
       ".dataframe > thead > tr,\n",
       ".dataframe > tbody > tr {\n",
       "  text-align: right;\n",
       "  white-space: pre-wrap;\n",
       "}\n",
       "</style>\n",
       "<small>shape: (3, 3)</small><table border=\"1\" class=\"dataframe\"><thead><tr><th>x</th><th>y</th><th>z</th></tr><tr><td>i64</td><td>i64</td><td>i64</td></tr></thead><tbody><tr><td>1</td><td>10</td><td>null</td></tr><tr><td>3</td><td>4</td><td>8</td></tr><tr><td>8</td><td>6</td><td>8</td></tr></tbody></table></div>"
      ],
      "text/plain": [
       "shape: (3, 3)\n",
       "┌─────┬─────┬──────┐\n",
       "│ x   ┆ y   ┆ z    │\n",
       "│ --- ┆ --- ┆ ---  │\n",
       "│ i64 ┆ i64 ┆ i64  │\n",
       "╞═════╪═════╪══════╡\n",
       "│ 1   ┆ 10  ┆ null │\n",
       "│ 3   ┆ 4   ┆ 8    │\n",
       "│ 8   ┆ 6   ┆ 8    │\n",
       "└─────┴─────┴──────┘"
      ]
     },
     "execution_count": 44,
     "metadata": {},
     "output_type": "execute_result"
    }
   ],
   "source": [
    "df.drop_nulls('y')"
   ]
  },
  {
   "cell_type": "code",
   "execution_count": 45,
   "metadata": {},
   "outputs": [
    {
     "data": {
      "text/html": [
       "<div><style>\n",
       ".dataframe > thead > tr,\n",
       ".dataframe > tbody > tr {\n",
       "  text-align: right;\n",
       "  white-space: pre-wrap;\n",
       "}\n",
       "</style>\n",
       "<small>shape: (3, 3)</small><table border=\"1\" class=\"dataframe\"><thead><tr><th>x</th><th>y</th><th>z</th></tr><tr><td>i64</td><td>i64</td><td>i64</td></tr></thead><tbody><tr><td>1</td><td>10</td><td>null</td></tr><tr><td>3</td><td>4</td><td>8</td></tr><tr><td>8</td><td>6</td><td>8</td></tr></tbody></table></div>"
      ],
      "text/plain": [
       "shape: (3, 3)\n",
       "┌─────┬─────┬──────┐\n",
       "│ x   ┆ y   ┆ z    │\n",
       "│ --- ┆ --- ┆ ---  │\n",
       "│ i64 ┆ i64 ┆ i64  │\n",
       "╞═════╪═════╪══════╡\n",
       "│ 1   ┆ 10  ┆ null │\n",
       "│ 3   ┆ 4   ┆ 8    │\n",
       "│ 8   ┆ 6   ┆ 8    │\n",
       "└─────┴─────┴──────┘"
      ]
     },
     "execution_count": 45,
     "metadata": {},
     "output_type": "execute_result"
    }
   ],
   "source": [
    "df.filter(pl.col('y').is_null().not_())"
   ]
  },
  {
   "cell_type": "code",
   "execution_count": 46,
   "metadata": {},
   "outputs": [
    {
     "data": {
      "text/html": [
       "<div><style>\n",
       ".dataframe > thead > tr,\n",
       ".dataframe > tbody > tr {\n",
       "  text-align: right;\n",
       "  white-space: pre-wrap;\n",
       "}\n",
       "</style>\n",
       "<small>shape: (2, 3)</small><table border=\"1\" class=\"dataframe\"><thead><tr><th>x</th><th>y</th><th>z</th></tr><tr><td>i64</td><td>i64</td><td>i64</td></tr></thead><tbody><tr><td>2</td><td>null</td><td>7</td></tr><tr><td>10</td><td>null</td><td>null</td></tr></tbody></table></div>"
      ],
      "text/plain": [
       "shape: (2, 3)\n",
       "┌─────┬──────┬──────┐\n",
       "│ x   ┆ y    ┆ z    │\n",
       "│ --- ┆ ---  ┆ ---  │\n",
       "│ i64 ┆ i64  ┆ i64  │\n",
       "╞═════╪══════╪══════╡\n",
       "│ 2   ┆ null ┆ 7    │\n",
       "│ 10  ┆ null ┆ null │\n",
       "└─────┴──────┴──────┘"
      ]
     },
     "execution_count": 46,
     "metadata": {},
     "output_type": "execute_result"
    }
   ],
   "source": [
    "df.filter(pl.col('y').is_null())"
   ]
  },
  {
   "cell_type": "code",
   "execution_count": 47,
   "metadata": {},
   "outputs": [
    {
     "data": {
      "text/html": [
       "<div><style>\n",
       ".dataframe > thead > tr,\n",
       ".dataframe > tbody > tr {\n",
       "  text-align: right;\n",
       "  white-space: pre-wrap;\n",
       "}\n",
       "</style>\n",
       "<small>shape: (5, 3)</small><table border=\"1\" class=\"dataframe\"><thead><tr><th>x</th><th>y</th><th>z</th></tr><tr><td>i64</td><td>i64</td><td>i64</td></tr></thead><tbody><tr><td>1</td><td>10</td><td>100</td></tr><tr><td>3</td><td>4</td><td>8</td></tr><tr><td>2</td><td>100</td><td>7</td></tr><tr><td>8</td><td>6</td><td>8</td></tr><tr><td>10</td><td>100</td><td>100</td></tr></tbody></table></div>"
      ],
      "text/plain": [
       "shape: (5, 3)\n",
       "┌─────┬─────┬─────┐\n",
       "│ x   ┆ y   ┆ z   │\n",
       "│ --- ┆ --- ┆ --- │\n",
       "│ i64 ┆ i64 ┆ i64 │\n",
       "╞═════╪═════╪═════╡\n",
       "│ 1   ┆ 10  ┆ 100 │\n",
       "│ 3   ┆ 4   ┆ 8   │\n",
       "│ 2   ┆ 100 ┆ 7   │\n",
       "│ 8   ┆ 6   ┆ 8   │\n",
       "│ 10  ┆ 100 ┆ 100 │\n",
       "└─────┴─────┴─────┘"
      ]
     },
     "execution_count": 47,
     "metadata": {},
     "output_type": "execute_result"
    }
   ],
   "source": [
    "df.fill_null(100)"
   ]
  },
  {
   "cell_type": "code",
   "execution_count": 48,
   "metadata": {},
   "outputs": [
    {
     "data": {
      "text/html": [
       "<div><style>\n",
       ".dataframe > thead > tr,\n",
       ".dataframe > tbody > tr {\n",
       "  text-align: right;\n",
       "  white-space: pre-wrap;\n",
       "}\n",
       "</style>\n",
       "<small>shape: (5, 3)</small><table border=\"1\" class=\"dataframe\"><thead><tr><th>x</th><th>y</th><th>z</th></tr><tr><td>i64</td><td>i64</td><td>i64</td></tr></thead><tbody><tr><td>1</td><td>10</td><td>1</td></tr><tr><td>3</td><td>4</td><td>8</td></tr><tr><td>2</td><td>2</td><td>7</td></tr><tr><td>8</td><td>6</td><td>8</td></tr><tr><td>10</td><td>10</td><td>10</td></tr></tbody></table></div>"
      ],
      "text/plain": [
       "shape: (5, 3)\n",
       "┌─────┬─────┬─────┐\n",
       "│ x   ┆ y   ┆ z   │\n",
       "│ --- ┆ --- ┆ --- │\n",
       "│ i64 ┆ i64 ┆ i64 │\n",
       "╞═════╪═════╪═════╡\n",
       "│ 1   ┆ 10  ┆ 1   │\n",
       "│ 3   ┆ 4   ┆ 8   │\n",
       "│ 2   ┆ 2   ┆ 7   │\n",
       "│ 8   ┆ 6   ┆ 8   │\n",
       "│ 10  ┆ 10  ┆ 10  │\n",
       "└─────┴─────┴─────┘"
      ]
     },
     "execution_count": 48,
     "metadata": {},
     "output_type": "execute_result"
    }
   ],
   "source": [
    "df.fill_null(pl.col('x'))"
   ]
  },
  {
   "cell_type": "code",
   "execution_count": 49,
   "metadata": {},
   "outputs": [
    {
     "data": {
      "text/html": [
       "<div><style>\n",
       ".dataframe > thead > tr,\n",
       ".dataframe > tbody > tr {\n",
       "  text-align: right;\n",
       "  white-space: pre-wrap;\n",
       "}\n",
       "</style>\n",
       "<small>shape: (5, 3)</small><table border=\"1\" class=\"dataframe\"><thead><tr><th>x</th><th>y</th><th>z</th></tr><tr><td>i64</td><td>i64</td><td>i64</td></tr></thead><tbody><tr><td>1</td><td>10</td><td>-100</td></tr><tr><td>3</td><td>4</td><td>8</td></tr><tr><td>2</td><td>1000</td><td>7</td></tr><tr><td>8</td><td>6</td><td>8</td></tr><tr><td>10</td><td>1000</td><td>-100</td></tr></tbody></table></div>"
      ],
      "text/plain": [
       "shape: (5, 3)\n",
       "┌─────┬──────┬──────┐\n",
       "│ x   ┆ y    ┆ z    │\n",
       "│ --- ┆ ---  ┆ ---  │\n",
       "│ i64 ┆ i64  ┆ i64  │\n",
       "╞═════╪══════╪══════╡\n",
       "│ 1   ┆ 10   ┆ -100 │\n",
       "│ 3   ┆ 4    ┆ 8    │\n",
       "│ 2   ┆ 1000 ┆ 7    │\n",
       "│ 8   ┆ 6    ┆ 8    │\n",
       "│ 10  ┆ 1000 ┆ -100 │\n",
       "└─────┴──────┴──────┘"
      ]
     },
     "execution_count": 49,
     "metadata": {},
     "output_type": "execute_result"
    }
   ],
   "source": [
    "df.select(\n",
    "  pl.col('x'),\n",
    "  pl.col('y').fill_null(1000),\n",
    "  pl.col('z').fill_null(-100)\n",
    ")\n"
   ]
  },
  {
   "cell_type": "code",
   "execution_count": 50,
   "metadata": {},
   "outputs": [
    {
     "data": {
      "text/html": [
       "<div><style>\n",
       ".dataframe > thead > tr,\n",
       ".dataframe > tbody > tr {\n",
       "  text-align: right;\n",
       "  white-space: pre-wrap;\n",
       "}\n",
       "</style>\n",
       "<small>shape: (5, 3)</small><table border=\"1\" class=\"dataframe\"><thead><tr><th>x</th><th>y</th><th>z</th></tr><tr><td>i64</td><td>i64</td><td>i64</td></tr></thead><tbody><tr><td>1</td><td>10</td><td>7</td></tr><tr><td>3</td><td>4</td><td>8</td></tr><tr><td>2</td><td>6</td><td>7</td></tr><tr><td>8</td><td>6</td><td>8</td></tr><tr><td>10</td><td>6</td><td>7</td></tr></tbody></table></div>"
      ],
      "text/plain": [
       "shape: (5, 3)\n",
       "┌─────┬─────┬─────┐\n",
       "│ x   ┆ y   ┆ z   │\n",
       "│ --- ┆ --- ┆ --- │\n",
       "│ i64 ┆ i64 ┆ i64 │\n",
       "╞═════╪═════╪═════╡\n",
       "│ 1   ┆ 10  ┆ 7   │\n",
       "│ 3   ┆ 4   ┆ 8   │\n",
       "│ 2   ┆ 6   ┆ 7   │\n",
       "│ 8   ┆ 6   ┆ 8   │\n",
       "│ 10  ┆ 6   ┆ 7   │\n",
       "└─────┴─────┴─────┘"
      ]
     },
     "execution_count": 50,
     "metadata": {},
     "output_type": "execute_result"
    }
   ],
   "source": [
    "df.fill_null(strategy='mean')"
   ]
  },
  {
   "cell_type": "code",
   "execution_count": 51,
   "metadata": {},
   "outputs": [
    {
     "data": {
      "text/html": [
       "<div><style>\n",
       ".dataframe > thead > tr,\n",
       ".dataframe > tbody > tr {\n",
       "  text-align: right;\n",
       "  white-space: pre-wrap;\n",
       "}\n",
       "</style>\n",
       "<small>shape: (5, 3)</small><table border=\"1\" class=\"dataframe\"><thead><tr><th>x</th><th>y</th><th>z</th></tr><tr><td>i64</td><td>i64</td><td>i64</td></tr></thead><tbody><tr><td>1</td><td>10</td><td>8</td></tr><tr><td>3</td><td>4</td><td>8</td></tr><tr><td>2</td><td>6</td><td>7</td></tr><tr><td>8</td><td>6</td><td>8</td></tr><tr><td>10</td><td>null</td><td>null</td></tr></tbody></table></div>"
      ],
      "text/plain": [
       "shape: (5, 3)\n",
       "┌─────┬──────┬──────┐\n",
       "│ x   ┆ y    ┆ z    │\n",
       "│ --- ┆ ---  ┆ ---  │\n",
       "│ i64 ┆ i64  ┆ i64  │\n",
       "╞═════╪══════╪══════╡\n",
       "│ 1   ┆ 10   ┆ 8    │\n",
       "│ 3   ┆ 4    ┆ 8    │\n",
       "│ 2   ┆ 6    ┆ 7    │\n",
       "│ 8   ┆ 6    ┆ 8    │\n",
       "│ 10  ┆ null ┆ null │\n",
       "└─────┴──────┴──────┘"
      ]
     },
     "execution_count": 51,
     "metadata": {},
     "output_type": "execute_result"
    }
   ],
   "source": [
    "df.fill_null(strategy='backward')"
   ]
  },
  {
   "cell_type": "code",
   "execution_count": 52,
   "metadata": {},
   "outputs": [
    {
     "data": {
      "text/html": [
       "<div><style>\n",
       ".dataframe > thead > tr,\n",
       ".dataframe > tbody > tr {\n",
       "  text-align: right;\n",
       "  white-space: pre-wrap;\n",
       "}\n",
       "</style>\n",
       "<small>shape: (5, 3)</small><table border=\"1\" class=\"dataframe\"><thead><tr><th>x</th><th>y</th><th>z</th></tr><tr><td>i64</td><td>i64</td><td>i64</td></tr></thead><tbody><tr><td>1</td><td>10</td><td>null</td></tr><tr><td>3</td><td>4</td><td>8</td></tr><tr><td>2</td><td>4</td><td>7</td></tr><tr><td>8</td><td>6</td><td>8</td></tr><tr><td>10</td><td>6</td><td>8</td></tr></tbody></table></div>"
      ],
      "text/plain": [
       "shape: (5, 3)\n",
       "┌─────┬─────┬──────┐\n",
       "│ x   ┆ y   ┆ z    │\n",
       "│ --- ┆ --- ┆ ---  │\n",
       "│ i64 ┆ i64 ┆ i64  │\n",
       "╞═════╪═════╪══════╡\n",
       "│ 1   ┆ 10  ┆ null │\n",
       "│ 3   ┆ 4   ┆ 8    │\n",
       "│ 2   ┆ 4   ┆ 7    │\n",
       "│ 8   ┆ 6   ┆ 8    │\n",
       "│ 10  ┆ 6   ┆ 8    │\n",
       "└─────┴─────┴──────┘"
      ]
     },
     "execution_count": 52,
     "metadata": {},
     "output_type": "execute_result"
    }
   ],
   "source": [
    "df.fill_null(strategy='forward')"
   ]
  },
  {
   "cell_type": "markdown",
   "metadata": {},
   "source": [
    "## マージ"
   ]
  },
  {
   "cell_type": "code",
   "execution_count": 53,
   "metadata": {},
   "outputs": [
    {
     "data": {
      "text/plain": [
       "[PosixPath('data/iris/iris_virginica.csv'),\n",
       " PosixPath('data/iris/iris_setosa.csv'),\n",
       " PosixPath('data/iris/iris_versicolor.csv')]"
      ]
     },
     "execution_count": 53,
     "metadata": {},
     "output_type": "execute_result"
    }
   ],
   "source": [
    "from pathlib import Path\n",
    "p = Path('./data/iris')\n",
    "list(p.glob(\"*.csv\"))"
   ]
  },
  {
   "cell_type": "code",
   "execution_count": 54,
   "metadata": {},
   "outputs": [
    {
     "data": {
      "text/html": [
       "<div><style>\n",
       ".dataframe > thead > tr,\n",
       ".dataframe > tbody > tr {\n",
       "  text-align: right;\n",
       "  white-space: pre-wrap;\n",
       "}\n",
       "</style>\n",
       "<small>shape: (150, 5)</small><table border=\"1\" class=\"dataframe\"><thead><tr><th>sepal_length</th><th>sepal_width</th><th>petal_length</th><th>petal_width</th><th>species</th></tr><tr><td>f64</td><td>f64</td><td>f64</td><td>f64</td><td>str</td></tr></thead><tbody><tr><td>6.3</td><td>3.3</td><td>6.0</td><td>2.5</td><td>&quot;virginica&quot;</td></tr><tr><td>5.8</td><td>2.7</td><td>5.1</td><td>1.9</td><td>&quot;virginica&quot;</td></tr><tr><td>7.1</td><td>3.0</td><td>5.9</td><td>2.1</td><td>&quot;virginica&quot;</td></tr><tr><td>6.3</td><td>2.9</td><td>5.6</td><td>1.8</td><td>&quot;virginica&quot;</td></tr><tr><td>6.5</td><td>3.0</td><td>5.8</td><td>2.2</td><td>&quot;virginica&quot;</td></tr><tr><td>&hellip;</td><td>&hellip;</td><td>&hellip;</td><td>&hellip;</td><td>&hellip;</td></tr><tr><td>5.7</td><td>3.0</td><td>4.2</td><td>1.2</td><td>&quot;versicolor&quot;</td></tr><tr><td>5.7</td><td>2.9</td><td>4.2</td><td>1.3</td><td>&quot;versicolor&quot;</td></tr><tr><td>6.2</td><td>2.9</td><td>4.3</td><td>1.3</td><td>&quot;versicolor&quot;</td></tr><tr><td>5.1</td><td>2.5</td><td>3.0</td><td>1.1</td><td>&quot;versicolor&quot;</td></tr><tr><td>5.7</td><td>2.8</td><td>4.1</td><td>1.3</td><td>&quot;versicolor&quot;</td></tr></tbody></table></div>"
      ],
      "text/plain": [
       "shape: (150, 5)\n",
       "┌──────────────┬─────────────┬──────────────┬─────────────┬────────────┐\n",
       "│ sepal_length ┆ sepal_width ┆ petal_length ┆ petal_width ┆ species    │\n",
       "│ ---          ┆ ---         ┆ ---          ┆ ---         ┆ ---        │\n",
       "│ f64          ┆ f64         ┆ f64          ┆ f64         ┆ str        │\n",
       "╞══════════════╪═════════════╪══════════════╪═════════════╪════════════╡\n",
       "│ 6.3          ┆ 3.3         ┆ 6.0          ┆ 2.5         ┆ virginica  │\n",
       "│ 5.8          ┆ 2.7         ┆ 5.1          ┆ 1.9         ┆ virginica  │\n",
       "│ 7.1          ┆ 3.0         ┆ 5.9          ┆ 2.1         ┆ virginica  │\n",
       "│ 6.3          ┆ 2.9         ┆ 5.6          ┆ 1.8         ┆ virginica  │\n",
       "│ 6.5          ┆ 3.0         ┆ 5.8          ┆ 2.2         ┆ virginica  │\n",
       "│ …            ┆ …           ┆ …            ┆ …           ┆ …          │\n",
       "│ 5.7          ┆ 3.0         ┆ 4.2          ┆ 1.2         ┆ versicolor │\n",
       "│ 5.7          ┆ 2.9         ┆ 4.2          ┆ 1.3         ┆ versicolor │\n",
       "│ 6.2          ┆ 2.9         ┆ 4.3          ┆ 1.3         ┆ versicolor │\n",
       "│ 5.1          ┆ 2.5         ┆ 3.0          ┆ 1.1         ┆ versicolor │\n",
       "│ 5.7          ┆ 2.8         ┆ 4.1          ┆ 1.3         ┆ versicolor │\n",
       "└──────────────┴─────────────┴──────────────┴─────────────┴────────────┘"
      ]
     },
     "execution_count": 54,
     "metadata": {},
     "output_type": "execute_result"
    }
   ],
   "source": [
    "df_iris = [pl.read_csv(i) for i in list(p.glob('*.csv'))]\n",
    "df_i = pl.concat(df_iris)\n",
    "df_i"
   ]
  },
  {
   "cell_type": "code",
   "execution_count": 55,
   "metadata": {},
   "outputs": [
    {
     "data": {
      "text/html": [
       "<div><style>\n",
       ".dataframe > thead > tr,\n",
       ".dataframe > tbody > tr {\n",
       "  text-align: right;\n",
       "  white-space: pre-wrap;\n",
       "}\n",
       "</style>\n",
       "<small>shape: (150, 5)</small><table border=\"1\" class=\"dataframe\"><thead><tr><th>sepal_length</th><th>sepal_width</th><th>petal_length</th><th>petal_width</th><th>species</th></tr><tr><td>f64</td><td>f64</td><td>f64</td><td>f64</td><td>str</td></tr></thead><tbody><tr><td>6.3</td><td>3.3</td><td>6.0</td><td>2.5</td><td>&quot;virginica&quot;</td></tr><tr><td>5.8</td><td>2.7</td><td>5.1</td><td>1.9</td><td>&quot;virginica&quot;</td></tr><tr><td>7.1</td><td>3.0</td><td>5.9</td><td>2.1</td><td>&quot;virginica&quot;</td></tr><tr><td>6.3</td><td>2.9</td><td>5.6</td><td>1.8</td><td>&quot;virginica&quot;</td></tr><tr><td>6.5</td><td>3.0</td><td>5.8</td><td>2.2</td><td>&quot;virginica&quot;</td></tr><tr><td>&hellip;</td><td>&hellip;</td><td>&hellip;</td><td>&hellip;</td><td>&hellip;</td></tr><tr><td>5.7</td><td>3.0</td><td>4.2</td><td>1.2</td><td>&quot;versicolor&quot;</td></tr><tr><td>5.7</td><td>2.9</td><td>4.2</td><td>1.3</td><td>&quot;versicolor&quot;</td></tr><tr><td>6.2</td><td>2.9</td><td>4.3</td><td>1.3</td><td>&quot;versicolor&quot;</td></tr><tr><td>5.1</td><td>2.5</td><td>3.0</td><td>1.1</td><td>&quot;versicolor&quot;</td></tr><tr><td>5.7</td><td>2.8</td><td>4.1</td><td>1.3</td><td>&quot;versicolor&quot;</td></tr></tbody></table></div>"
      ],
      "text/plain": [
       "shape: (150, 5)\n",
       "┌──────────────┬─────────────┬──────────────┬─────────────┬────────────┐\n",
       "│ sepal_length ┆ sepal_width ┆ petal_length ┆ petal_width ┆ species    │\n",
       "│ ---          ┆ ---         ┆ ---          ┆ ---         ┆ ---        │\n",
       "│ f64          ┆ f64         ┆ f64          ┆ f64         ┆ str        │\n",
       "╞══════════════╪═════════════╪══════════════╪═════════════╪════════════╡\n",
       "│ 6.3          ┆ 3.3         ┆ 6.0          ┆ 2.5         ┆ virginica  │\n",
       "│ 5.8          ┆ 2.7         ┆ 5.1          ┆ 1.9         ┆ virginica  │\n",
       "│ 7.1          ┆ 3.0         ┆ 5.9          ┆ 2.1         ┆ virginica  │\n",
       "│ 6.3          ┆ 2.9         ┆ 5.6          ┆ 1.8         ┆ virginica  │\n",
       "│ 6.5          ┆ 3.0         ┆ 5.8          ┆ 2.2         ┆ virginica  │\n",
       "│ …            ┆ …           ┆ …            ┆ …           ┆ …          │\n",
       "│ 5.7          ┆ 3.0         ┆ 4.2          ┆ 1.2         ┆ versicolor │\n",
       "│ 5.7          ┆ 2.9         ┆ 4.2          ┆ 1.3         ┆ versicolor │\n",
       "│ 6.2          ┆ 2.9         ┆ 4.3          ┆ 1.3         ┆ versicolor │\n",
       "│ 5.1          ┆ 2.5         ┆ 3.0          ┆ 1.1         ┆ versicolor │\n",
       "│ 5.7          ┆ 2.8         ┆ 4.1          ┆ 1.3         ┆ versicolor │\n",
       "└──────────────┴─────────────┴──────────────┴─────────────┴────────────┘"
      ]
     },
     "execution_count": 55,
     "metadata": {},
     "output_type": "execute_result"
    }
   ],
   "source": [
    "pl.concat(\n",
    "  [pl.read_csv(i) for i in list(p.glob('*.csv'))]\n",
    ")"
   ]
  },
  {
   "cell_type": "markdown",
   "metadata": {},
   "source": [
    "## 練習"
   ]
  },
  {
   "cell_type": "code",
   "execution_count": 72,
   "metadata": {},
   "outputs": [],
   "source": [
    "path_movies = Path('./data/info_movies')\n",
    "path_platforms = Path('./data/info_platforms')\n",
    "\n",
    "df_movies = pl.concat([pl.read_csv(i) for i in list(path_movies.glob('*.csv'))])\n",
    "df_platforms = pl.concat([pl.read_csv(i) for i in list(path_platforms.glob('*.csv'))])\n",
    "\n",
    "df_merge = df_movies.join(df_platforms, on = ['ID', 'Age'])"
   ]
  },
  {
   "cell_type": "code",
   "execution_count": 71,
   "metadata": {},
   "outputs": [
    {
     "data": {
      "text/html": [
       "<div><style>\n",
       ".dataframe > thead > tr,\n",
       ".dataframe > tbody > tr {\n",
       "  text-align: right;\n",
       "  white-space: pre-wrap;\n",
       "}\n",
       "</style>\n",
       "<small>shape: (5_000, 15)</small><table border=\"1\" class=\"dataframe\"><thead><tr><th>ID</th><th>Title</th><th>Year</th><th>Age</th><th>IMDb</th><th>Rotten_Tomatoes</th><th>Directors</th><th>Genres</th><th>Country</th><th>Language</th><th>Runtime</th><th>Netflix</th><th>Hulu</th><th>Prime_Video</th><th>Disney</th></tr><tr><td>i64</td><td>str</td><td>i64</td><td>str</td><td>f64</td><td>f64</td><td>str</td><td>str</td><td>str</td><td>str</td><td>i64</td><td>i64</td><td>i64</td><td>i64</td><td>i64</td></tr></thead><tbody><tr><td>4</td><td>&quot;Back to the Future&quot;</td><td>1985</td><td>&quot;7+&quot;</td><td>85.0</td><td>96.0</td><td>&quot;Robert Zemeckis&quot;</td><td>&quot;Adventure,Comedy,Sci-Fi&quot;</td><td>&quot;United States&quot;</td><td>&quot;English&quot;</td><td>116</td><td>1</td><td>0</td><td>0</td><td>0</td></tr><tr><td>6</td><td>&quot;Spider-Man: Into the Spider-Ve…</td><td>2018</td><td>&quot;7+&quot;</td><td>84.0</td><td>97.0</td><td>&quot;Bob Persichetti,Peter Ramsey,R…</td><td>&quot;Animation,Action,Adventure,Fam…</td><td>&quot;United States&quot;</td><td>&quot;English,Spanish&quot;</td><td>117</td><td>1</td><td>0</td><td>0</td><td>0</td></tr><tr><td>9</td><td>&quot;Raiders of the Lost Ark&quot;</td><td>1981</td><td>&quot;7+&quot;</td><td>84.0</td><td>95.0</td><td>&quot;Steven Spielberg&quot;</td><td>&quot;Action,Adventure&quot;</td><td>&quot;United States&quot;</td><td>&quot;English,German,Hebrew,Spanish,…</td><td>115</td><td>1</td><td>0</td><td>0</td><td>0</td></tr><tr><td>15</td><td>&quot;Monty Python and the Holy Grai…</td><td>1975</td><td>&quot;7+&quot;</td><td>82.0</td><td>97.0</td><td>&quot;Terry Gilliam,Terry Jones&quot;</td><td>&quot;Adventure,Comedy,Fantasy&quot;</td><td>&quot;United Kingdom&quot;</td><td>&quot;English,French,Latin&quot;</td><td>91</td><td>1</td><td>0</td><td>0</td><td>0</td></tr><tr><td>18</td><td>&quot;Groundhog Day&quot;</td><td>1993</td><td>&quot;7+&quot;</td><td>80.0</td><td>96.0</td><td>&quot;Harold Ramis&quot;</td><td>&quot;Comedy,Fantasy,Romance&quot;</td><td>&quot;United States&quot;</td><td>&quot;English,French,Italian&quot;</td><td>101</td><td>1</td><td>0</td><td>0</td><td>0</td></tr><tr><td>&hellip;</td><td>&hellip;</td><td>&hellip;</td><td>&hellip;</td><td>&hellip;</td><td>&hellip;</td><td>&hellip;</td><td>&hellip;</td><td>&hellip;</td><td>&hellip;</td><td>&hellip;</td><td>&hellip;</td><td>&hellip;</td><td>&hellip;</td><td>&hellip;</td></tr><tr><td>16632</td><td>&quot;Jos Brothers: The Concert Expe…</td><td>2009</td><td>&quot;all&quot;</td><td>16.0</td><td>24.0</td><td>&quot;Bruce Hendricks&quot;</td><td>&quot;Documentary,Music&quot;</td><td>&quot;United States&quot;</td><td>&quot;English&quot;</td><td>76</td><td>0</td><td>0</td><td>0</td><td>1</td></tr><tr><td>16634</td><td>&quot;The Country Bears&quot;</td><td>2002</td><td>&quot;all&quot;</td><td>41.0</td><td>29.0</td><td>&quot;Peter Hastings&quot;</td><td>&quot;Comedy,Family,Music,Musical&quot;</td><td>&quot;United States&quot;</td><td>&quot;English&quot;</td><td>88</td><td>0</td><td>0</td><td>0</td><td>1</td></tr><tr><td>16638</td><td>&quot;Inspector Gadget 2&quot;</td><td>2003</td><td>&quot;all&quot;</td><td>34.0</td><td>40.0</td><td>&quot;Alex Zamm&quot;</td><td>&quot;Action,Comedy,Crime,Family,Sci…</td><td>&quot;United States&quot;</td><td>&quot;English&quot;</td><td>89</td><td>0</td><td>0</td><td>0</td><td>1</td></tr><tr><td>16644</td><td>&quot;Doug&#x27;s 1st Movie&quot;</td><td>1999</td><td>&quot;all&quot;</td><td>50.0</td><td>26.0</td><td>&quot;Maurice Joyce&quot;</td><td>&quot;Animation,Adventure,Comedy,Dra…</td><td>&quot;United States&quot;</td><td>&quot;English&quot;</td><td>77</td><td>0</td><td>0</td><td>0</td><td>1</td></tr><tr><td>16720</td><td>&quot;Pocahontas&quot;</td><td>1995</td><td>&quot;all&quot;</td><td>53.0</td><td>55.0</td><td>&quot;Mike Gabriel,Eric Goldberg&quot;</td><td>&quot;Animation,Adventure,Drama,Fami…</td><td>&quot;United States&quot;</td><td>&quot;English,Algonquin&quot;</td><td>81</td><td>0</td><td>0</td><td>0</td><td>1</td></tr></tbody></table></div>"
      ],
      "text/plain": [
       "shape: (5_000, 15)\n",
       "┌───────┬─────────────────────────────────┬──────┬─────┬───┬─────────┬──────┬─────────────┬────────┐\n",
       "│ ID    ┆ Title                           ┆ Year ┆ Age ┆ … ┆ Netflix ┆ Hulu ┆ Prime_Video ┆ Disney │\n",
       "│ ---   ┆ ---                             ┆ ---  ┆ --- ┆   ┆ ---     ┆ ---  ┆ ---         ┆ ---    │\n",
       "│ i64   ┆ str                             ┆ i64  ┆ str ┆   ┆ i64     ┆ i64  ┆ i64         ┆ i64    │\n",
       "╞═══════╪═════════════════════════════════╪══════╪═════╪═══╪═════════╪══════╪═════════════╪════════╡\n",
       "│ 4     ┆ Back to the Future              ┆ 1985 ┆ 7+  ┆ … ┆ 1       ┆ 0    ┆ 0           ┆ 0      │\n",
       "│ 6     ┆ Spider-Man: Into the Spider-Ve… ┆ 2018 ┆ 7+  ┆ … ┆ 1       ┆ 0    ┆ 0           ┆ 0      │\n",
       "│ 9     ┆ Raiders of the Lost Ark         ┆ 1981 ┆ 7+  ┆ … ┆ 1       ┆ 0    ┆ 0           ┆ 0      │\n",
       "│ 15    ┆ Monty Python and the Holy Grai… ┆ 1975 ┆ 7+  ┆ … ┆ 1       ┆ 0    ┆ 0           ┆ 0      │\n",
       "│ 18    ┆ Groundhog Day                   ┆ 1993 ┆ 7+  ┆ … ┆ 1       ┆ 0    ┆ 0           ┆ 0      │\n",
       "│ …     ┆ …                               ┆ …    ┆ …   ┆ … ┆ …       ┆ …    ┆ …           ┆ …      │\n",
       "│ 16632 ┆ Jos Brothers: The Concert Expe… ┆ 2009 ┆ all ┆ … ┆ 0       ┆ 0    ┆ 0           ┆ 1      │\n",
       "│ 16634 ┆ The Country Bears               ┆ 2002 ┆ all ┆ … ┆ 0       ┆ 0    ┆ 0           ┆ 1      │\n",
       "│ 16638 ┆ Inspector Gadget 2              ┆ 2003 ┆ all ┆ … ┆ 0       ┆ 0    ┆ 0           ┆ 1      │\n",
       "│ 16644 ┆ Doug's 1st Movie                ┆ 1999 ┆ all ┆ … ┆ 0       ┆ 0    ┆ 0           ┆ 1      │\n",
       "│ 16720 ┆ Pocahontas                      ┆ 1995 ┆ all ┆ … ┆ 0       ┆ 0    ┆ 0           ┆ 1      │\n",
       "└───────┴─────────────────────────────────┴──────┴─────┴───┴─────────┴──────┴─────────────┴────────┘"
      ]
     },
     "execution_count": 71,
     "metadata": {},
     "output_type": "execute_result"
    }
   ],
   "source": [
    "df_clean = \\\n",
    "df_merge\\\n",
    "  .drop_nulls()\\\n",
    "  .filter(\n",
    "    pl.col('Netflix').is_in([0,1])\n",
    "    & pl.col('Hulu').is_in([0,1])\n",
    "    & pl.col('Prime_Video').is_in([0,1])\n",
    "    & pl.col('Disney').is_in([0,1])\n",
    "    )\\\n",
    "  .with_columns(\n",
    "    IMDb = pl.col('IMDb')*10,\n",
    "    Rotten_Tomatoes = pl.col('Rotten_Tomatoes').str.replace('%', '').cast(pl.Float64)\n",
    "    )\n",
    "\n",
    "# df_clean.write_csv('./data/df_clean.csv')\n",
    "df_clean"
   ]
  },
  {
   "cell_type": "code",
   "execution_count": 83,
   "metadata": {},
   "outputs": [
    {
     "data": {
      "text/html": [
       "<div><style>\n",
       ".dataframe > thead > tr,\n",
       ".dataframe > tbody > tr {\n",
       "  text-align: right;\n",
       "  white-space: pre-wrap;\n",
       "}\n",
       "</style>\n",
       "<small>shape: (3_870, 2)</small><table border=\"1\" class=\"dataframe\"><thead><tr><th>Directors</th><th>n</th></tr><tr><td>str</td><td>u32</td></tr></thead><tbody><tr><td>&quot;Robert Stevenson&quot;</td><td>10</td></tr><tr><td>&quot;Kenny Ortega&quot;</td><td>9</td></tr><tr><td>&quot;Steven Spielberg&quot;</td><td>9</td></tr><tr><td>&quot;Jay Roach&quot;</td><td>8</td></tr><tr><td>&quot;Ron Howard&quot;</td><td>7</td></tr><tr><td>&hellip;</td><td>&hellip;</td></tr><tr><td>&quot;Kurt Kuenne&quot;</td><td>1</td></tr><tr><td>&quot;Jesper Ganslandt&quot;</td><td>1</td></tr><tr><td>&quot;Suresh Triveni&quot;</td><td>1</td></tr><tr><td>&quot;Chris Wedge,Carlos Saldanha&quot;</td><td>1</td></tr><tr><td>&quot;Oliver Schmitz&quot;</td><td>1</td></tr></tbody></table></div>"
      ],
      "text/plain": [
       "shape: (3_870, 2)\n",
       "┌─────────────────────────────┬─────┐\n",
       "│ Directors                   ┆ n   │\n",
       "│ ---                         ┆ --- │\n",
       "│ str                         ┆ u32 │\n",
       "╞═════════════════════════════╪═════╡\n",
       "│ Robert Stevenson            ┆ 10  │\n",
       "│ Kenny Ortega                ┆ 9   │\n",
       "│ Steven Spielberg            ┆ 9   │\n",
       "│ Jay Roach                   ┆ 8   │\n",
       "│ Ron Howard                  ┆ 7   │\n",
       "│ …                           ┆ …   │\n",
       "│ Kurt Kuenne                 ┆ 1   │\n",
       "│ Jesper Ganslandt            ┆ 1   │\n",
       "│ Suresh Triveni              ┆ 1   │\n",
       "│ Chris Wedge,Carlos Saldanha ┆ 1   │\n",
       "│ Oliver Schmitz              ┆ 1   │\n",
       "└─────────────────────────────┴─────┘"
      ]
     },
     "execution_count": 83,
     "metadata": {},
     "output_type": "execute_result"
    }
   ],
   "source": [
    "df_result=\\\n",
    "df_clean\\\n",
    "  .group_by('Directors')\\\n",
    "  .len()\\\n",
    "  .sort('len', descending=True)\\\n",
    "  .rename({'len':'n'})\n",
    "\n",
    "df_result"
   ]
  },
  {
   "cell_type": "code",
   "execution_count": 88,
   "metadata": {},
   "outputs": [
    {
     "data": {
      "text/html": [
       "<div><style>\n",
       ".dataframe > thead > tr,\n",
       ".dataframe > tbody > tr {\n",
       "  text-align: right;\n",
       "  white-space: pre-wrap;\n",
       "}\n",
       "</style>\n",
       "<small>shape: (12, 6)</small><table border=\"1\" class=\"dataframe\"><thead><tr><th>Netflix</th><th>Hulu</th><th>Prime_Video</th><th>Disney</th><th>IMDb</th><th>Rotten_Tomatoes</th></tr><tr><td>i64</td><td>i64</td><td>i64</td><td>i64</td><td>f64</td><td>f64</td></tr></thead><tbody><tr><td>0</td><td>1</td><td>0</td><td>1</td><td>73.5</td><td>89.25</td></tr><tr><td>0</td><td>1</td><td>0</td><td>0</td><td>64.111369</td><td>70.067285</td></tr><tr><td>0</td><td>0</td><td>1</td><td>0</td><td>63.221477</td><td>64.722222</td></tr><tr><td>1</td><td>0</td><td>1</td><td>0</td><td>62.825688</td><td>58.431193</td></tr><tr><td>1</td><td>0</td><td>0</td><td>0</td><td>64.61465</td><td>66.479299</td></tr><tr><td>&hellip;</td><td>&hellip;</td><td>&hellip;</td><td>&hellip;</td><td>&hellip;</td><td>&hellip;</td></tr><tr><td>0</td><td>0</td><td>0</td><td>1</td><td>64.838509</td><td>63.462733</td></tr><tr><td>0</td><td>0</td><td>1</td><td>1</td><td>70.0</td><td>82.714286</td></tr><tr><td>1</td><td>1</td><td>0</td><td>0</td><td>64.6</td><td>63.6</td></tr><tr><td>1</td><td>1</td><td>1</td><td>0</td><td>68.5</td><td>69.25</td></tr><tr><td>0</td><td>1</td><td>1</td><td>0</td><td>62.716867</td><td>58.596386</td></tr></tbody></table></div>"
      ],
      "text/plain": [
       "shape: (12, 6)\n",
       "┌─────────┬──────┬─────────────┬────────┬───────────┬─────────────────┐\n",
       "│ Netflix ┆ Hulu ┆ Prime_Video ┆ Disney ┆ IMDb      ┆ Rotten_Tomatoes │\n",
       "│ ---     ┆ ---  ┆ ---         ┆ ---    ┆ ---       ┆ ---             │\n",
       "│ i64     ┆ i64  ┆ i64         ┆ i64    ┆ f64       ┆ f64             │\n",
       "╞═════════╪══════╪═════════════╪════════╪═══════════╪═════════════════╡\n",
       "│ 0       ┆ 1    ┆ 0           ┆ 1      ┆ 73.5      ┆ 89.25           │\n",
       "│ 0       ┆ 1    ┆ 0           ┆ 0      ┆ 64.111369 ┆ 70.067285       │\n",
       "│ 0       ┆ 0    ┆ 1           ┆ 0      ┆ 63.221477 ┆ 64.722222       │\n",
       "│ 1       ┆ 0    ┆ 1           ┆ 0      ┆ 62.825688 ┆ 58.431193       │\n",
       "│ 1       ┆ 0    ┆ 0           ┆ 0      ┆ 64.61465  ┆ 66.479299       │\n",
       "│ …       ┆ …    ┆ …           ┆ …      ┆ …         ┆ …               │\n",
       "│ 0       ┆ 0    ┆ 0           ┆ 1      ┆ 64.838509 ┆ 63.462733       │\n",
       "│ 0       ┆ 0    ┆ 1           ┆ 1      ┆ 70.0      ┆ 82.714286       │\n",
       "│ 1       ┆ 1    ┆ 0           ┆ 0      ┆ 64.6      ┆ 63.6            │\n",
       "│ 1       ┆ 1    ┆ 1           ┆ 0      ┆ 68.5      ┆ 69.25           │\n",
       "│ 0       ┆ 1    ┆ 1           ┆ 0      ┆ 62.716867 ┆ 58.596386       │\n",
       "└─────────┴──────┴─────────────┴────────┴───────────┴─────────────────┘"
      ]
     },
     "execution_count": 88,
     "metadata": {},
     "output_type": "execute_result"
    }
   ],
   "source": [
    "df_clean\\\n",
    "  .select('Netflix', 'Hulu', 'Prime_Video', 'Disney', 'IMDb', 'Rotten_Tomatoes')\\\n",
    "  .group_by('Netflix', 'Hulu', 'Prime_Video', 'Disney')\\\n",
    "  .mean()"
   ]
  },
  {
   "cell_type": "code",
   "execution_count": 97,
   "metadata": {},
   "outputs": [
    {
     "name": "stderr",
     "output_type": "stream",
     "text": [
      "/var/folders/s7/r__8fgpd56l0s3kgg97276280000gn/T/ipykernel_19380/135766426.py:4: DeprecationWarning: `apply` is deprecated. It has been renamed to `map_elements`.\n",
      "  list_split = pl.col('Country').str.split(',').apply(len, return_dtype=pl.Int64).sort(descending = True)\n"
     ]
    },
    {
     "data": {
      "text/html": [
       "<div><style>\n",
       ".dataframe > thead > tr,\n",
       ".dataframe > tbody > tr {\n",
       "  text-align: right;\n",
       "  white-space: pre-wrap;\n",
       "}\n",
       "</style>\n",
       "<small>shape: (5_000, 3)</small><table border=\"1\" class=\"dataframe\"><thead><tr><th>Title</th><th>Country</th><th>list_split</th></tr><tr><td>str</td><td>str</td><td>i64</td></tr></thead><tbody><tr><td>&quot;Back to the Future&quot;</td><td>&quot;United States&quot;</td><td>19</td></tr><tr><td>&quot;Spider-Man: Into the Spider-Ve…</td><td>&quot;United States&quot;</td><td>11</td></tr><tr><td>&quot;Raiders of the Lost Ark&quot;</td><td>&quot;United States&quot;</td><td>11</td></tr><tr><td>&quot;Monty Python and the Holy Grai…</td><td>&quot;United Kingdom&quot;</td><td>10</td></tr><tr><td>&quot;Groundhog Day&quot;</td><td>&quot;United States&quot;</td><td>10</td></tr><tr><td>&hellip;</td><td>&hellip;</td><td>&hellip;</td></tr><tr><td>&quot;Jos Brothers: The Concert Expe…</td><td>&quot;United States&quot;</td><td>1</td></tr><tr><td>&quot;The Country Bears&quot;</td><td>&quot;United States&quot;</td><td>1</td></tr><tr><td>&quot;Inspector Gadget 2&quot;</td><td>&quot;United States&quot;</td><td>1</td></tr><tr><td>&quot;Doug&#x27;s 1st Movie&quot;</td><td>&quot;United States&quot;</td><td>1</td></tr><tr><td>&quot;Pocahontas&quot;</td><td>&quot;United States&quot;</td><td>1</td></tr></tbody></table></div>"
      ],
      "text/plain": [
       "shape: (5_000, 3)\n",
       "┌─────────────────────────────────┬────────────────┬────────────┐\n",
       "│ Title                           ┆ Country        ┆ list_split │\n",
       "│ ---                             ┆ ---            ┆ ---        │\n",
       "│ str                             ┆ str            ┆ i64        │\n",
       "╞═════════════════════════════════╪════════════════╪════════════╡\n",
       "│ Back to the Future              ┆ United States  ┆ 19         │\n",
       "│ Spider-Man: Into the Spider-Ve… ┆ United States  ┆ 11         │\n",
       "│ Raiders of the Lost Ark         ┆ United States  ┆ 11         │\n",
       "│ Monty Python and the Holy Grai… ┆ United Kingdom ┆ 10         │\n",
       "│ Groundhog Day                   ┆ United States  ┆ 10         │\n",
       "│ …                               ┆ …              ┆ …          │\n",
       "│ Jos Brothers: The Concert Expe… ┆ United States  ┆ 1          │\n",
       "│ The Country Bears               ┆ United States  ┆ 1          │\n",
       "│ Inspector Gadget 2              ┆ United States  ┆ 1          │\n",
       "│ Doug's 1st Movie                ┆ United States  ┆ 1          │\n",
       "│ Pocahontas                      ┆ United States  ┆ 1          │\n",
       "└─────────────────────────────────┴────────────────┴────────────┘"
      ]
     },
     "execution_count": 97,
     "metadata": {},
     "output_type": "execute_result"
    }
   ],
   "source": [
    "df_clean\\\n",
    "  .select('Title', 'Country')\\\n",
    "  .with_columns(\n",
    "    list_split = pl.col('Country').str.split(',').apply(len, return_dtype=pl.Int64).sort(descending = True)\n",
    "  )\n",
    "  "
   ]
  },
  {
   "cell_type": "code",
   "execution_count": 109,
   "metadata": {},
   "outputs": [
    {
     "data": {
      "text/html": [
       "<div><style>\n",
       ".dataframe > thead > tr,\n",
       ".dataframe > tbody > tr {\n",
       "  text-align: right;\n",
       "  white-space: pre-wrap;\n",
       "}\n",
       "</style>\n",
       "<small>shape: (20, 3)</small><table border=\"1\" class=\"dataframe\"><thead><tr><th>platform</th><th>Age</th><th>n</th></tr><tr><td>str</td><td>str</td><td>u32</td></tr></thead><tbody><tr><td>&quot;Disney&quot;</td><td>&quot;18+&quot;</td><td>1</td></tr><tr><td>&quot;Disney&quot;</td><td>&quot;16+&quot;</td><td>1</td></tr><tr><td>&quot;Disney&quot;</td><td>&quot;all&quot;</td><td>169</td></tr><tr><td>&quot;Netflix&quot;</td><td>&quot;all&quot;</td><td>413</td></tr><tr><td>&quot;Hulu&quot;</td><td>&quot;13+&quot;</td><td>100</td></tr><tr><td>&hellip;</td><td>&hellip;</td><td>&hellip;</td></tr><tr><td>&quot;Netflix&quot;</td><td>&quot;18+&quot;</td><td>526</td></tr><tr><td>&quot;Prime_Video&quot;</td><td>&quot;7+&quot;</td><td>277</td></tr><tr><td>&quot;Disney&quot;</td><td>&quot;13+&quot;</td><td>36</td></tr><tr><td>&quot;Prime_Video&quot;</td><td>&quot;16+&quot;</td><td>51</td></tr><tr><td>&quot;Prime_Video&quot;</td><td>&quot;18+&quot;</td><td>1039</td></tr></tbody></table></div>"
      ],
      "text/plain": [
       "shape: (20, 3)\n",
       "┌─────────────┬─────┬──────┐\n",
       "│ platform    ┆ Age ┆ n    │\n",
       "│ ---         ┆ --- ┆ ---  │\n",
       "│ str         ┆ str ┆ u32  │\n",
       "╞═════════════╪═════╪══════╡\n",
       "│ Disney      ┆ 18+ ┆ 1    │\n",
       "│ Disney      ┆ 16+ ┆ 1    │\n",
       "│ Disney      ┆ all ┆ 169  │\n",
       "│ Netflix     ┆ all ┆ 413  │\n",
       "│ Hulu        ┆ 13+ ┆ 100  │\n",
       "│ …           ┆ …   ┆ …    │\n",
       "│ Netflix     ┆ 18+ ┆ 526  │\n",
       "│ Prime_Video ┆ 7+  ┆ 277  │\n",
       "│ Disney      ┆ 13+ ┆ 36   │\n",
       "│ Prime_Video ┆ 16+ ┆ 51   │\n",
       "│ Prime_Video ┆ 18+ ┆ 1039 │\n",
       "└─────────────┴─────┴──────┘"
      ]
     },
     "execution_count": 109,
     "metadata": {},
     "output_type": "execute_result"
    }
   ],
   "source": [
    "df1 = df_clean\\\n",
    "  .select('Title', 'Age', 'Netflix', 'Hulu', 'Prime_Video', 'Disney')\\\n",
    "  .melt(\n",
    "    id_vars=['Title', 'Age'],\n",
    "    value_vars=['Netflix', 'Hulu', 'Prime_Video', 'Disney'],\n",
    "    variable_name='platform'\n",
    "  )\\\n",
    "  .filter(pl.col('value') == 1)\\\n",
    "  .group_by('platform', 'Age')\\\n",
    "  .len()\\\n",
    "  .rename({'len':'n'})\n",
    "df1"
   ]
  },
  {
   "cell_type": "code",
   "execution_count": 114,
   "metadata": {},
   "outputs": [
    {
     "data": {
      "text/html": [
       "<div><style>\n",
       ".dataframe > thead > tr,\n",
       ".dataframe > tbody > tr {\n",
       "  text-align: right;\n",
       "  white-space: pre-wrap;\n",
       "}\n",
       "</style>\n",
       "<small>shape: (4, 2)</small><table border=\"1\" class=\"dataframe\"><thead><tr><th>platform</th><th>n_all</th></tr><tr><td>str</td><td>u32</td></tr></thead><tbody><tr><td>&quot;Hulu&quot;</td><td>617</td></tr><tr><td>&quot;Prime_Video&quot;</td><td>2970</td></tr><tr><td>&quot;Netflix&quot;</td><td>1386</td></tr><tr><td>&quot;Disney&quot;</td><td>342</td></tr></tbody></table></div>"
      ],
      "text/plain": [
       "shape: (4, 2)\n",
       "┌─────────────┬───────┐\n",
       "│ platform    ┆ n_all │\n",
       "│ ---         ┆ ---   │\n",
       "│ str         ┆ u32   │\n",
       "╞═════════════╪═══════╡\n",
       "│ Hulu        ┆ 617   │\n",
       "│ Prime_Video ┆ 2970  │\n",
       "│ Netflix     ┆ 1386  │\n",
       "│ Disney      ┆ 342   │\n",
       "└─────────────┴───────┘"
      ]
     },
     "execution_count": 114,
     "metadata": {},
     "output_type": "execute_result"
    }
   ],
   "source": [
    "df2 =\\\n",
    "df1\\\n",
    "  .select('platform', 'n')\\\n",
    "  .group_by('platform')\\\n",
    "  .sum()\\\n",
    "  .rename({'n':'n_all'})\n",
    "\n",
    "df2"
   ]
  },
  {
   "cell_type": "code",
   "execution_count": 126,
   "metadata": {},
   "outputs": [
    {
     "data": {
      "text/html": [
       "<div><style>\n",
       ".dataframe > thead > tr,\n",
       ".dataframe > tbody > tr {\n",
       "  text-align: right;\n",
       "  white-space: pre-wrap;\n",
       "}\n",
       "</style>\n",
       "<small>shape: (4, 6)</small><table border=\"1\" class=\"dataframe\"><thead><tr><th>platform</th><th>13+</th><th>16+</th><th>18+</th><th>7+</th><th>all</th></tr><tr><td>str</td><td>f64</td><td>f64</td><td>f64</td><td>f64</td><td>f64</td></tr></thead><tbody><tr><td>&quot;Hulu&quot;</td><td>16.21</td><td>0.49</td><td>39.38</td><td>11.99</td><td>31.93</td></tr><tr><td>&quot;Prime_Video&quot;</td><td>12.39</td><td>1.72</td><td>34.98</td><td>9.33</td><td>41.58</td></tr><tr><td>&quot;Netflix&quot;</td><td>17.17</td><td>3.03</td><td>37.95</td><td>12.05</td><td>29.8</td></tr><tr><td>&quot;Disney&quot;</td><td>10.53</td><td>0.29</td><td>0.29</td><td>39.47</td><td>49.42</td></tr></tbody></table></div>"
      ],
      "text/plain": [
       "shape: (4, 6)\n",
       "┌─────────────┬───────┬──────┬───────┬───────┬───────┐\n",
       "│ platform    ┆ 13+   ┆ 16+  ┆ 18+   ┆ 7+    ┆ all   │\n",
       "│ ---         ┆ ---   ┆ ---  ┆ ---   ┆ ---   ┆ ---   │\n",
       "│ str         ┆ f64   ┆ f64  ┆ f64   ┆ f64   ┆ f64   │\n",
       "╞═════════════╪═══════╪══════╪═══════╪═══════╪═══════╡\n",
       "│ Hulu        ┆ 16.21 ┆ 0.49 ┆ 39.38 ┆ 11.99 ┆ 31.93 │\n",
       "│ Prime_Video ┆ 12.39 ┆ 1.72 ┆ 34.98 ┆ 9.33  ┆ 41.58 │\n",
       "│ Netflix     ┆ 17.17 ┆ 3.03 ┆ 37.95 ┆ 12.05 ┆ 29.8  │\n",
       "│ Disney      ┆ 10.53 ┆ 0.29 ┆ 0.29  ┆ 39.47 ┆ 49.42 │\n",
       "└─────────────┴───────┴──────┴───────┴───────┴───────┘"
      ]
     },
     "execution_count": 126,
     "metadata": {},
     "output_type": "execute_result"
    }
   ],
   "source": [
    "df1\\\n",
    "  .join(df2, on='platform')\\\n",
    "  .with_columns(\n",
    "    prop = (pl.col('n')/pl.col('n_all')*100).round(2)\n",
    "  )\\\n",
    "  .select('Age', 'platform', 'prop')\\\n",
    "  .sort('Age')\\\n",
    "  .pivot(\n",
    "    index='platform',\n",
    "    columns='Age',\n",
    "    values='prop'\n",
    "  )"
   ]
  }
 ],
 "metadata": {
  "kernelspec": {
   "display_name": "boat",
   "language": "python",
   "name": "python3"
  },
  "language_info": {
   "codemirror_mode": {
    "name": "ipython",
    "version": 3
   },
   "file_extension": ".py",
   "mimetype": "text/x-python",
   "name": "python",
   "nbconvert_exporter": "python",
   "pygments_lexer": "ipython3",
   "version": "3.8.19"
  }
 },
 "nbformat": 4,
 "nbformat_minor": 2
}
