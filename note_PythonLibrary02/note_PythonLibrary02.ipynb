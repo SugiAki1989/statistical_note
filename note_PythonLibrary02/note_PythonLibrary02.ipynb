{
 "cells": [
  {
   "cell_type": "markdown",
   "metadata": {},
   "source": [
    "# はじめに\n",
    "\n",
    "このノートではPythonのpolarsライブラリの使い方をまとめておく。polarsライブラリはRustで書かれており、高速に動作することやメモリ効率が良いことが特徴での大規模データを処理するのに適しているライブラリ。\n",
    "\n",
    "- [Polars — DataFrames for the new era](https://pola.rs/)\n",
    "\n",
    "今回はこちらの内容をなぞっているだけです。\n",
    "\n",
    "- [pandasから移行する人向け polars使用ガイド #Python - Qiita](https://qiita.com/nkay/items/9cfb2776156dc7e054c8)"
   ]
  },
  {
   "cell_type": "markdown",
   "metadata": {},
   "source": [
    "## ライブラリの読み込み"
   ]
  },
  {
   "cell_type": "code",
   "execution_count": 263,
   "metadata": {},
   "outputs": [],
   "source": [
    "# load library\n",
    "import polars as pl\n",
    "import numpy as np\n",
    "import datetime\n",
    "\n",
    "titanic = pl.read_csv('./data/titanic.csv')\n",
    "diamonds = pl.read_csv('./data/diamonds.csv')\n",
    "\n",
    "# display 10 rows\n",
    "pl.Config.set_tbl_rows(10)\n",
    "\n",
    "df = pl.DataFrame(\n",
    "    {\n",
    "        'Integer': [1, 2, 3, 4],\n",
    "        'Float': np.array([1, 2, 3, 4], dtype=float),\n",
    "        'Datetime': [datetime.datetime(2024, 4, 1)] * 4,\n",
    "        'Date': [datetime.datetime(2024, 1, 1)] * 4,\n",
    "        'String': ['test', 'train', 'test', 'train'],\n",
    "        'Boolean': [True, True, False, None]\n",
    "    }\n",
    ")"
   ]
  },
  {
   "cell_type": "markdown",
   "metadata": {},
   "source": [
    "## データフレームの視覚的確認"
   ]
  },
  {
   "cell_type": "code",
   "execution_count": 264,
   "metadata": {},
   "outputs": [
    {
     "name": "stdout",
     "output_type": "stream",
     "text": [
      "Rows: 891\n",
      "Columns: 12\n",
      "$ PassengerId <i64> 1, 2, 3, 4, 5, 6, 7, 8, 9, 10\n",
      "$ Survived    <i64> 0, 1, 1, 1, 0, 0, 0, 0, 1, 1\n",
      "$ Pclass      <i64> 3, 1, 3, 1, 3, 3, 1, 3, 3, 2\n",
      "$ Name        <str> 'Braund, Mr. Owen Harris', 'Cumings, Mrs. John Bradley (Florence Briggs Thayer)', 'Heikkinen, Miss. Laina', 'Futrelle, Mrs. Jacques Heath (Lily May Peel)', 'Allen, Mr. William Henry', 'Moran, Mr. James', 'McCarthy, Mr. Timothy J', 'Palsson, Master. Gosta Leonard', 'Johnson, Mrs. Oscar W (Elisabeth Vilhelmina Berg)', 'Nasser, Mrs. Nicholas (Adele Achem)'\n",
      "$ Sex         <str> 'male', 'female', 'female', 'female', 'male', 'male', 'male', 'male', 'female', 'female'\n",
      "$ Age         <f64> 22.0, 38.0, 26.0, 35.0, 35.0, None, 54.0, 2.0, 27.0, 14.0\n",
      "$ SibSp       <i64> 1, 1, 0, 1, 0, 0, 0, 3, 0, 1\n",
      "$ Parch       <i64> 0, 0, 0, 0, 0, 0, 0, 1, 2, 0\n",
      "$ Ticket      <str> 'A/5 21171', 'PC 17599', 'STON/O2. 3101282', '113803', '373450', '330877', '17463', '349909', '347742', '237736'\n",
      "$ Fare        <f64> 7.25, 71.2833, 7.925, 53.1, 8.05, 8.4583, 51.8625, 21.075, 11.1333, 30.0708\n",
      "$ Cabin       <str> None, 'C85', None, 'C123', None, None, 'E46', None, None, None\n",
      "$ Embarked    <str> 'S', 'C', 'S', 'S', 'S', 'Q', 'S', 'S', 'S', 'C'\n",
      "\n"
     ]
    }
   ],
   "source": [
    "titanic.glimpse()"
   ]
  },
  {
   "cell_type": "code",
   "execution_count": 265,
   "metadata": {},
   "outputs": [
    {
     "data": {
      "text/html": [
       "<div><style>\n",
       ".dataframe > thead > tr,\n",
       ".dataframe > tbody > tr {\n",
       "  text-align: right;\n",
       "  white-space: pre-wrap;\n",
       "}\n",
       "</style>\n",
       "<small>shape: (9, 13)</small><table border=\"1\" class=\"dataframe\"><thead><tr><th>statistic</th><th>PassengerId</th><th>Survived</th><th>Pclass</th><th>Name</th><th>Sex</th><th>Age</th><th>SibSp</th><th>Parch</th><th>Ticket</th><th>Fare</th><th>Cabin</th><th>Embarked</th></tr><tr><td>str</td><td>f64</td><td>f64</td><td>f64</td><td>str</td><td>str</td><td>f64</td><td>f64</td><td>f64</td><td>str</td><td>f64</td><td>str</td><td>str</td></tr></thead><tbody><tr><td>&quot;count&quot;</td><td>891.0</td><td>891.0</td><td>891.0</td><td>&quot;891&quot;</td><td>&quot;891&quot;</td><td>714.0</td><td>891.0</td><td>891.0</td><td>&quot;891&quot;</td><td>891.0</td><td>&quot;204&quot;</td><td>&quot;889&quot;</td></tr><tr><td>&quot;null_count&quot;</td><td>0.0</td><td>0.0</td><td>0.0</td><td>&quot;0&quot;</td><td>&quot;0&quot;</td><td>177.0</td><td>0.0</td><td>0.0</td><td>&quot;0&quot;</td><td>0.0</td><td>&quot;687&quot;</td><td>&quot;2&quot;</td></tr><tr><td>&quot;mean&quot;</td><td>446.0</td><td>0.383838</td><td>2.308642</td><td>null</td><td>null</td><td>29.699118</td><td>0.523008</td><td>0.381594</td><td>null</td><td>32.204208</td><td>null</td><td>null</td></tr><tr><td>&quot;std&quot;</td><td>257.353842</td><td>0.486592</td><td>0.836071</td><td>null</td><td>null</td><td>14.526497</td><td>1.102743</td><td>0.806057</td><td>null</td><td>49.693429</td><td>null</td><td>null</td></tr><tr><td>&quot;min&quot;</td><td>1.0</td><td>0.0</td><td>1.0</td><td>&quot;Abbing, Mr. Anthony&quot;</td><td>&quot;female&quot;</td><td>0.42</td><td>0.0</td><td>0.0</td><td>&quot;110152&quot;</td><td>0.0</td><td>&quot;A10&quot;</td><td>&quot;C&quot;</td></tr><tr><td>&quot;25%&quot;</td><td>224.0</td><td>0.0</td><td>2.0</td><td>null</td><td>null</td><td>20.0</td><td>0.0</td><td>0.0</td><td>null</td><td>7.925</td><td>null</td><td>null</td></tr><tr><td>&quot;50%&quot;</td><td>446.0</td><td>0.0</td><td>3.0</td><td>null</td><td>null</td><td>28.0</td><td>0.0</td><td>0.0</td><td>null</td><td>14.4542</td><td>null</td><td>null</td></tr><tr><td>&quot;75%&quot;</td><td>669.0</td><td>1.0</td><td>3.0</td><td>null</td><td>null</td><td>38.0</td><td>1.0</td><td>0.0</td><td>null</td><td>31.0</td><td>null</td><td>null</td></tr><tr><td>&quot;max&quot;</td><td>891.0</td><td>1.0</td><td>3.0</td><td>&quot;van Melkebeke, Mr. Philemon&quot;</td><td>&quot;male&quot;</td><td>80.0</td><td>8.0</td><td>6.0</td><td>&quot;WE/P 5735&quot;</td><td>512.3292</td><td>&quot;T&quot;</td><td>&quot;S&quot;</td></tr></tbody></table></div>"
      ],
      "text/plain": [
       "shape: (9, 13)\n",
       "┌────────────┬─────────────┬──────────┬──────────┬───┬───────────┬───────────┬───────┬──────────┐\n",
       "│ statistic  ┆ PassengerId ┆ Survived ┆ Pclass   ┆ … ┆ Ticket    ┆ Fare      ┆ Cabin ┆ Embarked │\n",
       "│ ---        ┆ ---         ┆ ---      ┆ ---      ┆   ┆ ---       ┆ ---       ┆ ---   ┆ ---      │\n",
       "│ str        ┆ f64         ┆ f64      ┆ f64      ┆   ┆ str       ┆ f64       ┆ str   ┆ str      │\n",
       "╞════════════╪═════════════╪══════════╪══════════╪═══╪═══════════╪═══════════╪═══════╪══════════╡\n",
       "│ count      ┆ 891.0       ┆ 891.0    ┆ 891.0    ┆ … ┆ 891       ┆ 891.0     ┆ 204   ┆ 889      │\n",
       "│ null_count ┆ 0.0         ┆ 0.0      ┆ 0.0      ┆ … ┆ 0         ┆ 0.0       ┆ 687   ┆ 2        │\n",
       "│ mean       ┆ 446.0       ┆ 0.383838 ┆ 2.308642 ┆ … ┆ null      ┆ 32.204208 ┆ null  ┆ null     │\n",
       "│ std        ┆ 257.353842  ┆ 0.486592 ┆ 0.836071 ┆ … ┆ null      ┆ 49.693429 ┆ null  ┆ null     │\n",
       "│ min        ┆ 1.0         ┆ 0.0      ┆ 1.0      ┆ … ┆ 110152    ┆ 0.0       ┆ A10   ┆ C        │\n",
       "│ 25%        ┆ 224.0       ┆ 0.0      ┆ 2.0      ┆ … ┆ null      ┆ 7.925     ┆ null  ┆ null     │\n",
       "│ 50%        ┆ 446.0       ┆ 0.0      ┆ 3.0      ┆ … ┆ null      ┆ 14.4542   ┆ null  ┆ null     │\n",
       "│ 75%        ┆ 669.0       ┆ 1.0      ┆ 3.0      ┆ … ┆ null      ┆ 31.0      ┆ null  ┆ null     │\n",
       "│ max        ┆ 891.0       ┆ 1.0      ┆ 3.0      ┆ … ┆ WE/P 5735 ┆ 512.3292  ┆ T     ┆ S        │\n",
       "└────────────┴─────────────┴──────────┴──────────┴───┴───────────┴───────────┴───────┴──────────┘"
      ]
     },
     "execution_count": 265,
     "metadata": {},
     "output_type": "execute_result"
    }
   ],
   "source": [
    "titanic.describe()"
   ]
  },
  {
   "cell_type": "markdown",
   "metadata": {},
   "source": [
    "## 行の抽出・フィルタリング・条件選択\n"
   ]
  },
  {
   "cell_type": "code",
   "execution_count": 266,
   "metadata": {},
   "outputs": [
    {
     "data": {
      "text/html": [
       "<div><style>\n",
       ".dataframe > thead > tr,\n",
       ".dataframe > tbody > tr {\n",
       "  text-align: right;\n",
       "  white-space: pre-wrap;\n",
       "}\n",
       "</style>\n",
       "<small>shape: (577, 12)</small><table border=\"1\" class=\"dataframe\"><thead><tr><th>PassengerId</th><th>Survived</th><th>Pclass</th><th>Name</th><th>Sex</th><th>Age</th><th>SibSp</th><th>Parch</th><th>Ticket</th><th>Fare</th><th>Cabin</th><th>Embarked</th></tr><tr><td>i64</td><td>i64</td><td>i64</td><td>str</td><td>str</td><td>f64</td><td>i64</td><td>i64</td><td>str</td><td>f64</td><td>str</td><td>str</td></tr></thead><tbody><tr><td>1</td><td>0</td><td>3</td><td>&quot;Braund, Mr. Owen Harris&quot;</td><td>&quot;male&quot;</td><td>22.0</td><td>1</td><td>0</td><td>&quot;A/5 21171&quot;</td><td>7.25</td><td>null</td><td>&quot;S&quot;</td></tr><tr><td>5</td><td>0</td><td>3</td><td>&quot;Allen, Mr. William Henry&quot;</td><td>&quot;male&quot;</td><td>35.0</td><td>0</td><td>0</td><td>&quot;373450&quot;</td><td>8.05</td><td>null</td><td>&quot;S&quot;</td></tr><tr><td>6</td><td>0</td><td>3</td><td>&quot;Moran, Mr. James&quot;</td><td>&quot;male&quot;</td><td>null</td><td>0</td><td>0</td><td>&quot;330877&quot;</td><td>8.4583</td><td>null</td><td>&quot;Q&quot;</td></tr><tr><td>7</td><td>0</td><td>1</td><td>&quot;McCarthy, Mr. Timothy J&quot;</td><td>&quot;male&quot;</td><td>54.0</td><td>0</td><td>0</td><td>&quot;17463&quot;</td><td>51.8625</td><td>&quot;E46&quot;</td><td>&quot;S&quot;</td></tr><tr><td>8</td><td>0</td><td>3</td><td>&quot;Palsson, Master. Gosta Leonard&quot;</td><td>&quot;male&quot;</td><td>2.0</td><td>3</td><td>1</td><td>&quot;349909&quot;</td><td>21.075</td><td>null</td><td>&quot;S&quot;</td></tr><tr><td>&hellip;</td><td>&hellip;</td><td>&hellip;</td><td>&hellip;</td><td>&hellip;</td><td>&hellip;</td><td>&hellip;</td><td>&hellip;</td><td>&hellip;</td><td>&hellip;</td><td>&hellip;</td><td>&hellip;</td></tr><tr><td>884</td><td>0</td><td>2</td><td>&quot;Banfield, Mr. Frederick James&quot;</td><td>&quot;male&quot;</td><td>28.0</td><td>0</td><td>0</td><td>&quot;C.A./SOTON 34068&quot;</td><td>10.5</td><td>null</td><td>&quot;S&quot;</td></tr><tr><td>885</td><td>0</td><td>3</td><td>&quot;Sutehall, Mr. Henry Jr&quot;</td><td>&quot;male&quot;</td><td>25.0</td><td>0</td><td>0</td><td>&quot;SOTON/OQ 392076&quot;</td><td>7.05</td><td>null</td><td>&quot;S&quot;</td></tr><tr><td>887</td><td>0</td><td>2</td><td>&quot;Montvila, Rev. Juozas&quot;</td><td>&quot;male&quot;</td><td>27.0</td><td>0</td><td>0</td><td>&quot;211536&quot;</td><td>13.0</td><td>null</td><td>&quot;S&quot;</td></tr><tr><td>890</td><td>1</td><td>1</td><td>&quot;Behr, Mr. Karl Howell&quot;</td><td>&quot;male&quot;</td><td>26.0</td><td>0</td><td>0</td><td>&quot;111369&quot;</td><td>30.0</td><td>&quot;C148&quot;</td><td>&quot;C&quot;</td></tr><tr><td>891</td><td>0</td><td>3</td><td>&quot;Dooley, Mr. Patrick&quot;</td><td>&quot;male&quot;</td><td>32.0</td><td>0</td><td>0</td><td>&quot;370376&quot;</td><td>7.75</td><td>null</td><td>&quot;Q&quot;</td></tr></tbody></table></div>"
      ],
      "text/plain": [
       "shape: (577, 12)\n",
       "┌─────────────┬──────────┬────────┬──────────────────┬───┬────────────┬─────────┬───────┬──────────┐\n",
       "│ PassengerId ┆ Survived ┆ Pclass ┆ Name             ┆ … ┆ Ticket     ┆ Fare    ┆ Cabin ┆ Embarked │\n",
       "│ ---         ┆ ---      ┆ ---    ┆ ---              ┆   ┆ ---        ┆ ---     ┆ ---   ┆ ---      │\n",
       "│ i64         ┆ i64      ┆ i64    ┆ str              ┆   ┆ str        ┆ f64     ┆ str   ┆ str      │\n",
       "╞═════════════╪══════════╪════════╪══════════════════╪═══╪════════════╪═════════╪═══════╪══════════╡\n",
       "│ 1           ┆ 0        ┆ 3      ┆ Braund, Mr. Owen ┆ … ┆ A/5 21171  ┆ 7.25    ┆ null  ┆ S        │\n",
       "│             ┆          ┆        ┆ Harris           ┆   ┆            ┆         ┆       ┆          │\n",
       "│ 5           ┆ 0        ┆ 3      ┆ Allen, Mr.       ┆ … ┆ 373450     ┆ 8.05    ┆ null  ┆ S        │\n",
       "│             ┆          ┆        ┆ William Henry    ┆   ┆            ┆         ┆       ┆          │\n",
       "│ 6           ┆ 0        ┆ 3      ┆ Moran, Mr. James ┆ … ┆ 330877     ┆ 8.4583  ┆ null  ┆ Q        │\n",
       "│ 7           ┆ 0        ┆ 1      ┆ McCarthy, Mr.    ┆ … ┆ 17463      ┆ 51.8625 ┆ E46   ┆ S        │\n",
       "│             ┆          ┆        ┆ Timothy J        ┆   ┆            ┆         ┆       ┆          │\n",
       "│ 8           ┆ 0        ┆ 3      ┆ Palsson, Master. ┆ … ┆ 349909     ┆ 21.075  ┆ null  ┆ S        │\n",
       "│             ┆          ┆        ┆ Gosta Leonard    ┆   ┆            ┆         ┆       ┆          │\n",
       "│ …           ┆ …        ┆ …      ┆ …                ┆ … ┆ …          ┆ …       ┆ …     ┆ …        │\n",
       "│ 884         ┆ 0        ┆ 2      ┆ Banfield, Mr.    ┆ … ┆ C.A./SOTON ┆ 10.5    ┆ null  ┆ S        │\n",
       "│             ┆          ┆        ┆ Frederick James  ┆   ┆ 34068      ┆         ┆       ┆          │\n",
       "│ 885         ┆ 0        ┆ 3      ┆ Sutehall, Mr.    ┆ … ┆ SOTON/OQ   ┆ 7.05    ┆ null  ┆ S        │\n",
       "│             ┆          ┆        ┆ Henry Jr         ┆   ┆ 392076     ┆         ┆       ┆          │\n",
       "│ 887         ┆ 0        ┆ 2      ┆ Montvila, Rev.   ┆ … ┆ 211536     ┆ 13.0    ┆ null  ┆ S        │\n",
       "│             ┆          ┆        ┆ Juozas           ┆   ┆            ┆         ┆       ┆          │\n",
       "│ 890         ┆ 1        ┆ 1      ┆ Behr, Mr. Karl   ┆ … ┆ 111369     ┆ 30.0    ┆ C148  ┆ C        │\n",
       "│             ┆          ┆        ┆ Howell           ┆   ┆            ┆         ┆       ┆          │\n",
       "│ 891         ┆ 0        ┆ 3      ┆ Dooley, Mr.      ┆ … ┆ 370376     ┆ 7.75    ┆ null  ┆ Q        │\n",
       "│             ┆          ┆        ┆ Patrick          ┆   ┆            ┆         ┆       ┆          │\n",
       "└─────────────┴──────────┴────────┴──────────────────┴───┴────────────┴─────────┴───────┴──────────┘"
      ]
     },
     "execution_count": 266,
     "metadata": {},
     "output_type": "execute_result"
    }
   ],
   "source": [
    "titanic.filter(pl.col('Sex') == 'male')"
   ]
  },
  {
   "cell_type": "code",
   "execution_count": 267,
   "metadata": {},
   "outputs": [
    {
     "data": {
      "text/html": [
       "<div><style>\n",
       ".dataframe > thead > tr,\n",
       ".dataframe > tbody > tr {\n",
       "  text-align: right;\n",
       "  white-space: pre-wrap;\n",
       "}\n",
       "</style>\n",
       "<small>shape: (9, 12)</small><table border=\"1\" class=\"dataframe\"><thead><tr><th>PassengerId</th><th>Survived</th><th>Pclass</th><th>Name</th><th>Sex</th><th>Age</th><th>SibSp</th><th>Parch</th><th>Ticket</th><th>Fare</th><th>Cabin</th><th>Embarked</th></tr><tr><td>i64</td><td>i64</td><td>i64</td><td>str</td><td>str</td><td>f64</td><td>i64</td><td>i64</td><td>str</td><td>f64</td><td>str</td><td>str</td></tr></thead><tbody><tr><td>1</td><td>0</td><td>3</td><td>&quot;Braund, Mr. Owen Harris&quot;</td><td>&quot;male&quot;</td><td>22.0</td><td>1</td><td>0</td><td>&quot;A/5 21171&quot;</td><td>7.25</td><td>null</td><td>&quot;S&quot;</td></tr><tr><td>5</td><td>0</td><td>3</td><td>&quot;Allen, Mr. William Henry&quot;</td><td>&quot;male&quot;</td><td>35.0</td><td>0</td><td>0</td><td>&quot;373450&quot;</td><td>8.05</td><td>null</td><td>&quot;S&quot;</td></tr><tr><td>6</td><td>0</td><td>3</td><td>&quot;Moran, Mr. James&quot;</td><td>&quot;male&quot;</td><td>null</td><td>0</td><td>0</td><td>&quot;330877&quot;</td><td>8.4583</td><td>null</td><td>&quot;Q&quot;</td></tr><tr><td>7</td><td>0</td><td>1</td><td>&quot;McCarthy, Mr. Timothy J&quot;</td><td>&quot;male&quot;</td><td>54.0</td><td>0</td><td>0</td><td>&quot;17463&quot;</td><td>51.8625</td><td>&quot;E46&quot;</td><td>&quot;S&quot;</td></tr><tr><td>8</td><td>0</td><td>3</td><td>&quot;Palsson, Master. Gosta Leonard&quot;</td><td>&quot;male&quot;</td><td>2.0</td><td>3</td><td>1</td><td>&quot;349909&quot;</td><td>21.075</td><td>null</td><td>&quot;S&quot;</td></tr><tr><td>13</td><td>0</td><td>3</td><td>&quot;Saundercock, Mr. William Henry&quot;</td><td>&quot;male&quot;</td><td>20.0</td><td>0</td><td>0</td><td>&quot;A/5. 2151&quot;</td><td>8.05</td><td>null</td><td>&quot;S&quot;</td></tr><tr><td>14</td><td>0</td><td>3</td><td>&quot;Andersson, Mr. Anders Johan&quot;</td><td>&quot;male&quot;</td><td>39.0</td><td>1</td><td>5</td><td>&quot;347082&quot;</td><td>31.275</td><td>null</td><td>&quot;S&quot;</td></tr><tr><td>17</td><td>0</td><td>3</td><td>&quot;Rice, Master. Eugene&quot;</td><td>&quot;male&quot;</td><td>2.0</td><td>4</td><td>1</td><td>&quot;382652&quot;</td><td>29.125</td><td>null</td><td>&quot;Q&quot;</td></tr><tr><td>18</td><td>1</td><td>2</td><td>&quot;Williams, Mr. Charles Eugene&quot;</td><td>&quot;male&quot;</td><td>null</td><td>0</td><td>0</td><td>&quot;244373&quot;</td><td>13.0</td><td>null</td><td>&quot;S&quot;</td></tr></tbody></table></div>"
      ],
      "text/plain": [
       "shape: (9, 12)\n",
       "┌─────────────┬──────────┬────────┬───────────────────┬───┬───────────┬─────────┬───────┬──────────┐\n",
       "│ PassengerId ┆ Survived ┆ Pclass ┆ Name              ┆ … ┆ Ticket    ┆ Fare    ┆ Cabin ┆ Embarked │\n",
       "│ ---         ┆ ---      ┆ ---    ┆ ---               ┆   ┆ ---       ┆ ---     ┆ ---   ┆ ---      │\n",
       "│ i64         ┆ i64      ┆ i64    ┆ str               ┆   ┆ str       ┆ f64     ┆ str   ┆ str      │\n",
       "╞═════════════╪══════════╪════════╪═══════════════════╪═══╪═══════════╪═════════╪═══════╪══════════╡\n",
       "│ 1           ┆ 0        ┆ 3      ┆ Braund, Mr. Owen  ┆ … ┆ A/5 21171 ┆ 7.25    ┆ null  ┆ S        │\n",
       "│             ┆          ┆        ┆ Harris            ┆   ┆           ┆         ┆       ┆          │\n",
       "│ 5           ┆ 0        ┆ 3      ┆ Allen, Mr.        ┆ … ┆ 373450    ┆ 8.05    ┆ null  ┆ S        │\n",
       "│             ┆          ┆        ┆ William Henry     ┆   ┆           ┆         ┆       ┆          │\n",
       "│ 6           ┆ 0        ┆ 3      ┆ Moran, Mr. James  ┆ … ┆ 330877    ┆ 8.4583  ┆ null  ┆ Q        │\n",
       "│ 7           ┆ 0        ┆ 1      ┆ McCarthy, Mr.     ┆ … ┆ 17463     ┆ 51.8625 ┆ E46   ┆ S        │\n",
       "│             ┆          ┆        ┆ Timothy J         ┆   ┆           ┆         ┆       ┆          │\n",
       "│ 8           ┆ 0        ┆ 3      ┆ Palsson, Master.  ┆ … ┆ 349909    ┆ 21.075  ┆ null  ┆ S        │\n",
       "│             ┆          ┆        ┆ Gosta Leonard     ┆   ┆           ┆         ┆       ┆          │\n",
       "│ 13          ┆ 0        ┆ 3      ┆ Saundercock, Mr.  ┆ … ┆ A/5. 2151 ┆ 8.05    ┆ null  ┆ S        │\n",
       "│             ┆          ┆        ┆ William Henry     ┆   ┆           ┆         ┆       ┆          │\n",
       "│ 14          ┆ 0        ┆ 3      ┆ Andersson, Mr.    ┆ … ┆ 347082    ┆ 31.275  ┆ null  ┆ S        │\n",
       "│             ┆          ┆        ┆ Anders Johan      ┆   ┆           ┆         ┆       ┆          │\n",
       "│ 17          ┆ 0        ┆ 3      ┆ Rice, Master.     ┆ … ┆ 382652    ┆ 29.125  ┆ null  ┆ Q        │\n",
       "│             ┆          ┆        ┆ Eugene            ┆   ┆           ┆         ┆       ┆          │\n",
       "│ 18          ┆ 1        ┆ 2      ┆ Williams, Mr.     ┆ … ┆ 244373    ┆ 13.0    ┆ null  ┆ S        │\n",
       "│             ┆          ┆        ┆ Charles Eugene    ┆   ┆           ┆         ┆       ┆          │\n",
       "└─────────────┴──────────┴────────┴───────────────────┴───┴───────────┴─────────┴───────┴──────────┘"
      ]
     },
     "execution_count": 267,
     "metadata": {},
     "output_type": "execute_result"
    }
   ],
   "source": [
    "titanic.filter(\n",
    "  (pl.col('Sex') == 'male') & \n",
    "  (pl.col('PassengerId') < 20)\n",
    "  )"
   ]
  },
  {
   "cell_type": "code",
   "execution_count": 268,
   "metadata": {},
   "outputs": [
    {
     "data": {
      "text/html": [
       "<div><style>\n",
       ".dataframe > thead > tr,\n",
       ".dataframe > tbody > tr {\n",
       "  text-align: right;\n",
       "  white-space: pre-wrap;\n",
       "}\n",
       "</style>\n",
       "<small>shape: (9, 12)</small><table border=\"1\" class=\"dataframe\"><thead><tr><th>PassengerId</th><th>Survived</th><th>Pclass</th><th>Name</th><th>Sex</th><th>Age</th><th>SibSp</th><th>Parch</th><th>Ticket</th><th>Fare</th><th>Cabin</th><th>Embarked</th></tr><tr><td>i64</td><td>i64</td><td>i64</td><td>str</td><td>str</td><td>f64</td><td>i64</td><td>i64</td><td>str</td><td>f64</td><td>str</td><td>str</td></tr></thead><tbody><tr><td>1</td><td>0</td><td>3</td><td>&quot;Braund, Mr. Owen Harris&quot;</td><td>&quot;male&quot;</td><td>22.0</td><td>1</td><td>0</td><td>&quot;A/5 21171&quot;</td><td>7.25</td><td>null</td><td>&quot;S&quot;</td></tr><tr><td>5</td><td>0</td><td>3</td><td>&quot;Allen, Mr. William Henry&quot;</td><td>&quot;male&quot;</td><td>35.0</td><td>0</td><td>0</td><td>&quot;373450&quot;</td><td>8.05</td><td>null</td><td>&quot;S&quot;</td></tr><tr><td>6</td><td>0</td><td>3</td><td>&quot;Moran, Mr. James&quot;</td><td>&quot;male&quot;</td><td>null</td><td>0</td><td>0</td><td>&quot;330877&quot;</td><td>8.4583</td><td>null</td><td>&quot;Q&quot;</td></tr><tr><td>7</td><td>0</td><td>1</td><td>&quot;McCarthy, Mr. Timothy J&quot;</td><td>&quot;male&quot;</td><td>54.0</td><td>0</td><td>0</td><td>&quot;17463&quot;</td><td>51.8625</td><td>&quot;E46&quot;</td><td>&quot;S&quot;</td></tr><tr><td>8</td><td>0</td><td>3</td><td>&quot;Palsson, Master. Gosta Leonard&quot;</td><td>&quot;male&quot;</td><td>2.0</td><td>3</td><td>1</td><td>&quot;349909&quot;</td><td>21.075</td><td>null</td><td>&quot;S&quot;</td></tr><tr><td>13</td><td>0</td><td>3</td><td>&quot;Saundercock, Mr. William Henry&quot;</td><td>&quot;male&quot;</td><td>20.0</td><td>0</td><td>0</td><td>&quot;A/5. 2151&quot;</td><td>8.05</td><td>null</td><td>&quot;S&quot;</td></tr><tr><td>14</td><td>0</td><td>3</td><td>&quot;Andersson, Mr. Anders Johan&quot;</td><td>&quot;male&quot;</td><td>39.0</td><td>1</td><td>5</td><td>&quot;347082&quot;</td><td>31.275</td><td>null</td><td>&quot;S&quot;</td></tr><tr><td>17</td><td>0</td><td>3</td><td>&quot;Rice, Master. Eugene&quot;</td><td>&quot;male&quot;</td><td>2.0</td><td>4</td><td>1</td><td>&quot;382652&quot;</td><td>29.125</td><td>null</td><td>&quot;Q&quot;</td></tr><tr><td>18</td><td>1</td><td>2</td><td>&quot;Williams, Mr. Charles Eugene&quot;</td><td>&quot;male&quot;</td><td>null</td><td>0</td><td>0</td><td>&quot;244373&quot;</td><td>13.0</td><td>null</td><td>&quot;S&quot;</td></tr></tbody></table></div>"
      ],
      "text/plain": [
       "shape: (9, 12)\n",
       "┌─────────────┬──────────┬────────┬───────────────────┬───┬───────────┬─────────┬───────┬──────────┐\n",
       "│ PassengerId ┆ Survived ┆ Pclass ┆ Name              ┆ … ┆ Ticket    ┆ Fare    ┆ Cabin ┆ Embarked │\n",
       "│ ---         ┆ ---      ┆ ---    ┆ ---               ┆   ┆ ---       ┆ ---     ┆ ---   ┆ ---      │\n",
       "│ i64         ┆ i64      ┆ i64    ┆ str               ┆   ┆ str       ┆ f64     ┆ str   ┆ str      │\n",
       "╞═════════════╪══════════╪════════╪═══════════════════╪═══╪═══════════╪═════════╪═══════╪══════════╡\n",
       "│ 1           ┆ 0        ┆ 3      ┆ Braund, Mr. Owen  ┆ … ┆ A/5 21171 ┆ 7.25    ┆ null  ┆ S        │\n",
       "│             ┆          ┆        ┆ Harris            ┆   ┆           ┆         ┆       ┆          │\n",
       "│ 5           ┆ 0        ┆ 3      ┆ Allen, Mr.        ┆ … ┆ 373450    ┆ 8.05    ┆ null  ┆ S        │\n",
       "│             ┆          ┆        ┆ William Henry     ┆   ┆           ┆         ┆       ┆          │\n",
       "│ 6           ┆ 0        ┆ 3      ┆ Moran, Mr. James  ┆ … ┆ 330877    ┆ 8.4583  ┆ null  ┆ Q        │\n",
       "│ 7           ┆ 0        ┆ 1      ┆ McCarthy, Mr.     ┆ … ┆ 17463     ┆ 51.8625 ┆ E46   ┆ S        │\n",
       "│             ┆          ┆        ┆ Timothy J         ┆   ┆           ┆         ┆       ┆          │\n",
       "│ 8           ┆ 0        ┆ 3      ┆ Palsson, Master.  ┆ … ┆ 349909    ┆ 21.075  ┆ null  ┆ S        │\n",
       "│             ┆          ┆        ┆ Gosta Leonard     ┆   ┆           ┆         ┆       ┆          │\n",
       "│ 13          ┆ 0        ┆ 3      ┆ Saundercock, Mr.  ┆ … ┆ A/5. 2151 ┆ 8.05    ┆ null  ┆ S        │\n",
       "│             ┆          ┆        ┆ William Henry     ┆   ┆           ┆         ┆       ┆          │\n",
       "│ 14          ┆ 0        ┆ 3      ┆ Andersson, Mr.    ┆ … ┆ 347082    ┆ 31.275  ┆ null  ┆ S        │\n",
       "│             ┆          ┆        ┆ Anders Johan      ┆   ┆           ┆         ┆       ┆          │\n",
       "│ 17          ┆ 0        ┆ 3      ┆ Rice, Master.     ┆ … ┆ 382652    ┆ 29.125  ┆ null  ┆ Q        │\n",
       "│             ┆          ┆        ┆ Eugene            ┆   ┆           ┆         ┆       ┆          │\n",
       "│ 18          ┆ 1        ┆ 2      ┆ Williams, Mr.     ┆ … ┆ 244373    ┆ 13.0    ┆ null  ┆ S        │\n",
       "│             ┆          ┆        ┆ Charles Eugene    ┆   ┆           ┆         ┆       ┆          │\n",
       "└─────────────┴──────────┴────────┴───────────────────┴───┴───────────┴─────────┴───────┴──────────┘"
      ]
     },
     "execution_count": 268,
     "metadata": {},
     "output_type": "execute_result"
    }
   ],
   "source": [
    "titanic\\\n",
    "  .filter(pl.col('Sex') == 'male')\\\n",
    "  .filter(pl.col('PassengerId') < 20)"
   ]
  },
  {
   "cell_type": "code",
   "execution_count": 269,
   "metadata": {},
   "outputs": [
    {
     "data": {
      "text/html": [
       "<div><style>\n",
       ".dataframe > thead > tr,\n",
       ".dataframe > tbody > tr {\n",
       "  text-align: right;\n",
       "  white-space: pre-wrap;\n",
       "}\n",
       "</style>\n",
       "<small>shape: (9, 12)</small><table border=\"1\" class=\"dataframe\"><thead><tr><th>PassengerId</th><th>Survived</th><th>Pclass</th><th>Name</th><th>Sex</th><th>Age</th><th>SibSp</th><th>Parch</th><th>Ticket</th><th>Fare</th><th>Cabin</th><th>Embarked</th></tr><tr><td>i64</td><td>i64</td><td>i64</td><td>str</td><td>str</td><td>f64</td><td>i64</td><td>i64</td><td>str</td><td>f64</td><td>str</td><td>str</td></tr></thead><tbody><tr><td>1</td><td>0</td><td>3</td><td>&quot;Braund, Mr. Owen Harris&quot;</td><td>&quot;male&quot;</td><td>22.0</td><td>1</td><td>0</td><td>&quot;A/5 21171&quot;</td><td>7.25</td><td>null</td><td>&quot;S&quot;</td></tr><tr><td>5</td><td>0</td><td>3</td><td>&quot;Allen, Mr. William Henry&quot;</td><td>&quot;male&quot;</td><td>35.0</td><td>0</td><td>0</td><td>&quot;373450&quot;</td><td>8.05</td><td>null</td><td>&quot;S&quot;</td></tr><tr><td>6</td><td>0</td><td>3</td><td>&quot;Moran, Mr. James&quot;</td><td>&quot;male&quot;</td><td>null</td><td>0</td><td>0</td><td>&quot;330877&quot;</td><td>8.4583</td><td>null</td><td>&quot;Q&quot;</td></tr><tr><td>7</td><td>0</td><td>1</td><td>&quot;McCarthy, Mr. Timothy J&quot;</td><td>&quot;male&quot;</td><td>54.0</td><td>0</td><td>0</td><td>&quot;17463&quot;</td><td>51.8625</td><td>&quot;E46&quot;</td><td>&quot;S&quot;</td></tr><tr><td>8</td><td>0</td><td>3</td><td>&quot;Palsson, Master. Gosta Leonard&quot;</td><td>&quot;male&quot;</td><td>2.0</td><td>3</td><td>1</td><td>&quot;349909&quot;</td><td>21.075</td><td>null</td><td>&quot;S&quot;</td></tr><tr><td>13</td><td>0</td><td>3</td><td>&quot;Saundercock, Mr. William Henry&quot;</td><td>&quot;male&quot;</td><td>20.0</td><td>0</td><td>0</td><td>&quot;A/5. 2151&quot;</td><td>8.05</td><td>null</td><td>&quot;S&quot;</td></tr><tr><td>14</td><td>0</td><td>3</td><td>&quot;Andersson, Mr. Anders Johan&quot;</td><td>&quot;male&quot;</td><td>39.0</td><td>1</td><td>5</td><td>&quot;347082&quot;</td><td>31.275</td><td>null</td><td>&quot;S&quot;</td></tr><tr><td>17</td><td>0</td><td>3</td><td>&quot;Rice, Master. Eugene&quot;</td><td>&quot;male&quot;</td><td>2.0</td><td>4</td><td>1</td><td>&quot;382652&quot;</td><td>29.125</td><td>null</td><td>&quot;Q&quot;</td></tr><tr><td>18</td><td>1</td><td>2</td><td>&quot;Williams, Mr. Charles Eugene&quot;</td><td>&quot;male&quot;</td><td>null</td><td>0</td><td>0</td><td>&quot;244373&quot;</td><td>13.0</td><td>null</td><td>&quot;S&quot;</td></tr></tbody></table></div>"
      ],
      "text/plain": [
       "shape: (9, 12)\n",
       "┌─────────────┬──────────┬────────┬───────────────────┬───┬───────────┬─────────┬───────┬──────────┐\n",
       "│ PassengerId ┆ Survived ┆ Pclass ┆ Name              ┆ … ┆ Ticket    ┆ Fare    ┆ Cabin ┆ Embarked │\n",
       "│ ---         ┆ ---      ┆ ---    ┆ ---               ┆   ┆ ---       ┆ ---     ┆ ---   ┆ ---      │\n",
       "│ i64         ┆ i64      ┆ i64    ┆ str               ┆   ┆ str       ┆ f64     ┆ str   ┆ str      │\n",
       "╞═════════════╪══════════╪════════╪═══════════════════╪═══╪═══════════╪═════════╪═══════╪══════════╡\n",
       "│ 1           ┆ 0        ┆ 3      ┆ Braund, Mr. Owen  ┆ … ┆ A/5 21171 ┆ 7.25    ┆ null  ┆ S        │\n",
       "│             ┆          ┆        ┆ Harris            ┆   ┆           ┆         ┆       ┆          │\n",
       "│ 5           ┆ 0        ┆ 3      ┆ Allen, Mr.        ┆ … ┆ 373450    ┆ 8.05    ┆ null  ┆ S        │\n",
       "│             ┆          ┆        ┆ William Henry     ┆   ┆           ┆         ┆       ┆          │\n",
       "│ 6           ┆ 0        ┆ 3      ┆ Moran, Mr. James  ┆ … ┆ 330877    ┆ 8.4583  ┆ null  ┆ Q        │\n",
       "│ 7           ┆ 0        ┆ 1      ┆ McCarthy, Mr.     ┆ … ┆ 17463     ┆ 51.8625 ┆ E46   ┆ S        │\n",
       "│             ┆          ┆        ┆ Timothy J         ┆   ┆           ┆         ┆       ┆          │\n",
       "│ 8           ┆ 0        ┆ 3      ┆ Palsson, Master.  ┆ … ┆ 349909    ┆ 21.075  ┆ null  ┆ S        │\n",
       "│             ┆          ┆        ┆ Gosta Leonard     ┆   ┆           ┆         ┆       ┆          │\n",
       "│ 13          ┆ 0        ┆ 3      ┆ Saundercock, Mr.  ┆ … ┆ A/5. 2151 ┆ 8.05    ┆ null  ┆ S        │\n",
       "│             ┆          ┆        ┆ William Henry     ┆   ┆           ┆         ┆       ┆          │\n",
       "│ 14          ┆ 0        ┆ 3      ┆ Andersson, Mr.    ┆ … ┆ 347082    ┆ 31.275  ┆ null  ┆ S        │\n",
       "│             ┆          ┆        ┆ Anders Johan      ┆   ┆           ┆         ┆       ┆          │\n",
       "│ 17          ┆ 0        ┆ 3      ┆ Rice, Master.     ┆ … ┆ 382652    ┆ 29.125  ┆ null  ┆ Q        │\n",
       "│             ┆          ┆        ┆ Eugene            ┆   ┆           ┆         ┆       ┆          │\n",
       "│ 18          ┆ 1        ┆ 2      ┆ Williams, Mr.     ┆ … ┆ 244373    ┆ 13.0    ┆ null  ┆ S        │\n",
       "│             ┆          ┆        ┆ Charles Eugene    ┆   ┆           ┆         ┆       ┆          │\n",
       "└─────────────┴──────────┴────────┴───────────────────┴───┴───────────┴─────────┴───────┴──────────┘"
      ]
     },
     "execution_count": 269,
     "metadata": {},
     "output_type": "execute_result"
    }
   ],
   "source": [
    "# titanic.filter(\n",
    "#   (pl.col('Sex') == 'male') & \n",
    "#   (pl.col('PassengerId') < 20)\n",
    "#   )\n",
    "# これと同じ\n",
    "titanic.filter(pl.col('Sex') == 'male', pl.col('PassengerId') < 20)"
   ]
  },
  {
   "cell_type": "code",
   "execution_count": 270,
   "metadata": {},
   "outputs": [
    {
     "data": {
      "text/html": [
       "<div><style>\n",
       ".dataframe > thead > tr,\n",
       ".dataframe > tbody > tr {\n",
       "  text-align: right;\n",
       "  white-space: pre-wrap;\n",
       "}\n",
       "</style>\n",
       "<small>shape: (2, 6)</small><table border=\"1\" class=\"dataframe\"><thead><tr><th>Integer</th><th>Float</th><th>Datetime</th><th>Date</th><th>String</th><th>Boolean</th></tr><tr><td>i64</td><td>f64</td><td>datetime[μs]</td><td>datetime[μs]</td><td>str</td><td>bool</td></tr></thead><tbody><tr><td>2</td><td>2.0</td><td>2024-04-01 00:00:00</td><td>2024-01-01 00:00:00</td><td>&quot;train&quot;</td><td>true</td></tr><tr><td>4</td><td>4.0</td><td>2024-04-01 00:00:00</td><td>2024-01-01 00:00:00</td><td>&quot;train&quot;</td><td>null</td></tr></tbody></table></div>"
      ],
      "text/plain": [
       "shape: (2, 6)\n",
       "┌─────────┬───────┬─────────────────────┬─────────────────────┬────────┬─────────┐\n",
       "│ Integer ┆ Float ┆ Datetime            ┆ Date                ┆ String ┆ Boolean │\n",
       "│ ---     ┆ ---   ┆ ---                 ┆ ---                 ┆ ---    ┆ ---     │\n",
       "│ i64     ┆ f64   ┆ datetime[μs]        ┆ datetime[μs]        ┆ str    ┆ bool    │\n",
       "╞═════════╪═══════╪═════════════════════╪═════════════════════╪════════╪═════════╡\n",
       "│ 2       ┆ 2.0   ┆ 2024-04-01 00:00:00 ┆ 2024-01-01 00:00:00 ┆ train  ┆ true    │\n",
       "│ 4       ┆ 4.0   ┆ 2024-04-01 00:00:00 ┆ 2024-01-01 00:00:00 ┆ train  ┆ null    │\n",
       "└─────────┴───────┴─────────────────────┴─────────────────────┴────────┴─────────┘"
      ]
     },
     "execution_count": 270,
     "metadata": {},
     "output_type": "execute_result"
    }
   ],
   "source": [
    "df.filter([False, True, False, True])\n"
   ]
  },
  {
   "cell_type": "code",
   "execution_count": 271,
   "metadata": {},
   "outputs": [
    {
     "data": {
      "text/html": [
       "<div><style>\n",
       ".dataframe > thead > tr,\n",
       ".dataframe > tbody > tr {\n",
       "  text-align: right;\n",
       "  white-space: pre-wrap;\n",
       "}\n",
       "</style>\n",
       "<small>shape: (891,)</small><table border=\"1\" class=\"dataframe\"><thead><tr><th>Embarked</th></tr><tr><td>bool</td></tr></thead><tbody><tr><td>false</td></tr><tr><td>false</td></tr><tr><td>false</td></tr><tr><td>false</td></tr><tr><td>false</td></tr><tr><td>&hellip;</td></tr><tr><td>false</td></tr><tr><td>false</td></tr><tr><td>false</td></tr><tr><td>false</td></tr><tr><td>true</td></tr></tbody></table></div>"
      ],
      "text/plain": [
       "shape: (891,)\n",
       "Series: 'Embarked' [bool]\n",
       "[\n",
       "\tfalse\n",
       "\tfalse\n",
       "\tfalse\n",
       "\tfalse\n",
       "\tfalse\n",
       "\t…\n",
       "\tfalse\n",
       "\tfalse\n",
       "\tfalse\n",
       "\tfalse\n",
       "\ttrue\n",
       "]"
      ]
     },
     "execution_count": 271,
     "metadata": {},
     "output_type": "execute_result"
    }
   ],
   "source": [
    "titanic.get_column('Embarked').is_in(['Q'])"
   ]
  },
  {
   "cell_type": "code",
   "execution_count": 272,
   "metadata": {},
   "outputs": [
    {
     "data": {
      "text/html": [
       "<div><style>\n",
       ".dataframe > thead > tr,\n",
       ".dataframe > tbody > tr {\n",
       "  text-align: right;\n",
       "  white-space: pre-wrap;\n",
       "}\n",
       "</style>\n",
       "<small>shape: (5, 12)</small><table border=\"1\" class=\"dataframe\"><thead><tr><th>PassengerId</th><th>Survived</th><th>Pclass</th><th>Name</th><th>Sex</th><th>Age</th><th>SibSp</th><th>Parch</th><th>Ticket</th><th>Fare</th><th>Cabin</th><th>Embarked</th></tr><tr><td>i64</td><td>i64</td><td>i64</td><td>str</td><td>str</td><td>f64</td><td>i64</td><td>i64</td><td>str</td><td>f64</td><td>str</td><td>str</td></tr></thead><tbody><tr><td>1</td><td>0</td><td>3</td><td>&quot;Braund, Mr. Owen Harris&quot;</td><td>&quot;male&quot;</td><td>22.0</td><td>1</td><td>0</td><td>&quot;A/5 21171&quot;</td><td>7.25</td><td>null</td><td>&quot;S&quot;</td></tr><tr><td>3</td><td>1</td><td>3</td><td>&quot;Heikkinen, Miss. Laina&quot;</td><td>&quot;female&quot;</td><td>26.0</td><td>0</td><td>0</td><td>&quot;STON/O2. 3101282&quot;</td><td>7.925</td><td>null</td><td>&quot;S&quot;</td></tr><tr><td>5</td><td>0</td><td>3</td><td>&quot;Allen, Mr. William Henry&quot;</td><td>&quot;male&quot;</td><td>35.0</td><td>0</td><td>0</td><td>&quot;373450&quot;</td><td>8.05</td><td>null</td><td>&quot;S&quot;</td></tr><tr><td>7</td><td>0</td><td>1</td><td>&quot;McCarthy, Mr. Timothy J&quot;</td><td>&quot;male&quot;</td><td>54.0</td><td>0</td><td>0</td><td>&quot;17463&quot;</td><td>51.8625</td><td>&quot;E46&quot;</td><td>&quot;S&quot;</td></tr><tr><td>9</td><td>1</td><td>3</td><td>&quot;Johnson, Mrs. Oscar W (Elisabe…</td><td>&quot;female&quot;</td><td>27.0</td><td>0</td><td>2</td><td>&quot;347742&quot;</td><td>11.1333</td><td>null</td><td>&quot;S&quot;</td></tr></tbody></table></div>"
      ],
      "text/plain": [
       "shape: (5, 12)\n",
       "┌─────────────┬──────────┬────────┬───────────────────┬───┬───────────┬─────────┬───────┬──────────┐\n",
       "│ PassengerId ┆ Survived ┆ Pclass ┆ Name              ┆ … ┆ Ticket    ┆ Fare    ┆ Cabin ┆ Embarked │\n",
       "│ ---         ┆ ---      ┆ ---    ┆ ---               ┆   ┆ ---       ┆ ---     ┆ ---   ┆ ---      │\n",
       "│ i64         ┆ i64      ┆ i64    ┆ str               ┆   ┆ str       ┆ f64     ┆ str   ┆ str      │\n",
       "╞═════════════╪══════════╪════════╪═══════════════════╪═══╪═══════════╪═════════╪═══════╪══════════╡\n",
       "│ 1           ┆ 0        ┆ 3      ┆ Braund, Mr. Owen  ┆ … ┆ A/5 21171 ┆ 7.25    ┆ null  ┆ S        │\n",
       "│             ┆          ┆        ┆ Harris            ┆   ┆           ┆         ┆       ┆          │\n",
       "│ 3           ┆ 1        ┆ 3      ┆ Heikkinen, Miss.  ┆ … ┆ STON/O2.  ┆ 7.925   ┆ null  ┆ S        │\n",
       "│             ┆          ┆        ┆ Laina             ┆   ┆ 3101282   ┆         ┆       ┆          │\n",
       "│ 5           ┆ 0        ┆ 3      ┆ Allen, Mr.        ┆ … ┆ 373450    ┆ 8.05    ┆ null  ┆ S        │\n",
       "│             ┆          ┆        ┆ William Henry     ┆   ┆           ┆         ┆       ┆          │\n",
       "│ 7           ┆ 0        ┆ 1      ┆ McCarthy, Mr.     ┆ … ┆ 17463     ┆ 51.8625 ┆ E46   ┆ S        │\n",
       "│             ┆          ┆        ┆ Timothy J         ┆   ┆           ┆         ┆       ┆          │\n",
       "│ 9           ┆ 1        ┆ 3      ┆ Johnson, Mrs.     ┆ … ┆ 347742    ┆ 11.1333 ┆ null  ┆ S        │\n",
       "│             ┆          ┆        ┆ Oscar W (Elisabe… ┆   ┆           ┆         ┆       ┆          │\n",
       "└─────────────┴──────────┴────────┴───────────────────┴───┴───────────┴─────────┴───────┴──────────┘"
      ]
     },
     "execution_count": 272,
     "metadata": {},
     "output_type": "execute_result"
    }
   ],
   "source": [
    "titanic.filter(titanic.get_column('PassengerId').is_in([1,3,5,7,9]))"
   ]
  },
  {
   "cell_type": "markdown",
   "metadata": {},
   "source": [
    "## ユニーク行・重複行\n"
   ]
  },
  {
   "cell_type": "code",
   "execution_count": 273,
   "metadata": {},
   "outputs": [
    {
     "data": {
      "text/html": [
       "<div><style>\n",
       ".dataframe > thead > tr,\n",
       ".dataframe > tbody > tr {\n",
       "  text-align: right;\n",
       "  white-space: pre-wrap;\n",
       "}\n",
       "</style>\n",
       "<small>shape: (3, 12)</small><table border=\"1\" class=\"dataframe\"><thead><tr><th>PassengerId</th><th>Survived</th><th>Pclass</th><th>Name</th><th>Sex</th><th>Age</th><th>SibSp</th><th>Parch</th><th>Ticket</th><th>Fare</th><th>Cabin</th><th>Embarked</th></tr><tr><td>i64</td><td>i64</td><td>i64</td><td>str</td><td>str</td><td>f64</td><td>i64</td><td>i64</td><td>str</td><td>f64</td><td>str</td><td>str</td></tr></thead><tbody><tr><td>1</td><td>0</td><td>3</td><td>&quot;Braund, Mr. Owen Harris&quot;</td><td>&quot;male&quot;</td><td>22.0</td><td>1</td><td>0</td><td>&quot;A/5 21171&quot;</td><td>7.25</td><td>null</td><td>&quot;S&quot;</td></tr><tr><td>10</td><td>1</td><td>2</td><td>&quot;Nasser, Mrs. Nicholas (Adele A…</td><td>&quot;female&quot;</td><td>14.0</td><td>1</td><td>0</td><td>&quot;237736&quot;</td><td>30.0708</td><td>null</td><td>&quot;C&quot;</td></tr><tr><td>2</td><td>1</td><td>1</td><td>&quot;Cumings, Mrs. John Bradley (Fl…</td><td>&quot;female&quot;</td><td>38.0</td><td>1</td><td>0</td><td>&quot;PC 17599&quot;</td><td>71.2833</td><td>&quot;C85&quot;</td><td>&quot;C&quot;</td></tr></tbody></table></div>"
      ],
      "text/plain": [
       "shape: (3, 12)\n",
       "┌─────────────┬──────────┬────────┬───────────────────┬───┬───────────┬─────────┬───────┬──────────┐\n",
       "│ PassengerId ┆ Survived ┆ Pclass ┆ Name              ┆ … ┆ Ticket    ┆ Fare    ┆ Cabin ┆ Embarked │\n",
       "│ ---         ┆ ---      ┆ ---    ┆ ---               ┆   ┆ ---       ┆ ---     ┆ ---   ┆ ---      │\n",
       "│ i64         ┆ i64      ┆ i64    ┆ str               ┆   ┆ str       ┆ f64     ┆ str   ┆ str      │\n",
       "╞═════════════╪══════════╪════════╪═══════════════════╪═══╪═══════════╪═════════╪═══════╪══════════╡\n",
       "│ 1           ┆ 0        ┆ 3      ┆ Braund, Mr. Owen  ┆ … ┆ A/5 21171 ┆ 7.25    ┆ null  ┆ S        │\n",
       "│             ┆          ┆        ┆ Harris            ┆   ┆           ┆         ┆       ┆          │\n",
       "│ 10          ┆ 1        ┆ 2      ┆ Nasser, Mrs.      ┆ … ┆ 237736    ┆ 30.0708 ┆ null  ┆ C        │\n",
       "│             ┆          ┆        ┆ Nicholas (Adele   ┆   ┆           ┆         ┆       ┆          │\n",
       "│             ┆          ┆        ┆ A…                ┆   ┆           ┆         ┆       ┆          │\n",
       "│ 2           ┆ 1        ┆ 1      ┆ Cumings, Mrs.     ┆ … ┆ PC 17599  ┆ 71.2833 ┆ C85   ┆ C        │\n",
       "│             ┆          ┆        ┆ John Bradley (Fl… ┆   ┆           ┆         ┆       ┆          │\n",
       "└─────────────┴──────────┴────────┴───────────────────┴───┴───────────┴─────────┴───────┴──────────┘"
      ]
     },
     "execution_count": 273,
     "metadata": {},
     "output_type": "execute_result"
    }
   ],
   "source": [
    "titanic.unique('Pclass')"
   ]
  },
  {
   "cell_type": "code",
   "execution_count": 274,
   "metadata": {},
   "outputs": [
    {
     "data": {
      "text/html": [
       "<div><style>\n",
       ".dataframe > thead > tr,\n",
       ".dataframe > tbody > tr {\n",
       "  text-align: right;\n",
       "  white-space: pre-wrap;\n",
       "}\n",
       "</style>\n",
       "<small>shape: (10, 2)</small><table border=\"1\" class=\"dataframe\"><thead><tr><th>Pclass</th><th>Embarked</th></tr><tr><td>i64</td><td>str</td></tr></thead><tbody><tr><td>1</td><td>null</td></tr><tr><td>1</td><td>&quot;C&quot;</td></tr><tr><td>1</td><td>&quot;Q&quot;</td></tr><tr><td>1</td><td>&quot;S&quot;</td></tr><tr><td>2</td><td>&quot;C&quot;</td></tr><tr><td>2</td><td>&quot;Q&quot;</td></tr><tr><td>2</td><td>&quot;S&quot;</td></tr><tr><td>3</td><td>&quot;C&quot;</td></tr><tr><td>3</td><td>&quot;Q&quot;</td></tr><tr><td>3</td><td>&quot;S&quot;</td></tr></tbody></table></div>"
      ],
      "text/plain": [
       "shape: (10, 2)\n",
       "┌────────┬──────────┐\n",
       "│ Pclass ┆ Embarked │\n",
       "│ ---    ┆ ---      │\n",
       "│ i64    ┆ str      │\n",
       "╞════════╪══════════╡\n",
       "│ 1      ┆ null     │\n",
       "│ 1      ┆ C        │\n",
       "│ 1      ┆ Q        │\n",
       "│ 1      ┆ S        │\n",
       "│ 2      ┆ C        │\n",
       "│ 2      ┆ Q        │\n",
       "│ 2      ┆ S        │\n",
       "│ 3      ┆ C        │\n",
       "│ 3      ┆ Q        │\n",
       "│ 3      ┆ S        │\n",
       "└────────┴──────────┘"
      ]
     },
     "execution_count": 274,
     "metadata": {},
     "output_type": "execute_result"
    }
   ],
   "source": [
    "titanic.select('Pclass', 'Embarked').unique(subset=['Pclass', 'Embarked'], keep='any').sort('Pclass', 'Embarked')"
   ]
  },
  {
   "cell_type": "code",
   "execution_count": 275,
   "metadata": {},
   "outputs": [
    {
     "data": {
      "text/html": [
       "<div><style>\n",
       ".dataframe > thead > tr,\n",
       ".dataframe > tbody > tr {\n",
       "  text-align: right;\n",
       "  white-space: pre-wrap;\n",
       "}\n",
       "</style>\n",
       "<small>shape: (8, 2)</small><table border=\"1\" class=\"dataframe\"><thead><tr><th>a</th><th>b</th></tr><tr><td>str</td><td>str</td></tr></thead><tbody><tr><td>&quot;one&quot;</td><td>&quot;x&quot;</td></tr><tr><td>&quot;one&quot;</td><td>&quot;y&quot;</td></tr><tr><td>&quot;two&quot;</td><td>&quot;x&quot;</td></tr><tr><td>&quot;two&quot;</td><td>&quot;y&quot;</td></tr><tr><td>&quot;two&quot;</td><td>&quot;x&quot;</td></tr><tr><td>&quot;three&quot;</td><td>&quot;x&quot;</td></tr><tr><td>&quot;four&quot;</td><td>&quot;x&quot;</td></tr><tr><td>&quot;four&quot;</td><td>&quot;x&quot;</td></tr></tbody></table></div>"
      ],
      "text/plain": [
       "shape: (8, 2)\n",
       "┌───────┬─────┐\n",
       "│ a     ┆ b   │\n",
       "│ ---   ┆ --- │\n",
       "│ str   ┆ str │\n",
       "╞═══════╪═════╡\n",
       "│ one   ┆ x   │\n",
       "│ one   ┆ y   │\n",
       "│ two   ┆ x   │\n",
       "│ two   ┆ y   │\n",
       "│ two   ┆ x   │\n",
       "│ three ┆ x   │\n",
       "│ four  ┆ x   │\n",
       "│ four  ┆ x   │\n",
       "└───────┴─────┘"
      ]
     },
     "execution_count": 275,
     "metadata": {},
     "output_type": "execute_result"
    }
   ],
   "source": [
    "df_dup = pl.DataFrame(\n",
    "    {\n",
    "        'a': ['one', 'one', 'two', 'two', 'two', 'three', 'four', 'four'],\n",
    "        'b': ['x', 'y', 'x', 'y', 'x', 'x', 'x', 'x']\n",
    "    }\n",
    ")\n",
    "df_dup\n"
   ]
  },
  {
   "cell_type": "code",
   "execution_count": 276,
   "metadata": {},
   "outputs": [
    {
     "data": {
      "text/html": [
       "<div><style>\n",
       ".dataframe > thead > tr,\n",
       ".dataframe > tbody > tr {\n",
       "  text-align: right;\n",
       "  white-space: pre-wrap;\n",
       "}\n",
       "</style>\n",
       "<small>shape: (8,)</small><table border=\"1\" class=\"dataframe\"><thead><tr><th></th></tr><tr><td>bool</td></tr></thead><tbody><tr><td>false</td></tr><tr><td>false</td></tr><tr><td>true</td></tr><tr><td>false</td></tr><tr><td>true</td></tr><tr><td>false</td></tr><tr><td>true</td></tr><tr><td>true</td></tr></tbody></table></div>"
      ],
      "text/plain": [
       "shape: (8,)\n",
       "Series: '' [bool]\n",
       "[\n",
       "\tfalse\n",
       "\tfalse\n",
       "\ttrue\n",
       "\tfalse\n",
       "\ttrue\n",
       "\tfalse\n",
       "\ttrue\n",
       "\ttrue\n",
       "]"
      ]
     },
     "execution_count": 276,
     "metadata": {},
     "output_type": "execute_result"
    }
   ],
   "source": [
    "df_dup.is_duplicated()"
   ]
  },
  {
   "cell_type": "code",
   "execution_count": 277,
   "metadata": {},
   "outputs": [
    {
     "data": {
      "text/html": [
       "<div><style>\n",
       ".dataframe > thead > tr,\n",
       ".dataframe > tbody > tr {\n",
       "  text-align: right;\n",
       "  white-space: pre-wrap;\n",
       "}\n",
       "</style>\n",
       "<small>shape: (8,)</small><table border=\"1\" class=\"dataframe\"><thead><tr><th></th></tr><tr><td>bool</td></tr></thead><tbody><tr><td>true</td></tr><tr><td>true</td></tr><tr><td>false</td></tr><tr><td>true</td></tr><tr><td>false</td></tr><tr><td>true</td></tr><tr><td>false</td></tr><tr><td>false</td></tr></tbody></table></div>"
      ],
      "text/plain": [
       "shape: (8,)\n",
       "Series: '' [bool]\n",
       "[\n",
       "\ttrue\n",
       "\ttrue\n",
       "\tfalse\n",
       "\ttrue\n",
       "\tfalse\n",
       "\ttrue\n",
       "\tfalse\n",
       "\tfalse\n",
       "]"
      ]
     },
     "execution_count": 277,
     "metadata": {},
     "output_type": "execute_result"
    }
   ],
   "source": [
    "df_dup.is_unique()"
   ]
  },
  {
   "cell_type": "markdown",
   "metadata": {},
   "source": [
    "## 列の選択と追加\n"
   ]
  },
  {
   "cell_type": "code",
   "execution_count": 278,
   "metadata": {},
   "outputs": [
    {
     "data": {
      "text/html": [
       "<div><style>\n",
       ".dataframe > thead > tr,\n",
       ".dataframe > tbody > tr {\n",
       "  text-align: right;\n",
       "  white-space: pre-wrap;\n",
       "}\n",
       "</style>\n",
       "<small>shape: (891,)</small><table border=\"1\" class=\"dataframe\"><thead><tr><th>Sex</th></tr><tr><td>str</td></tr></thead><tbody><tr><td>&quot;male&quot;</td></tr><tr><td>&quot;female&quot;</td></tr><tr><td>&quot;female&quot;</td></tr><tr><td>&quot;female&quot;</td></tr><tr><td>&quot;male&quot;</td></tr><tr><td>&hellip;</td></tr><tr><td>&quot;male&quot;</td></tr><tr><td>&quot;female&quot;</td></tr><tr><td>&quot;female&quot;</td></tr><tr><td>&quot;male&quot;</td></tr><tr><td>&quot;male&quot;</td></tr></tbody></table></div>"
      ],
      "text/plain": [
       "shape: (891,)\n",
       "Series: 'Sex' [str]\n",
       "[\n",
       "\t\"male\"\n",
       "\t\"female\"\n",
       "\t\"female\"\n",
       "\t\"female\"\n",
       "\t\"male\"\n",
       "\t…\n",
       "\t\"male\"\n",
       "\t\"female\"\n",
       "\t\"female\"\n",
       "\t\"male\"\n",
       "\t\"male\"\n",
       "]"
      ]
     },
     "execution_count": 278,
     "metadata": {},
     "output_type": "execute_result"
    }
   ],
   "source": [
    "# titanic.select('Sex'): dataframe\n",
    "# series\n",
    "titanic.get_column('Sex')\n"
   ]
  },
  {
   "cell_type": "code",
   "execution_count": 279,
   "metadata": {},
   "outputs": [
    {
     "data": {
      "text/html": [
       "<div><style>\n",
       ".dataframe > thead > tr,\n",
       ".dataframe > tbody > tr {\n",
       "  text-align: right;\n",
       "  white-space: pre-wrap;\n",
       "}\n",
       "</style>\n",
       "<small>shape: (891,)</small><table border=\"1\" class=\"dataframe\"><thead><tr><th>Ticket</th></tr><tr><td>str</td></tr></thead><tbody><tr><td>&quot;A/5 21171&quot;</td></tr><tr><td>&quot;PC 17599&quot;</td></tr><tr><td>&quot;STON/O2. 3101282&quot;</td></tr><tr><td>&quot;113803&quot;</td></tr><tr><td>&quot;373450&quot;</td></tr><tr><td>&hellip;</td></tr><tr><td>&quot;211536&quot;</td></tr><tr><td>&quot;112053&quot;</td></tr><tr><td>&quot;W./C. 6607&quot;</td></tr><tr><td>&quot;111369&quot;</td></tr><tr><td>&quot;370376&quot;</td></tr></tbody></table></div>"
      ],
      "text/plain": [
       "shape: (891,)\n",
       "Series: 'Ticket' [str]\n",
       "[\n",
       "\t\"A/5 21171\"\n",
       "\t\"PC 17599\"\n",
       "\t\"STON/O2. 3101282\"\n",
       "\t\"113803\"\n",
       "\t\"373450\"\n",
       "\t…\n",
       "\t\"211536\"\n",
       "\t\"112053\"\n",
       "\t\"W./C. 6607\"\n",
       "\t\"111369\"\n",
       "\t\"370376\"\n",
       "]"
      ]
     },
     "execution_count": 279,
     "metadata": {},
     "output_type": "execute_result"
    }
   ],
   "source": [
    "# titanic.get_column_index('Ticket'): 8\n",
    "titanic.get_columns()[titanic.get_column_index('Ticket')]"
   ]
  },
  {
   "cell_type": "code",
   "execution_count": 280,
   "metadata": {},
   "outputs": [
    {
     "data": {
      "text/html": [
       "<div><style>\n",
       ".dataframe > thead > tr,\n",
       ".dataframe > tbody > tr {\n",
       "  text-align: right;\n",
       "  white-space: pre-wrap;\n",
       "}\n",
       "</style>\n",
       "<small>shape: (891, 13)</small><table border=\"1\" class=\"dataframe\"><thead><tr><th>PassengerId</th><th>Survived</th><th>Pclass</th><th>Name</th><th>Sex</th><th>Age</th><th>SibSp</th><th>Parch</th><th>Ticket</th><th>Fare</th><th>Cabin</th><th>Embarked</th><th>NewPassengerId</th></tr><tr><td>i64</td><td>i64</td><td>i64</td><td>str</td><td>str</td><td>f64</td><td>i64</td><td>i64</td><td>str</td><td>f64</td><td>str</td><td>str</td><td>i64</td></tr></thead><tbody><tr><td>1</td><td>0</td><td>3</td><td>&quot;Braund, Mr. Owen Harris&quot;</td><td>&quot;male&quot;</td><td>22.0</td><td>1</td><td>0</td><td>&quot;A/5 21171&quot;</td><td>7.25</td><td>null</td><td>&quot;S&quot;</td><td>100</td></tr><tr><td>2</td><td>1</td><td>1</td><td>&quot;Cumings, Mrs. John Bradley (Fl…</td><td>&quot;female&quot;</td><td>38.0</td><td>1</td><td>0</td><td>&quot;PC 17599&quot;</td><td>71.2833</td><td>&quot;C85&quot;</td><td>&quot;C&quot;</td><td>200</td></tr><tr><td>3</td><td>1</td><td>3</td><td>&quot;Heikkinen, Miss. Laina&quot;</td><td>&quot;female&quot;</td><td>26.0</td><td>0</td><td>0</td><td>&quot;STON/O2. 3101282&quot;</td><td>7.925</td><td>null</td><td>&quot;S&quot;</td><td>300</td></tr><tr><td>4</td><td>1</td><td>1</td><td>&quot;Futrelle, Mrs. Jacques Heath (…</td><td>&quot;female&quot;</td><td>35.0</td><td>1</td><td>0</td><td>&quot;113803&quot;</td><td>53.1</td><td>&quot;C123&quot;</td><td>&quot;S&quot;</td><td>400</td></tr><tr><td>5</td><td>0</td><td>3</td><td>&quot;Allen, Mr. William Henry&quot;</td><td>&quot;male&quot;</td><td>35.0</td><td>0</td><td>0</td><td>&quot;373450&quot;</td><td>8.05</td><td>null</td><td>&quot;S&quot;</td><td>500</td></tr><tr><td>&hellip;</td><td>&hellip;</td><td>&hellip;</td><td>&hellip;</td><td>&hellip;</td><td>&hellip;</td><td>&hellip;</td><td>&hellip;</td><td>&hellip;</td><td>&hellip;</td><td>&hellip;</td><td>&hellip;</td><td>&hellip;</td></tr><tr><td>887</td><td>0</td><td>2</td><td>&quot;Montvila, Rev. Juozas&quot;</td><td>&quot;male&quot;</td><td>27.0</td><td>0</td><td>0</td><td>&quot;211536&quot;</td><td>13.0</td><td>null</td><td>&quot;S&quot;</td><td>88700</td></tr><tr><td>888</td><td>1</td><td>1</td><td>&quot;Graham, Miss. Margaret Edith&quot;</td><td>&quot;female&quot;</td><td>19.0</td><td>0</td><td>0</td><td>&quot;112053&quot;</td><td>30.0</td><td>&quot;B42&quot;</td><td>&quot;S&quot;</td><td>88800</td></tr><tr><td>889</td><td>0</td><td>3</td><td>&quot;Johnston, Miss. Catherine Hele…</td><td>&quot;female&quot;</td><td>null</td><td>1</td><td>2</td><td>&quot;W./C. 6607&quot;</td><td>23.45</td><td>null</td><td>&quot;S&quot;</td><td>88900</td></tr><tr><td>890</td><td>1</td><td>1</td><td>&quot;Behr, Mr. Karl Howell&quot;</td><td>&quot;male&quot;</td><td>26.0</td><td>0</td><td>0</td><td>&quot;111369&quot;</td><td>30.0</td><td>&quot;C148&quot;</td><td>&quot;C&quot;</td><td>89000</td></tr><tr><td>891</td><td>0</td><td>3</td><td>&quot;Dooley, Mr. Patrick&quot;</td><td>&quot;male&quot;</td><td>32.0</td><td>0</td><td>0</td><td>&quot;370376&quot;</td><td>7.75</td><td>null</td><td>&quot;Q&quot;</td><td>89100</td></tr></tbody></table></div>"
      ],
      "text/plain": [
       "shape: (891, 13)\n",
       "┌─────────────┬──────────┬────────┬───────────────┬───┬─────────┬───────┬──────────┬───────────────┐\n",
       "│ PassengerId ┆ Survived ┆ Pclass ┆ Name          ┆ … ┆ Fare    ┆ Cabin ┆ Embarked ┆ NewPassengerI │\n",
       "│ ---         ┆ ---      ┆ ---    ┆ ---           ┆   ┆ ---     ┆ ---   ┆ ---      ┆ d             │\n",
       "│ i64         ┆ i64      ┆ i64    ┆ str           ┆   ┆ f64     ┆ str   ┆ str      ┆ ---           │\n",
       "│             ┆          ┆        ┆               ┆   ┆         ┆       ┆          ┆ i64           │\n",
       "╞═════════════╪══════════╪════════╪═══════════════╪═══╪═════════╪═══════╪══════════╪═══════════════╡\n",
       "│ 1           ┆ 0        ┆ 3      ┆ Braund, Mr.   ┆ … ┆ 7.25    ┆ null  ┆ S        ┆ 100           │\n",
       "│             ┆          ┆        ┆ Owen Harris   ┆   ┆         ┆       ┆          ┆               │\n",
       "│ 2           ┆ 1        ┆ 1      ┆ Cumings, Mrs. ┆ … ┆ 71.2833 ┆ C85   ┆ C        ┆ 200           │\n",
       "│             ┆          ┆        ┆ John Bradley  ┆   ┆         ┆       ┆          ┆               │\n",
       "│             ┆          ┆        ┆ (Fl…          ┆   ┆         ┆       ┆          ┆               │\n",
       "│ 3           ┆ 1        ┆ 3      ┆ Heikkinen,    ┆ … ┆ 7.925   ┆ null  ┆ S        ┆ 300           │\n",
       "│             ┆          ┆        ┆ Miss. Laina   ┆   ┆         ┆       ┆          ┆               │\n",
       "│ 4           ┆ 1        ┆ 1      ┆ Futrelle,     ┆ … ┆ 53.1    ┆ C123  ┆ S        ┆ 400           │\n",
       "│             ┆          ┆        ┆ Mrs. Jacques  ┆   ┆         ┆       ┆          ┆               │\n",
       "│             ┆          ┆        ┆ Heath (…      ┆   ┆         ┆       ┆          ┆               │\n",
       "│ 5           ┆ 0        ┆ 3      ┆ Allen, Mr.    ┆ … ┆ 8.05    ┆ null  ┆ S        ┆ 500           │\n",
       "│             ┆          ┆        ┆ William Henry ┆   ┆         ┆       ┆          ┆               │\n",
       "│ …           ┆ …        ┆ …      ┆ …             ┆ … ┆ …       ┆ …     ┆ …        ┆ …             │\n",
       "│ 887         ┆ 0        ┆ 2      ┆ Montvila,     ┆ … ┆ 13.0    ┆ null  ┆ S        ┆ 88700         │\n",
       "│             ┆          ┆        ┆ Rev. Juozas   ┆   ┆         ┆       ┆          ┆               │\n",
       "│ 888         ┆ 1        ┆ 1      ┆ Graham, Miss. ┆ … ┆ 30.0    ┆ B42   ┆ S        ┆ 88800         │\n",
       "│             ┆          ┆        ┆ Margaret      ┆   ┆         ┆       ┆          ┆               │\n",
       "│             ┆          ┆        ┆ Edith         ┆   ┆         ┆       ┆          ┆               │\n",
       "│ 889         ┆ 0        ┆ 3      ┆ Johnston,     ┆ … ┆ 23.45   ┆ null  ┆ S        ┆ 88900         │\n",
       "│             ┆          ┆        ┆ Miss.         ┆   ┆         ┆       ┆          ┆               │\n",
       "│             ┆          ┆        ┆ Catherine     ┆   ┆         ┆       ┆          ┆               │\n",
       "│             ┆          ┆        ┆ Hele…         ┆   ┆         ┆       ┆          ┆               │\n",
       "│ 890         ┆ 1        ┆ 1      ┆ Behr, Mr.     ┆ … ┆ 30.0    ┆ C148  ┆ C        ┆ 89000         │\n",
       "│             ┆          ┆        ┆ Karl Howell   ┆   ┆         ┆       ┆          ┆               │\n",
       "│ 891         ┆ 0        ┆ 3      ┆ Dooley, Mr.   ┆ … ┆ 7.75    ┆ null  ┆ Q        ┆ 89100         │\n",
       "│             ┆          ┆        ┆ Patrick       ┆   ┆         ┆       ┆          ┆               │\n",
       "└─────────────┴──────────┴────────┴───────────────┴───┴─────────┴───────┴──────────┴───────────────┘"
      ]
     },
     "execution_count": 280,
     "metadata": {},
     "output_type": "execute_result"
    }
   ],
   "source": [
    "# titanic.with_columns(NewPassengerId = titanic.get_column('PassengerId')* 100)\n",
    "titanic.with_columns(NewPassengerId = pl.col('PassengerId')* 100)"
   ]
  },
  {
   "cell_type": "code",
   "execution_count": 281,
   "metadata": {},
   "outputs": [
    {
     "name": "stderr",
     "output_type": "stream",
     "text": [
      "/var/folders/s7/r__8fgpd56l0s3kgg97276280000gn/T/ipykernel_20984/4171818025.py:1: DeprecationWarning: `with_row_count` is deprecated. Use `with_row_index` instead. Note that the default column name has changed from 'row_nr' to 'index'.\n",
      "  df.with_row_count()\n"
     ]
    },
    {
     "data": {
      "text/html": [
       "<div><style>\n",
       ".dataframe > thead > tr,\n",
       ".dataframe > tbody > tr {\n",
       "  text-align: right;\n",
       "  white-space: pre-wrap;\n",
       "}\n",
       "</style>\n",
       "<small>shape: (4, 7)</small><table border=\"1\" class=\"dataframe\"><thead><tr><th>row_nr</th><th>Integer</th><th>Float</th><th>Datetime</th><th>Date</th><th>String</th><th>Boolean</th></tr><tr><td>u32</td><td>i64</td><td>f64</td><td>datetime[μs]</td><td>datetime[μs]</td><td>str</td><td>bool</td></tr></thead><tbody><tr><td>0</td><td>1</td><td>1.0</td><td>2024-04-01 00:00:00</td><td>2024-01-01 00:00:00</td><td>&quot;test&quot;</td><td>true</td></tr><tr><td>1</td><td>2</td><td>2.0</td><td>2024-04-01 00:00:00</td><td>2024-01-01 00:00:00</td><td>&quot;train&quot;</td><td>true</td></tr><tr><td>2</td><td>3</td><td>3.0</td><td>2024-04-01 00:00:00</td><td>2024-01-01 00:00:00</td><td>&quot;test&quot;</td><td>false</td></tr><tr><td>3</td><td>4</td><td>4.0</td><td>2024-04-01 00:00:00</td><td>2024-01-01 00:00:00</td><td>&quot;train&quot;</td><td>null</td></tr></tbody></table></div>"
      ],
      "text/plain": [
       "shape: (4, 7)\n",
       "┌────────┬─────────┬───────┬─────────────────────┬─────────────────────┬────────┬─────────┐\n",
       "│ row_nr ┆ Integer ┆ Float ┆ Datetime            ┆ Date                ┆ String ┆ Boolean │\n",
       "│ ---    ┆ ---     ┆ ---   ┆ ---                 ┆ ---                 ┆ ---    ┆ ---     │\n",
       "│ u32    ┆ i64     ┆ f64   ┆ datetime[μs]        ┆ datetime[μs]        ┆ str    ┆ bool    │\n",
       "╞════════╪═════════╪═══════╪═════════════════════╪═════════════════════╪════════╪═════════╡\n",
       "│ 0      ┆ 1       ┆ 1.0   ┆ 2024-04-01 00:00:00 ┆ 2024-01-01 00:00:00 ┆ test   ┆ true    │\n",
       "│ 1      ┆ 2       ┆ 2.0   ┆ 2024-04-01 00:00:00 ┆ 2024-01-01 00:00:00 ┆ train  ┆ true    │\n",
       "│ 2      ┆ 3       ┆ 3.0   ┆ 2024-04-01 00:00:00 ┆ 2024-01-01 00:00:00 ┆ test   ┆ false   │\n",
       "│ 3      ┆ 4       ┆ 4.0   ┆ 2024-04-01 00:00:00 ┆ 2024-01-01 00:00:00 ┆ train  ┆ null    │\n",
       "└────────┴─────────┴───────┴─────────────────────┴─────────────────────┴────────┴─────────┘"
      ]
     },
     "execution_count": 281,
     "metadata": {},
     "output_type": "execute_result"
    }
   ],
   "source": [
    "df.with_row_count()\n"
   ]
  },
  {
   "cell_type": "markdown",
   "metadata": {},
   "source": [
    "## 基礎的な操作と演算"
   ]
  },
  {
   "cell_type": "code",
   "execution_count": 282,
   "metadata": {},
   "outputs": [
    {
     "data": {
      "text/html": [
       "<div><style>\n",
       ".dataframe > thead > tr,\n",
       ".dataframe > tbody > tr {\n",
       "  text-align: right;\n",
       "  white-space: pre-wrap;\n",
       "}\n",
       "</style>\n",
       "<small>shape: (1, 12)</small><table border=\"1\" class=\"dataframe\"><thead><tr><th>PassengerId</th><th>Survived</th><th>Pclass</th><th>Name</th><th>Sex</th><th>Age</th><th>SibSp</th><th>Parch</th><th>Ticket</th><th>Fare</th><th>Cabin</th><th>Embarked</th></tr><tr><td>f64</td><td>f64</td><td>f64</td><td>str</td><td>str</td><td>f64</td><td>f64</td><td>f64</td><td>str</td><td>f64</td><td>str</td><td>str</td></tr></thead><tbody><tr><td>446.0</td><td>0.0</td><td>3.0</td><td>null</td><td>null</td><td>28.0</td><td>0.0</td><td>0.0</td><td>null</td><td>14.4542</td><td>null</td><td>null</td></tr></tbody></table></div>"
      ],
      "text/plain": [
       "shape: (1, 12)\n",
       "┌─────────────┬──────────┬────────┬──────┬───┬────────┬─────────┬───────┬──────────┐\n",
       "│ PassengerId ┆ Survived ┆ Pclass ┆ Name ┆ … ┆ Ticket ┆ Fare    ┆ Cabin ┆ Embarked │\n",
       "│ ---         ┆ ---      ┆ ---    ┆ ---  ┆   ┆ ---    ┆ ---     ┆ ---   ┆ ---      │\n",
       "│ f64         ┆ f64      ┆ f64    ┆ str  ┆   ┆ str    ┆ f64     ┆ str   ┆ str      │\n",
       "╞═════════════╪══════════╪════════╪══════╪═══╪════════╪═════════╪═══════╪══════════╡\n",
       "│ 446.0       ┆ 0.0      ┆ 3.0    ┆ null ┆ … ┆ null   ┆ 14.4542 ┆ null  ┆ null     │\n",
       "└─────────────┴──────────┴────────┴──────┴───┴────────┴─────────┴───────┴──────────┘"
      ]
     },
     "execution_count": 282,
     "metadata": {},
     "output_type": "execute_result"
    }
   ],
   "source": [
    "titanic.sum()\n",
    "titanic.mean()\n",
    "titanic.quantile(0.5)\n"
   ]
  },
  {
   "cell_type": "code",
   "execution_count": 283,
   "metadata": {},
   "outputs": [
    {
     "data": {
      "text/html": [
       "<div><style>\n",
       ".dataframe > thead > tr,\n",
       ".dataframe > tbody > tr {\n",
       "  text-align: right;\n",
       "  white-space: pre-wrap;\n",
       "}\n",
       "</style>\n",
       "<small>shape: (2, 2)</small><table border=\"1\" class=\"dataframe\"><thead><tr><th>Sex</th><th>count</th></tr><tr><td>str</td><td>u32</td></tr></thead><tbody><tr><td>&quot;female&quot;</td><td>314</td></tr><tr><td>&quot;male&quot;</td><td>577</td></tr></tbody></table></div>"
      ],
      "text/plain": [
       "shape: (2, 2)\n",
       "┌────────┬───────┐\n",
       "│ Sex    ┆ count │\n",
       "│ ---    ┆ ---   │\n",
       "│ str    ┆ u32   │\n",
       "╞════════╪═══════╡\n",
       "│ female ┆ 314   │\n",
       "│ male   ┆ 577   │\n",
       "└────────┴───────┘"
      ]
     },
     "execution_count": 283,
     "metadata": {},
     "output_type": "execute_result"
    }
   ],
   "source": [
    "titanic['Sex'].value_counts()"
   ]
  },
  {
   "cell_type": "code",
   "execution_count": 284,
   "metadata": {},
   "outputs": [
    {
     "data": {
      "text/html": [
       "<div><style>\n",
       ".dataframe > thead > tr,\n",
       ".dataframe > tbody > tr {\n",
       "  text-align: right;\n",
       "  white-space: pre-wrap;\n",
       "}\n",
       "</style>\n",
       "<small>shape: (2, 2)</small><table border=\"1\" class=\"dataframe\"><thead><tr><th>Sex</th><th>count</th></tr><tr><td>str</td><td>u32</td></tr></thead><tbody><tr><td>&quot;female&quot;</td><td>314</td></tr><tr><td>&quot;male&quot;</td><td>577</td></tr></tbody></table></div>"
      ],
      "text/plain": [
       "shape: (2, 2)\n",
       "┌────────┬───────┐\n",
       "│ Sex    ┆ count │\n",
       "│ ---    ┆ ---   │\n",
       "│ str    ┆ u32   │\n",
       "╞════════╪═══════╡\n",
       "│ female ┆ 314   │\n",
       "│ male   ┆ 577   │\n",
       "└────────┴───────┘"
      ]
     },
     "execution_count": 284,
     "metadata": {},
     "output_type": "execute_result"
    }
   ],
   "source": [
    "# titanic.select('Sex').value_counts(): dataframe\n",
    "# series\n",
    "titanic.get_column('Sex').value_counts()"
   ]
  },
  {
   "cell_type": "markdown",
   "metadata": {},
   "source": [
    "## 列操作：エクスプレッションの主な使い方\n"
   ]
  },
  {
   "cell_type": "code",
   "execution_count": 285,
   "metadata": {},
   "outputs": [
    {
     "data": {
      "text/html": [
       "<div><style>\n",
       ".dataframe > thead > tr,\n",
       ".dataframe > tbody > tr {\n",
       "  text-align: right;\n",
       "  white-space: pre-wrap;\n",
       "}\n",
       "</style>\n",
       "<small>shape: (891, 2)</small><table border=\"1\" class=\"dataframe\"><thead><tr><th>Pclass</th><th>Embarked</th></tr><tr><td>i64</td><td>str</td></tr></thead><tbody><tr><td>3</td><td>&quot;S&quot;</td></tr><tr><td>1</td><td>&quot;C&quot;</td></tr><tr><td>3</td><td>&quot;S&quot;</td></tr><tr><td>1</td><td>&quot;S&quot;</td></tr><tr><td>3</td><td>&quot;S&quot;</td></tr><tr><td>&hellip;</td><td>&hellip;</td></tr><tr><td>2</td><td>&quot;S&quot;</td></tr><tr><td>1</td><td>&quot;S&quot;</td></tr><tr><td>3</td><td>&quot;S&quot;</td></tr><tr><td>1</td><td>&quot;C&quot;</td></tr><tr><td>3</td><td>&quot;Q&quot;</td></tr></tbody></table></div>"
      ],
      "text/plain": [
       "shape: (891, 2)\n",
       "┌────────┬──────────┐\n",
       "│ Pclass ┆ Embarked │\n",
       "│ ---    ┆ ---      │\n",
       "│ i64    ┆ str      │\n",
       "╞════════╪══════════╡\n",
       "│ 3      ┆ S        │\n",
       "│ 1      ┆ C        │\n",
       "│ 3      ┆ S        │\n",
       "│ 1      ┆ S        │\n",
       "│ 3      ┆ S        │\n",
       "│ …      ┆ …        │\n",
       "│ 2      ┆ S        │\n",
       "│ 1      ┆ S        │\n",
       "│ 3      ┆ S        │\n",
       "│ 1      ┆ C        │\n",
       "│ 3      ┆ Q        │\n",
       "└────────┴──────────┘"
      ]
     },
     "execution_count": 285,
     "metadata": {},
     "output_type": "execute_result"
    }
   ],
   "source": [
    "# titanic.select('Pclass', 'Embarked')でもOK\n",
    "titanic.select(pl.col('Pclass', 'Embarked'))\n"
   ]
  },
  {
   "cell_type": "code",
   "execution_count": 286,
   "metadata": {},
   "outputs": [
    {
     "data": {
      "text/html": [
       "<div><style>\n",
       ".dataframe > thead > tr,\n",
       ".dataframe > tbody > tr {\n",
       "  text-align: right;\n",
       "  white-space: pre-wrap;\n",
       "}\n",
       "</style>\n",
       "<small>shape: (891, 5)</small><table border=\"1\" class=\"dataframe\"><thead><tr><th>Name</th><th>Sex</th><th>Ticket</th><th>Cabin</th><th>Embarked</th></tr><tr><td>str</td><td>str</td><td>str</td><td>str</td><td>str</td></tr></thead><tbody><tr><td>&quot;Braund, Mr. Owen Harris&quot;</td><td>&quot;male&quot;</td><td>&quot;A/5 21171&quot;</td><td>null</td><td>&quot;S&quot;</td></tr><tr><td>&quot;Cumings, Mrs. John Bradley (Fl…</td><td>&quot;female&quot;</td><td>&quot;PC 17599&quot;</td><td>&quot;C85&quot;</td><td>&quot;C&quot;</td></tr><tr><td>&quot;Heikkinen, Miss. Laina&quot;</td><td>&quot;female&quot;</td><td>&quot;STON/O2. 3101282&quot;</td><td>null</td><td>&quot;S&quot;</td></tr><tr><td>&quot;Futrelle, Mrs. Jacques Heath (…</td><td>&quot;female&quot;</td><td>&quot;113803&quot;</td><td>&quot;C123&quot;</td><td>&quot;S&quot;</td></tr><tr><td>&quot;Allen, Mr. William Henry&quot;</td><td>&quot;male&quot;</td><td>&quot;373450&quot;</td><td>null</td><td>&quot;S&quot;</td></tr><tr><td>&hellip;</td><td>&hellip;</td><td>&hellip;</td><td>&hellip;</td><td>&hellip;</td></tr><tr><td>&quot;Montvila, Rev. Juozas&quot;</td><td>&quot;male&quot;</td><td>&quot;211536&quot;</td><td>null</td><td>&quot;S&quot;</td></tr><tr><td>&quot;Graham, Miss. Margaret Edith&quot;</td><td>&quot;female&quot;</td><td>&quot;112053&quot;</td><td>&quot;B42&quot;</td><td>&quot;S&quot;</td></tr><tr><td>&quot;Johnston, Miss. Catherine Hele…</td><td>&quot;female&quot;</td><td>&quot;W./C. 6607&quot;</td><td>null</td><td>&quot;S&quot;</td></tr><tr><td>&quot;Behr, Mr. Karl Howell&quot;</td><td>&quot;male&quot;</td><td>&quot;111369&quot;</td><td>&quot;C148&quot;</td><td>&quot;C&quot;</td></tr><tr><td>&quot;Dooley, Mr. Patrick&quot;</td><td>&quot;male&quot;</td><td>&quot;370376&quot;</td><td>null</td><td>&quot;Q&quot;</td></tr></tbody></table></div>"
      ],
      "text/plain": [
       "shape: (891, 5)\n",
       "┌─────────────────────────────────┬────────┬──────────────────┬───────┬──────────┐\n",
       "│ Name                            ┆ Sex    ┆ Ticket           ┆ Cabin ┆ Embarked │\n",
       "│ ---                             ┆ ---    ┆ ---              ┆ ---   ┆ ---      │\n",
       "│ str                             ┆ str    ┆ str              ┆ str   ┆ str      │\n",
       "╞═════════════════════════════════╪════════╪══════════════════╪═══════╪══════════╡\n",
       "│ Braund, Mr. Owen Harris         ┆ male   ┆ A/5 21171        ┆ null  ┆ S        │\n",
       "│ Cumings, Mrs. John Bradley (Fl… ┆ female ┆ PC 17599         ┆ C85   ┆ C        │\n",
       "│ Heikkinen, Miss. Laina          ┆ female ┆ STON/O2. 3101282 ┆ null  ┆ S        │\n",
       "│ Futrelle, Mrs. Jacques Heath (… ┆ female ┆ 113803           ┆ C123  ┆ S        │\n",
       "│ Allen, Mr. William Henry        ┆ male   ┆ 373450           ┆ null  ┆ S        │\n",
       "│ …                               ┆ …      ┆ …                ┆ …     ┆ …        │\n",
       "│ Montvila, Rev. Juozas           ┆ male   ┆ 211536           ┆ null  ┆ S        │\n",
       "│ Graham, Miss. Margaret Edith    ┆ female ┆ 112053           ┆ B42   ┆ S        │\n",
       "│ Johnston, Miss. Catherine Hele… ┆ female ┆ W./C. 6607       ┆ null  ┆ S        │\n",
       "│ Behr, Mr. Karl Howell           ┆ male   ┆ 111369           ┆ C148  ┆ C        │\n",
       "│ Dooley, Mr. Patrick             ┆ male   ┆ 370376           ┆ null  ┆ Q        │\n",
       "└─────────────────────────────────┴────────┴──────────────────┴───────┴──────────┘"
      ]
     },
     "execution_count": 286,
     "metadata": {},
     "output_type": "execute_result"
    }
   ],
   "source": [
    "titanic.select(pl.col(pl.Utf8))"
   ]
  },
  {
   "cell_type": "code",
   "execution_count": 287,
   "metadata": {},
   "outputs": [
    {
     "data": {
      "text/html": [
       "<div><style>\n",
       ".dataframe > thead > tr,\n",
       ".dataframe > tbody > tr {\n",
       "  text-align: right;\n",
       "  white-space: pre-wrap;\n",
       "}\n",
       "</style>\n",
       "<small>shape: (891, 2)</small><table border=\"1\" class=\"dataframe\"><thead><tr><th>Name</th><th>PassengerId</th></tr><tr><td>str</td><td>i64</td></tr></thead><tbody><tr><td>&quot;Abbing, Mr. Anthony&quot;</td><td>846</td></tr><tr><td>&quot;Abbott, Mr. Rossmore Edward&quot;</td><td>747</td></tr><tr><td>&quot;Abbott, Mrs. Stanton (Rosa Hun…</td><td>280</td></tr><tr><td>&quot;Abelson, Mr. Samuel&quot;</td><td>309</td></tr><tr><td>&quot;Abelson, Mrs. Samuel (Hannah W…</td><td>875</td></tr><tr><td>&hellip;</td><td>&hellip;</td></tr><tr><td>&quot;de Mulder, Mr. Theodore&quot;</td><td>287</td></tr><tr><td>&quot;de Pelsmaeker, Mr. Alfons&quot;</td><td>283</td></tr><tr><td>&quot;del Carlo, Mr. Sebastiano&quot;</td><td>362</td></tr><tr><td>&quot;van Billiard, Mr. Austin Blyle…</td><td>154</td></tr><tr><td>&quot;van Melkebeke, Mr. Philemon&quot;</td><td>869</td></tr></tbody></table></div>"
      ],
      "text/plain": [
       "shape: (891, 2)\n",
       "┌─────────────────────────────────┬─────────────┐\n",
       "│ Name                            ┆ PassengerId │\n",
       "│ ---                             ┆ ---         │\n",
       "│ str                             ┆ i64         │\n",
       "╞═════════════════════════════════╪═════════════╡\n",
       "│ Abbing, Mr. Anthony             ┆ 846         │\n",
       "│ Abbott, Mr. Rossmore Edward     ┆ 747         │\n",
       "│ Abbott, Mrs. Stanton (Rosa Hun… ┆ 280         │\n",
       "│ Abelson, Mr. Samuel             ┆ 309         │\n",
       "│ Abelson, Mrs. Samuel (Hannah W… ┆ 875         │\n",
       "│ …                               ┆ …           │\n",
       "│ de Mulder, Mr. Theodore         ┆ 287         │\n",
       "│ de Pelsmaeker, Mr. Alfons       ┆ 283         │\n",
       "│ del Carlo, Mr. Sebastiano       ┆ 362         │\n",
       "│ van Billiard, Mr. Austin Blyle… ┆ 154         │\n",
       "│ van Melkebeke, Mr. Philemon     ┆ 869         │\n",
       "└─────────────────────────────────┴─────────────┘"
      ]
     },
     "execution_count": 287,
     "metadata": {},
     "output_type": "execute_result"
    }
   ],
   "source": [
    "# titanic.select(pl.col('Name').sort())\n",
    "titanic.select(pl.col('Name'), pl.col('PassengerId')).sort('Name')\n"
   ]
  },
  {
   "cell_type": "code",
   "execution_count": 288,
   "metadata": {},
   "outputs": [
    {
     "data": {
      "text/html": [
       "<div><style>\n",
       ".dataframe > thead > tr,\n",
       ".dataframe > tbody > tr {\n",
       "  text-align: right;\n",
       "  white-space: pre-wrap;\n",
       "}\n",
       "</style>\n",
       "<small>shape: (891, 2)</small><table border=\"1\" class=\"dataframe\"><thead><tr><th>Sex</th><th>NewSex</th></tr><tr><td>str</td><td>str</td></tr></thead><tbody><tr><td>&quot;male&quot;</td><td>&quot;M&quot;</td></tr><tr><td>&quot;female&quot;</td><td>&quot;F&quot;</td></tr><tr><td>&quot;female&quot;</td><td>&quot;F&quot;</td></tr><tr><td>&quot;female&quot;</td><td>&quot;F&quot;</td></tr><tr><td>&quot;male&quot;</td><td>&quot;M&quot;</td></tr><tr><td>&hellip;</td><td>&hellip;</td></tr><tr><td>&quot;male&quot;</td><td>&quot;M&quot;</td></tr><tr><td>&quot;female&quot;</td><td>&quot;F&quot;</td></tr><tr><td>&quot;female&quot;</td><td>&quot;F&quot;</td></tr><tr><td>&quot;male&quot;</td><td>&quot;M&quot;</td></tr><tr><td>&quot;male&quot;</td><td>&quot;M&quot;</td></tr></tbody></table></div>"
      ],
      "text/plain": [
       "shape: (891, 2)\n",
       "┌────────┬────────┐\n",
       "│ Sex    ┆ NewSex │\n",
       "│ ---    ┆ ---    │\n",
       "│ str    ┆ str    │\n",
       "╞════════╪════════╡\n",
       "│ male   ┆ M      │\n",
       "│ female ┆ F      │\n",
       "│ female ┆ F      │\n",
       "│ female ┆ F      │\n",
       "│ male   ┆ M      │\n",
       "│ …      ┆ …      │\n",
       "│ male   ┆ M      │\n",
       "│ female ┆ F      │\n",
       "│ female ┆ F      │\n",
       "│ male   ┆ M      │\n",
       "│ male   ┆ M      │\n",
       "└────────┴────────┘"
      ]
     },
     "execution_count": 288,
     "metadata": {},
     "output_type": "execute_result"
    }
   ],
   "source": [
    "titanic.select('Sex').with_columns(NewSex = pl.when(pl.col('Sex') == 'male').then(pl.lit('M')).otherwise(pl.lit('F')))"
   ]
  },
  {
   "cell_type": "markdown",
   "metadata": {},
   "source": [
    "## 複数のデータフレームの結合・マージ\n"
   ]
  },
  {
   "cell_type": "code",
   "execution_count": 289,
   "metadata": {},
   "outputs": [],
   "source": [
    "df1 = pl.DataFrame(\n",
    "    {'A': ['A0', 'A1'], 'B': ['B0', 'B1'], 'C': ['C0', 'C1'], 'D': ['D0', 'D1']}\n",
    ")\n",
    "df2 = pl.DataFrame(\n",
    "    {'A': ['A2', 'A3'], 'B': ['B2', 'B3'], 'C': ['C2', 'C3'], 'D': ['D2', 'D3']}\n",
    ")\n",
    "df3 = pl.DataFrame(\n",
    "    {'A': ['A4', 'A5'], 'B': ['B4', 'B5'], 'C': ['C4', 'C5'], 'DD': ['D4', 'D5']}\n",
    ")"
   ]
  },
  {
   "cell_type": "code",
   "execution_count": 290,
   "metadata": {},
   "outputs": [
    {
     "data": {
      "text/html": [
       "<div><style>\n",
       ".dataframe > thead > tr,\n",
       ".dataframe > tbody > tr {\n",
       "  text-align: right;\n",
       "  white-space: pre-wrap;\n",
       "}\n",
       "</style>\n",
       "<small>shape: (6, 5)</small><table border=\"1\" class=\"dataframe\"><thead><tr><th>A</th><th>B</th><th>C</th><th>D</th><th>DD</th></tr><tr><td>str</td><td>str</td><td>str</td><td>str</td><td>str</td></tr></thead><tbody><tr><td>&quot;A0&quot;</td><td>&quot;B0&quot;</td><td>&quot;C0&quot;</td><td>&quot;D0&quot;</td><td>null</td></tr><tr><td>&quot;A1&quot;</td><td>&quot;B1&quot;</td><td>&quot;C1&quot;</td><td>&quot;D1&quot;</td><td>null</td></tr><tr><td>&quot;A2&quot;</td><td>&quot;B2&quot;</td><td>&quot;C2&quot;</td><td>&quot;D2&quot;</td><td>null</td></tr><tr><td>&quot;A3&quot;</td><td>&quot;B3&quot;</td><td>&quot;C3&quot;</td><td>&quot;D3&quot;</td><td>null</td></tr><tr><td>&quot;A4&quot;</td><td>&quot;B4&quot;</td><td>&quot;C4&quot;</td><td>null</td><td>&quot;D4&quot;</td></tr><tr><td>&quot;A5&quot;</td><td>&quot;B5&quot;</td><td>&quot;C5&quot;</td><td>null</td><td>&quot;D5&quot;</td></tr></tbody></table></div>"
      ],
      "text/plain": [
       "shape: (6, 5)\n",
       "┌─────┬─────┬─────┬──────┬──────┐\n",
       "│ A   ┆ B   ┆ C   ┆ D    ┆ DD   │\n",
       "│ --- ┆ --- ┆ --- ┆ ---  ┆ ---  │\n",
       "│ str ┆ str ┆ str ┆ str  ┆ str  │\n",
       "╞═════╪═════╪═════╪══════╪══════╡\n",
       "│ A0  ┆ B0  ┆ C0  ┆ D0   ┆ null │\n",
       "│ A1  ┆ B1  ┆ C1  ┆ D1   ┆ null │\n",
       "│ A2  ┆ B2  ┆ C2  ┆ D2   ┆ null │\n",
       "│ A3  ┆ B3  ┆ C3  ┆ D3   ┆ null │\n",
       "│ A4  ┆ B4  ┆ C4  ┆ null ┆ D4   │\n",
       "│ A5  ┆ B5  ┆ C5  ┆ null ┆ D5   │\n",
       "└─────┴─────┴─────┴──────┴──────┘"
      ]
     },
     "execution_count": 290,
     "metadata": {},
     "output_type": "execute_result"
    }
   ],
   "source": [
    "pl.concat([df1, df2, df3], how='diagonal')\n"
   ]
  },
  {
   "cell_type": "code",
   "execution_count": 291,
   "metadata": {},
   "outputs": [
    {
     "data": {
      "text/html": [
       "<div><style>\n",
       ".dataframe > thead > tr,\n",
       ".dataframe > tbody > tr {\n",
       "  text-align: right;\n",
       "  white-space: pre-wrap;\n",
       "}\n",
       "</style>\n",
       "<small>shape: (3, 4)</small><table border=\"1\" class=\"dataframe\"><thead><tr><th>A</th><th>B</th><th>C</th><th>D</th></tr><tr><td>str</td><td>str</td><td>str</td><td>str</td></tr></thead><tbody><tr><td>&quot;A0&quot;</td><td>&quot;B0&quot;</td><td>&quot;C0&quot;</td><td>&quot;D0&quot;</td></tr><tr><td>&quot;A1&quot;</td><td>&quot;B1&quot;</td><td>&quot;C1&quot;</td><td>&quot;D1&quot;</td></tr><tr><td>&quot;A2&quot;</td><td>&quot;B2&quot;</td><td>null</td><td>null</td></tr></tbody></table></div>"
      ],
      "text/plain": [
       "shape: (3, 4)\n",
       "┌─────┬─────┬──────┬──────┐\n",
       "│ A   ┆ B   ┆ C    ┆ D    │\n",
       "│ --- ┆ --- ┆ ---  ┆ ---  │\n",
       "│ str ┆ str ┆ str  ┆ str  │\n",
       "╞═════╪═════╪══════╪══════╡\n",
       "│ A0  ┆ B0  ┆ C0   ┆ D0   │\n",
       "│ A1  ┆ B1  ┆ C1   ┆ D1   │\n",
       "│ A2  ┆ B2  ┆ null ┆ null │\n",
       "└─────┴─────┴──────┴──────┘"
      ]
     },
     "execution_count": 291,
     "metadata": {},
     "output_type": "execute_result"
    }
   ],
   "source": [
    "df1 = pl.DataFrame({'A': ['A0', 'A1', 'A2'], 'B': ['B0', 'B1', 'B2']})\n",
    "df2 = pl.DataFrame({'C': ['C0', 'C1'], 'D': ['D0', 'D1']})\n",
    "pl.concat([df1, df2], how='horizontal')"
   ]
  },
  {
   "cell_type": "code",
   "execution_count": 292,
   "metadata": {},
   "outputs": [
    {
     "data": {
      "text/html": [
       "<div><style>\n",
       ".dataframe > thead > tr,\n",
       ".dataframe > tbody > tr {\n",
       "  text-align: right;\n",
       "  white-space: pre-wrap;\n",
       "}\n",
       "</style>\n",
       "<small>shape: (3, 6)</small><table border=\"1\" class=\"dataframe\"><thead><tr><th>key1</th><th>key2</th><th>A</th><th>B</th><th>C</th><th>D</th></tr><tr><td>str</td><td>str</td><td>str</td><td>str</td><td>str</td><td>str</td></tr></thead><tbody><tr><td>&quot;K0&quot;</td><td>&quot;K0&quot;</td><td>&quot;A0&quot;</td><td>&quot;B0&quot;</td><td>&quot;C0&quot;</td><td>&quot;D0&quot;</td></tr><tr><td>&quot;K1&quot;</td><td>&quot;K0&quot;</td><td>&quot;A2&quot;</td><td>&quot;B2&quot;</td><td>&quot;C1&quot;</td><td>&quot;D1&quot;</td></tr><tr><td>&quot;K1&quot;</td><td>&quot;K0&quot;</td><td>&quot;A2&quot;</td><td>&quot;B2&quot;</td><td>&quot;C2&quot;</td><td>&quot;D2&quot;</td></tr></tbody></table></div>"
      ],
      "text/plain": [
       "shape: (3, 6)\n",
       "┌──────┬──────┬─────┬─────┬─────┬─────┐\n",
       "│ key1 ┆ key2 ┆ A   ┆ B   ┆ C   ┆ D   │\n",
       "│ ---  ┆ ---  ┆ --- ┆ --- ┆ --- ┆ --- │\n",
       "│ str  ┆ str  ┆ str ┆ str ┆ str ┆ str │\n",
       "╞══════╪══════╪═════╪═════╪═════╪═════╡\n",
       "│ K0   ┆ K0   ┆ A0  ┆ B0  ┆ C0  ┆ D0  │\n",
       "│ K1   ┆ K0   ┆ A2  ┆ B2  ┆ C1  ┆ D1  │\n",
       "│ K1   ┆ K0   ┆ A2  ┆ B2  ┆ C2  ┆ D2  │\n",
       "└──────┴──────┴─────┴─────┴─────┴─────┘"
      ]
     },
     "execution_count": 292,
     "metadata": {},
     "output_type": "execute_result"
    }
   ],
   "source": [
    "left_t = pl.DataFrame(\n",
    "    {\n",
    "        'key1': ['K0', 'K0', 'K1', 'K2'],\n",
    "        'key2': ['K0', 'K1', 'K0', 'K1'],\n",
    "        'A': ['A0', 'A1', 'A2', 'A3'],\n",
    "        'B': ['B0', 'B1', 'B2', 'B3'],\n",
    "    }\n",
    ")\n",
    "right_t = pl.DataFrame(\n",
    "    {\n",
    "        'key1': ['K0', 'K1', 'K1', 'K2'],\n",
    "        'key2': ['K0', 'K0', 'K0', 'K0'],\n",
    "        'C': ['C0', 'C1', 'C2', 'C3'],\n",
    "        'D': ['D0', 'D1', 'D2', 'D3'],\n",
    "    }\n",
    ")\n",
    "left_t.join(right_t, on=['key1', 'key2'])\n"
   ]
  },
  {
   "cell_type": "code",
   "execution_count": 293,
   "metadata": {},
   "outputs": [
    {
     "data": {
      "text/html": [
       "<div><style>\n",
       ".dataframe > thead > tr,\n",
       ".dataframe > tbody > tr {\n",
       "  text-align: right;\n",
       "  white-space: pre-wrap;\n",
       "}\n",
       "</style>\n",
       "<small>shape: (5, 6)</small><table border=\"1\" class=\"dataframe\"><thead><tr><th>key1</th><th>key2</th><th>A</th><th>B</th><th>C</th><th>D</th></tr><tr><td>str</td><td>str</td><td>str</td><td>str</td><td>str</td><td>str</td></tr></thead><tbody><tr><td>&quot;K0&quot;</td><td>&quot;K0&quot;</td><td>&quot;A0&quot;</td><td>&quot;B0&quot;</td><td>&quot;C0&quot;</td><td>&quot;D0&quot;</td></tr><tr><td>&quot;K0&quot;</td><td>&quot;K1&quot;</td><td>&quot;A1&quot;</td><td>&quot;B1&quot;</td><td>null</td><td>null</td></tr><tr><td>&quot;K1&quot;</td><td>&quot;K0&quot;</td><td>&quot;A2&quot;</td><td>&quot;B2&quot;</td><td>&quot;C1&quot;</td><td>&quot;D1&quot;</td></tr><tr><td>&quot;K1&quot;</td><td>&quot;K0&quot;</td><td>&quot;A2&quot;</td><td>&quot;B2&quot;</td><td>&quot;C2&quot;</td><td>&quot;D2&quot;</td></tr><tr><td>&quot;K2&quot;</td><td>&quot;K1&quot;</td><td>&quot;A3&quot;</td><td>&quot;B3&quot;</td><td>null</td><td>null</td></tr></tbody></table></div>"
      ],
      "text/plain": [
       "shape: (5, 6)\n",
       "┌──────┬──────┬─────┬─────┬──────┬──────┐\n",
       "│ key1 ┆ key2 ┆ A   ┆ B   ┆ C    ┆ D    │\n",
       "│ ---  ┆ ---  ┆ --- ┆ --- ┆ ---  ┆ ---  │\n",
       "│ str  ┆ str  ┆ str ┆ str ┆ str  ┆ str  │\n",
       "╞══════╪══════╪═════╪═════╪══════╪══════╡\n",
       "│ K0   ┆ K0   ┆ A0  ┆ B0  ┆ C0   ┆ D0   │\n",
       "│ K0   ┆ K1   ┆ A1  ┆ B1  ┆ null ┆ null │\n",
       "│ K1   ┆ K0   ┆ A2  ┆ B2  ┆ C1   ┆ D1   │\n",
       "│ K1   ┆ K0   ┆ A2  ┆ B2  ┆ C2   ┆ D2   │\n",
       "│ K2   ┆ K1   ┆ A3  ┆ B3  ┆ null ┆ null │\n",
       "└──────┴──────┴─────┴─────┴──────┴──────┘"
      ]
     },
     "execution_count": 293,
     "metadata": {},
     "output_type": "execute_result"
    }
   ],
   "source": [
    "left_t.join(right_t, on=['key1', 'key2'], how='left')"
   ]
  },
  {
   "cell_type": "markdown",
   "metadata": {},
   "source": [
    "## GroupBy"
   ]
  },
  {
   "cell_type": "code",
   "execution_count": 294,
   "metadata": {},
   "outputs": [
    {
     "data": {
      "text/html": [
       "<div><style>\n",
       ".dataframe > thead > tr,\n",
       ".dataframe > tbody > tr {\n",
       "  text-align: right;\n",
       "  white-space: pre-wrap;\n",
       "}\n",
       "</style>\n",
       "<small>shape: (2, 12)</small><table border=\"1\" class=\"dataframe\"><thead><tr><th>Sex</th><th>PassengerId</th><th>Survived</th><th>Pclass</th><th>Name</th><th>Age</th><th>SibSp</th><th>Parch</th><th>Ticket</th><th>Fare</th><th>Cabin</th><th>Embarked</th></tr><tr><td>str</td><td>i64</td><td>i64</td><td>i64</td><td>str</td><td>f64</td><td>i64</td><td>i64</td><td>str</td><td>f64</td><td>str</td><td>str</td></tr></thead><tbody><tr><td>&quot;female&quot;</td><td>135343</td><td>233</td><td>678</td><td>null</td><td>7286.0</td><td>218</td><td>204</td><td>null</td><td>13966.6628</td><td>null</td><td>null</td></tr><tr><td>&quot;male&quot;</td><td>262043</td><td>109</td><td>1379</td><td>null</td><td>13919.17</td><td>248</td><td>136</td><td>null</td><td>14727.2865</td><td>null</td><td>null</td></tr></tbody></table></div>"
      ],
      "text/plain": [
       "shape: (2, 12)\n",
       "┌────────┬─────────────┬──────────┬────────┬───┬────────┬────────────┬───────┬──────────┐\n",
       "│ Sex    ┆ PassengerId ┆ Survived ┆ Pclass ┆ … ┆ Ticket ┆ Fare       ┆ Cabin ┆ Embarked │\n",
       "│ ---    ┆ ---         ┆ ---      ┆ ---    ┆   ┆ ---    ┆ ---        ┆ ---   ┆ ---      │\n",
       "│ str    ┆ i64         ┆ i64      ┆ i64    ┆   ┆ str    ┆ f64        ┆ str   ┆ str      │\n",
       "╞════════╪═════════════╪══════════╪════════╪═══╪════════╪════════════╪═══════╪══════════╡\n",
       "│ female ┆ 135343      ┆ 233      ┆ 678    ┆ … ┆ null   ┆ 13966.6628 ┆ null  ┆ null     │\n",
       "│ male   ┆ 262043      ┆ 109      ┆ 1379   ┆ … ┆ null   ┆ 14727.2865 ┆ null  ┆ null     │\n",
       "└────────┴─────────────┴──────────┴────────┴───┴────────┴────────────┴───────┴──────────┘"
      ]
     },
     "execution_count": 294,
     "metadata": {},
     "output_type": "execute_result"
    }
   ],
   "source": [
    "titanic.group_by('Sex').sum()"
   ]
  },
  {
   "cell_type": "code",
   "execution_count": 295,
   "metadata": {},
   "outputs": [
    {
     "data": {
      "text/html": [
       "<div><style>\n",
       ".dataframe > thead > tr,\n",
       ".dataframe > tbody > tr {\n",
       "  text-align: right;\n",
       "  white-space: pre-wrap;\n",
       "}\n",
       "</style>\n",
       "<small>shape: (7, 12)</small><table border=\"1\" class=\"dataframe\"><thead><tr><th>Sex</th><th>Embarked</th><th>PassengerId</th><th>Survived</th><th>Pclass</th><th>Name</th><th>Age</th><th>SibSp</th><th>Parch</th><th>Ticket</th><th>Fare</th><th>Cabin</th></tr><tr><td>str</td><td>str</td><td>i64</td><td>i64</td><td>i64</td><td>str</td><td>f64</td><td>i64</td><td>i64</td><td>str</td><td>f64</td><td>str</td></tr></thead><tbody><tr><td>&quot;female&quot;</td><td>&quot;Q&quot;</td><td>13469</td><td>27</td><td>104</td><td>null</td><td>291.5</td><td>8</td><td>8</td><td>null</td><td>454.8585</td><td>null</td></tr><tr><td>&quot;female&quot;</td><td>&quot;S&quot;</td><td>89058</td><td>140</td><td>446</td><td>null</td><td>5165.5</td><td>170</td><td>160</td><td>null</td><td>7864.4085</td><td>null</td></tr><tr><td>&quot;female&quot;</td><td>&quot;C&quot;</td><td>31924</td><td>64</td><td>126</td><td>null</td><td>1729.0</td><td>40</td><td>36</td><td>null</td><td>5487.3958</td><td>null</td></tr><tr><td>&quot;female&quot;</td><td>null</td><td>892</td><td>2</td><td>2</td><td>null</td><td>100.0</td><td>0</td><td>0</td><td>null</td><td>160.0</td><td>null</td></tr><tr><td>&quot;male&quot;</td><td>&quot;S&quot;</td><td>200438</td><td>77</td><td>1068</td><td>null</td><td>11147.25</td><td>198</td><td>106</td><td>null</td><td>9574.9903</td><td>null</td></tr><tr><td>&quot;male&quot;</td><td>&quot;C&quot;</td><td>42896</td><td>29</td><td>191</td><td>null</td><td>2276.92</td><td>25</td><td>25</td><td>null</td><td>4584.9004</td><td>null</td></tr><tr><td>&quot;male&quot;</td><td>&quot;Q&quot;</td><td>18709</td><td>3</td><td>120</td><td>null</td><td>495.0</td><td>25</td><td>5</td><td>null</td><td>567.3958</td><td>null</td></tr></tbody></table></div>"
      ],
      "text/plain": [
       "shape: (7, 12)\n",
       "┌────────┬──────────┬─────────────┬──────────┬───┬───────┬────────┬───────────┬───────┐\n",
       "│ Sex    ┆ Embarked ┆ PassengerId ┆ Survived ┆ … ┆ Parch ┆ Ticket ┆ Fare      ┆ Cabin │\n",
       "│ ---    ┆ ---      ┆ ---         ┆ ---      ┆   ┆ ---   ┆ ---    ┆ ---       ┆ ---   │\n",
       "│ str    ┆ str      ┆ i64         ┆ i64      ┆   ┆ i64   ┆ str    ┆ f64       ┆ str   │\n",
       "╞════════╪══════════╪═════════════╪══════════╪═══╪═══════╪════════╪═══════════╪═══════╡\n",
       "│ female ┆ Q        ┆ 13469       ┆ 27       ┆ … ┆ 8     ┆ null   ┆ 454.8585  ┆ null  │\n",
       "│ female ┆ S        ┆ 89058       ┆ 140      ┆ … ┆ 160   ┆ null   ┆ 7864.4085 ┆ null  │\n",
       "│ female ┆ C        ┆ 31924       ┆ 64       ┆ … ┆ 36    ┆ null   ┆ 5487.3958 ┆ null  │\n",
       "│ female ┆ null     ┆ 892         ┆ 2        ┆ … ┆ 0     ┆ null   ┆ 160.0     ┆ null  │\n",
       "│ male   ┆ S        ┆ 200438      ┆ 77       ┆ … ┆ 106   ┆ null   ┆ 9574.9903 ┆ null  │\n",
       "│ male   ┆ C        ┆ 42896       ┆ 29       ┆ … ┆ 25    ┆ null   ┆ 4584.9004 ┆ null  │\n",
       "│ male   ┆ Q        ┆ 18709       ┆ 3        ┆ … ┆ 5     ┆ null   ┆ 567.3958  ┆ null  │\n",
       "└────────┴──────────┴─────────────┴──────────┴───┴───────┴────────┴───────────┴───────┘"
      ]
     },
     "execution_count": 295,
     "metadata": {},
     "output_type": "execute_result"
    }
   ],
   "source": [
    "titanic.group_by('Sex', 'Embarked').sum().sort('Sex')"
   ]
  },
  {
   "cell_type": "code",
   "execution_count": 296,
   "metadata": {},
   "outputs": [
    {
     "data": {
      "text/html": [
       "<div><style>\n",
       ".dataframe > thead > tr,\n",
       ".dataframe > tbody > tr {\n",
       "  text-align: right;\n",
       "  white-space: pre-wrap;\n",
       "}\n",
       "</style>\n",
       "<small>shape: (7, 3)</small><table border=\"1\" class=\"dataframe\"><thead><tr><th>Sex</th><th>Embarked</th><th>len</th></tr><tr><td>str</td><td>str</td><td>u32</td></tr></thead><tbody><tr><td>&quot;female&quot;</td><td>&quot;C&quot;</td><td>73</td></tr><tr><td>&quot;female&quot;</td><td>null</td><td>2</td></tr><tr><td>&quot;female&quot;</td><td>&quot;Q&quot;</td><td>36</td></tr><tr><td>&quot;female&quot;</td><td>&quot;S&quot;</td><td>203</td></tr><tr><td>&quot;male&quot;</td><td>&quot;Q&quot;</td><td>41</td></tr><tr><td>&quot;male&quot;</td><td>&quot;C&quot;</td><td>95</td></tr><tr><td>&quot;male&quot;</td><td>&quot;S&quot;</td><td>441</td></tr></tbody></table></div>"
      ],
      "text/plain": [
       "shape: (7, 3)\n",
       "┌────────┬──────────┬─────┐\n",
       "│ Sex    ┆ Embarked ┆ len │\n",
       "│ ---    ┆ ---      ┆ --- │\n",
       "│ str    ┆ str      ┆ u32 │\n",
       "╞════════╪══════════╪═════╡\n",
       "│ female ┆ C        ┆ 73  │\n",
       "│ female ┆ null     ┆ 2   │\n",
       "│ female ┆ Q        ┆ 36  │\n",
       "│ female ┆ S        ┆ 203 │\n",
       "│ male   ┆ Q        ┆ 41  │\n",
       "│ male   ┆ C        ┆ 95  │\n",
       "│ male   ┆ S        ┆ 441 │\n",
       "└────────┴──────────┴─────┘"
      ]
     },
     "execution_count": 296,
     "metadata": {},
     "output_type": "execute_result"
    }
   ],
   "source": [
    "titanic.group_by('Sex', 'Embarked').len().sort('Sex')"
   ]
  },
  {
   "cell_type": "code",
   "execution_count": 297,
   "metadata": {},
   "outputs": [
    {
     "data": {
      "text/html": [
       "<div><style>\n",
       ".dataframe > thead > tr,\n",
       ".dataframe > tbody > tr {\n",
       "  text-align: right;\n",
       "  white-space: pre-wrap;\n",
       "}\n",
       "</style>\n",
       "<small>shape: (8, 3)</small><table border=\"1\" class=\"dataframe\"><thead><tr><th>A</th><th>B</th><th>C</th></tr><tr><td>str</td><td>str</td><td>i64</td></tr></thead><tbody><tr><td>&quot;foo&quot;</td><td>&quot;one&quot;</td><td>1</td></tr><tr><td>&quot;bar&quot;</td><td>&quot;one&quot;</td><td>2</td></tr><tr><td>&quot;foo&quot;</td><td>&quot;two&quot;</td><td>3</td></tr><tr><td>&quot;bar&quot;</td><td>&quot;three&quot;</td><td>4</td></tr><tr><td>&quot;foo&quot;</td><td>&quot;two&quot;</td><td>5</td></tr><tr><td>&quot;bar&quot;</td><td>&quot;two&quot;</td><td>6</td></tr><tr><td>&quot;foo&quot;</td><td>&quot;one&quot;</td><td>7</td></tr><tr><td>&quot;foo&quot;</td><td>&quot;three&quot;</td><td>8</td></tr></tbody></table></div>"
      ],
      "text/plain": [
       "shape: (8, 3)\n",
       "┌─────┬───────┬─────┐\n",
       "│ A   ┆ B     ┆ C   │\n",
       "│ --- ┆ ---   ┆ --- │\n",
       "│ str ┆ str   ┆ i64 │\n",
       "╞═════╪═══════╪═════╡\n",
       "│ foo ┆ one   ┆ 1   │\n",
       "│ bar ┆ one   ┆ 2   │\n",
       "│ foo ┆ two   ┆ 3   │\n",
       "│ bar ┆ three ┆ 4   │\n",
       "│ foo ┆ two   ┆ 5   │\n",
       "│ bar ┆ two   ┆ 6   │\n",
       "│ foo ┆ one   ┆ 7   │\n",
       "│ foo ┆ three ┆ 8   │\n",
       "└─────┴───────┴─────┘"
      ]
     },
     "execution_count": 297,
     "metadata": {},
     "output_type": "execute_result"
    }
   ],
   "source": [
    "df = pl.DataFrame(\n",
    "    {\n",
    "        'A': ['foo', 'bar', 'foo', 'bar', 'foo', 'bar', 'foo', 'foo'],\n",
    "        'B': ['one', 'one', 'two', 'three', 'two', 'two', 'one', 'three'],\n",
    "        'C': [1,2,3,4,5,6,7,8]\n",
    "    }\n",
    ")\n",
    "df"
   ]
  },
  {
   "cell_type": "code",
   "execution_count": 298,
   "metadata": {},
   "outputs": [
    {
     "data": {
      "text/html": [
       "<div><style>\n",
       ".dataframe > thead > tr,\n",
       ".dataframe > tbody > tr {\n",
       "  text-align: right;\n",
       "  white-space: pre-wrap;\n",
       "}\n",
       "</style>\n",
       "<small>shape: (2, 4)</small><table border=\"1\" class=\"dataframe\"><thead><tr><th>A</th><th>one</th><th>two</th><th>three</th></tr><tr><td>str</td><td>i64</td><td>i64</td><td>i64</td></tr></thead><tbody><tr><td>&quot;foo&quot;</td><td>8</td><td>8</td><td>8</td></tr><tr><td>&quot;bar&quot;</td><td>2</td><td>6</td><td>4</td></tr></tbody></table></div>"
      ],
      "text/plain": [
       "shape: (2, 4)\n",
       "┌─────┬─────┬─────┬───────┐\n",
       "│ A   ┆ one ┆ two ┆ three │\n",
       "│ --- ┆ --- ┆ --- ┆ ---   │\n",
       "│ str ┆ i64 ┆ i64 ┆ i64   │\n",
       "╞═════╪═════╪═════╪═══════╡\n",
       "│ foo ┆ 8   ┆ 8   ┆ 8     │\n",
       "│ bar ┆ 2   ┆ 6   ┆ 4     │\n",
       "└─────┴─────┴─────┴───────┘"
      ]
     },
     "execution_count": 298,
     "metadata": {},
     "output_type": "execute_result"
    }
   ],
   "source": [
    "\n",
    "df.pivot(\n",
    "    values='C',\n",
    "    index='A',\n",
    "    columns='B',\n",
    "    aggregate_function='sum'\n",
    ")"
   ]
  },
  {
   "cell_type": "code",
   "execution_count": 299,
   "metadata": {},
   "outputs": [
    {
     "data": {
      "text/html": [
       "<div><style>\n",
       ".dataframe > thead > tr,\n",
       ".dataframe > tbody > tr {\n",
       "  text-align: right;\n",
       "  white-space: pre-wrap;\n",
       "}\n",
       "</style>\n",
       "<small>shape: (6, 3)</small><table border=\"1\" class=\"dataframe\"><thead><tr><th>A</th><th>variable</th><th>value</th></tr><tr><td>str</td><td>str</td><td>i64</td></tr></thead><tbody><tr><td>&quot;foo&quot;</td><td>&quot;one&quot;</td><td>8</td></tr><tr><td>&quot;bar&quot;</td><td>&quot;one&quot;</td><td>2</td></tr><tr><td>&quot;foo&quot;</td><td>&quot;two&quot;</td><td>8</td></tr><tr><td>&quot;bar&quot;</td><td>&quot;two&quot;</td><td>6</td></tr><tr><td>&quot;foo&quot;</td><td>&quot;three&quot;</td><td>8</td></tr><tr><td>&quot;bar&quot;</td><td>&quot;three&quot;</td><td>4</td></tr></tbody></table></div>"
      ],
      "text/plain": [
       "shape: (6, 3)\n",
       "┌─────┬──────────┬───────┐\n",
       "│ A   ┆ variable ┆ value │\n",
       "│ --- ┆ ---      ┆ ---   │\n",
       "│ str ┆ str      ┆ i64   │\n",
       "╞═════╪══════════╪═══════╡\n",
       "│ foo ┆ one      ┆ 8     │\n",
       "│ bar ┆ one      ┆ 2     │\n",
       "│ foo ┆ two      ┆ 8     │\n",
       "│ bar ┆ two      ┆ 6     │\n",
       "│ foo ┆ three    ┆ 8     │\n",
       "│ bar ┆ three    ┆ 4     │\n",
       "└─────┴──────────┴───────┘"
      ]
     },
     "execution_count": 299,
     "metadata": {},
     "output_type": "execute_result"
    }
   ],
   "source": [
    "df.pivot(\n",
    "    values='C',\n",
    "    index='A',\n",
    "    columns='B',\n",
    "    aggregate_function='sum'\n",
    ").melt(\n",
    "  'A',\n",
    "  ['one', 'two', 'three']\n",
    ")"
   ]
  },
  {
   "cell_type": "markdown",
   "metadata": {},
   "source": [
    "## 欠損値"
   ]
  },
  {
   "cell_type": "code",
   "execution_count": 300,
   "metadata": {},
   "outputs": [
    {
     "data": {
      "text/html": [
       "<div><style>\n",
       ".dataframe > thead > tr,\n",
       ".dataframe > tbody > tr {\n",
       "  text-align: right;\n",
       "  white-space: pre-wrap;\n",
       "}\n",
       "</style>\n",
       "<small>shape: (6, 2)</small><table border=\"1\" class=\"dataframe\"><thead><tr><th>A</th><th>B</th></tr><tr><td>i64</td><td>f64</td></tr></thead><tbody><tr><td>1</td><td>NaN</td></tr><tr><td>2</td><td>4.0</td></tr><tr><td>null</td><td>3.0</td></tr><tr><td>4</td><td>2.0</td></tr><tr><td>null</td><td>NaN</td></tr><tr><td>null</td><td>null</td></tr></tbody></table></div>"
      ],
      "text/plain": [
       "shape: (6, 2)\n",
       "┌──────┬──────┐\n",
       "│ A    ┆ B    │\n",
       "│ ---  ┆ ---  │\n",
       "│ i64  ┆ f64  │\n",
       "╞══════╪══════╡\n",
       "│ 1    ┆ NaN  │\n",
       "│ 2    ┆ 4.0  │\n",
       "│ null ┆ 3.0  │\n",
       "│ 4    ┆ 2.0  │\n",
       "│ null ┆ NaN  │\n",
       "│ null ┆ null │\n",
       "└──────┴──────┘"
      ]
     },
     "execution_count": 300,
     "metadata": {},
     "output_type": "execute_result"
    }
   ],
   "source": [
    "df_missing = pl.DataFrame(\n",
    "    {'A': [1, 2, None, 4, None, None], 'B': [np.nan, 4, 3, 2, np.nan, None]}\n",
    ")\n",
    "\n",
    "df_missing"
   ]
  },
  {
   "cell_type": "code",
   "execution_count": 301,
   "metadata": {},
   "outputs": [
    {
     "data": {
      "text/html": [
       "<div><style>\n",
       ".dataframe > thead > tr,\n",
       ".dataframe > tbody > tr {\n",
       "  text-align: right;\n",
       "  white-space: pre-wrap;\n",
       "}\n",
       "</style>\n",
       "<small>shape: (6, 5)</small><table border=\"1\" class=\"dataframe\"><thead><tr><th>A</th><th>B</th><th>A_is_null</th><th>B_is_null</th><th>B_is_nan</th></tr><tr><td>i64</td><td>f64</td><td>bool</td><td>bool</td><td>bool</td></tr></thead><tbody><tr><td>1</td><td>NaN</td><td>false</td><td>false</td><td>true</td></tr><tr><td>2</td><td>4.0</td><td>false</td><td>false</td><td>false</td></tr><tr><td>null</td><td>3.0</td><td>true</td><td>false</td><td>false</td></tr><tr><td>4</td><td>2.0</td><td>false</td><td>false</td><td>false</td></tr><tr><td>null</td><td>NaN</td><td>true</td><td>false</td><td>true</td></tr><tr><td>null</td><td>null</td><td>true</td><td>true</td><td>null</td></tr></tbody></table></div>"
      ],
      "text/plain": [
       "shape: (6, 5)\n",
       "┌──────┬──────┬───────────┬───────────┬──────────┐\n",
       "│ A    ┆ B    ┆ A_is_null ┆ B_is_null ┆ B_is_nan │\n",
       "│ ---  ┆ ---  ┆ ---       ┆ ---       ┆ ---      │\n",
       "│ i64  ┆ f64  ┆ bool      ┆ bool      ┆ bool     │\n",
       "╞══════╪══════╪═══════════╪═══════════╪══════════╡\n",
       "│ 1    ┆ NaN  ┆ false     ┆ false     ┆ true     │\n",
       "│ 2    ┆ 4.0  ┆ false     ┆ false     ┆ false    │\n",
       "│ null ┆ 3.0  ┆ true      ┆ false     ┆ false    │\n",
       "│ 4    ┆ 2.0  ┆ false     ┆ false     ┆ false    │\n",
       "│ null ┆ NaN  ┆ true      ┆ false     ┆ true     │\n",
       "│ null ┆ null ┆ true      ┆ true      ┆ null     │\n",
       "└──────┴──────┴───────────┴───────────┴──────────┘"
      ]
     },
     "execution_count": 301,
     "metadata": {},
     "output_type": "execute_result"
    }
   ],
   "source": [
    "df_missing.with_columns(\n",
    "    A_is_null=pl.col('A').is_null(),\n",
    "    B_is_null=pl.col('B').is_null(),\n",
    "    B_is_nan=pl.col('B').is_nan(),\n",
    ")"
   ]
  },
  {
   "cell_type": "code",
   "execution_count": 302,
   "metadata": {},
   "outputs": [
    {
     "data": {
      "text/html": [
       "<div><style>\n",
       ".dataframe > thead > tr,\n",
       ".dataframe > tbody > tr {\n",
       "  text-align: right;\n",
       "  white-space: pre-wrap;\n",
       "}\n",
       "</style>\n",
       "<small>shape: (1, 5)</small><table border=\"1\" class=\"dataframe\"><thead><tr><th>A</th><th>B</th><th>A_is_null</th><th>B_is_null</th><th>B_is_nan</th></tr><tr><td>i64</td><td>f64</td><td>u32</td><td>u32</td><td>u32</td></tr></thead><tbody><tr><td>7</td><td>NaN</td><td>3</td><td>1</td><td>2</td></tr></tbody></table></div>"
      ],
      "text/plain": [
       "shape: (1, 5)\n",
       "┌─────┬─────┬───────────┬───────────┬──────────┐\n",
       "│ A   ┆ B   ┆ A_is_null ┆ B_is_null ┆ B_is_nan │\n",
       "│ --- ┆ --- ┆ ---       ┆ ---       ┆ ---      │\n",
       "│ i64 ┆ f64 ┆ u32       ┆ u32       ┆ u32      │\n",
       "╞═════╪═════╪═══════════╪═══════════╪══════════╡\n",
       "│ 7   ┆ NaN ┆ 3         ┆ 1         ┆ 2        │\n",
       "└─────┴─────┴───────────┴───────────┴──────────┘"
      ]
     },
     "execution_count": 302,
     "metadata": {},
     "output_type": "execute_result"
    }
   ],
   "source": [
    "df_missing.with_columns(\n",
    "    A_is_null=pl.col('A').is_null(),\n",
    "    B_is_null=pl.col('B').is_null(),\n",
    "    B_is_nan=pl.col('B').is_nan(),\n",
    ").sum()"
   ]
  },
  {
   "cell_type": "code",
   "execution_count": 303,
   "metadata": {},
   "outputs": [
    {
     "data": {
      "text/html": [
       "<div><style>\n",
       ".dataframe > thead > tr,\n",
       ".dataframe > tbody > tr {\n",
       "  text-align: right;\n",
       "  white-space: pre-wrap;\n",
       "}\n",
       "</style>\n",
       "<small>shape: (1, 2)</small><table border=\"1\" class=\"dataframe\"><thead><tr><th>A</th><th>B</th></tr><tr><td>u32</td><td>u32</td></tr></thead><tbody><tr><td>3</td><td>1</td></tr></tbody></table></div>"
      ],
      "text/plain": [
       "shape: (1, 2)\n",
       "┌─────┬─────┐\n",
       "│ A   ┆ B   │\n",
       "│ --- ┆ --- │\n",
       "│ u32 ┆ u32 │\n",
       "╞═════╪═════╡\n",
       "│ 3   ┆ 1   │\n",
       "└─────┴─────┘"
      ]
     },
     "execution_count": 303,
     "metadata": {},
     "output_type": "execute_result"
    }
   ],
   "source": [
    "df_missing.null_count()\n"
   ]
  },
  {
   "cell_type": "code",
   "execution_count": 304,
   "metadata": {},
   "outputs": [
    {
     "data": {
      "text/html": [
       "<div><style>\n",
       ".dataframe > thead > tr,\n",
       ".dataframe > tbody > tr {\n",
       "  text-align: right;\n",
       "  white-space: pre-wrap;\n",
       "}\n",
       "</style>\n",
       "<small>shape: (6, 2)</small><table border=\"1\" class=\"dataframe\"><thead><tr><th>A</th><th>B</th></tr><tr><td>i64</td><td>f64</td></tr></thead><tbody><tr><td>1</td><td>1.11111111e8</td></tr><tr><td>2</td><td>4.0</td></tr><tr><td>9999999</td><td>3.0</td></tr><tr><td>4</td><td>2.0</td></tr><tr><td>9999999</td><td>1.11111111e8</td></tr><tr><td>9999999</td><td>9.999999e6</td></tr></tbody></table></div>"
      ],
      "text/plain": [
       "shape: (6, 2)\n",
       "┌─────────┬──────────────┐\n",
       "│ A       ┆ B            │\n",
       "│ ---     ┆ ---          │\n",
       "│ i64     ┆ f64          │\n",
       "╞═════════╪══════════════╡\n",
       "│ 1       ┆ 1.11111111e8 │\n",
       "│ 2       ┆ 4.0          │\n",
       "│ 9999999 ┆ 3.0          │\n",
       "│ 4       ┆ 2.0          │\n",
       "│ 9999999 ┆ 1.11111111e8 │\n",
       "│ 9999999 ┆ 9.999999e6   │\n",
       "└─────────┴──────────────┘"
      ]
     },
     "execution_count": 304,
     "metadata": {},
     "output_type": "execute_result"
    }
   ],
   "source": [
    "df_missing.fill_null(9999999).fill_nan(111111111)\n"
   ]
  },
  {
   "cell_type": "code",
   "execution_count": 305,
   "metadata": {},
   "outputs": [
    {
     "data": {
      "text/html": [
       "<div><style>\n",
       ".dataframe > thead > tr,\n",
       ".dataframe > tbody > tr {\n",
       "  text-align: right;\n",
       "  white-space: pre-wrap;\n",
       "}\n",
       "</style>\n",
       "<small>shape: (6, 2)</small><table border=\"1\" class=\"dataframe\"><thead><tr><th>A</th><th>B</th></tr><tr><td>i64</td><td>f64</td></tr></thead><tbody><tr><td>1</td><td>1.0</td></tr><tr><td>2</td><td>4.0</td></tr><tr><td>null</td><td>3.0</td></tr><tr><td>4</td><td>2.0</td></tr><tr><td>null</td><td>null</td></tr><tr><td>null</td><td>null</td></tr></tbody></table></div>"
      ],
      "text/plain": [
       "shape: (6, 2)\n",
       "┌──────┬──────┐\n",
       "│ A    ┆ B    │\n",
       "│ ---  ┆ ---  │\n",
       "│ i64  ┆ f64  │\n",
       "╞══════╪══════╡\n",
       "│ 1    ┆ 1.0  │\n",
       "│ 2    ┆ 4.0  │\n",
       "│ null ┆ 3.0  │\n",
       "│ 4    ┆ 2.0  │\n",
       "│ null ┆ null │\n",
       "│ null ┆ null │\n",
       "└──────┴──────┘"
      ]
     },
     "execution_count": 305,
     "metadata": {},
     "output_type": "execute_result"
    }
   ],
   "source": [
    "df_missing.fill_nan(pl.col('A'))\n",
    "\n"
   ]
  },
  {
   "cell_type": "markdown",
   "metadata": {},
   "source": [
    "## テキストデータを扱う\n"
   ]
  },
  {
   "cell_type": "code",
   "execution_count": 306,
   "metadata": {},
   "outputs": [
    {
     "data": {
      "text/html": [
       "<div><style>\n",
       ".dataframe > thead > tr,\n",
       ".dataframe > tbody > tr {\n",
       "  text-align: right;\n",
       "  white-space: pre-wrap;\n",
       "}\n",
       "</style>\n",
       "<small>shape: (8, 1)</small><table border=\"1\" class=\"dataframe\"><thead><tr><th>orig</th></tr><tr><td>str</td></tr></thead><tbody><tr><td>&quot;A&quot;</td></tr><tr><td>&quot;B&quot;</td></tr><tr><td>&quot;AabaAllpeallpe&quot;</td></tr><tr><td>&quot;Baca&quot;</td></tr><tr><td>null</td></tr><tr><td>&quot;CABA&quot;</td></tr><tr><td>&quot;dog&quot;</td></tr><tr><td>&quot;cat&quot;</td></tr></tbody></table></div>"
      ],
      "text/plain": [
       "shape: (8, 1)\n",
       "┌────────────────┐\n",
       "│ orig           │\n",
       "│ ---            │\n",
       "│ str            │\n",
       "╞════════════════╡\n",
       "│ A              │\n",
       "│ B              │\n",
       "│ AabaAllpeallpe │\n",
       "│ Baca           │\n",
       "│ null           │\n",
       "│ CABA           │\n",
       "│ dog            │\n",
       "│ cat            │\n",
       "└────────────────┘"
      ]
     },
     "execution_count": 306,
     "metadata": {},
     "output_type": "execute_result"
    }
   ],
   "source": [
    "df_str = pl.DataFrame(\n",
    "    {'orig': ['A', 'B', 'AabaAllpeallpe', 'Baca', None, 'CABA', 'dog', 'cat']}\n",
    ")\n",
    "df_str"
   ]
  },
  {
   "cell_type": "code",
   "execution_count": 307,
   "metadata": {},
   "outputs": [
    {
     "data": {
      "text/html": [
       "<div><style>\n",
       ".dataframe > thead > tr,\n",
       ".dataframe > tbody > tr {\n",
       "  text-align: right;\n",
       "  white-space: pre-wrap;\n",
       "}\n",
       "</style>\n",
       "<small>shape: (8, 4)</small><table border=\"1\" class=\"dataframe\"><thead><tr><th>orig</th><th>len1</th><th>len2</th><th>lower</th></tr><tr><td>str</td><td>u32</td><td>u32</td><td>str</td></tr></thead><tbody><tr><td>&quot;A&quot;</td><td>1</td><td>1</td><td>&quot;a&quot;</td></tr><tr><td>&quot;B&quot;</td><td>1</td><td>1</td><td>&quot;b&quot;</td></tr><tr><td>&quot;AabaAllpeallpe&quot;</td><td>14</td><td>14</td><td>&quot;aabaallpeallpe&quot;</td></tr><tr><td>&quot;Baca&quot;</td><td>4</td><td>4</td><td>&quot;baca&quot;</td></tr><tr><td>null</td><td>null</td><td>null</td><td>null</td></tr><tr><td>&quot;CABA&quot;</td><td>4</td><td>4</td><td>&quot;caba&quot;</td></tr><tr><td>&quot;dog&quot;</td><td>3</td><td>3</td><td>&quot;dog&quot;</td></tr><tr><td>&quot;cat&quot;</td><td>3</td><td>3</td><td>&quot;cat&quot;</td></tr></tbody></table></div>"
      ],
      "text/plain": [
       "shape: (8, 4)\n",
       "┌────────────────┬──────┬──────┬────────────────┐\n",
       "│ orig           ┆ len1 ┆ len2 ┆ lower          │\n",
       "│ ---            ┆ ---  ┆ ---  ┆ ---            │\n",
       "│ str            ┆ u32  ┆ u32  ┆ str            │\n",
       "╞════════════════╪══════╪══════╪════════════════╡\n",
       "│ A              ┆ 1    ┆ 1    ┆ a              │\n",
       "│ B              ┆ 1    ┆ 1    ┆ b              │\n",
       "│ AabaAllpeallpe ┆ 14   ┆ 14   ┆ aabaallpeallpe │\n",
       "│ Baca           ┆ 4    ┆ 4    ┆ baca           │\n",
       "│ null           ┆ null ┆ null ┆ null           │\n",
       "│ CABA           ┆ 4    ┆ 4    ┆ caba           │\n",
       "│ dog            ┆ 3    ┆ 3    ┆ dog            │\n",
       "│ cat            ┆ 3    ┆ 3    ┆ cat            │\n",
       "└────────────────┴──────┴──────┴────────────────┘"
      ]
     },
     "execution_count": 307,
     "metadata": {},
     "output_type": "execute_result"
    }
   ],
   "source": [
    "df_str.with_columns(\n",
    "    len1 = df_str.get_column('orig').str.len_bytes(),\n",
    "    len2 = df_str.get_column('orig').str.len_chars(),\n",
    "    lower = df_str.get_column('orig').str.to_lowercase()\n",
    ")"
   ]
  },
  {
   "cell_type": "code",
   "execution_count": 308,
   "metadata": {},
   "outputs": [
    {
     "data": {
      "text/html": [
       "<div><style>\n",
       ".dataframe > thead > tr,\n",
       ".dataframe > tbody > tr {\n",
       "  text-align: right;\n",
       "  white-space: pre-wrap;\n",
       "}\n",
       "</style>\n",
       "<small>shape: (8, 1)</small><table border=\"1\" class=\"dataframe\"><thead><tr><th>orig</th></tr><tr><td>str</td></tr></thead><tbody><tr><td>&quot;A_A&quot;</td></tr><tr><td>&quot;B_B&quot;</td></tr><tr><td>&quot;AabaAllpeallpe_AabaAllpeallpe&quot;</td></tr><tr><td>&quot;Baca_Baca&quot;</td></tr><tr><td>null</td></tr><tr><td>&quot;CABA_CABA&quot;</td></tr><tr><td>&quot;dog_dog&quot;</td></tr><tr><td>&quot;cat_cat&quot;</td></tr></tbody></table></div>"
      ],
      "text/plain": [
       "shape: (8, 1)\n",
       "┌───────────────────────────────┐\n",
       "│ orig                          │\n",
       "│ ---                           │\n",
       "│ str                           │\n",
       "╞═══════════════════════════════╡\n",
       "│ A_A                           │\n",
       "│ B_B                           │\n",
       "│ AabaAllpeallpe_AabaAllpeallpe │\n",
       "│ Baca_Baca                     │\n",
       "│ null                          │\n",
       "│ CABA_CABA                     │\n",
       "│ dog_dog                       │\n",
       "│ cat_cat                       │\n",
       "└───────────────────────────────┘"
      ]
     },
     "execution_count": 308,
     "metadata": {},
     "output_type": "execute_result"
    }
   ],
   "source": [
    "df_str.select(pl.col('orig') + '_' + pl.col('orig'))\n"
   ]
  },
  {
   "cell_type": "markdown",
   "metadata": {},
   "source": [
    "## 時系列データを扱う\n"
   ]
  },
  {
   "cell_type": "code",
   "execution_count": 309,
   "metadata": {},
   "outputs": [
    {
     "data": {
      "text/html": [
       "<div><style>\n",
       ".dataframe > thead > tr,\n",
       ".dataframe > tbody > tr {\n",
       "  text-align: right;\n",
       "  white-space: pre-wrap;\n",
       "}\n",
       "</style>\n",
       "<small>shape: (10,)</small><table border=\"1\" class=\"dataframe\"><thead><tr><th>literal</th></tr><tr><td>datetime[μs]</td></tr></thead><tbody><tr><td>2024-04-01 00:00:00</td></tr><tr><td>2024-04-02 00:00:00</td></tr><tr><td>2024-04-03 00:00:00</td></tr><tr><td>2024-04-04 00:00:00</td></tr><tr><td>2024-04-05 00:00:00</td></tr><tr><td>2024-04-06 00:00:00</td></tr><tr><td>2024-04-07 00:00:00</td></tr><tr><td>2024-04-08 00:00:00</td></tr><tr><td>2024-04-09 00:00:00</td></tr><tr><td>2024-04-10 00:00:00</td></tr></tbody></table></div>"
      ],
      "text/plain": [
       "shape: (10,)\n",
       "Series: 'literal' [datetime[μs]]\n",
       "[\n",
       "\t2024-04-01 00:00:00\n",
       "\t2024-04-02 00:00:00\n",
       "\t2024-04-03 00:00:00\n",
       "\t2024-04-04 00:00:00\n",
       "\t2024-04-05 00:00:00\n",
       "\t2024-04-06 00:00:00\n",
       "\t2024-04-07 00:00:00\n",
       "\t2024-04-08 00:00:00\n",
       "\t2024-04-09 00:00:00\n",
       "\t2024-04-10 00:00:00\n",
       "]"
      ]
     },
     "execution_count": 309,
     "metadata": {},
     "output_type": "execute_result"
    }
   ],
   "source": [
    "pl.datetime_range(\n",
    "    datetime.datetime(2024, 4, 1),\n",
    "    datetime.datetime(2024, 4, 10),\n",
    "    '1d',\n",
    "    eager=True, # seriesを返す\n",
    ")"
   ]
  },
  {
   "cell_type": "code",
   "execution_count": 310,
   "metadata": {},
   "outputs": [
    {
     "data": {
      "text/html": [
       "<div><style>\n",
       ".dataframe > thead > tr,\n",
       ".dataframe > tbody > tr {\n",
       "  text-align: right;\n",
       "  white-space: pre-wrap;\n",
       "}\n",
       "</style>\n",
       "<small>shape: (13,)</small><table border=\"1\" class=\"dataframe\"><thead><tr><th>literal</th></tr><tr><td>datetime[μs]</td></tr></thead><tbody><tr><td>2024-01-01 00:00:00</td></tr><tr><td>2024-01-01 02:00:00</td></tr><tr><td>2024-01-01 04:00:00</td></tr><tr><td>2024-01-01 06:00:00</td></tr><tr><td>2024-01-01 08:00:00</td></tr><tr><td>&hellip;</td></tr><tr><td>2024-01-01 16:00:00</td></tr><tr><td>2024-01-01 18:00:00</td></tr><tr><td>2024-01-01 20:00:00</td></tr><tr><td>2024-01-01 22:00:00</td></tr><tr><td>2024-01-02 00:00:00</td></tr></tbody></table></div>"
      ],
      "text/plain": [
       "shape: (13,)\n",
       "Series: 'literal' [datetime[μs]]\n",
       "[\n",
       "\t2024-01-01 00:00:00\n",
       "\t2024-01-01 02:00:00\n",
       "\t2024-01-01 04:00:00\n",
       "\t2024-01-01 06:00:00\n",
       "\t2024-01-01 08:00:00\n",
       "\t…\n",
       "\t2024-01-01 16:00:00\n",
       "\t2024-01-01 18:00:00\n",
       "\t2024-01-01 20:00:00\n",
       "\t2024-01-01 22:00:00\n",
       "\t2024-01-02 00:00:00\n",
       "]"
      ]
     },
     "execution_count": 310,
     "metadata": {},
     "output_type": "execute_result"
    }
   ],
   "source": [
    "pl.datetime_range(\n",
    "    datetime.datetime(2024, 1, 1),\n",
    "    datetime.datetime(2024, 1, 2),\n",
    "    datetime.timedelta(days=0, hours=2),\n",
    "    eager=True,\n",
    ")"
   ]
  },
  {
   "cell_type": "code",
   "execution_count": 311,
   "metadata": {},
   "outputs": [
    {
     "data": {
      "text/html": [
       "<div><style>\n",
       ".dataframe > thead > tr,\n",
       ".dataframe > tbody > tr {\n",
       "  text-align: right;\n",
       "  white-space: pre-wrap;\n",
       "}\n",
       "</style>\n",
       "<small>shape: (7, 1)</small><table border=\"1\" class=\"dataframe\"><thead><tr><th>drange_str</th></tr><tr><td>str</td></tr></thead><tbody><tr><td>&quot;2022-01-01 00:01:00&quot;</td></tr><tr><td>&quot;2022-01-02 12:00:00&quot;</td></tr><tr><td>&quot;2022-02-04 13:03:00&quot;</td></tr><tr><td>&quot;2022-02-05 14:00:04&quot;</td></tr><tr><td>&quot;2023-04-07 15:00:00&quot;</td></tr><tr><td>&quot;2024-02-08 16:00:02&quot;</td></tr><tr><td>&quot;2025-02-10 22:01:00&quot;</td></tr></tbody></table></div>"
      ],
      "text/plain": [
       "shape: (7, 1)\n",
       "┌─────────────────────┐\n",
       "│ drange_str          │\n",
       "│ ---                 │\n",
       "│ str                 │\n",
       "╞═════════════════════╡\n",
       "│ 2022-01-01 00:01:00 │\n",
       "│ 2022-01-02 12:00:00 │\n",
       "│ 2022-02-04 13:03:00 │\n",
       "│ 2022-02-05 14:00:04 │\n",
       "│ 2023-04-07 15:00:00 │\n",
       "│ 2024-02-08 16:00:02 │\n",
       "│ 2025-02-10 22:01:00 │\n",
       "└─────────────────────┘"
      ]
     },
     "execution_count": 311,
     "metadata": {},
     "output_type": "execute_result"
    }
   ],
   "source": [
    "df_drange = pl.DataFrame(\n",
    "    {\n",
    "        'drange_str': [\n",
    "            '2022-01-01 00:01:00',\n",
    "            '2022-01-02 12:00:00',\n",
    "            '2022-02-04 13:03:00',\n",
    "            '2022-02-05 14:00:04',\n",
    "            '2023-04-07 15:00:00',\n",
    "            '2024-02-08 16:00:02',\n",
    "            '2025-02-10 22:01:00',\n",
    "        ]\n",
    "    }\n",
    ")\n",
    "df_drange"
   ]
  },
  {
   "cell_type": "code",
   "execution_count": 312,
   "metadata": {},
   "outputs": [
    {
     "data": {
      "text/html": [
       "<div><style>\n",
       ".dataframe > thead > tr,\n",
       ".dataframe > tbody > tr {\n",
       "  text-align: right;\n",
       "  white-space: pre-wrap;\n",
       "}\n",
       "</style>\n",
       "<small>shape: (7, 2)</small><table border=\"1\" class=\"dataframe\"><thead><tr><th>drange_str</th><th>drange</th></tr><tr><td>str</td><td>datetime[μs]</td></tr></thead><tbody><tr><td>&quot;2022-01-01 00:01:00&quot;</td><td>2022-01-01 00:01:00</td></tr><tr><td>&quot;2022-01-02 12:00:00&quot;</td><td>2022-01-02 12:00:00</td></tr><tr><td>&quot;2022-02-04 13:03:00&quot;</td><td>2022-02-04 13:03:00</td></tr><tr><td>&quot;2022-02-05 14:00:04&quot;</td><td>2022-02-05 14:00:04</td></tr><tr><td>&quot;2023-04-07 15:00:00&quot;</td><td>2023-04-07 15:00:00</td></tr><tr><td>&quot;2024-02-08 16:00:02&quot;</td><td>2024-02-08 16:00:02</td></tr><tr><td>&quot;2025-02-10 22:01:00&quot;</td><td>2025-02-10 22:01:00</td></tr></tbody></table></div>"
      ],
      "text/plain": [
       "shape: (7, 2)\n",
       "┌─────────────────────┬─────────────────────┐\n",
       "│ drange_str          ┆ drange              │\n",
       "│ ---                 ┆ ---                 │\n",
       "│ str                 ┆ datetime[μs]        │\n",
       "╞═════════════════════╪═════════════════════╡\n",
       "│ 2022-01-01 00:01:00 ┆ 2022-01-01 00:01:00 │\n",
       "│ 2022-01-02 12:00:00 ┆ 2022-01-02 12:00:00 │\n",
       "│ 2022-02-04 13:03:00 ┆ 2022-02-04 13:03:00 │\n",
       "│ 2022-02-05 14:00:04 ┆ 2022-02-05 14:00:04 │\n",
       "│ 2023-04-07 15:00:00 ┆ 2023-04-07 15:00:00 │\n",
       "│ 2024-02-08 16:00:02 ┆ 2024-02-08 16:00:02 │\n",
       "│ 2025-02-10 22:01:00 ┆ 2025-02-10 22:01:00 │\n",
       "└─────────────────────┴─────────────────────┘"
      ]
     },
     "execution_count": 312,
     "metadata": {},
     "output_type": "execute_result"
    }
   ],
   "source": [
    "new_column = pl.col('drange_str').str.strptime(pl.Datetime).alias('drange')\n",
    "df_drange.with_columns(new_column)\n"
   ]
  },
  {
   "cell_type": "code",
   "execution_count": 313,
   "metadata": {},
   "outputs": [
    {
     "data": {
      "text/html": [
       "<div><style>\n",
       ".dataframe > thead > tr,\n",
       ".dataframe > tbody > tr {\n",
       "  text-align: right;\n",
       "  white-space: pre-wrap;\n",
       "}\n",
       "</style>\n",
       "<small>shape: (7, 8)</small><table border=\"1\" class=\"dataframe\"><thead><tr><th>drange</th><th>year</th><th>month</th><th>day</th><th>hour</th><th>minute</th><th>second</th><th>epoch</th></tr><tr><td>datetime[μs]</td><td>i32</td><td>i8</td><td>i8</td><td>i8</td><td>i8</td><td>i8</td><td>i64</td></tr></thead><tbody><tr><td>2022-01-01 00:01:00</td><td>2022</td><td>1</td><td>1</td><td>0</td><td>1</td><td>0</td><td>1640995260000000</td></tr><tr><td>2022-01-02 12:00:00</td><td>2022</td><td>1</td><td>2</td><td>12</td><td>0</td><td>0</td><td>1641124800000000</td></tr><tr><td>2022-02-04 13:03:00</td><td>2022</td><td>2</td><td>4</td><td>13</td><td>3</td><td>0</td><td>1643979780000000</td></tr><tr><td>2022-02-05 14:00:04</td><td>2022</td><td>2</td><td>5</td><td>14</td><td>0</td><td>4</td><td>1644069604000000</td></tr><tr><td>2023-04-07 15:00:00</td><td>2023</td><td>4</td><td>7</td><td>15</td><td>0</td><td>0</td><td>1680879600000000</td></tr><tr><td>2024-02-08 16:00:02</td><td>2024</td><td>2</td><td>8</td><td>16</td><td>0</td><td>2</td><td>1707408002000000</td></tr><tr><td>2025-02-10 22:01:00</td><td>2025</td><td>2</td><td>10</td><td>22</td><td>1</td><td>0</td><td>1739224860000000</td></tr></tbody></table></div>"
      ],
      "text/plain": [
       "shape: (7, 8)\n",
       "┌─────────────────────┬──────┬───────┬─────┬──────┬────────┬────────┬──────────────────┐\n",
       "│ drange              ┆ year ┆ month ┆ day ┆ hour ┆ minute ┆ second ┆ epoch            │\n",
       "│ ---                 ┆ ---  ┆ ---   ┆ --- ┆ ---  ┆ ---    ┆ ---    ┆ ---              │\n",
       "│ datetime[μs]        ┆ i32  ┆ i8    ┆ i8  ┆ i8   ┆ i8     ┆ i8     ┆ i64              │\n",
       "╞═════════════════════╪══════╪═══════╪═════╪══════╪════════╪════════╪══════════════════╡\n",
       "│ 2022-01-01 00:01:00 ┆ 2022 ┆ 1     ┆ 1   ┆ 0    ┆ 1      ┆ 0      ┆ 1640995260000000 │\n",
       "│ 2022-01-02 12:00:00 ┆ 2022 ┆ 1     ┆ 2   ┆ 12   ┆ 0      ┆ 0      ┆ 1641124800000000 │\n",
       "│ 2022-02-04 13:03:00 ┆ 2022 ┆ 2     ┆ 4   ┆ 13   ┆ 3      ┆ 0      ┆ 1643979780000000 │\n",
       "│ 2022-02-05 14:00:04 ┆ 2022 ┆ 2     ┆ 5   ┆ 14   ┆ 0      ┆ 4      ┆ 1644069604000000 │\n",
       "│ 2023-04-07 15:00:00 ┆ 2023 ┆ 4     ┆ 7   ┆ 15   ┆ 0      ┆ 0      ┆ 1680879600000000 │\n",
       "│ 2024-02-08 16:00:02 ┆ 2024 ┆ 2     ┆ 8   ┆ 16   ┆ 0      ┆ 2      ┆ 1707408002000000 │\n",
       "│ 2025-02-10 22:01:00 ┆ 2025 ┆ 2     ┆ 10  ┆ 22   ┆ 1      ┆ 0      ┆ 1739224860000000 │\n",
       "└─────────────────────┴──────┴───────┴─────┴──────┴────────┴────────┴──────────────────┘"
      ]
     },
     "execution_count": 313,
     "metadata": {},
     "output_type": "execute_result"
    }
   ],
   "source": [
    "df_drange = df_drange.select(new_column)\n",
    "\n",
    "df_drange.select(\n",
    "    pl.col('drange'),\n",
    "    pl.col('drange').dt.year().alias('year'),\n",
    "    pl.col('drange').dt.month().alias('month'),\n",
    "    pl.col('drange').dt.day().alias('day'),\n",
    "    pl.col('drange').dt.hour().alias('hour'),\n",
    "    pl.col('drange').dt.minute().alias('minute'),\n",
    "    pl.col('drange').dt.second().alias('second'),\n",
    "    pl.col('drange').dt.epoch().alias('epoch'),\n",
    ")"
   ]
  }
 ],
 "metadata": {
  "kernelspec": {
   "display_name": "boat",
   "language": "python",
   "name": "python3"
  },
  "language_info": {
   "codemirror_mode": {
    "name": "ipython",
    "version": 3
   },
   "file_extension": ".py",
   "mimetype": "text/x-python",
   "name": "python",
   "nbconvert_exporter": "python",
   "pygments_lexer": "ipython3",
   "version": "3.8.19"
  }
 },
 "nbformat": 4,
 "nbformat_minor": 2
}
