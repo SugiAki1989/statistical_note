{
 "cells": [
  {
   "cell_type": "markdown",
   "metadata": {},
   "source": [
    "# はじめに\n",
    "\n",
    "このノートでは、lightGBMのアルゴリズムに関して、基本的な部分をおさらいして、まとめている。下記の書籍のコードと論文を参考にしている。\n",
    "\n",
    "- [LightGBM予測モデル実装ハンドブック](https://www.shuwasystem.co.jp/book/9784798067612.html)\n",
    "- [LightGBM: A Highly Efficient Gradient Boosting Decision Tree](https://proceedings.neurips.cc/paper_files/paper/2017/file/6449f44a102fde848669bdd9eb6b76fa-Paper.pdf)\n",
    "\n",
    "今回はlightGBMで、どのようにパラメタチューニングを行うかに焦点をあてている。"
   ]
  },
  {
   "cell_type": "markdown",
   "metadata": {},
   "source": [
    "## モデルの学習\n",
    "\n",
    "必要なライブラリをインポートしておく。"
   ]
  },
  {
   "cell_type": "code",
   "execution_count": 1,
   "metadata": {},
   "outputs": [],
   "source": [
    "# ライブラリのインポート\n",
    "%matplotlib inline\n",
    "import pandas as pd\n",
    "import numpy as np\n",
    "import matplotlib.pyplot as plt\n",
    "import seaborn as sns\n",
    "from sklearn.model_selection import train_test_split\n",
    "from sklearn.metrics import mean_absolute_error\n",
    "from sklearn.preprocessing import LabelEncoder\n",
    "import warnings\n",
    "import matplotlib\n",
    "import sklearn\n",
    "import lightgbm as lgb\n",
    "import optuna\n",
    "import plotly\n",
    "\n",
    "warnings.filterwarnings('ignore', category=UserWarning)"
   ]
  },
  {
   "cell_type": "markdown",
   "metadata": {},
   "source": [
    "ここで使用するデータは、ダイアモンドの価格に関するサンプルデータ。データの説明は下記の通り。\n",
    "\n",
    "|変数|説明|\n",
    "|:---|:---|\n",
    "|`price`| 米ドルでの価格|\n",
    "|`carat`| ダイヤモンドの重量|\n",
    "|`cut`| カットの品質(Fair、Good、Very Good、Premium、Ideal)|\n",
    "|`color`| ダイヤモンドの色(Dが最高、E、F、G、H、I、Jが最低)|\n",
    "|`clarity`| ダイヤモンドの透明度(I1は最低、SI2、SI1、VS2、VS1、VVS2、VVS1、IFが最高)|\n",
    "|`x`| 長さ|\n",
    "|`y`| 幅|\n",
    "|`z`| 深さ|\n",
    "|`depth`| 合計深さのパーセンテージ |\n",
    "|`table`| 最も広い点に対するダイヤモンドの上部の幅 |\n"
   ]
  },
  {
   "cell_type": "code",
   "execution_count": 2,
   "metadata": {},
   "outputs": [
    {
     "name": "stdout",
     "output_type": "stream",
     "text": [
      "(53911, 10)\n"
     ]
    },
    {
     "data": {
      "text/html": [
       "<div>\n",
       "<style scoped>\n",
       "    .dataframe tbody tr th:only-of-type {\n",
       "        vertical-align: middle;\n",
       "    }\n",
       "\n",
       "    .dataframe tbody tr th {\n",
       "        vertical-align: top;\n",
       "    }\n",
       "\n",
       "    .dataframe thead th {\n",
       "        text-align: right;\n",
       "    }\n",
       "</style>\n",
       "<table border=\"1\" class=\"dataframe\">\n",
       "  <thead>\n",
       "    <tr style=\"text-align: right;\">\n",
       "      <th></th>\n",
       "      <th>carat</th>\n",
       "      <th>cut</th>\n",
       "      <th>color</th>\n",
       "      <th>clarity</th>\n",
       "      <th>depth</th>\n",
       "      <th>table</th>\n",
       "      <th>price</th>\n",
       "      <th>x</th>\n",
       "      <th>y</th>\n",
       "      <th>z</th>\n",
       "    </tr>\n",
       "  </thead>\n",
       "  <tbody>\n",
       "    <tr>\n",
       "      <th>0</th>\n",
       "      <td>0.23</td>\n",
       "      <td>Ideal</td>\n",
       "      <td>E</td>\n",
       "      <td>SI2</td>\n",
       "      <td>61.5</td>\n",
       "      <td>55.0</td>\n",
       "      <td>326</td>\n",
       "      <td>3.95</td>\n",
       "      <td>3.98</td>\n",
       "      <td>2.43</td>\n",
       "    </tr>\n",
       "    <tr>\n",
       "      <th>1</th>\n",
       "      <td>0.21</td>\n",
       "      <td>Premium</td>\n",
       "      <td>E</td>\n",
       "      <td>SI1</td>\n",
       "      <td>59.8</td>\n",
       "      <td>61.0</td>\n",
       "      <td>326</td>\n",
       "      <td>3.89</td>\n",
       "      <td>3.84</td>\n",
       "      <td>2.31</td>\n",
       "    </tr>\n",
       "    <tr>\n",
       "      <th>2</th>\n",
       "      <td>0.23</td>\n",
       "      <td>Good</td>\n",
       "      <td>E</td>\n",
       "      <td>VS1</td>\n",
       "      <td>56.9</td>\n",
       "      <td>65.0</td>\n",
       "      <td>327</td>\n",
       "      <td>4.05</td>\n",
       "      <td>4.07</td>\n",
       "      <td>2.31</td>\n",
       "    </tr>\n",
       "    <tr>\n",
       "      <th>3</th>\n",
       "      <td>0.29</td>\n",
       "      <td>Premium</td>\n",
       "      <td>I</td>\n",
       "      <td>VS2</td>\n",
       "      <td>62.4</td>\n",
       "      <td>58.0</td>\n",
       "      <td>334</td>\n",
       "      <td>4.20</td>\n",
       "      <td>4.23</td>\n",
       "      <td>2.63</td>\n",
       "    </tr>\n",
       "    <tr>\n",
       "      <th>4</th>\n",
       "      <td>0.31</td>\n",
       "      <td>Good</td>\n",
       "      <td>J</td>\n",
       "      <td>SI2</td>\n",
       "      <td>63.3</td>\n",
       "      <td>58.0</td>\n",
       "      <td>335</td>\n",
       "      <td>4.34</td>\n",
       "      <td>4.35</td>\n",
       "      <td>2.75</td>\n",
       "    </tr>\n",
       "  </tbody>\n",
       "</table>\n",
       "</div>"
      ],
      "text/plain": [
       "   carat      cut color clarity  depth  table  price     x     y     z\n",
       "0   0.23    Ideal     E     SI2   61.5   55.0    326  3.95  3.98  2.43\n",
       "1   0.21  Premium     E     SI1   59.8   61.0    326  3.89  3.84  2.31\n",
       "2   0.23     Good     E     VS1   56.9   65.0    327  4.05  4.07  2.31\n",
       "3   0.29  Premium     I     VS2   62.4   58.0    334  4.20  4.23  2.63\n",
       "4   0.31     Good     J     SI2   63.3   58.0    335  4.34  4.35  2.75"
      ]
     },
     "execution_count": 2,
     "metadata": {},
     "output_type": "execute_result"
    }
   ],
   "source": [
    "# データ読み込み、外れ値の除外\n",
    "# データセットの読み込み\n",
    "df = sns.load_dataset('diamonds')\n",
    "\n",
    "# 外れ値除外の前処理\n",
    "df = df.drop(df[(df['x'] == 0) | (df['y'] == 0)| (df['z'] == 0)].index, axis=0)\n",
    "df = df.drop(df[(df['x'] >= 10) | (df['y'] >= 10) | (df['z'] >= 10)].index, axis=0)\n",
    "df.reset_index(inplace=True, drop=True)\n",
    "print(df.shape)\n",
    "df.head()"
   ]
  },
  {
   "cell_type": "markdown",
   "metadata": {},
   "source": [
    "## LightGBMのハイパーパラメタ\n",
    "\n",
    "LightGBMのハイパーパラメタは数多く用意されている。複雑さに関わる`num_leaves`や過学習に関わる`min_data_in_leaf`は特に重要。\n",
    "\n",
    "|カテゴリ|パラメタ名|デフォルト設定|説明|\n",
    "|:---|:---|:---|:---|\n",
    "|Boosting|`learning_rate`|0.1|1回のブースティングで加算される重みの調整値|\n",
    "|Boosting|`num_boost_round`|100|ブースティング回数|\n",
    "|Boosting|`objective`|mse|指定した損失感の1次微分、2次微分で重みと類似度を計算する。|\n",
    "|Boosting|`metric`|`objective`と同じ|誤差評価の評価関数。`objective`と異なる場合に使用する。|\n",
    "|Boosting|`early_stopping_rounds`|0|`metric`で指定した指標がブースティングを繰り返しても改善しない場合に、ブースティングを終了する|\n",
    "|並列化|`num_threads`|CPU Core数|並列計算に使用するスレッド数を指定する。|\n",
    "|★決定木★|`num_leaves`|31|葉数の最大値|\n",
    "|決定木|`max_depth`|無限大|木の深さ。通常は指定不要。|\n",
    "|★決定木★|`min_data_in_leaf`|20|新たに葉を作成する際に必要な最小のレコード数|\n",
    "|決定木|`min_sum_hessian_in_leaf`|1e-3|分類タスクのときに使用。2次微分は指定した値よりも小さいときは葉を分割しない|\n",
    "|決定木|`max_bin`|255|特徴量の分割点の計算で使用するヒストグラムのbinの最大値|\n",
    "|決定木|`min_data_in_bin`|3|binに含まれる最小のレコード数|\n",
    "|サンプリング|`bagging_fraction`|1.0|1回のブースティングで使用するレコード数の比率|\n",
    "|サンプリング|`bagging_freq`|0=無効|`bagging_fraction`を使用する割合を指定|\n",
    "|サンプリング|`feature_fraction`|1.0|1回のブースティングで使用する特徴量の比率|\n",
    "|正則化|`min_gain_to_split`|0|葉を分割して新たに葉を作成するとき、分割前後の類似度を比較してGainが正値であれば葉を分割する|\n",
    "|正則化|`lambda_l1`|0|葉の重みに対するL1正則化の強さ|\n",
    "|正則化|`lambda_l2`|0|葉の重みに対するL2正則化の強さ|\n",
    "\n"
   ]
  },
  {
   "cell_type": "code",
   "execution_count": 3,
   "metadata": {},
   "outputs": [
    {
     "data": {
      "text/html": [
       "<div>\n",
       "<style scoped>\n",
       "    .dataframe tbody tr th:only-of-type {\n",
       "        vertical-align: middle;\n",
       "    }\n",
       "\n",
       "    .dataframe tbody tr th {\n",
       "        vertical-align: top;\n",
       "    }\n",
       "\n",
       "    .dataframe thead th {\n",
       "        text-align: right;\n",
       "    }\n",
       "</style>\n",
       "<table border=\"1\" class=\"dataframe\">\n",
       "  <thead>\n",
       "    <tr style=\"text-align: right;\">\n",
       "      <th></th>\n",
       "      <th>carat</th>\n",
       "      <th>cut</th>\n",
       "      <th>color</th>\n",
       "      <th>clarity</th>\n",
       "      <th>depth</th>\n",
       "      <th>table</th>\n",
       "      <th>x</th>\n",
       "      <th>y</th>\n",
       "      <th>z</th>\n",
       "      <th>density</th>\n",
       "      <th>...</th>\n",
       "      <th>carat/median_carat_by_cut</th>\n",
       "      <th>median_carat_by_color</th>\n",
       "      <th>carat-median_carat_by_color</th>\n",
       "      <th>carat/median_carat_by_color</th>\n",
       "      <th>median_carat_by_clarity</th>\n",
       "      <th>carat-median_carat_by_clarity</th>\n",
       "      <th>carat/median_carat_by_clarity</th>\n",
       "      <th>rate_cut*color</th>\n",
       "      <th>rate_color*clarity</th>\n",
       "      <th>rate_clarity*cut</th>\n",
       "    </tr>\n",
       "  </thead>\n",
       "  <tbody>\n",
       "    <tr>\n",
       "      <th>0</th>\n",
       "      <td>0.23</td>\n",
       "      <td>Ideal</td>\n",
       "      <td>E</td>\n",
       "      <td>SI2</td>\n",
       "      <td>61.5</td>\n",
       "      <td>55.0</td>\n",
       "      <td>3.95</td>\n",
       "      <td>3.98</td>\n",
       "      <td>2.43</td>\n",
       "      <td>0.006021</td>\n",
       "      <td>...</td>\n",
       "      <td>0.425926</td>\n",
       "      <td>0.53</td>\n",
       "      <td>-0.30</td>\n",
       "      <td>0.433962</td>\n",
       "      <td>1.01</td>\n",
       "      <td>-0.78</td>\n",
       "      <td>0.227723</td>\n",
       "      <td>0.181092</td>\n",
       "      <td>0.174885</td>\n",
       "      <td>0.282774</td>\n",
       "    </tr>\n",
       "    <tr>\n",
       "      <th>1</th>\n",
       "      <td>0.21</td>\n",
       "      <td>Premium</td>\n",
       "      <td>E</td>\n",
       "      <td>SI1</td>\n",
       "      <td>59.8</td>\n",
       "      <td>61.0</td>\n",
       "      <td>3.89</td>\n",
       "      <td>3.84</td>\n",
       "      <td>2.31</td>\n",
       "      <td>0.006086</td>\n",
       "      <td>...</td>\n",
       "      <td>0.247059</td>\n",
       "      <td>0.53</td>\n",
       "      <td>-0.32</td>\n",
       "      <td>0.396226</td>\n",
       "      <td>0.76</td>\n",
       "      <td>-0.55</td>\n",
       "      <td>0.276316</td>\n",
       "      <td>0.169631</td>\n",
       "      <td>0.247677</td>\n",
       "      <td>0.273521</td>\n",
       "    </tr>\n",
       "    <tr>\n",
       "      <th>2</th>\n",
       "      <td>0.23</td>\n",
       "      <td>Good</td>\n",
       "      <td>E</td>\n",
       "      <td>VS1</td>\n",
       "      <td>56.9</td>\n",
       "      <td>65.0</td>\n",
       "      <td>4.05</td>\n",
       "      <td>4.07</td>\n",
       "      <td>2.31</td>\n",
       "      <td>0.006040</td>\n",
       "      <td>...</td>\n",
       "      <td>0.280488</td>\n",
       "      <td>0.53</td>\n",
       "      <td>-0.30</td>\n",
       "      <td>0.433962</td>\n",
       "      <td>0.57</td>\n",
       "      <td>-0.34</td>\n",
       "      <td>0.403509</td>\n",
       "      <td>0.190330</td>\n",
       "      <td>0.130577</td>\n",
       "      <td>0.079334</td>\n",
       "    </tr>\n",
       "    <tr>\n",
       "      <th>3</th>\n",
       "      <td>0.29</td>\n",
       "      <td>Premium</td>\n",
       "      <td>I</td>\n",
       "      <td>VS2</td>\n",
       "      <td>62.4</td>\n",
       "      <td>58.0</td>\n",
       "      <td>4.20</td>\n",
       "      <td>4.23</td>\n",
       "      <td>2.63</td>\n",
       "      <td>0.006207</td>\n",
       "      <td>...</td>\n",
       "      <td>0.341176</td>\n",
       "      <td>1.00</td>\n",
       "      <td>-0.71</td>\n",
       "      <td>0.290000</td>\n",
       "      <td>0.63</td>\n",
       "      <td>-0.34</td>\n",
       "      <td>0.460317</td>\n",
       "      <td>0.103506</td>\n",
       "      <td>0.215722</td>\n",
       "      <td>0.273870</td>\n",
       "    </tr>\n",
       "    <tr>\n",
       "      <th>4</th>\n",
       "      <td>0.31</td>\n",
       "      <td>Good</td>\n",
       "      <td>J</td>\n",
       "      <td>SI2</td>\n",
       "      <td>63.3</td>\n",
       "      <td>58.0</td>\n",
       "      <td>4.34</td>\n",
       "      <td>4.35</td>\n",
       "      <td>2.75</td>\n",
       "      <td>0.005971</td>\n",
       "      <td>...</td>\n",
       "      <td>0.378049</td>\n",
       "      <td>1.11</td>\n",
       "      <td>-0.80</td>\n",
       "      <td>0.279279</td>\n",
       "      <td>1.01</td>\n",
       "      <td>-0.70</td>\n",
       "      <td>0.306931</td>\n",
       "      <td>0.062627</td>\n",
       "      <td>0.170766</td>\n",
       "      <td>0.117378</td>\n",
       "    </tr>\n",
       "  </tbody>\n",
       "</table>\n",
       "<p>5 rows × 31 columns</p>\n",
       "</div>"
      ],
      "text/plain": [
       "   carat      cut color clarity  depth  table     x     y     z   density  \\\n",
       "0   0.23    Ideal     E     SI2   61.5   55.0  3.95  3.98  2.43  0.006021   \n",
       "1   0.21  Premium     E     SI1   59.8   61.0  3.89  3.84  2.31  0.006086   \n",
       "2   0.23     Good     E     VS1   56.9   65.0  4.05  4.07  2.31  0.006040   \n",
       "3   0.29  Premium     I     VS2   62.4   58.0  4.20  4.23  2.63  0.006207   \n",
       "4   0.31     Good     J     SI2   63.3   58.0  4.34  4.35  2.75  0.005971   \n",
       "\n",
       "   ...  carat/median_carat_by_cut  median_carat_by_color  \\\n",
       "0  ...                   0.425926                   0.53   \n",
       "1  ...                   0.247059                   0.53   \n",
       "2  ...                   0.280488                   0.53   \n",
       "3  ...                   0.341176                   1.00   \n",
       "4  ...                   0.378049                   1.11   \n",
       "\n",
       "   carat-median_carat_by_color  carat/median_carat_by_color  \\\n",
       "0                        -0.30                     0.433962   \n",
       "1                        -0.32                     0.396226   \n",
       "2                        -0.30                     0.433962   \n",
       "3                        -0.71                     0.290000   \n",
       "4                        -0.80                     0.279279   \n",
       "\n",
       "   median_carat_by_clarity  carat-median_carat_by_clarity  \\\n",
       "0                     1.01                          -0.78   \n",
       "1                     0.76                          -0.55   \n",
       "2                     0.57                          -0.34   \n",
       "3                     0.63                          -0.34   \n",
       "4                     1.01                          -0.70   \n",
       "\n",
       "   carat/median_carat_by_clarity  rate_cut*color  rate_color*clarity  \\\n",
       "0                       0.227723        0.181092            0.174885   \n",
       "1                       0.276316        0.169631            0.247677   \n",
       "2                       0.403509        0.190330            0.130577   \n",
       "3                       0.460317        0.103506            0.215722   \n",
       "4                       0.306931        0.062627            0.170766   \n",
       "\n",
       "   rate_clarity*cut  \n",
       "0          0.282774  \n",
       "1          0.273521  \n",
       "2          0.079334  \n",
       "3          0.273870  \n",
       "4          0.117378  \n",
       "\n",
       "[5 rows x 31 columns]"
      ]
     },
     "metadata": {},
     "output_type": "display_data"
    }
   ],
   "source": [
    "# 特徴量と目的変数の設定\n",
    "X = df.drop(['price'], axis=1)\n",
    "y = df['price']\n",
    "# 数値×数値の特徴量エンジニアリング\n",
    "# 密度（重さ/体積）\n",
    "X['density'] = X['carat'] / (X['x'] * X['y'] * X['z'])\n",
    "\n",
    "# 差分\n",
    "X['x-y'] = (X['x'] - X['y']).abs()\n",
    "X['y-z'] = (X['y'] - X['z']).abs()\n",
    "X['z-x'] = (X['x'] - X['y']).abs()\n",
    "\n",
    "# 比率\n",
    "X['x/y'] = X['x'] / X['y']\n",
    "X['y/z'] = X['y'] / X['z']\n",
    "X['z/x'] = X['z'] / X['x']\n",
    "\n",
    "# 中央値との差分\n",
    "X['x-median_x'] = (X['x'] - X['x'].median()).abs()\n",
    "X['y-median_y'] = (X['y'] - X['y'].median()).abs()\n",
    "X['z-median_z'] = (X['z'] - X['z'].median()).abs()\n",
    "# カテゴリ変数×数値の特徴量エンジニアリング\n",
    "\n",
    "# カテゴリ変数cutごとにcarat中央値を集計\n",
    "X_carat_by_cut = X.groupby('cut')['carat'].agg('median').reset_index()\n",
    "X_carat_by_cut.columns = ['cut', 'median_carat_by_cut']\n",
    "X = pd.merge(X, X_carat_by_cut, on='cut', how = 'left')\n",
    "X['carat-median_carat_by_cut'] = (X['carat'] - X['median_carat_by_cut'])\n",
    "X['carat/median_carat_by_cut'] = (X['carat'] / X['median_carat_by_cut'])\n",
    "\n",
    "# カテゴリ変数colorごとにcarat中央値を集計\n",
    "X_carat_by_color = X.groupby('color')['carat'].agg('median').reset_index()\n",
    "X_carat_by_color.columns = ['color', 'median_carat_by_color']\n",
    "X = pd.merge(X, X_carat_by_color, on='color', how = 'left')\n",
    "X['carat-median_carat_by_color'] = (X['carat'] - X['median_carat_by_color'])\n",
    "X['carat/median_carat_by_color'] = (X['carat'] / X['median_carat_by_color'])\n",
    "\n",
    "# カテゴリ変数clarityごとにcarat中央値を集計\n",
    "X_carat_by_clarity = X.groupby('clarity')['carat'].agg('median').reset_index()\n",
    "X_carat_by_clarity.columns = ['clarity', 'median_carat_by_clarity']\n",
    "X = pd.merge(X, X_carat_by_clarity, on='clarity', how = 'left')\n",
    "X['carat-median_carat_by_clarity'] = (X['carat'] - X['median_carat_by_clarity'])\n",
    "X['carat/median_carat_by_clarity'] = (X['carat'] / X ['median_carat_by_clarity'])\n",
    "\n",
    "# cut*colorの出現割合\n",
    "X_tbl = pd.crosstab(X['cut'], X['color'], normalize='index')\n",
    "X_tbl = X_tbl.reset_index()\n",
    "X_tbl = pd.melt(X_tbl, id_vars='cut', value_name='rate_cut*color')\n",
    "X = pd.merge(X, X_tbl, on=['cut', 'color'], how='left' )\n",
    "\n",
    "# color*clarityの出現割合\n",
    "X_tbl = pd.crosstab(X['color'], X['clarity'], normalize='index')\n",
    "X_tbl = X_tbl.reset_index()\n",
    "X_tbl = pd.melt(X_tbl, id_vars='color', value_name='rate_color*clarity')\n",
    "X = pd.merge(X, X_tbl, on=['color', 'clarity'], how='left' )\n",
    "\n",
    "# clarity*cutの出現割合\n",
    "X_tbl = pd.crosstab(X['clarity'], X['cut'], normalize='index')\n",
    "X_tbl = X_tbl.reset_index()\n",
    "X_tbl = pd.melt(X_tbl, id_vars='clarity', value_name='rate_clarity*cut')\n",
    "X = pd.merge(X, X_tbl, on=['clarity', 'cut'], how='left' )\n",
    "\n",
    "## 特徴量を追加\n",
    "display(X.head())"
   ]
  },
  {
   "cell_type": "markdown",
   "metadata": {},
   "source": [
    "## Optunaで最適化\n",
    "\n",
    "LightGBMのパラメタは数が多いため、探索に時間がかかってしまう。そんなときに相性がよいのがOptunaパッケージ。Optunaの計算方法は、探索対象が多く、探索範囲も広い場合に、試行するたびに探索範囲を提案する方法であるためLightGBMと相性がよい。ただ、実務において、クロスバリデーションと組み合わせると計算時間がかかってしまうことは容易に想像できるので、ホールドアウト法で使用してパラメタ探索を完了させる方法もある。ハイパーパラメタの評価に使用する検証データは予測モデルを作成する時とは異なるレコードを使用する。最適化を実行するためには、これまでと同様、学習、検証とテストデータに分けて始める。"
   ]
  },
  {
   "cell_type": "code",
   "execution_count": 4,
   "metadata": {},
   "outputs": [
    {
     "name": "stdout",
     "output_type": "stream",
     "text": [
      "X_trainの形状： (43128, 31)  y_trainの形状： (43128,)  X_testの形状： (10783, 31)  y_testの形状： (10783,)\n"
     ]
    }
   ],
   "source": [
    "# 学習データとテストデータに分割\n",
    "X_train, X_test, y_train, y_test = train_test_split(X, y, test_size=0.2, shuffle=True, random_state=0)\n",
    "print('X_trainの形状：', X_train.shape, ' y_trainの形状：', y_train.shape, ' X_testの形状：', X_test.shape, ' y_testの形状：', y_test.shape)"
   ]
  },
  {
   "cell_type": "code",
   "execution_count": 5,
   "metadata": {},
   "outputs": [
    {
     "name": "stdout",
     "output_type": "stream",
     "text": [
      "<class 'pandas.core.frame.DataFrame'>\n",
      "Index: 43128 entries, 2640 to 2732\n",
      "Data columns (total 31 columns):\n",
      " #   Column                         Non-Null Count  Dtype   \n",
      "---  ------                         --------------  -----   \n",
      " 0   carat                          43128 non-null  float64 \n",
      " 1   cut                            43128 non-null  category\n",
      " 2   color                          43128 non-null  category\n",
      " 3   clarity                        43128 non-null  category\n",
      " 4   depth                          43128 non-null  float64 \n",
      " 5   table                          43128 non-null  float64 \n",
      " 6   x                              43128 non-null  float64 \n",
      " 7   y                              43128 non-null  float64 \n",
      " 8   z                              43128 non-null  float64 \n",
      " 9   density                        43128 non-null  float64 \n",
      " 10  x-y                            43128 non-null  float64 \n",
      " 11  y-z                            43128 non-null  float64 \n",
      " 12  z-x                            43128 non-null  float64 \n",
      " 13  x/y                            43128 non-null  float64 \n",
      " 14  y/z                            43128 non-null  float64 \n",
      " 15  z/x                            43128 non-null  float64 \n",
      " 16  x-median_x                     43128 non-null  float64 \n",
      " 17  y-median_y                     43128 non-null  float64 \n",
      " 18  z-median_z                     43128 non-null  float64 \n",
      " 19  median_carat_by_cut            43128 non-null  float64 \n",
      " 20  carat-median_carat_by_cut      43128 non-null  float64 \n",
      " 21  carat/median_carat_by_cut      43128 non-null  float64 \n",
      " 22  median_carat_by_color          43128 non-null  float64 \n",
      " 23  carat-median_carat_by_color    43128 non-null  float64 \n",
      " 24  carat/median_carat_by_color    43128 non-null  float64 \n",
      " 25  median_carat_by_clarity        43128 non-null  float64 \n",
      " 26  carat-median_carat_by_clarity  43128 non-null  float64 \n",
      " 27  carat/median_carat_by_clarity  43128 non-null  float64 \n",
      " 28  rate_cut*color                 43128 non-null  float64 \n",
      " 29  rate_color*clarity             43128 non-null  float64 \n",
      " 30  rate_clarity*cut               43128 non-null  float64 \n",
      "dtypes: category(3), float64(28)\n",
      "memory usage: 9.7 MB\n"
     ]
    }
   ],
   "source": [
    "cat_cols = ['cut', 'color', 'clarity']\n",
    "\n",
    "for c in cat_cols:\n",
    "    le = LabelEncoder()\n",
    "    le.fit(X_train[c])\n",
    "    X_train[c] = le.transform(X_train[c])\n",
    "    X_test[c] = le.transform(X_test[c])\n",
    "\n",
    "for c in cat_cols:\n",
    "    X_train[c] = X_train[c].astype('category')\n",
    "    X_test[c] = X_test[c].astype('category')\n",
    "\n",
    "X_train.info()"
   ]
  },
  {
   "cell_type": "markdown",
   "metadata": {},
   "source": [
    "Optunaで最適化する際に使用する検証データを学習データから作成する。他の分析結果(`random_state=0`で分割)と比較してOptunaの最適化がうまく行っているかを検証したいので、ここでは`random_state=1`にしておく。"
   ]
  },
  {
   "cell_type": "code",
   "execution_count": 6,
   "metadata": {},
   "outputs": [
    {
     "name": "stdout",
     "output_type": "stream",
     "text": [
      "X_trの形状： (34502, 31)  y_trの形状： (34502,)  X_vaの形状： (8626, 31)  y_vaの形状： (8626,)\n"
     ]
    }
   ],
   "source": [
    "# 学習データの一部を検証データに分割\n",
    "X_tr, X_va, y_tr, y_va = train_test_split(X_train, y_train, test_size=0.2, shuffle=True, random_state=1)\n",
    "print('X_trの形状：', X_tr.shape, ' y_trの形状：', y_tr.shape, ' X_vaの形状：', X_va.shape, ' y_vaの形状：', y_va.shape)"
   ]
  },
  {
   "cell_type": "markdown",
   "metadata": {},
   "source": [
    "最適化前の初期値パラメタを設定する。MAEを最小化するパラメタの組み合わせを探索する。"
   ]
  },
  {
   "cell_type": "code",
   "execution_count": 7,
   "metadata": {},
   "outputs": [],
   "source": [
    "# 固定値のハイパーパラメータ\n",
    "params_base = {\n",
    "    'objective': 'mae',\n",
    "    'random_seed': 1234,\n",
    "    'learning_rate': 0.02,\n",
    "    'min_data_in_bin': 3,\n",
    "    'bagging_freq': 1,\n",
    "    'bagging_seed': 0,\n",
    "    'verbose': -1,\n",
    "}\n"
   ]
  },
  {
   "cell_type": "markdown",
   "metadata": {},
   "source": [
    "Optunaの引数の関数`objective`を定義する。パラメタの設定値に合わせて、`suggest_int`と`suggest_float`を使用する。"
   ]
  },
  {
   "cell_type": "code",
   "execution_count": 8,
   "metadata": {},
   "outputs": [],
   "source": [
    "# ハイパーパラメータの探索範囲\n",
    "def objective(trial):\n",
    "  params_tuning = {\n",
    "      'num_leaves': trial.suggest_int('num_leaves', 50, 200),\n",
    "      'min_data_in_leaf': trial.suggest_int('min_data_in_leaf', 2, 30),\n",
    "      'max_bin': trial.suggest_int('max_bin', 200, 400),\n",
    "      'bagging_fraction': trial.suggest_float('bagging_fraction', 0.8, 0.95),\n",
    "      'feature_fraction': trial.suggest_float('feature_fraction', 0.35, 0.65),\n",
    "      'min_gain_to_split': trial.suggest_float('min_gain_to_split', 0.01, 1, log=True),\n",
    "      'lambda_l1': trial.suggest_float('lambda_l1', 0.01, 1, log=True),\n",
    "      'lambda_l2': trial.suggest_float('lambda_l2', 0.01, 1, log=True),\n",
    "  }\n",
    "  \n",
    "  # 探索用ハイパーパラメータの設定\n",
    "  params_tuning.update(params_base)\n",
    "\n",
    "  lgb_train = lgb.Dataset(X_tr, y_tr)\n",
    "  lgb_eval = lgb.Dataset(X_va, y_va)\n",
    "  \n",
    "  # 探索用ハイパーパラメータで学習\n",
    "  model = lgb.train(\n",
    "    params_tuning,\n",
    "    lgb_train,\n",
    "    num_boost_round=10000,\n",
    "    valid_sets=[lgb_train, lgb_eval],\n",
    "    valid_names=['train', 'valid'],\n",
    "    callbacks=[lgb.early_stopping(100),\n",
    "    lgb.log_evaluation(500)]\n",
    "    )\n",
    "  \n",
    "  y_va_pred = model.predict(X_va, num_iteration=model.best_iteration)\n",
    "  score =  mean_absolute_error(y_va, y_va_pred) # MAE\n",
    "  print('')\n",
    "\n",
    "  return score"
   ]
  },
  {
   "cell_type": "markdown",
   "metadata": {},
   "source": [
    "ここでは時間がかかるので、Optunaの探索は100回としている。"
   ]
  },
  {
   "cell_type": "code",
   "execution_count": 9,
   "metadata": {},
   "outputs": [
    {
     "name": "stderr",
     "output_type": "stream",
     "text": [
      "[I 2024-04-28 11:08:23,354] A new study created in memory with name: no-name-4c837281-acf6-4108-bda2-4a61f1307f97\n"
     ]
    },
    {
     "name": "stdout",
     "output_type": "stream",
     "text": [
      "Training until validation scores don't improve for 100 rounds\n",
      "[500]\ttrain's l1: 214.009\tvalid's l1: 241.969\n",
      "[1000]\ttrain's l1: 188.285\tvalid's l1: 239.083\n",
      "[1500]\ttrain's l1: 174.648\tvalid's l1: 238.329\n",
      "[2000]\ttrain's l1: 164.686\tvalid's l1: 237.945\n",
      "Early stopping, best iteration is:\n",
      "[1936]\ttrain's l1: 165.705\tvalid's l1: 237.902\n"
     ]
    },
    {
     "name": "stderr",
     "output_type": "stream",
     "text": [
      "[I 2024-04-28 11:08:46,700] Trial 0 finished with value: 237.90199720387386 and parameters: {'num_leaves': 132, 'min_data_in_leaf': 22, 'max_bin': 321, 'bagging_fraction': 0.8817324774495345, 'feature_fraction': 0.47709643980167143, 'min_gain_to_split': 0.19578897201212997, 'lambda_l1': 0.07501954443620121, 'lambda_l2': 0.6074996073425692}. Best is trial 0 with value: 237.90199720387386.\n"
     ]
    },
    {
     "name": "stdout",
     "output_type": "stream",
     "text": [
      "\n",
      "Training until validation scores don't improve for 100 rounds\n",
      "[500]\ttrain's l1: 198.081\tvalid's l1: 239.91\n",
      "[1000]\ttrain's l1: 166.228\tvalid's l1: 237.087\n",
      "[1500]\ttrain's l1: 148.034\tvalid's l1: 236.3\n",
      "Early stopping, best iteration is:\n",
      "[1767]\ttrain's l1: 141.281\tvalid's l1: 236.043\n"
     ]
    },
    {
     "name": "stderr",
     "output_type": "stream",
     "text": [
      "[I 2024-04-28 11:09:19,688] Trial 1 finished with value: 236.04279778272314 and parameters: {'num_leaves': 195, 'min_data_in_leaf': 13, 'max_bin': 359, 'bagging_fraction': 0.8793342379629356, 'feature_fraction': 0.5204133683281797, 'min_gain_to_split': 0.70989362574059, 'lambda_l1': 0.013869861245357327, 'lambda_l2': 0.014936835544198456}. Best is trial 1 with value: 236.04279778272314.\n"
     ]
    },
    {
     "name": "stdout",
     "output_type": "stream",
     "text": [
      "\n",
      "Training until validation scores don't improve for 100 rounds\n",
      "[500]\ttrain's l1: 238.791\tvalid's l1: 245.055\n",
      "[1000]\ttrain's l1: 219.328\tvalid's l1: 240.619\n",
      "[1500]\ttrain's l1: 206.827\tvalid's l1: 239.388\n",
      "[2000]\ttrain's l1: 197.874\tvalid's l1: 238.588\n",
      "[2500]\ttrain's l1: 189.997\tvalid's l1: 237.99\n",
      "Early stopping, best iteration is:\n",
      "[2579]\ttrain's l1: 188.717\tvalid's l1: 237.874\n"
     ]
    },
    {
     "name": "stderr",
     "output_type": "stream",
     "text": [
      "[I 2024-04-28 11:09:36,327] Trial 2 finished with value: 237.87415843340005 and parameters: {'num_leaves': 53, 'min_data_in_leaf': 26, 'max_bin': 356, 'bagging_fraction': 0.9305018222370228, 'feature_fraction': 0.6435855026698292, 'min_gain_to_split': 0.3965675081771009, 'lambda_l1': 0.08374496868436809, 'lambda_l2': 0.36396393567863894}. Best is trial 1 with value: 236.04279778272314.\n"
     ]
    },
    {
     "name": "stdout",
     "output_type": "stream",
     "text": [
      "\n",
      "Training until validation scores don't improve for 100 rounds\n",
      "[500]\ttrain's l1: 234.106\tvalid's l1: 242.96\n",
      "[1000]\ttrain's l1: 212.302\tvalid's l1: 239.128\n",
      "[1500]\ttrain's l1: 198.301\tvalid's l1: 237.992\n",
      "Early stopping, best iteration is:\n",
      "[1478]\ttrain's l1: 198.864\tvalid's l1: 237.918\n"
     ]
    },
    {
     "name": "stderr",
     "output_type": "stream",
     "text": [
      "[I 2024-04-28 11:09:47,688] Trial 3 finished with value: 237.91809022881404 and parameters: {'num_leaves': 67, 'min_data_in_leaf': 20, 'max_bin': 228, 'bagging_fraction': 0.9417003375574375, 'feature_fraction': 0.5065544965250215, 'min_gain_to_split': 0.06750312521595925, 'lambda_l1': 0.0338151426782029, 'lambda_l2': 0.35356346291488117}. Best is trial 1 with value: 236.04279778272314.\n"
     ]
    },
    {
     "name": "stdout",
     "output_type": "stream",
     "text": [
      "\n",
      "Training until validation scores don't improve for 100 rounds\n",
      "[500]\ttrain's l1: 218.352\tvalid's l1: 240.885\n",
      "[1000]\ttrain's l1: 193.766\tvalid's l1: 237.805\n",
      "[1500]\ttrain's l1: 179.19\tvalid's l1: 236.929\n",
      "Early stopping, best iteration is:\n",
      "[1610]\ttrain's l1: 176.52\tvalid's l1: 236.751\n"
     ]
    },
    {
     "name": "stderr",
     "output_type": "stream",
     "text": [
      "[I 2024-04-28 11:10:10,675] Trial 4 finished with value: 236.7510295842597 and parameters: {'num_leaves': 118, 'min_data_in_leaf': 18, 'max_bin': 203, 'bagging_fraction': 0.8926453245613816, 'feature_fraction': 0.5336287168167264, 'min_gain_to_split': 0.17134364197119656, 'lambda_l1': 0.7717846862118064, 'lambda_l2': 0.2310152225018237}. Best is trial 1 with value: 236.04279778272314.\n"
     ]
    },
    {
     "name": "stdout",
     "output_type": "stream",
     "text": [
      "\n",
      "Training until validation scores don't improve for 100 rounds\n",
      "[500]\ttrain's l1: 220.617\tvalid's l1: 241.169\n",
      "[1000]\ttrain's l1: 194.798\tvalid's l1: 237.881\n",
      "[1500]\ttrain's l1: 177.651\tvalid's l1: 236.665\n",
      "Early stopping, best iteration is:\n",
      "[1608]\ttrain's l1: 175.172\tvalid's l1: 236.495\n"
     ]
    },
    {
     "name": "stderr",
     "output_type": "stream",
     "text": [
      "[I 2024-04-28 11:10:31,340] Trial 5 finished with value: 236.49481946813438 and parameters: {'num_leaves': 104, 'min_data_in_leaf': 14, 'max_bin': 340, 'bagging_fraction': 0.8090338207443906, 'feature_fraction': 0.5500300146337003, 'min_gain_to_split': 0.21941976179005757, 'lambda_l1': 0.02634905974115613, 'lambda_l2': 0.018107254066631072}. Best is trial 1 with value: 236.04279778272314.\n"
     ]
    },
    {
     "name": "stdout",
     "output_type": "stream",
     "text": [
      "\n",
      "Training until validation scores don't improve for 100 rounds\n",
      "[500]\ttrain's l1: 222.179\tvalid's l1: 242.039\n",
      "[1000]\ttrain's l1: 195.049\tvalid's l1: 238.54\n",
      "[1500]\ttrain's l1: 178.021\tvalid's l1: 237.447\n",
      "Early stopping, best iteration is:\n",
      "[1505]\ttrain's l1: 177.95\tvalid's l1: 237.431\n"
     ]
    },
    {
     "name": "stderr",
     "output_type": "stream",
     "text": [
      "[I 2024-04-28 11:10:46,486] Trial 6 finished with value: 237.43096630921642 and parameters: {'num_leaves': 97, 'min_data_in_leaf': 12, 'max_bin': 314, 'bagging_fraction': 0.865790227019348, 'feature_fraction': 0.6465121514177679, 'min_gain_to_split': 0.015998881492631498, 'lambda_l1': 0.02616697456085447, 'lambda_l2': 0.021019338091154416}. Best is trial 1 with value: 236.04279778272314.\n"
     ]
    },
    {
     "name": "stdout",
     "output_type": "stream",
     "text": [
      "\n",
      "Training until validation scores don't improve for 100 rounds\n",
      "[500]\ttrain's l1: 211.121\tvalid's l1: 241.864\n",
      "[1000]\ttrain's l1: 180.471\tvalid's l1: 238.315\n",
      "[1500]\ttrain's l1: 162.064\tvalid's l1: 237.453\n",
      "[2000]\ttrain's l1: 148.068\tvalid's l1: 236.694\n",
      "Early stopping, best iteration is:\n",
      "[1981]\ttrain's l1: 148.576\tvalid's l1: 236.661\n"
     ]
    },
    {
     "name": "stderr",
     "output_type": "stream",
     "text": [
      "[I 2024-04-28 11:11:12,024] Trial 7 finished with value: 236.66095885435365 and parameters: {'num_leaves': 148, 'min_data_in_leaf': 9, 'max_bin': 293, 'bagging_fraction': 0.8366638388002404, 'feature_fraction': 0.3976908750936559, 'min_gain_to_split': 0.016624564693643644, 'lambda_l1': 0.2054277828628595, 'lambda_l2': 0.018895826938026012}. Best is trial 1 with value: 236.04279778272314.\n"
     ]
    },
    {
     "name": "stdout",
     "output_type": "stream",
     "text": [
      "\n",
      "Training until validation scores don't improve for 100 rounds\n",
      "[500]\ttrain's l1: 227.781\tvalid's l1: 242.237\n",
      "[1000]\ttrain's l1: 203.48\tvalid's l1: 238.467\n",
      "[1500]\ttrain's l1: 187.839\tvalid's l1: 237.366\n",
      "[2000]\ttrain's l1: 175.831\tvalid's l1: 236.471\n",
      "[2500]\ttrain's l1: 167.682\tvalid's l1: 235.978\n",
      "[3000]\ttrain's l1: 158.734\tvalid's l1: 235.691\n",
      "Early stopping, best iteration is:\n",
      "[3151]\ttrain's l1: 156.534\tvalid's l1: 235.656\n"
     ]
    },
    {
     "name": "stderr",
     "output_type": "stream",
     "text": [
      "[I 2024-04-28 11:11:38,949] Trial 8 finished with value: 235.65561745916793 and parameters: {'num_leaves': 79, 'min_data_in_leaf': 12, 'max_bin': 365, 'bagging_fraction': 0.8145651913689592, 'feature_fraction': 0.6013834722496412, 'min_gain_to_split': 0.015566709318481201, 'lambda_l1': 0.8972612866432508, 'lambda_l2': 0.08655704137361815}. Best is trial 8 with value: 235.65561745916793.\n"
     ]
    },
    {
     "name": "stdout",
     "output_type": "stream",
     "text": [
      "\n",
      "Training until validation scores don't improve for 100 rounds\n",
      "[500]\ttrain's l1: 201.92\tvalid's l1: 240.134\n",
      "[1000]\ttrain's l1: 172.686\tvalid's l1: 237.336\n",
      "[1500]\ttrain's l1: 155.467\tvalid's l1: 236.823\n",
      "[2000]\ttrain's l1: 144.592\tvalid's l1: 236.522\n",
      "Early stopping, best iteration is:\n",
      "[2112]\ttrain's l1: 142.8\tvalid's l1: 236.489\n"
     ]
    },
    {
     "name": "stderr",
     "output_type": "stream",
     "text": [
      "[I 2024-04-28 11:12:14,425] Trial 9 finished with value: 236.4888765017299 and parameters: {'num_leaves': 197, 'min_data_in_leaf': 19, 'max_bin': 348, 'bagging_fraction': 0.8058781688381481, 'feature_fraction': 0.43484208877292285, 'min_gain_to_split': 0.017393745944806985, 'lambda_l1': 0.0391093317225106, 'lambda_l2': 0.0172764870082179}. Best is trial 8 with value: 235.65561745916793.\n"
     ]
    },
    {
     "name": "stdout",
     "output_type": "stream",
     "text": [
      "\n",
      "Training until validation scores don't improve for 100 rounds\n",
      "[500]\ttrain's l1: 225.572\tvalid's l1: 242.927\n",
      "[1000]\ttrain's l1: 198.615\tvalid's l1: 238.823\n",
      "[1500]\ttrain's l1: 179.079\tvalid's l1: 237.417\n",
      "[2000]\ttrain's l1: 166.329\tvalid's l1: 236.964\n",
      "Early stopping, best iteration is:\n",
      "[2212]\ttrain's l1: 160.919\tvalid's l1: 236.778\n"
     ]
    },
    {
     "name": "stderr",
     "output_type": "stream",
     "text": [
      "[I 2024-04-28 11:12:35,216] Trial 10 finished with value: 236.77849591524506 and parameters: {'num_leaves': 83, 'min_data_in_leaf': 3, 'max_bin': 391, 'bagging_fraction': 0.8357161822219233, 'feature_fraction': 0.5842248758067577, 'min_gain_to_split': 0.05360980835049379, 'lambda_l1': 0.5572928896695891, 'lambda_l2': 0.06472055193755138}. Best is trial 8 with value: 235.65561745916793.\n"
     ]
    },
    {
     "name": "stdout",
     "output_type": "stream",
     "text": [
      "\n",
      "Training until validation scores don't improve for 100 rounds\n",
      "[500]\ttrain's l1: 195.418\tvalid's l1: 240.255\n",
      "[1000]\ttrain's l1: 162.679\tvalid's l1: 237.838\n",
      "[1500]\ttrain's l1: 139.677\tvalid's l1: 237.062\n",
      "[2000]\ttrain's l1: 126.994\tvalid's l1: 236.737\n",
      "Early stopping, best iteration is:\n",
      "[2381]\ttrain's l1: 119.786\tvalid's l1: 236.505\n"
     ]
    },
    {
     "name": "stderr",
     "output_type": "stream",
     "text": [
      "[I 2024-04-28 11:13:20,351] Trial 11 finished with value: 236.50540680707786 and parameters: {'num_leaves': 200, 'min_data_in_leaf': 7, 'max_bin': 390, 'bagging_fraction': 0.9096802355740166, 'feature_fraction': 0.5915466403322428, 'min_gain_to_split': 0.9049911227773816, 'lambda_l1': 0.010541614913744073, 'lambda_l2': 0.058124160400173014}. Best is trial 8 with value: 235.65561745916793.\n"
     ]
    },
    {
     "name": "stdout",
     "output_type": "stream",
     "text": [
      "\n",
      "Training until validation scores don't improve for 100 rounds\n",
      "[500]\ttrain's l1: 206.596\tvalid's l1: 241.305\n",
      "[1000]\ttrain's l1: 176.189\tvalid's l1: 238.882\n",
      "[1500]\ttrain's l1: 157.394\tvalid's l1: 237.971\n",
      "[2000]\ttrain's l1: 145.131\tvalid's l1: 237.383\n",
      "Early stopping, best iteration is:\n",
      "[2046]\ttrain's l1: 144.209\tvalid's l1: 237.347\n"
     ]
    },
    {
     "name": "stderr",
     "output_type": "stream",
     "text": [
      "[I 2024-04-28 11:13:52,471] Trial 12 finished with value: 237.34724962024052 and parameters: {'num_leaves': 166, 'min_data_in_leaf': 11, 'max_bin': 268, 'bagging_fraction': 0.8512860328238031, 'feature_fraction': 0.4607500244006538, 'min_gain_to_split': 0.0328616173682592, 'lambda_l1': 0.31211954149297433, 'lambda_l2': 0.1445025316423963}. Best is trial 8 with value: 235.65561745916793.\n"
     ]
    },
    {
     "name": "stdout",
     "output_type": "stream",
     "text": [
      "\n",
      "Training until validation scores don't improve for 100 rounds\n",
      "[500]\ttrain's l1: 202.275\tvalid's l1: 240.324\n",
      "[1000]\ttrain's l1: 168.307\tvalid's l1: 238.007\n",
      "Early stopping, best iteration is:\n",
      "[1314]\ttrain's l1: 156.885\tvalid's l1: 237.756\n"
     ]
    },
    {
     "name": "stderr",
     "output_type": "stream",
     "text": [
      "[I 2024-04-28 11:14:15,036] Trial 13 finished with value: 237.75555983103507 and parameters: {'num_leaves': 170, 'min_data_in_leaf': 5, 'max_bin': 368, 'bagging_fraction': 0.9044426307401884, 'feature_fraction': 0.58559941302925, 'min_gain_to_split': 0.9388287242054529, 'lambda_l1': 0.010844293740159572, 'lambda_l2': 0.04439926537109432}. Best is trial 8 with value: 235.65561745916793.\n"
     ]
    },
    {
     "name": "stdout",
     "output_type": "stream",
     "text": [
      "\n",
      "Training until validation scores don't improve for 100 rounds\n",
      "[500]\ttrain's l1: 228.984\tvalid's l1: 242.08\n",
      "[1000]\ttrain's l1: 205.514\tvalid's l1: 238.049\n",
      "[1500]\ttrain's l1: 190.715\tvalid's l1: 237.065\n",
      "[2000]\ttrain's l1: 177.581\tvalid's l1: 236.315\n",
      "[2500]\ttrain's l1: 169.322\tvalid's l1: 236.023\n",
      "Early stopping, best iteration is:\n",
      "[2463]\ttrain's l1: 169.964\tvalid's l1: 235.996\n"
     ]
    },
    {
     "name": "stderr",
     "output_type": "stream",
     "text": [
      "[I 2024-04-28 11:14:39,353] Trial 14 finished with value: 235.99617473006344 and parameters: {'num_leaves': 78, 'min_data_in_leaf': 16, 'max_bin': 286, 'bagging_fraction': 0.862886007456836, 'feature_fraction': 0.5397785450167522, 'min_gain_to_split': 0.42943856658548824, 'lambda_l1': 0.19359529526377192, 'lambda_l2': 0.033350638031589996}. Best is trial 8 with value: 235.65561745916793.\n"
     ]
    },
    {
     "name": "stdout",
     "output_type": "stream",
     "text": [
      "\n",
      "Training until validation scores don't improve for 100 rounds\n",
      "[500]\ttrain's l1: 232.225\tvalid's l1: 244.958\n",
      "[1000]\ttrain's l1: 208.281\tvalid's l1: 239.757\n",
      "[1500]\ttrain's l1: 193.231\tvalid's l1: 238.338\n",
      "[2000]\ttrain's l1: 182.687\tvalid's l1: 237.801\n",
      "[2500]\ttrain's l1: 174.752\tvalid's l1: 237.306\n",
      "Early stopping, best iteration is:\n",
      "[2732]\ttrain's l1: 171.323\tvalid's l1: 237.187\n"
     ]
    },
    {
     "name": "stderr",
     "output_type": "stream",
     "text": [
      "[I 2024-04-28 11:14:59,329] Trial 15 finished with value: 237.18704395824466 and parameters: {'num_leaves': 77, 'min_data_in_leaf': 16, 'max_bin': 273, 'bagging_fraction': 0.8194760213704181, 'feature_fraction': 0.36080515104506394, 'min_gain_to_split': 0.10373252221566119, 'lambda_l1': 0.18289097673470622, 'lambda_l2': 0.10149202583503752}. Best is trial 8 with value: 235.65561745916793.\n"
     ]
    },
    {
     "name": "stdout",
     "output_type": "stream",
     "text": [
      "\n",
      "Training until validation scores don't improve for 100 rounds\n",
      "[500]\ttrain's l1: 239.692\tvalid's l1: 245.595\n",
      "[1000]\ttrain's l1: 220.705\tvalid's l1: 240.557\n",
      "[1500]\ttrain's l1: 208.419\tvalid's l1: 238.585\n",
      "[2000]\ttrain's l1: 199.673\tvalid's l1: 237.778\n",
      "[2500]\ttrain's l1: 192.661\tvalid's l1: 237.237\n",
      "[3000]\ttrain's l1: 186.436\tvalid's l1: 236.851\n",
      "[3500]\ttrain's l1: 181.591\tvalid's l1: 236.6\n",
      "Early stopping, best iteration is:\n",
      "[3715]\ttrain's l1: 179.485\tvalid's l1: 236.482\n"
     ]
    },
    {
     "name": "stderr",
     "output_type": "stream",
     "text": [
      "[I 2024-04-28 11:15:19,984] Trial 16 finished with value: 236.4820488569499 and parameters: {'num_leaves': 50, 'min_data_in_leaf': 25, 'max_bin': 257, 'bagging_fraction': 0.8568739829848442, 'feature_fraction': 0.6087651018902488, 'min_gain_to_split': 0.3876262713636515, 'lambda_l1': 0.9793529142759247, 'lambda_l2': 0.03616006467893494}. Best is trial 8 with value: 235.65561745916793.\n"
     ]
    },
    {
     "name": "stdout",
     "output_type": "stream",
     "text": [
      "\n",
      "Training until validation scores don't improve for 100 rounds\n",
      "[500]\ttrain's l1: 222.831\tvalid's l1: 241.236\n",
      "[1000]\ttrain's l1: 197.372\tvalid's l1: 238.456\n",
      "[1500]\ttrain's l1: 182.233\tvalid's l1: 237.354\n",
      "[2000]\ttrain's l1: 169.893\tvalid's l1: 236.811\n",
      "Early stopping, best iteration is:\n",
      "[2353]\ttrain's l1: 163.112\tvalid's l1: 236.47\n"
     ]
    },
    {
     "name": "stderr",
     "output_type": "stream",
     "text": [
      "[I 2024-04-28 11:15:42,729] Trial 17 finished with value: 236.4701264457281 and parameters: {'num_leaves': 96, 'min_data_in_leaf': 16, 'max_bin': 299, 'bagging_fraction': 0.8302959455273252, 'feature_fraction': 0.5704042920791986, 'min_gain_to_split': 0.03101261064296623, 'lambda_l1': 0.43671151056231206, 'lambda_l2': 0.03289661533553797}. Best is trial 8 with value: 235.65561745916793.\n"
     ]
    },
    {
     "name": "stdout",
     "output_type": "stream",
     "text": [
      "\n",
      "Training until validation scores don't improve for 100 rounds\n",
      "[500]\ttrain's l1: 218.834\tvalid's l1: 241.047\n",
      "[1000]\ttrain's l1: 194.896\tvalid's l1: 238.017\n",
      "[1500]\ttrain's l1: 180.855\tvalid's l1: 237.084\n",
      "Early stopping, best iteration is:\n",
      "[1809]\ttrain's l1: 174.793\tvalid's l1: 236.851\n"
     ]
    },
    {
     "name": "stderr",
     "output_type": "stream",
     "text": [
      "[I 2024-04-28 11:16:03,493] Trial 18 finished with value: 236.85148461517295 and parameters: {'num_leaves': 116, 'min_data_in_leaf': 29, 'max_bin': 327, 'bagging_fraction': 0.848411584453707, 'feature_fraction': 0.6145911652032466, 'min_gain_to_split': 0.10535752232713108, 'lambda_l1': 0.15293473617730233, 'lambda_l2': 0.010435734042374887}. Best is trial 8 with value: 235.65561745916793.\n"
     ]
    },
    {
     "name": "stdout",
     "output_type": "stream",
     "text": [
      "\n",
      "Training until validation scores don't improve for 100 rounds\n",
      "[500]\ttrain's l1: 232.662\tvalid's l1: 242.835\n",
      "[1000]\ttrain's l1: 210.291\tvalid's l1: 239.206\n",
      "[1500]\ttrain's l1: 194.096\tvalid's l1: 237.891\n",
      "[2000]\ttrain's l1: 183.631\tvalid's l1: 237.292\n",
      "[2500]\ttrain's l1: 173.397\tvalid's l1: 236.61\n",
      "Early stopping, best iteration is:\n",
      "[2502]\ttrain's l1: 173.375\tvalid's l1: 236.609\n"
     ]
    },
    {
     "name": "stderr",
     "output_type": "stream",
     "text": [
      "[I 2024-04-28 11:16:21,211] Trial 19 finished with value: 236.60864054791233 and parameters: {'num_leaves': 68, 'min_data_in_leaf': 9, 'max_bin': 243, 'bagging_fraction': 0.8013347171732064, 'feature_fraction': 0.5574690097365729, 'min_gain_to_split': 0.010560166273212131, 'lambda_l1': 0.46359235383252323, 'lambda_l2': 0.09461005786730879}. Best is trial 8 with value: 235.65561745916793.\n"
     ]
    },
    {
     "name": "stdout",
     "output_type": "stream",
     "text": [
      "\n",
      "Training until validation scores don't improve for 100 rounds\n",
      "[500]\ttrain's l1: 227.815\tvalid's l1: 242.352\n",
      "[1000]\ttrain's l1: 204\tvalid's l1: 238.802\n",
      "Early stopping, best iteration is:\n",
      "[1279]\ttrain's l1: 195.386\tvalid's l1: 238.155\n"
     ]
    },
    {
     "name": "stderr",
     "output_type": "stream",
     "text": [
      "[I 2024-04-28 11:16:33,041] Trial 20 finished with value: 238.15495271607296 and parameters: {'num_leaves': 85, 'min_data_in_leaf': 22, 'max_bin': 288, 'bagging_fraction': 0.8235030875726516, 'feature_fraction': 0.4872261355544814, 'min_gain_to_split': 0.4808699456639286, 'lambda_l1': 0.25239575188604774, 'lambda_l2': 0.1440819934477305}. Best is trial 8 with value: 235.65561745916793.\n"
     ]
    },
    {
     "name": "stdout",
     "output_type": "stream",
     "text": [
      "\n",
      "Training until validation scores don't improve for 100 rounds\n",
      "[500]\ttrain's l1: 211.285\tvalid's l1: 240.728\n",
      "[1000]\ttrain's l1: 181.419\tvalid's l1: 237.571\n",
      "[1500]\ttrain's l1: 165.545\tvalid's l1: 237.034\n",
      "[2000]\ttrain's l1: 155.922\tvalid's l1: 236.758\n",
      "Early stopping, best iteration is:\n",
      "[2095]\ttrain's l1: 154.252\tvalid's l1: 236.68\n"
     ]
    },
    {
     "name": "stderr",
     "output_type": "stream",
     "text": [
      "[I 2024-04-28 11:16:59,721] Trial 21 finished with value: 236.6801151964905 and parameters: {'num_leaves': 138, 'min_data_in_leaf': 13, 'max_bin': 372, 'bagging_fraction': 0.8754994028573677, 'feature_fraction': 0.5188904796381929, 'min_gain_to_split': 0.5666178688900945, 'lambda_l1': 0.11337128605062564, 'lambda_l2': 0.010033309544949355}. Best is trial 8 with value: 235.65561745916793.\n"
     ]
    },
    {
     "name": "stdout",
     "output_type": "stream",
     "text": [
      "\n",
      "Training until validation scores don't improve for 100 rounds\n",
      "[500]\ttrain's l1: 201.774\tvalid's l1: 240.78\n",
      "[1000]\ttrain's l1: 172.049\tvalid's l1: 238.567\n",
      "[1500]\ttrain's l1: 155.231\tvalid's l1: 237.513\n",
      "Early stopping, best iteration is:\n",
      "[1709]\ttrain's l1: 149.885\tvalid's l1: 237.273\n"
     ]
    },
    {
     "name": "stderr",
     "output_type": "stream",
     "text": [
      "[I 2024-04-28 11:17:27,057] Trial 22 finished with value: 237.2730166445701 and parameters: {'num_leaves': 180, 'min_data_in_leaf': 15, 'max_bin': 370, 'bagging_fraction': 0.8916797266120838, 'feature_fraction': 0.5299494674011451, 'min_gain_to_split': 0.6762782123011323, 'lambda_l1': 0.06374852356016922, 'lambda_l2': 0.029013676426363686}. Best is trial 8 with value: 235.65561745916793.\n"
     ]
    },
    {
     "name": "stdout",
     "output_type": "stream",
     "text": [
      "\n",
      "Training until validation scores don't improve for 100 rounds\n",
      "[500]\ttrain's l1: 220.102\tvalid's l1: 241.443\n",
      "[1000]\ttrain's l1: 190.435\tvalid's l1: 238.35\n",
      "[1500]\ttrain's l1: 171.593\tvalid's l1: 237.172\n",
      "[2000]\ttrain's l1: 159.265\tvalid's l1: 236.814\n",
      "Early stopping, best iteration is:\n",
      "[2003]\ttrain's l1: 159.213\tvalid's l1: 236.811\n"
     ]
    },
    {
     "name": "stderr",
     "output_type": "stream",
     "text": [
      "[I 2024-04-28 11:17:48,122] Trial 23 finished with value: 236.810507183064 and parameters: {'num_leaves': 107, 'min_data_in_leaf': 10, 'max_bin': 335, 'bagging_fraction': 0.8645565269601095, 'feature_fraction': 0.5418755071824922, 'min_gain_to_split': 0.2898846225050468, 'lambda_l1': 0.35109882050191366, 'lambda_l2': 0.06053843869232326}. Best is trial 8 with value: 235.65561745916793.\n"
     ]
    },
    {
     "name": "stdout",
     "output_type": "stream",
     "text": [
      "\n",
      "Training until validation scores don't improve for 100 rounds\n",
      "[500]\ttrain's l1: 207.078\tvalid's l1: 240.528\n",
      "[1000]\ttrain's l1: 177.369\tvalid's l1: 237.773\n",
      "[1500]\ttrain's l1: 160.065\tvalid's l1: 237.137\n",
      "[2000]\ttrain's l1: 146.451\tvalid's l1: 236.612\n",
      "[2500]\ttrain's l1: 135.434\tvalid's l1: 236.223\n",
      "Early stopping, best iteration is:\n",
      "[2547]\ttrain's l1: 134.499\tvalid's l1: 236.204\n"
     ]
    },
    {
     "name": "stderr",
     "output_type": "stream",
     "text": [
      "[I 2024-04-28 11:18:24,449] Trial 24 finished with value: 236.20389791209124 and parameters: {'num_leaves': 151, 'min_data_in_leaf': 7, 'max_bin': 310, 'bagging_fraction': 0.9190604846590462, 'feature_fraction': 0.6208537366876744, 'min_gain_to_split': 0.28113262269594985, 'lambda_l1': 0.050655215432331265, 'lambda_l2': 0.026302119419792214}. Best is trial 8 with value: 235.65561745916793.\n"
     ]
    },
    {
     "name": "stdout",
     "output_type": "stream",
     "text": [
      "\n",
      "Training until validation scores don't improve for 100 rounds\n",
      "[500]\ttrain's l1: 233.533\tvalid's l1: 243.128\n",
      "[1000]\ttrain's l1: 211.393\tvalid's l1: 239.38\n",
      "[1500]\ttrain's l1: 196.954\tvalid's l1: 238.285\n",
      "[2000]\ttrain's l1: 186.37\tvalid's l1: 237.511\n",
      "[2500]\ttrain's l1: 177.559\tvalid's l1: 236.913\n",
      "[3000]\ttrain's l1: 171.721\tvalid's l1: 236.728\n",
      "[3500]\ttrain's l1: 166.712\tvalid's l1: 236.52\n",
      "Early stopping, best iteration is:\n",
      "[3878]\ttrain's l1: 163.278\tvalid's l1: 236.217\n"
     ]
    },
    {
     "name": "stderr",
     "output_type": "stream",
     "text": [
      "[I 2024-04-28 11:18:56,055] Trial 25 finished with value: 236.2166087586728 and parameters: {'num_leaves': 66, 'min_data_in_leaf': 18, 'max_bin': 351, 'bagging_fraction': 0.8918646812355281, 'feature_fraction': 0.43660624774833806, 'min_gain_to_split': 0.150014663749436, 'lambda_l1': 0.13121751967620296, 'lambda_l2': 0.013924297485022394}. Best is trial 8 with value: 235.65561745916793.\n"
     ]
    },
    {
     "name": "stdout",
     "output_type": "stream",
     "text": [
      "\n",
      "Training until validation scores don't improve for 100 rounds\n",
      "[500]\ttrain's l1: 225.487\tvalid's l1: 242.918\n",
      "[1000]\ttrain's l1: 201.04\tvalid's l1: 239.518\n",
      "[1500]\ttrain's l1: 185.224\tvalid's l1: 238.274\n",
      "[2000]\ttrain's l1: 173.7\tvalid's l1: 237.921\n",
      "[2500]\ttrain's l1: 165.249\tvalid's l1: 237.497\n",
      "Early stopping, best iteration is:\n",
      "[2742]\ttrain's l1: 161.953\tvalid's l1: 237.358\n"
     ]
    },
    {
     "name": "stderr",
     "output_type": "stream",
     "text": [
      "[I 2024-04-28 11:19:19,637] Trial 26 finished with value: 237.35786933287127 and parameters: {'num_leaves': 88, 'min_data_in_leaf': 13, 'max_bin': 396, 'bagging_fraction': 0.8410868672734293, 'feature_fraction': 0.5134930240798171, 'min_gain_to_split': 0.6957347211033131, 'lambda_l1': 0.016062309232733503, 'lambda_l2': 0.045884695553740466}. Best is trial 8 with value: 235.65561745916793.\n"
     ]
    },
    {
     "name": "stdout",
     "output_type": "stream",
     "text": [
      "\n",
      "Training until validation scores don't improve for 100 rounds\n",
      "[500]\ttrain's l1: 200.117\tvalid's l1: 240.132\n",
      "[1000]\ttrain's l1: 164.281\tvalid's l1: 237.608\n",
      "[1500]\ttrain's l1: 142.535\tvalid's l1: 236.739\n",
      "[2000]\ttrain's l1: 129.055\tvalid's l1: 236.264\n",
      "Early stopping, best iteration is:\n",
      "[1972]\ttrain's l1: 129.618\tvalid's l1: 236.218\n"
     ]
    },
    {
     "name": "stderr",
     "output_type": "stream",
     "text": [
      "[I 2024-04-28 11:19:54,078] Trial 27 finished with value: 236.21812800460395 and parameters: {'num_leaves': 184, 'min_data_in_leaf': 2, 'max_bin': 284, 'bagging_fraction': 0.8675426045146947, 'feature_fraction': 0.5595100003007657, 'min_gain_to_split': 0.042172835690966616, 'lambda_l1': 0.6456102795658157, 'lambda_l2': 0.0788142444998995}. Best is trial 8 with value: 235.65561745916793.\n"
     ]
    },
    {
     "name": "stdout",
     "output_type": "stream",
     "text": [
      "\n",
      "Training until validation scores don't improve for 100 rounds\n",
      "[500]\ttrain's l1: 216.176\tvalid's l1: 240.913\n",
      "[1000]\ttrain's l1: 189.386\tvalid's l1: 238.151\n",
      "[1500]\ttrain's l1: 173.496\tvalid's l1: 237.177\n",
      "Early stopping, best iteration is:\n",
      "[1763]\ttrain's l1: 166.912\tvalid's l1: 236.793\n"
     ]
    },
    {
     "name": "stderr",
     "output_type": "stream",
     "text": [
      "[I 2024-04-28 11:20:14,143] Trial 28 finished with value: 236.79318388963026 and parameters: {'num_leaves': 123, 'min_data_in_leaf': 16, 'max_bin': 307, 'bagging_fraction': 0.8814221801453758, 'feature_fraction': 0.49271662121638965, 'min_gain_to_split': 0.3151094309199207, 'lambda_l1': 0.016446309375618865, 'lambda_l2': 0.12036225613805414}. Best is trial 8 with value: 235.65561745916793.\n"
     ]
    },
    {
     "name": "stdout",
     "output_type": "stream",
     "text": [
      "\n",
      "Training until validation scores don't improve for 100 rounds\n",
      "[500]\ttrain's l1: 214.71\tvalid's l1: 240.829\n",
      "[1000]\ttrain's l1: 187.492\tvalid's l1: 237.478\n",
      "[1500]\ttrain's l1: 172.369\tvalid's l1: 236.608\n",
      "[2000]\ttrain's l1: 161.583\tvalid's l1: 236.189\n",
      "[2500]\ttrain's l1: 153.895\tvalid's l1: 235.944\n",
      "Early stopping, best iteration is:\n",
      "[2673]\ttrain's l1: 151.546\tvalid's l1: 235.914\n"
     ]
    },
    {
     "name": "stderr",
     "output_type": "stream",
     "text": [
      "[I 2024-04-28 11:20:46,371] Trial 29 finished with value: 235.91365692467656 and parameters: {'num_leaves': 135, 'min_data_in_leaf': 21, 'max_bin': 333, 'bagging_fraction': 0.8157005061959461, 'feature_fraction': 0.46601308343463044, 'min_gain_to_split': 0.07904360573731628, 'lambda_l1': 0.09596184468318783, 'lambda_l2': 0.013469554556527796}. Best is trial 8 with value: 235.65561745916793.\n"
     ]
    },
    {
     "name": "stdout",
     "output_type": "stream",
     "text": [
      "\n",
      "Training until validation scores don't improve for 100 rounds\n",
      "[500]\ttrain's l1: 215.573\tvalid's l1: 240.602\n",
      "[1000]\ttrain's l1: 189.057\tvalid's l1: 237.387\n",
      "[1500]\ttrain's l1: 173.623\tvalid's l1: 236.353\n",
      "Early stopping, best iteration is:\n",
      "[1579]\ttrain's l1: 171.662\tvalid's l1: 236.241\n"
     ]
    },
    {
     "name": "stderr",
     "output_type": "stream",
     "text": [
      "[I 2024-04-28 11:21:05,514] Trial 30 finished with value: 236.24099793606888 and parameters: {'num_leaves': 131, 'min_data_in_leaf': 23, 'max_bin': 326, 'bagging_fraction': 0.815443472429358, 'feature_fraction': 0.46473200009670795, 'min_gain_to_split': 0.07710979563237344, 'lambda_l1': 0.09041928795380516, 'lambda_l2': 0.022766148843651874}. Best is trial 8 with value: 235.65561745916793.\n"
     ]
    },
    {
     "name": "stdout",
     "output_type": "stream",
     "text": [
      "\n",
      "Training until validation scores don't improve for 100 rounds\n",
      "[500]\ttrain's l1: 209.421\tvalid's l1: 239.748\n",
      "[1000]\ttrain's l1: 180.601\tvalid's l1: 236.765\n",
      "[1500]\ttrain's l1: 164.148\tvalid's l1: 236.154\n",
      "Early stopping, best iteration is:\n",
      "[1515]\ttrain's l1: 163.696\tvalid's l1: 236.13\n"
     ]
    },
    {
     "name": "stderr",
     "output_type": "stream",
     "text": [
      "[I 2024-04-28 11:21:32,871] Trial 31 finished with value: 236.12966074472928 and parameters: {'num_leaves': 156, 'min_data_in_leaf': 18, 'max_bin': 361, 'bagging_fraction': 0.8274180775188443, 'feature_fraction': 0.44119461228124274, 'min_gain_to_split': 0.0239789552545694, 'lambda_l1': 0.06899455220876063, 'lambda_l2': 0.012736088993969143}. Best is trial 8 with value: 235.65561745916793.\n"
     ]
    },
    {
     "name": "stdout",
     "output_type": "stream",
     "text": [
      "\n",
      "Training until validation scores don't improve for 100 rounds\n",
      "[500]\ttrain's l1: 230.294\tvalid's l1: 243.14\n",
      "[1000]\ttrain's l1: 207.44\tvalid's l1: 238.891\n",
      "[1500]\ttrain's l1: 192.298\tvalid's l1: 237.652\n",
      "[2000]\ttrain's l1: 181.791\tvalid's l1: 236.939\n",
      "[2500]\ttrain's l1: 174.341\tvalid's l1: 236.789\n",
      "Early stopping, best iteration is:\n",
      "[2869]\ttrain's l1: 169.494\tvalid's l1: 236.578\n"
     ]
    },
    {
     "name": "stderr",
     "output_type": "stream",
     "text": [
      "[I 2024-04-28 11:21:54,997] Trial 32 finished with value: 236.57804227065375 and parameters: {'num_leaves': 76, 'min_data_in_leaf': 21, 'max_bin': 381, 'bagging_fraction': 0.8113577125002743, 'feature_fraction': 0.47473509596912794, 'min_gain_to_split': 0.1256629425495207, 'lambda_l1': 0.2407347115743868, 'lambda_l2': 0.014271293430217125}. Best is trial 8 with value: 235.65561745916793.\n"
     ]
    },
    {
     "name": "stdout",
     "output_type": "stream",
     "text": [
      "\n",
      "Training until validation scores don't improve for 100 rounds\n",
      "[500]\ttrain's l1: 236.496\tvalid's l1: 244.519\n",
      "[1000]\ttrain's l1: 215.368\tvalid's l1: 239.719\n",
      "[1500]\ttrain's l1: 203.472\tvalid's l1: 238.448\n",
      "[2000]\ttrain's l1: 194.323\tvalid's l1: 237.632\n",
      "[2500]\ttrain's l1: 187.123\tvalid's l1: 237.171\n",
      "[3000]\ttrain's l1: 180.452\tvalid's l1: 236.803\n",
      "Early stopping, best iteration is:\n",
      "[2936]\ttrain's l1: 181.456\tvalid's l1: 236.759\n"
     ]
    },
    {
     "name": "stderr",
     "output_type": "stream",
     "text": [
      "[I 2024-04-28 11:22:13,278] Trial 33 finished with value: 236.75851917591896 and parameters: {'num_leaves': 62, 'min_data_in_leaf': 24, 'max_bin': 345, 'bagging_fraction': 0.9457128893421759, 'feature_fraction': 0.41258572558751955, 'min_gain_to_split': 0.222326782074729, 'lambda_l1': 0.05596167327683969, 'lambda_l2': 0.22094546046325925}. Best is trial 8 with value: 235.65561745916793.\n"
     ]
    },
    {
     "name": "stdout",
     "output_type": "stream",
     "text": [
      "\n",
      "Training until validation scores don't improve for 100 rounds\n",
      "[500]\ttrain's l1: 219.663\tvalid's l1: 241.533\n",
      "[1000]\ttrain's l1: 193.703\tvalid's l1: 238.06\n",
      "Early stopping, best iteration is:\n",
      "[1299]\ttrain's l1: 184.608\tvalid's l1: 237.346\n"
     ]
    },
    {
     "name": "stderr",
     "output_type": "stream",
     "text": [
      "[I 2024-04-28 11:22:27,816] Trial 34 finished with value: 237.3457700924357 and parameters: {'num_leaves': 113, 'min_data_in_leaf': 27, 'max_bin': 360, 'bagging_fraction': 0.8450918344457371, 'feature_fraction': 0.5039794182925476, 'min_gain_to_split': 0.010503479684929748, 'lambda_l1': 0.08784653317391136, 'lambda_l2': 0.04222546158953629}. Best is trial 8 with value: 235.65561745916793.\n"
     ]
    },
    {
     "name": "stdout",
     "output_type": "stream",
     "text": [
      "\n",
      "Training until validation scores don't improve for 100 rounds\n",
      "[500]\ttrain's l1: 211.194\tvalid's l1: 239.989\n",
      "[1000]\ttrain's l1: 185.15\tvalid's l1: 237.73\n",
      "[1500]\ttrain's l1: 168.938\tvalid's l1: 236.778\n",
      "Early stopping, best iteration is:\n",
      "[1451]\ttrain's l1: 170.556\tvalid's l1: 236.741\n"
     ]
    },
    {
     "name": "stderr",
     "output_type": "stream",
     "text": [
      "[I 2024-04-28 11:22:47,354] Trial 35 finished with value: 236.74068014688683 and parameters: {'num_leaves': 142, 'min_data_in_leaf': 20, 'max_bin': 336, 'bagging_fraction': 0.9318776444492488, 'feature_fraction': 0.5221533919758714, 'min_gain_to_split': 0.07010588258610989, 'lambda_l1': 0.8439348219469328, 'lambda_l2': 0.6480358601192391}. Best is trial 8 with value: 235.65561745916793.\n"
     ]
    },
    {
     "name": "stdout",
     "output_type": "stream",
     "text": [
      "\n",
      "Training until validation scores don't improve for 100 rounds\n",
      "[500]\ttrain's l1: 221.369\tvalid's l1: 241.204\n",
      "[1000]\ttrain's l1: 195.651\tvalid's l1: 237.974\n",
      "Early stopping, best iteration is:\n",
      "[1375]\ttrain's l1: 182.894\tvalid's l1: 237.242\n"
     ]
    },
    {
     "name": "stderr",
     "output_type": "stream",
     "text": [
      "[I 2024-04-28 11:23:01,485] Trial 36 finished with value: 237.24219833357563 and parameters: {'num_leaves': 99, 'min_data_in_leaf': 14, 'max_bin': 382, 'bagging_fraction': 0.8838571269400856, 'feature_fraction': 0.5676218584674619, 'min_gain_to_split': 0.4201189737018469, 'lambda_l1': 0.02020135586864959, 'lambda_l2': 0.025591932574176277}. Best is trial 8 with value: 235.65561745916793.\n"
     ]
    },
    {
     "name": "stdout",
     "output_type": "stream",
     "text": [
      "\n",
      "Training until validation scores don't improve for 100 rounds\n",
      "[500]\ttrain's l1: 207.688\tvalid's l1: 241.268\n",
      "[1000]\ttrain's l1: 181.003\tvalid's l1: 238.63\n",
      "[1500]\ttrain's l1: 165.099\tvalid's l1: 237.569\n",
      "[2000]\ttrain's l1: 153.476\tvalid's l1: 236.972\n",
      "Early stopping, best iteration is:\n",
      "[2241]\ttrain's l1: 149.694\tvalid's l1: 236.795\n"
     ]
    },
    {
     "name": "stderr",
     "output_type": "stream",
     "text": [
      "[I 2024-04-28 11:23:32,444] Trial 37 finished with value: 236.79478392299725 and parameters: {'num_leaves': 163, 'min_data_in_leaf': 17, 'max_bin': 211, 'bagging_fraction': 0.8579735447049261, 'feature_fraction': 0.4850684238251827, 'min_gain_to_split': 0.18773295182506497, 'lambda_l1': 0.04049601042529863, 'lambda_l2': 0.37878163636342677}. Best is trial 8 with value: 235.65561745916793.\n"
     ]
    },
    {
     "name": "stdout",
     "output_type": "stream",
     "text": [
      "\n",
      "Training until validation scores don't improve for 100 rounds\n",
      "[500]\ttrain's l1: 236.03\tvalid's l1: 245.003\n",
      "[1000]\ttrain's l1: 212.884\tvalid's l1: 240.858\n",
      "[1500]\ttrain's l1: 199.577\tvalid's l1: 239.519\n",
      "[2000]\ttrain's l1: 188.377\tvalid's l1: 238.751\n",
      "Early stopping, best iteration is:\n",
      "[2196]\ttrain's l1: 185.258\tvalid's l1: 238.522\n"
     ]
    },
    {
     "name": "stderr",
     "output_type": "stream",
     "text": [
      "[I 2024-04-28 11:23:47,259] Trial 38 finished with value: 238.52189009015945 and parameters: {'num_leaves': 59, 'min_data_in_leaf': 14, 'max_bin': 320, 'bagging_fraction': 0.898612916271706, 'feature_fraction': 0.6355090686631634, 'min_gain_to_split': 0.05316584975763165, 'lambda_l1': 0.029746598642597606, 'lambda_l2': 0.017167106744070057}. Best is trial 8 with value: 235.65561745916793.\n"
     ]
    },
    {
     "name": "stdout",
     "output_type": "stream",
     "text": [
      "\n",
      "Training until validation scores don't improve for 100 rounds\n",
      "[500]\ttrain's l1: 214.794\tvalid's l1: 241.921\n",
      "[1000]\ttrain's l1: 185.884\tvalid's l1: 238.792\n",
      "[1500]\ttrain's l1: 169.12\tvalid's l1: 237.88\n",
      "[2000]\ttrain's l1: 156.416\tvalid's l1: 237.623\n",
      "Early stopping, best iteration is:\n",
      "[2363]\ttrain's l1: 149.167\tvalid's l1: 237.316\n"
     ]
    },
    {
     "name": "stderr",
     "output_type": "stream",
     "text": [
      "[I 2024-04-28 11:24:23,427] Trial 39 finished with value: 237.31566400891148 and parameters: {'num_leaves': 127, 'min_data_in_leaf': 11, 'max_bin': 353, 'bagging_fraction': 0.8320358083536873, 'feature_fraction': 0.4530839961448627, 'min_gain_to_split': 0.6885658481308785, 'lambda_l1': 0.6515501617296781, 'lambda_l2': 0.02056814145984198}. Best is trial 8 with value: 235.65561745916793.\n"
     ]
    },
    {
     "name": "stdout",
     "output_type": "stream",
     "text": [
      "\n",
      "Training until validation scores don't improve for 100 rounds\n",
      "[500]\ttrain's l1: 201.543\tvalid's l1: 240.471\n",
      "[1000]\ttrain's l1: 172.888\tvalid's l1: 238.131\n",
      "[1500]\ttrain's l1: 157.818\tvalid's l1: 237.431\n",
      "Early stopping, best iteration is:\n",
      "[1858]\ttrain's l1: 149.622\tvalid's l1: 237.232\n"
     ]
    },
    {
     "name": "stderr",
     "output_type": "stream",
     "text": [
      "[I 2024-04-28 11:24:54,926] Trial 40 finished with value: 237.2317184620627 and parameters: {'num_leaves': 189, 'min_data_in_leaf': 20, 'max_bin': 330, 'bagging_fraction': 0.8771355422770301, 'feature_fraction': 0.5402131529856775, 'min_gain_to_split': 0.024796397535378177, 'lambda_l1': 0.16003167935077925, 'lambda_l2': 0.2531233362355415}. Best is trial 8 with value: 235.65561745916793.\n"
     ]
    },
    {
     "name": "stdout",
     "output_type": "stream",
     "text": [
      "\n",
      "Training until validation scores don't improve for 100 rounds\n",
      "[500]\ttrain's l1: 204.96\tvalid's l1: 239.667\n",
      "[1000]\ttrain's l1: 175.22\tvalid's l1: 236.883\n",
      "[1500]\ttrain's l1: 158.993\tvalid's l1: 236.172\n",
      "Early stopping, best iteration is:\n",
      "[1740]\ttrain's l1: 153.503\tvalid's l1: 236.109\n"
     ]
    },
    {
     "name": "stderr",
     "output_type": "stream",
     "text": [
      "[I 2024-04-28 11:25:21,821] Trial 41 finished with value: 236.10896450223308 and parameters: {'num_leaves': 173, 'min_data_in_leaf': 18, 'max_bin': 362, 'bagging_fraction': 0.828288864769305, 'feature_fraction': 0.43874058734286636, 'min_gain_to_split': 0.02135770281691728, 'lambda_l1': 0.06626575007954774, 'lambda_l2': 0.011953270004917742}. Best is trial 8 with value: 235.65561745916793.\n"
     ]
    },
    {
     "name": "stdout",
     "output_type": "stream",
     "text": [
      "\n",
      "Training until validation scores don't improve for 100 rounds\n",
      "[500]\ttrain's l1: 199.772\tvalid's l1: 241.015\n",
      "[1000]\ttrain's l1: 168.64\tvalid's l1: 238.183\n",
      "[1500]\ttrain's l1: 150.405\tvalid's l1: 237.241\n",
      "Early stopping, best iteration is:\n",
      "[1637]\ttrain's l1: 146.48\tvalid's l1: 237.043\n"
     ]
    },
    {
     "name": "stderr",
     "output_type": "stream",
     "text": [
      "[I 2024-04-28 11:25:49,171] Trial 42 finished with value: 237.04302947277068 and parameters: {'num_leaves': 193, 'min_data_in_leaf': 12, 'max_bin': 380, 'bagging_fraction': 0.8175390494863679, 'feature_fraction': 0.3955449292863458, 'min_gain_to_split': 0.013988056555222346, 'lambda_l1': 0.11078526982049426, 'lambda_l2': 0.013516560473803353}. Best is trial 8 with value: 235.65561745916793.\n"
     ]
    },
    {
     "name": "stdout",
     "output_type": "stream",
     "text": [
      "\n",
      "Training until validation scores don't improve for 100 rounds\n",
      "[500]\ttrain's l1: 206.798\tvalid's l1: 241.062\n",
      "[1000]\ttrain's l1: 178.256\tvalid's l1: 238.005\n",
      "[1500]\ttrain's l1: 161.903\tvalid's l1: 237.447\n",
      "[2000]\ttrain's l1: 151.052\tvalid's l1: 237.089\n",
      "Early stopping, best iteration is:\n",
      "[1900]\ttrain's l1: 153.01\tvalid's l1: 237.046\n"
     ]
    },
    {
     "name": "stderr",
     "output_type": "stream",
     "text": [
      "[I 2024-04-28 11:26:17,639] Trial 43 finished with value: 237.04647016885679 and parameters: {'num_leaves': 173, 'min_data_in_leaf': 19, 'max_bin': 342, 'bagging_fraction': 0.8107874167674909, 'feature_fraction': 0.40377223376713867, 'min_gain_to_split': 0.02386078105383538, 'lambda_l1': 0.045633491607060005, 'lambda_l2': 0.015863245708581285}. Best is trial 8 with value: 235.65561745916793.\n"
     ]
    },
    {
     "name": "stdout",
     "output_type": "stream",
     "text": [
      "\n",
      "Training until validation scores don't improve for 100 rounds\n",
      "[500]\ttrain's l1: 201.441\tvalid's l1: 240.583\n",
      "[1000]\ttrain's l1: 168.074\tvalid's l1: 237.646\n",
      "[1500]\ttrain's l1: 147.675\tvalid's l1: 237.018\n",
      "Early stopping, best iteration is:\n",
      "[1438]\ttrain's l1: 150.242\tvalid's l1: 236.966\n"
     ]
    },
    {
     "name": "stderr",
     "output_type": "stream",
     "text": [
      "[I 2024-04-28 11:26:41,906] Trial 44 finished with value: 236.96612032746637 and parameters: {'num_leaves': 187, 'min_data_in_leaf': 8, 'max_bin': 366, 'bagging_fraction': 0.8019763628218576, 'feature_fraction': 0.41803355136084613, 'min_gain_to_split': 0.018129364120422754, 'lambda_l1': 0.06954159505743414, 'lambda_l2': 0.010694746285161136}. Best is trial 8 with value: 235.65561745916793.\n"
     ]
    },
    {
     "name": "stdout",
     "output_type": "stream",
     "text": [
      "\n",
      "Training until validation scores don't improve for 100 rounds\n",
      "[500]\ttrain's l1: 205.254\tvalid's l1: 240.806\n",
      "[1000]\ttrain's l1: 175.382\tvalid's l1: 237.909\n",
      "Early stopping, best iteration is:\n",
      "[1309]\ttrain's l1: 164.892\tvalid's l1: 237.488\n"
     ]
    },
    {
     "name": "stderr",
     "output_type": "stream",
     "text": [
      "[I 2024-04-28 11:27:33,223] Trial 45 finished with value: 237.4876968643942 and parameters: {'num_leaves': 177, 'min_data_in_leaf': 17, 'max_bin': 356, 'bagging_fraction': 0.8233450596353301, 'feature_fraction': 0.3783707898650715, 'min_gain_to_split': 0.03892139099115998, 'lambda_l1': 0.023832322307667252, 'lambda_l2': 0.958077028791698}. Best is trial 8 with value: 235.65561745916793.\n"
     ]
    },
    {
     "name": "stdout",
     "output_type": "stream",
     "text": [
      "\n",
      "Training until validation scores don't improve for 100 rounds\n",
      "[500]\ttrain's l1: 206.79\tvalid's l1: 240.389\n",
      "[1000]\ttrain's l1: 177.037\tvalid's l1: 237.994\n",
      "[1500]\ttrain's l1: 160.041\tvalid's l1: 237.085\n",
      "Early stopping, best iteration is:\n",
      "[1686]\ttrain's l1: 155.338\tvalid's l1: 237.003\n"
     ]
    },
    {
     "name": "stderr",
     "output_type": "stream",
     "text": [
      "[I 2024-04-28 11:27:57,516] Trial 46 finished with value: 237.00333114296885 and parameters: {'num_leaves': 161, 'min_data_in_leaf': 15, 'max_bin': 345, 'bagging_fraction': 0.8386948180343542, 'feature_fraction': 0.5015048637004599, 'min_gain_to_split': 0.0144034082586589, 'lambda_l1': 0.012879232138385347, 'lambda_l2': 0.018412595108910097}. Best is trial 8 with value: 235.65561745916793.\n"
     ]
    },
    {
     "name": "stdout",
     "output_type": "stream",
     "text": [
      "\n",
      "Training until validation scores don't improve for 100 rounds\n",
      "[500]\ttrain's l1: 232.295\tvalid's l1: 242.775\n",
      "[1000]\ttrain's l1: 209.042\tvalid's l1: 238.359\n",
      "[1500]\ttrain's l1: 196.341\tvalid's l1: 236.974\n",
      "[2000]\ttrain's l1: 186.852\tvalid's l1: 236.49\n",
      "Early stopping, best iteration is:\n",
      "[2115]\ttrain's l1: 185.214\tvalid's l1: 236.354\n"
     ]
    },
    {
     "name": "stderr",
     "output_type": "stream",
     "text": [
      "[I 2024-04-28 11:40:33,335] Trial 47 finished with value: 236.3540342359435 and parameters: {'num_leaves': 72, 'min_data_in_leaf': 22, 'max_bin': 319, 'bagging_fraction': 0.8586381345083396, 'feature_fraction': 0.4523690933436574, 'min_gain_to_split': 0.019062000723892178, 'lambda_l1': 0.03599759553560018, 'lambda_l2': 0.012077555890627556}. Best is trial 8 with value: 235.65561745916793.\n"
     ]
    },
    {
     "name": "stdout",
     "output_type": "stream",
     "text": [
      "\n",
      "Training until validation scores don't improve for 100 rounds\n",
      "[500]\ttrain's l1: 226.941\tvalid's l1: 242.799\n",
      "[1000]\ttrain's l1: 199.79\tvalid's l1: 239.059\n",
      "[1500]\ttrain's l1: 184.165\tvalid's l1: 238.044\n",
      "[2000]\ttrain's l1: 172.336\tvalid's l1: 237.306\n",
      "Early stopping, best iteration is:\n",
      "[2380]\ttrain's l1: 164.692\tvalid's l1: 237.018\n"
     ]
    },
    {
     "name": "stderr",
     "output_type": "stream",
     "text": [
      "[I 2024-04-28 11:40:54,625] Trial 48 finished with value: 237.01839284912856 and parameters: {'num_leaves': 90, 'min_data_in_leaf': 11, 'max_bin': 274, 'bagging_fraction': 0.8657640541060783, 'feature_fraction': 0.4226408232402487, 'min_gain_to_split': 0.08570536399508226, 'lambda_l1': 0.3152494743356325, 'lambda_l2': 0.02276537286268009}. Best is trial 8 with value: 235.65561745916793.\n"
     ]
    },
    {
     "name": "stdout",
     "output_type": "stream",
     "text": [
      "\n",
      "Training until validation scores don't improve for 100 rounds\n",
      "[500]\ttrain's l1: 218.871\tvalid's l1: 242.353\n",
      "[1000]\ttrain's l1: 189.425\tvalid's l1: 239.332\n",
      "[1500]\ttrain's l1: 172.553\tvalid's l1: 238.506\n",
      "[2000]\ttrain's l1: 157.348\tvalid's l1: 237.743\n",
      "Early stopping, best iteration is:\n",
      "[1927]\ttrain's l1: 159.282\tvalid's l1: 237.63\n"
     ]
    },
    {
     "name": "stderr",
     "output_type": "stream",
     "text": [
      "[I 2024-04-28 11:41:15,889] Trial 49 finished with value: 237.630250004464 and parameters: {'num_leaves': 108, 'min_data_in_leaf': 5, 'max_bin': 304, 'bagging_fraction': 0.9132446737747685, 'feature_fraction': 0.5850477231434984, 'min_gain_to_split': 0.0578424258626578, 'lambda_l1': 0.20899878992862272, 'lambda_l2': 0.04626242777440837}. Best is trial 8 with value: 235.65561745916793.\n"
     ]
    },
    {
     "name": "stdout",
     "output_type": "stream",
     "text": [
      "\n",
      "Training until validation scores don't improve for 100 rounds\n",
      "[500]\ttrain's l1: 198.704\tvalid's l1: 239.133\n",
      "[1000]\ttrain's l1: 168.433\tvalid's l1: 236.832\n",
      "[1500]\ttrain's l1: 154.022\tvalid's l1: 236.4\n",
      "Early stopping, best iteration is:\n",
      "[1710]\ttrain's l1: 149.738\tvalid's l1: 236.327\n"
     ]
    },
    {
     "name": "stderr",
     "output_type": "stream",
     "text": [
      "[I 2024-04-28 11:41:49,727] Trial 50 finished with value: 236.32651546816084 and parameters: {'num_leaves': 199, 'min_data_in_leaf': 20, 'max_bin': 399, 'bagging_fraction': 0.8079193043343926, 'feature_fraction': 0.5971706615366871, 'min_gain_to_split': 0.827502472446221, 'lambda_l1': 0.12785101361316728, 'lambda_l2': 0.07343993751060925}. Best is trial 8 with value: 235.65561745916793.\n"
     ]
    },
    {
     "name": "stdout",
     "output_type": "stream",
     "text": [
      "\n",
      "Training until validation scores don't improve for 100 rounds\n",
      "[500]\ttrain's l1: 208.532\tvalid's l1: 240.405\n",
      "[1000]\ttrain's l1: 180.4\tvalid's l1: 237.75\n",
      "[1500]\ttrain's l1: 164.266\tvalid's l1: 237.049\n",
      "[2000]\ttrain's l1: 153.048\tvalid's l1: 236.52\n",
      "Early stopping, best iteration is:\n",
      "[2132]\ttrain's l1: 150.833\tvalid's l1: 236.415\n"
     ]
    },
    {
     "name": "stderr",
     "output_type": "stream",
     "text": [
      "[I 2024-04-28 11:42:28,933] Trial 51 finished with value: 236.41500734905017 and parameters: {'num_leaves': 154, 'min_data_in_leaf': 18, 'max_bin': 362, 'bagging_fraction': 0.8260321563773461, 'feature_fraction': 0.4476945751947487, 'min_gain_to_split': 0.024005463168462842, 'lambda_l1': 0.08041229965890322, 'lambda_l2': 0.011797830090729794}. Best is trial 8 with value: 235.65561745916793.\n"
     ]
    },
    {
     "name": "stdout",
     "output_type": "stream",
     "text": [
      "\n",
      "Training until validation scores don't improve for 100 rounds\n",
      "[500]\ttrain's l1: 207.763\tvalid's l1: 240.912\n",
      "[1000]\ttrain's l1: 179.665\tvalid's l1: 238.305\n",
      "[1500]\ttrain's l1: 164.4\tvalid's l1: 237.736\n",
      "[2000]\ttrain's l1: 152.68\tvalid's l1: 237.387\n",
      "Early stopping, best iteration is:\n",
      "[2255]\ttrain's l1: 147.987\tvalid's l1: 237.285\n"
     ]
    },
    {
     "name": "stderr",
     "output_type": "stream",
     "text": [
      "[I 2024-04-28 11:43:01,239] Trial 52 finished with value: 237.2853255542685 and parameters: {'num_leaves': 156, 'min_data_in_leaf': 18, 'max_bin': 370, 'bagging_fraction': 0.8183004793889923, 'feature_fraction': 0.4761038783639385, 'min_gain_to_split': 0.030247503568516604, 'lambda_l1': 0.05831940242225012, 'lambda_l2': 0.015782079629015663}. Best is trial 8 with value: 235.65561745916793.\n"
     ]
    },
    {
     "name": "stdout",
     "output_type": "stream",
     "text": [
      "\n",
      "Training until validation scores don't improve for 100 rounds\n",
      "[500]\ttrain's l1: 212.094\tvalid's l1: 240.982\n",
      "[1000]\ttrain's l1: 182.841\tvalid's l1: 238.052\n",
      "[1500]\ttrain's l1: 167.213\tvalid's l1: 237.256\n",
      "Early stopping, best iteration is:\n",
      "[1731]\ttrain's l1: 161.922\tvalid's l1: 237.072\n"
     ]
    },
    {
     "name": "stderr",
     "output_type": "stream",
     "text": [
      "[I 2024-04-28 11:43:23,699] Trial 53 finished with value: 237.07240084075917 and parameters: {'num_leaves': 138, 'min_data_in_leaf': 15, 'max_bin': 375, 'bagging_fraction': 0.8279836082973473, 'feature_fraction': 0.46529967640912034, 'min_gain_to_split': 0.012351985116541573, 'lambda_l1': 0.06987933097163028, 'lambda_l2': 0.03599023159557302}. Best is trial 8 with value: 235.65561745916793.\n"
     ]
    },
    {
     "name": "stdout",
     "output_type": "stream",
     "text": [
      "\n",
      "Training until validation scores don't improve for 100 rounds\n",
      "[500]\ttrain's l1: 206.009\tvalid's l1: 241.065\n",
      "[1000]\ttrain's l1: 177.393\tvalid's l1: 238.55\n",
      "[1500]\ttrain's l1: 160.891\tvalid's l1: 237.633\n",
      "Early stopping, best iteration is:\n",
      "[1697]\ttrain's l1: 156.107\tvalid's l1: 237.438\n"
     ]
    },
    {
     "name": "stderr",
     "output_type": "stream",
     "text": [
      "[I 2024-04-28 11:43:51,015] Trial 54 finished with value: 237.43762566521502 and parameters: {'num_leaves': 169, 'min_data_in_leaf': 17, 'max_bin': 385, 'bagging_fraction': 0.8328171418163904, 'feature_fraction': 0.43153580995673, 'min_gain_to_split': 0.02060647183179166, 'lambda_l1': 0.42264880834173646, 'lambda_l2': 0.019586846074833308}. Best is trial 8 with value: 235.65561745916793.\n"
     ]
    },
    {
     "name": "stdout",
     "output_type": "stream",
     "text": [
      "\n",
      "Training until validation scores don't improve for 100 rounds\n",
      "[500]\ttrain's l1: 210.181\tvalid's l1: 239.785\n",
      "[1000]\ttrain's l1: 180.659\tvalid's l1: 236.765\n",
      "[1500]\ttrain's l1: 163.592\tvalid's l1: 236.08\n",
      "Early stopping, best iteration is:\n",
      "[1403]\ttrain's l1: 166.089\tvalid's l1: 236.047\n"
     ]
    },
    {
     "name": "stderr",
     "output_type": "stream",
     "text": [
      "[I 2024-04-28 11:44:10,246] Trial 55 finished with value: 236.04693350776992 and parameters: {'num_leaves': 145, 'min_data_in_leaf': 13, 'max_bin': 360, 'bagging_fraction': 0.8418329609434024, 'feature_fraction': 0.44010316449091025, 'min_gain_to_split': 0.5349915306904427, 'lambda_l1': 0.10328831442577009, 'lambda_l2': 0.030622738471299975}. Best is trial 8 with value: 235.65561745916793.\n"
     ]
    },
    {
     "name": "stdout",
     "output_type": "stream",
     "text": [
      "\n",
      "Training until validation scores don't improve for 100 rounds\n",
      "[500]\ttrain's l1: 210.153\tvalid's l1: 240.425\n",
      "[1000]\ttrain's l1: 180.737\tvalid's l1: 237.375\n",
      "[1500]\ttrain's l1: 164.641\tvalid's l1: 236.542\n",
      "[2000]\ttrain's l1: 153.844\tvalid's l1: 235.982\n",
      "Early stopping, best iteration is:\n",
      "[2161]\ttrain's l1: 149.604\tvalid's l1: 235.84\n"
     ]
    },
    {
     "name": "stderr",
     "output_type": "stream",
     "text": [
      "[I 2024-04-28 11:44:38,759] Trial 56 finished with value: 235.83956056914454 and parameters: {'num_leaves': 146, 'min_data_in_leaf': 13, 'max_bin': 253, 'bagging_fraction': 0.8519006757125833, 'feature_fraction': 0.5274569716416012, 'min_gain_to_split': 0.5418555335024524, 'lambda_l1': 0.18542067120398756, 'lambda_l2': 0.03083510094490388}. Best is trial 8 with value: 235.65561745916793.\n"
     ]
    },
    {
     "name": "stdout",
     "output_type": "stream",
     "text": [
      "\n",
      "Training until validation scores don't improve for 100 rounds\n",
      "[500]\ttrain's l1: 210.007\tvalid's l1: 239.638\n",
      "[1000]\ttrain's l1: 181.78\tvalid's l1: 236.718\n",
      "[1500]\ttrain's l1: 164.268\tvalid's l1: 235.798\n",
      "[2000]\ttrain's l1: 150.239\tvalid's l1: 235.299\n",
      "Early stopping, best iteration is:\n",
      "[1967]\ttrain's l1: 151.038\tvalid's l1: 235.265\n"
     ]
    },
    {
     "name": "stderr",
     "output_type": "stream",
     "text": [
      "[I 2024-04-28 11:45:04,587] Trial 57 finished with value: 235.26450316640677 and parameters: {'num_leaves': 146, 'min_data_in_leaf': 13, 'max_bin': 251, 'bagging_fraction': 0.8471473939573079, 'feature_fraction': 0.5300170587993218, 'min_gain_to_split': 0.530029042105932, 'lambda_l1': 0.18946351069277742, 'lambda_l2': 0.030032877203494818}. Best is trial 57 with value: 235.26450316640677.\n"
     ]
    },
    {
     "name": "stdout",
     "output_type": "stream",
     "text": [
      "\n",
      "Training until validation scores don't improve for 100 rounds\n",
      "[500]\ttrain's l1: 213.06\tvalid's l1: 240.398\n",
      "[1000]\ttrain's l1: 183.258\tvalid's l1: 237.209\n",
      "[1500]\ttrain's l1: 163.476\tvalid's l1: 236.46\n",
      "Early stopping, best iteration is:\n",
      "[1527]\ttrain's l1: 162.476\tvalid's l1: 236.431\n"
     ]
    },
    {
     "name": "stderr",
     "output_type": "stream",
     "text": [
      "[I 2024-04-28 11:45:23,558] Trial 58 finished with value: 236.43120937182283 and parameters: {'num_leaves': 134, 'min_data_in_leaf': 10, 'max_bin': 250, 'bagging_fraction': 0.8497634350679077, 'feature_fraction': 0.5288353361772918, 'min_gain_to_split': 0.374247218413021, 'lambda_l1': 0.2669022891071202, 'lambda_l2': 0.054221111043070196}. Best is trial 57 with value: 235.26450316640677.\n"
     ]
    },
    {
     "name": "stdout",
     "output_type": "stream",
     "text": [
      "\n",
      "Training until validation scores don't improve for 100 rounds\n",
      "[500]\ttrain's l1: 209.326\tvalid's l1: 241.656\n",
      "[1000]\ttrain's l1: 181.577\tvalid's l1: 239.15\n",
      "[1500]\ttrain's l1: 165.028\tvalid's l1: 238.302\n",
      "[2000]\ttrain's l1: 153.038\tvalid's l1: 237.727\n",
      "[2500]\ttrain's l1: 144.338\tvalid's l1: 237.431\n",
      "Early stopping, best iteration is:\n",
      "[2428]\ttrain's l1: 145.505\tvalid's l1: 237.374\n"
     ]
    },
    {
     "name": "stderr",
     "output_type": "stream",
     "text": [
      "[I 2024-04-28 11:45:53,838] Trial 59 finished with value: 237.37379262714845 and parameters: {'num_leaves': 147, 'min_data_in_leaf': 12, 'max_bin': 236, 'bagging_fraction': 0.8690108504990468, 'feature_fraction': 0.5463439310533582, 'min_gain_to_split': 0.9927509630709427, 'lambda_l1': 0.18023086454871545, 'lambda_l2': 0.028296686100386964}. Best is trial 57 with value: 235.26450316640677.\n"
     ]
    },
    {
     "name": "stdout",
     "output_type": "stream",
     "text": [
      "\n",
      "Training until validation scores don't improve for 100 rounds\n",
      "[500]\ttrain's l1: 217.229\tvalid's l1: 240.599\n",
      "[1000]\ttrain's l1: 189.918\tvalid's l1: 237.676\n",
      "[1500]\ttrain's l1: 173.416\tvalid's l1: 236.534\n",
      "[2000]\ttrain's l1: 161.571\tvalid's l1: 236.008\n",
      "Early stopping, best iteration is:\n",
      "[2081]\ttrain's l1: 159.714\tvalid's l1: 235.925\n"
     ]
    },
    {
     "name": "stderr",
     "output_type": "stream",
     "text": [
      "[I 2024-04-28 11:46:20,020] Trial 60 finished with value: 235.92476845969637 and parameters: {'num_leaves': 120, 'min_data_in_leaf': 14, 'max_bin': 259, 'bagging_fraction': 0.8543740198067203, 'feature_fraction': 0.5119260900097656, 'min_gain_to_split': 0.6014011467244147, 'lambda_l1': 0.37763041513730117, 'lambda_l2': 0.036970601486864624}. Best is trial 57 with value: 235.26450316640677.\n"
     ]
    },
    {
     "name": "stdout",
     "output_type": "stream",
     "text": [
      "\n",
      "Training until validation scores don't improve for 100 rounds\n",
      "[500]\ttrain's l1: 217.186\tvalid's l1: 241.45\n",
      "[1000]\ttrain's l1: 189.4\tvalid's l1: 238.572\n",
      "[1500]\ttrain's l1: 172.462\tvalid's l1: 237.594\n",
      "[2000]\ttrain's l1: 161.406\tvalid's l1: 237.084\n",
      "Early stopping, best iteration is:\n",
      "[2267]\ttrain's l1: 156.82\tvalid's l1: 236.933\n"
     ]
    },
    {
     "name": "stderr",
     "output_type": "stream",
     "text": [
      "[I 2024-04-28 11:46:56,793] Trial 61 finished with value: 236.93270262654804 and parameters: {'num_leaves': 120, 'min_data_in_leaf': 13, 'max_bin': 263, 'bagging_fraction': 0.855399763563875, 'feature_fraction': 0.5126912431981115, 'min_gain_to_split': 0.5723597038069765, 'lambda_l1': 0.5145455987605931, 'lambda_l2': 0.03778480595765627}. Best is trial 57 with value: 235.26450316640677.\n"
     ]
    },
    {
     "name": "stdout",
     "output_type": "stream",
     "text": [
      "\n",
      "Training until validation scores don't improve for 100 rounds\n",
      "[500]\ttrain's l1: 227.532\tvalid's l1: 243.847\n",
      "[1000]\ttrain's l1: 203.951\tvalid's l1: 240.717\n",
      "[1500]\ttrain's l1: 188.441\tvalid's l1: 239.628\n",
      "[2000]\ttrain's l1: 176.469\tvalid's l1: 238.976\n",
      "Early stopping, best iteration is:\n",
      "[2293]\ttrain's l1: 171.905\tvalid's l1: 238.741\n"
     ]
    },
    {
     "name": "stderr",
     "output_type": "stream",
     "text": [
      "[I 2024-04-28 11:47:21,652] Trial 62 finished with value: 238.740588665897 and parameters: {'num_leaves': 82, 'min_data_in_leaf': 14, 'max_bin': 230, 'bagging_fraction': 0.8532373863782683, 'feature_fraction': 0.5559120374592704, 'min_gain_to_split': 0.48424575821856264, 'lambda_l1': 0.3811649880388397, 'lambda_l2': 0.024374679035151753}. Best is trial 57 with value: 235.26450316640677.\n"
     ]
    },
    {
     "name": "stdout",
     "output_type": "stream",
     "text": [
      "\n",
      "Training until validation scores don't improve for 100 rounds\n",
      "[500]\ttrain's l1: 213.959\tvalid's l1: 240.202\n",
      "[1000]\ttrain's l1: 184.317\tvalid's l1: 237.129\n",
      "[1500]\ttrain's l1: 165.055\tvalid's l1: 236.31\n",
      "Early stopping, best iteration is:\n",
      "[1692]\ttrain's l1: 158.409\tvalid's l1: 236.19\n"
     ]
    },
    {
     "name": "stderr",
     "output_type": "stream",
     "text": [
      "[I 2024-04-28 11:47:44,904] Trial 63 finished with value: 236.18974468468562 and parameters: {'num_leaves': 132, 'min_data_in_leaf': 10, 'max_bin': 249, 'bagging_fraction': 0.8622075659270164, 'feature_fraction': 0.5243780121677495, 'min_gain_to_split': 0.35210780814723946, 'lambda_l1': 0.20876636046812938, 'lambda_l2': 0.05291622259261815}. Best is trial 57 with value: 235.26450316640677.\n"
     ]
    },
    {
     "name": "stdout",
     "output_type": "stream",
     "text": [
      "\n",
      "Training until validation scores don't improve for 100 rounds\n",
      "[500]\ttrain's l1: 224.265\tvalid's l1: 242.569\n",
      "[1000]\ttrain's l1: 198.419\tvalid's l1: 239.295\n",
      "[1500]\ttrain's l1: 181.426\tvalid's l1: 238.539\n",
      "[2000]\ttrain's l1: 171.213\tvalid's l1: 238.088\n",
      "Early stopping, best iteration is:\n",
      "[2294]\ttrain's l1: 166.329\tvalid's l1: 237.699\n"
     ]
    },
    {
     "name": "stderr",
     "output_type": "stream",
     "text": [
      "[I 2024-04-28 11:48:06,725] Trial 64 finished with value: 237.69932225334747 and parameters: {'num_leaves': 94, 'min_data_in_leaf': 12, 'max_bin': 275, 'bagging_fraction': 0.8699557327970496, 'feature_fraction': 0.5690913784066323, 'min_gain_to_split': 0.8309665267312248, 'lambda_l1': 0.14296093518121966, 'lambda_l2': 0.03407325432505745}. Best is trial 57 with value: 235.26450316640677.\n"
     ]
    },
    {
     "name": "stdout",
     "output_type": "stream",
     "text": [
      "\n",
      "Training until validation scores don't improve for 100 rounds\n",
      "[500]\ttrain's l1: 215.879\tvalid's l1: 242.006\n",
      "[1000]\ttrain's l1: 187.055\tvalid's l1: 238.677\n",
      "[1500]\ttrain's l1: 170.862\tvalid's l1: 237.505\n",
      "Early stopping, best iteration is:\n",
      "[1789]\ttrain's l1: 162.117\tvalid's l1: 237.085\n"
     ]
    },
    {
     "name": "stderr",
     "output_type": "stream",
     "text": [
      "[I 2024-04-28 11:48:30,786] Trial 65 finished with value: 237.08549236449812 and parameters: {'num_leaves': 127, 'min_data_in_leaf': 15, 'max_bin': 261, 'bagging_fraction': 0.8861736806121712, 'feature_fraction': 0.5367471721251368, 'min_gain_to_split': 0.6183581364369035, 'lambda_l1': 0.2979982425298104, 'lambda_l2': 0.04135111428347393}. Best is trial 57 with value: 235.26450316640677.\n"
     ]
    },
    {
     "name": "stdout",
     "output_type": "stream",
     "text": [
      "\n",
      "Training until validation scores don't improve for 100 rounds\n",
      "[500]\ttrain's l1: 217.708\tvalid's l1: 241.465\n",
      "[1000]\ttrain's l1: 190.907\tvalid's l1: 237.943\n",
      "[1500]\ttrain's l1: 175.099\tvalid's l1: 236.84\n",
      "Early stopping, best iteration is:\n",
      "[1592]\ttrain's l1: 172.538\tvalid's l1: 236.698\n"
     ]
    },
    {
     "name": "stderr",
     "output_type": "stream",
     "text": [
      "[I 2024-04-28 11:48:50,321] Trial 66 finished with value: 236.69797562428033 and parameters: {'num_leaves': 114, 'min_data_in_leaf': 11, 'max_bin': 291, 'bagging_fraction': 0.8485652667845736, 'feature_fraction': 0.4920424216605598, 'min_gain_to_split': 0.4497111494698698, 'lambda_l1': 0.18077831874774797, 'lambda_l2': 0.06959985525041139}. Best is trial 57 with value: 235.26450316640677.\n"
     ]
    },
    {
     "name": "stdout",
     "output_type": "stream",
     "text": [
      "\n",
      "Training until validation scores don't improve for 100 rounds\n",
      "[500]\ttrain's l1: 222.995\tvalid's l1: 242.756\n",
      "[1000]\ttrain's l1: 195.263\tvalid's l1: 239.198\n",
      "[1500]\ttrain's l1: 178.212\tvalid's l1: 238.03\n",
      "[2000]\ttrain's l1: 166.587\tvalid's l1: 237.716\n",
      "[2500]\ttrain's l1: 156.762\tvalid's l1: 237.144\n",
      "[3000]\ttrain's l1: 148.058\tvalid's l1: 236.791\n",
      "Early stopping, best iteration is:\n",
      "[3369]\ttrain's l1: 143.283\tvalid's l1: 236.446\n"
     ]
    },
    {
     "name": "stderr",
     "output_type": "stream",
     "text": [
      "[I 2024-04-28 11:49:26,617] Trial 67 finished with value: 236.4458663979148 and parameters: {'num_leaves': 100, 'min_data_in_leaf': 9, 'max_bin': 218, 'bagging_fraction': 0.8751603011387193, 'feature_fraction': 0.5119117680852953, 'min_gain_to_split': 0.24151183592353748, 'lambda_l1': 0.6413587522163825, 'lambda_l2': 0.0493493628157809}. Best is trial 57 with value: 235.26450316640677.\n"
     ]
    },
    {
     "name": "stdout",
     "output_type": "stream",
     "text": [
      "\n",
      "Training until validation scores don't improve for 100 rounds\n",
      "[500]\ttrain's l1: 211.702\tvalid's l1: 240.415\n",
      "[1000]\ttrain's l1: 185.004\tvalid's l1: 237.583\n",
      "[1500]\ttrain's l1: 170.093\tvalid's l1: 236.759\n",
      "[2000]\ttrain's l1: 159.107\tvalid's l1: 236.417\n",
      "[2500]\ttrain's l1: 151.097\tvalid's l1: 236.026\n",
      "Early stopping, best iteration is:\n",
      "[2895]\ttrain's l1: 145.052\tvalid's l1: 235.771\n"
     ]
    },
    {
     "name": "stderr",
     "output_type": "stream",
     "text": [
      "[I 2024-04-28 11:50:05,057] Trial 68 finished with value: 235.77089982084365 and parameters: {'num_leaves': 141, 'min_data_in_leaf': 16, 'max_bin': 282, 'bagging_fraction': 0.8433798524309817, 'feature_fraction': 0.5500419729708115, 'min_gain_to_split': 0.7988009356057066, 'lambda_l1': 0.9867606070352145, 'lambda_l2': 0.09235017410256606}. Best is trial 57 with value: 235.26450316640677.\n"
     ]
    },
    {
     "name": "stdout",
     "output_type": "stream",
     "text": [
      "\n",
      "Training until validation scores don't improve for 100 rounds\n",
      "[500]\ttrain's l1: 212.268\tvalid's l1: 241.849\n",
      "[1000]\ttrain's l1: 185.212\tvalid's l1: 238.434\n",
      "[1500]\ttrain's l1: 169.523\tvalid's l1: 237.51\n",
      "Early stopping, best iteration is:\n",
      "[1537]\ttrain's l1: 168.761\tvalid's l1: 237.444\n"
     ]
    },
    {
     "name": "stderr",
     "output_type": "stream",
     "text": [
      "[I 2024-04-28 11:50:26,988] Trial 69 finished with value: 237.4442272720875 and parameters: {'num_leaves': 140, 'min_data_in_leaf': 16, 'max_bin': 251, 'bagging_fraction': 0.8359562623586627, 'feature_fraction': 0.5506728150430964, 'min_gain_to_split': 0.8299604883723238, 'lambda_l1': 0.7719885670668842, 'lambda_l2': 0.08708244448888668}. Best is trial 57 with value: 235.26450316640677.\n"
     ]
    },
    {
     "name": "stdout",
     "output_type": "stream",
     "text": [
      "\n",
      "Training until validation scores don't improve for 100 rounds\n",
      "[500]\ttrain's l1: 208.361\tvalid's l1: 240.965\n",
      "[1000]\ttrain's l1: 179.991\tvalid's l1: 238.174\n",
      "[1500]\ttrain's l1: 163.801\tvalid's l1: 237.54\n",
      "[2000]\ttrain's l1: 151.925\tvalid's l1: 236.963\n",
      "Early stopping, best iteration is:\n",
      "[2193]\ttrain's l1: 148.186\tvalid's l1: 236.852\n"
     ]
    },
    {
     "name": "stderr",
     "output_type": "stream",
     "text": [
      "[I 2024-04-28 11:50:59,557] Trial 70 finished with value: 236.85215098857583 and parameters: {'num_leaves': 149, 'min_data_in_leaf': 13, 'max_bin': 286, 'bagging_fraction': 0.8456443543564716, 'feature_fraction': 0.5750991248039893, 'min_gain_to_split': 0.5026352241915127, 'lambda_l1': 0.9978662546296421, 'lambda_l2': 0.10805396990739176}. Best is trial 57 with value: 235.26450316640677.\n"
     ]
    },
    {
     "name": "stdout",
     "output_type": "stream",
     "text": [
      "\n",
      "Training until validation scores don't improve for 100 rounds\n",
      "[500]\ttrain's l1: 213.044\tvalid's l1: 241.27\n",
      "[1000]\ttrain's l1: 185.527\tvalid's l1: 238.047\n",
      "[1500]\ttrain's l1: 169.711\tvalid's l1: 236.947\n",
      "Early stopping, best iteration is:\n",
      "[1714]\ttrain's l1: 164.326\tvalid's l1: 236.664\n"
     ]
    },
    {
     "name": "stderr",
     "output_type": "stream",
     "text": [
      "[I 2024-04-28 11:51:24,157] Trial 71 finished with value: 236.6642942984755 and parameters: {'num_leaves': 135, 'min_data_in_leaf': 14, 'max_bin': 281, 'bagging_fraction': 0.8418535178328683, 'feature_fraction': 0.5290028948084063, 'min_gain_to_split': 0.6464215219628571, 'lambda_l1': 0.8295544039982219, 'lambda_l2': 0.13817787310105473}. Best is trial 57 with value: 235.26450316640677.\n"
     ]
    },
    {
     "name": "stdout",
     "output_type": "stream",
     "text": [
      "\n",
      "Training until validation scores don't improve for 100 rounds\n",
      "[500]\ttrain's l1: 230.698\tvalid's l1: 243.855\n",
      "[1000]\ttrain's l1: 206.768\tvalid's l1: 240.114\n",
      "[1500]\ttrain's l1: 191.55\tvalid's l1: 238.721\n",
      "[2000]\ttrain's l1: 179.974\tvalid's l1: 237.843\n",
      "Early stopping, best iteration is:\n",
      "[2120]\ttrain's l1: 177.283\tvalid's l1: 237.718\n"
     ]
    },
    {
     "name": "stderr",
     "output_type": "stream",
     "text": [
      "[I 2024-04-28 11:51:43,928] Trial 72 finished with value: 237.71810246752358 and parameters: {'num_leaves': 77, 'min_data_in_leaf': 15, 'max_bin': 299, 'bagging_fraction': 0.8713959353314212, 'feature_fraction': 0.4969218222150992, 'min_gain_to_split': 0.8050963000358874, 'lambda_l1': 0.5082944069151233, 'lambda_l2': 0.06037608331998582}. Best is trial 57 with value: 235.26450316640677.\n"
     ]
    },
    {
     "name": "stdout",
     "output_type": "stream",
     "text": [
      "\n",
      "Training until validation scores don't improve for 100 rounds\n",
      "[500]\ttrain's l1: 211.225\tvalid's l1: 241.151\n",
      "[1000]\ttrain's l1: 184.155\tvalid's l1: 238.347\n",
      "[1500]\ttrain's l1: 167.366\tvalid's l1: 237.236\n",
      "Early stopping, best iteration is:\n",
      "[1543]\ttrain's l1: 166.248\tvalid's l1: 237.197\n"
     ]
    },
    {
     "name": "stderr",
     "output_type": "stream",
     "text": [
      "[I 2024-04-28 11:52:08,615] Trial 73 finished with value: 237.1971193981631 and parameters: {'num_leaves': 144, 'min_data_in_leaf': 16, 'max_bin': 258, 'bagging_fraction': 0.8613078581192725, 'feature_fraction': 0.5175520199007576, 'min_gain_to_split': 0.7038820408730404, 'lambda_l1': 0.23987526639321902, 'lambda_l2': 0.16743479014412976}. Best is trial 57 with value: 235.26450316640677.\n"
     ]
    },
    {
     "name": "stdout",
     "output_type": "stream",
     "text": [
      "\n",
      "Training until validation scores don't improve for 100 rounds\n",
      "[500]\ttrain's l1: 205.93\tvalid's l1: 240.95\n",
      "[1000]\ttrain's l1: 175.865\tvalid's l1: 238.146\n",
      "[1500]\ttrain's l1: 158.486\tvalid's l1: 237.28\n",
      "Early stopping, best iteration is:\n",
      "[1666]\ttrain's l1: 154.511\tvalid's l1: 237.197\n"
     ]
    },
    {
     "name": "stderr",
     "output_type": "stream",
     "text": [
      "[I 2024-04-28 11:52:38,226] Trial 74 finished with value: 237.1967512328077 and parameters: {'num_leaves': 161, 'min_data_in_leaf': 12, 'max_bin': 245, 'bagging_fraction': 0.8533627696614045, 'feature_fraction': 0.535239461692516, 'min_gain_to_split': 0.7428613744154082, 'lambda_l1': 0.621402490917656, 'lambda_l2': 0.031298968332338674}. Best is trial 57 with value: 235.26450316640677.\n"
     ]
    },
    {
     "name": "stdout",
     "output_type": "stream",
     "text": [
      "\n",
      "Training until validation scores don't improve for 100 rounds\n",
      "[500]\ttrain's l1: 217.885\tvalid's l1: 240.936\n",
      "[1000]\ttrain's l1: 193.863\tvalid's l1: 238.268\n",
      "[1500]\ttrain's l1: 179.097\tvalid's l1: 237.593\n",
      "[2000]\ttrain's l1: 169.292\tvalid's l1: 237.252\n",
      "[2500]\ttrain's l1: 161.942\tvalid's l1: 236.948\n",
      "Early stopping, best iteration is:\n",
      "[2754]\ttrain's l1: 159.023\tvalid's l1: 236.798\n"
     ]
    },
    {
     "name": "stderr",
     "output_type": "stream",
     "text": [
      "[I 2024-04-28 11:53:16,892] Trial 75 finished with value: 236.79768473080932 and parameters: {'num_leaves': 124, 'min_data_in_leaf': 29, 'max_bin': 279, 'bagging_fraction': 0.8447208810731918, 'feature_fraction': 0.5087869923370848, 'min_gain_to_split': 0.1470073540261832, 'lambda_l1': 0.3728504902366464, 'lambda_l2': 0.09132281633059126}. Best is trial 57 with value: 235.26450316640677.\n"
     ]
    },
    {
     "name": "stdout",
     "output_type": "stream",
     "text": [
      "\n",
      "Training until validation scores don't improve for 100 rounds\n",
      "[500]\ttrain's l1: 236.678\tvalid's l1: 245.149\n",
      "[1000]\ttrain's l1: 215.251\tvalid's l1: 240.351\n",
      "[1500]\ttrain's l1: 201.003\tvalid's l1: 238.515\n",
      "[2000]\ttrain's l1: 190.408\tvalid's l1: 237.764\n",
      "Early stopping, best iteration is:\n",
      "[1919]\ttrain's l1: 192.064\tvalid's l1: 237.738\n"
     ]
    },
    {
     "name": "stderr",
     "output_type": "stream",
     "text": [
      "[I 2024-04-28 11:53:32,266] Trial 76 finished with value: 237.73769272084238 and parameters: {'num_leaves': 59, 'min_data_in_leaf': 14, 'max_bin': 268, 'bagging_fraction': 0.8794663882944702, 'feature_fraction': 0.6368670745993081, 'min_gain_to_split': 0.3365440206895263, 'lambda_l1': 0.9181337781996168, 'lambda_l2': 0.020965583962349647}. Best is trial 57 with value: 235.26450316640677.\n"
     ]
    },
    {
     "name": "stdout",
     "output_type": "stream",
     "text": [
      "\n",
      "Training until validation scores don't improve for 100 rounds\n",
      "[500]\ttrain's l1: 227.817\tvalid's l1: 241.989\n",
      "[1000]\ttrain's l1: 204.012\tvalid's l1: 238.498\n",
      "[1500]\ttrain's l1: 189.136\tvalid's l1: 237.435\n",
      "[2000]\ttrain's l1: 178.263\tvalid's l1: 236.858\n",
      "Early stopping, best iteration is:\n",
      "[2377]\ttrain's l1: 171.787\tvalid's l1: 236.522\n"
     ]
    },
    {
     "name": "stderr",
     "output_type": "stream",
     "text": [
      "[I 2024-04-28 11:53:57,429] Trial 77 finished with value: 236.52213102705804 and parameters: {'num_leaves': 82, 'min_data_in_leaf': 17, 'max_bin': 268, 'bagging_fraction': 0.8141910736009135, 'feature_fraction': 0.5956464667381293, 'min_gain_to_split': 0.4053561852562054, 'lambda_l1': 0.7012436608066326, 'lambda_l2': 0.027438239665896553}. Best is trial 57 with value: 235.26450316640677.\n"
     ]
    },
    {
     "name": "stdout",
     "output_type": "stream",
     "text": [
      "\n",
      "Training until validation scores don't improve for 100 rounds\n",
      "[500]\ttrain's l1: 216.94\tvalid's l1: 242.323\n",
      "[1000]\ttrain's l1: 188.863\tvalid's l1: 238.992\n",
      "[1500]\ttrain's l1: 173.038\tvalid's l1: 238.234\n",
      "Early stopping, best iteration is:\n",
      "[1461]\ttrain's l1: 174.205\tvalid's l1: 238.179\n"
     ]
    },
    {
     "name": "stderr",
     "output_type": "stream",
     "text": [
      "[I 2024-04-28 11:54:14,665] Trial 78 finished with value: 238.1793115605022 and parameters: {'num_leaves': 119, 'min_data_in_leaf': 13, 'max_bin': 239, 'bagging_fraction': 0.82201793029943, 'feature_fraction': 0.5486632361532855, 'min_gain_to_split': 0.5893063030222384, 'lambda_l1': 0.5487019276083499, 'lambda_l2': 0.03810670658792882}. Best is trial 57 with value: 235.26450316640677.\n"
     ]
    },
    {
     "name": "stdout",
     "output_type": "stream",
     "text": [
      "\n",
      "Training until validation scores don't improve for 100 rounds\n",
      "[500]\ttrain's l1: 220.37\tvalid's l1: 241.357\n",
      "[1000]\ttrain's l1: 194.666\tvalid's l1: 237.757\n",
      "[1500]\ttrain's l1: 180.37\tvalid's l1: 236.796\n",
      "Early stopping, best iteration is:\n",
      "[1691]\ttrain's l1: 176.704\tvalid's l1: 236.539\n"
     ]
    },
    {
     "name": "stderr",
     "output_type": "stream",
     "text": [
      "[I 2024-04-28 11:54:33,577] Trial 79 finished with value: 236.53875851685086 and parameters: {'num_leaves': 110, 'min_data_in_leaf': 27, 'max_bin': 296, 'bagging_fraction': 0.8584492388465184, 'feature_fraction': 0.6061835483146555, 'min_gain_to_split': 0.2731134181719145, 'lambda_l1': 0.1340022321710099, 'lambda_l2': 0.016300081126361374}. Best is trial 57 with value: 235.26450316640677.\n"
     ]
    },
    {
     "name": "stdout",
     "output_type": "stream",
     "text": [
      "\n",
      "Training until validation scores don't improve for 100 rounds\n",
      "[500]\ttrain's l1: 208.928\tvalid's l1: 240.963\n",
      "[1000]\ttrain's l1: 180.005\tvalid's l1: 238.063\n",
      "[1500]\ttrain's l1: 164.405\tvalid's l1: 237.359\n",
      "[2000]\ttrain's l1: 152.496\tvalid's l1: 236.9\n",
      "Early stopping, best iteration is:\n",
      "[2369]\ttrain's l1: 146.602\tvalid's l1: 236.641\n"
     ]
    },
    {
     "name": "stderr",
     "output_type": "stream",
     "text": [
      "[I 2024-04-28 11:55:18,243] Trial 80 finished with value: 236.64125720161053 and parameters: {'num_leaves': 153, 'min_data_in_leaf': 15, 'max_bin': 314, 'bagging_fraction': 0.8878593019746438, 'feature_fraction': 0.5602223925199918, 'min_gain_to_split': 0.9264056808165818, 'lambda_l1': 0.16194291198957553, 'lambda_l2': 0.17390166111418223}. Best is trial 57 with value: 235.26450316640677.\n"
     ]
    },
    {
     "name": "stdout",
     "output_type": "stream",
     "text": [
      "\n",
      "Training until validation scores don't improve for 100 rounds\n",
      "[500]\ttrain's l1: 212.693\tvalid's l1: 240.368\n",
      "[1000]\ttrain's l1: 184.252\tvalid's l1: 237.642\n",
      "[1500]\ttrain's l1: 165.304\tvalid's l1: 236.716\n",
      "[2000]\ttrain's l1: 153.23\tvalid's l1: 236.212\n",
      "Early stopping, best iteration is:\n",
      "[2230]\ttrain's l1: 148.837\tvalid's l1: 236.031\n"
     ]
    },
    {
     "name": "stderr",
     "output_type": "stream",
     "text": [
      "[I 2024-04-28 11:55:46,554] Trial 81 finished with value: 236.0308612432883 and parameters: {'num_leaves': 129, 'min_data_in_leaf': 10, 'max_bin': 337, 'bagging_fraction': 0.8374030235042265, 'feature_fraction': 0.5200252466970353, 'min_gain_to_split': 0.5270151291859737, 'lambda_l1': 0.2031089990890604, 'lambda_l2': 0.03234857725416275}. Best is trial 57 with value: 235.26450316640677.\n"
     ]
    },
    {
     "name": "stdout",
     "output_type": "stream",
     "text": [
      "\n",
      "Training until validation scores don't improve for 100 rounds\n",
      "[500]\ttrain's l1: 213.633\tvalid's l1: 240.974\n",
      "[1000]\ttrain's l1: 184.202\tvalid's l1: 238.205\n",
      "[1500]\ttrain's l1: 162.145\tvalid's l1: 237.304\n",
      "Early stopping, best iteration is:\n",
      "[1690]\ttrain's l1: 156.69\tvalid's l1: 236.975\n"
     ]
    },
    {
     "name": "stderr",
     "output_type": "stream",
     "text": [
      "[I 2024-04-28 11:56:13,402] Trial 82 finished with value: 236.97502598813097 and parameters: {'num_leaves': 129, 'min_data_in_leaf': 8, 'max_bin': 255, 'bagging_fraction': 0.8364958501949994, 'feature_fraction': 0.5028465780220502, 'min_gain_to_split': 0.5151114034147517, 'lambda_l1': 0.2839096011487384, 'lambda_l2': 0.025191932707756517}. Best is trial 57 with value: 235.26450316640677.\n"
     ]
    },
    {
     "name": "stdout",
     "output_type": "stream",
     "text": [
      "\n",
      "Training until validation scores don't improve for 100 rounds\n",
      "[500]\ttrain's l1: 212.252\tvalid's l1: 240.817\n",
      "[1000]\ttrain's l1: 182.403\tvalid's l1: 237.608\n",
      "[1500]\ttrain's l1: 162.413\tvalid's l1: 236.58\n",
      "[2000]\ttrain's l1: 148.526\tvalid's l1: 236.022\n",
      "[2500]\ttrain's l1: 140.694\tvalid's l1: 235.785\n",
      "Early stopping, best iteration is:\n",
      "[2548]\ttrain's l1: 139.969\tvalid's l1: 235.746\n"
     ]
    },
    {
     "name": "stderr",
     "output_type": "stream",
     "text": [
      "[I 2024-04-28 11:56:45,571] Trial 83 finished with value: 235.74599683864116 and parameters: {'num_leaves': 137, 'min_data_in_leaf': 11, 'max_bin': 350, 'bagging_fraction': 0.8035275119630318, 'feature_fraction': 0.48196902510688955, 'min_gain_to_split': 0.4235937413915954, 'lambda_l1': 0.2281799160979559, 'lambda_l2': 0.11322809717124409}. Best is trial 57 with value: 235.26450316640677.\n"
     ]
    },
    {
     "name": "stdout",
     "output_type": "stream",
     "text": [
      "\n",
      "Training until validation scores don't improve for 100 rounds\n",
      "[500]\ttrain's l1: 211.428\tvalid's l1: 241.976\n",
      "[1000]\ttrain's l1: 182.148\tvalid's l1: 238.58\n",
      "[1500]\ttrain's l1: 163.03\tvalid's l1: 237.34\n",
      "Early stopping, best iteration is:\n",
      "[1817]\ttrain's l1: 155.431\tvalid's l1: 237.015\n"
     ]
    },
    {
     "name": "stderr",
     "output_type": "stream",
     "text": [
      "[I 2024-04-28 11:57:09,083] Trial 84 finished with value: 237.0151878330228 and parameters: {'num_leaves': 139, 'min_data_in_leaf': 10, 'max_bin': 332, 'bagging_fraction': 0.8025303919831033, 'feature_fraction': 0.4821178457846372, 'min_gain_to_split': 0.4147785229251452, 'lambda_l1': 0.224670540253942, 'lambda_l2': 0.09861350879003808}. Best is trial 57 with value: 235.26450316640677.\n"
     ]
    },
    {
     "name": "stdout",
     "output_type": "stream",
     "text": [
      "\n",
      "Training until validation scores don't improve for 100 rounds\n",
      "[500]\ttrain's l1: 212.143\tvalid's l1: 240.978\n",
      "[1000]\ttrain's l1: 182.41\tvalid's l1: 237.779\n",
      "[1500]\ttrain's l1: 161.277\tvalid's l1: 236.636\n",
      "Early stopping, best iteration is:\n",
      "[1516]\ttrain's l1: 160.615\tvalid's l1: 236.569\n"
     ]
    },
    {
     "name": "stderr",
     "output_type": "stream",
     "text": [
      "[I 2024-04-28 11:57:28,702] Trial 85 finished with value: 236.56941558020563 and parameters: {'num_leaves': 133, 'min_data_in_leaf': 6, 'max_bin': 350, 'bagging_fraction': 0.8055487736547136, 'feature_fraction': 0.5196612487229378, 'min_gain_to_split': 0.4621229050353945, 'lambda_l1': 0.1970269827746917, 'lambda_l2': 0.12085493620723302}. Best is trial 57 with value: 235.26450316640677.\n"
     ]
    },
    {
     "name": "stdout",
     "output_type": "stream",
     "text": [
      "\n",
      "Training until validation scores don't improve for 100 rounds\n",
      "[500]\ttrain's l1: 211.51\tvalid's l1: 240.896\n",
      "[1000]\ttrain's l1: 182.217\tvalid's l1: 238.165\n",
      "[1500]\ttrain's l1: 164.636\tvalid's l1: 237.154\n",
      "[2000]\ttrain's l1: 151.603\tvalid's l1: 236.761\n",
      "Early stopping, best iteration is:\n",
      "[2385]\ttrain's l1: 142.824\tvalid's l1: 236.602\n"
     ]
    },
    {
     "name": "stderr",
     "output_type": "stream",
     "text": [
      "[I 2024-04-28 11:57:58,867] Trial 86 finished with value: 236.60182710648445 and parameters: {'num_leaves': 136, 'min_data_in_leaf': 9, 'max_bin': 339, 'bagging_fraction': 0.8124947411055126, 'feature_fraction': 0.46799955144467337, 'min_gain_to_split': 0.6149194135028393, 'lambda_l1': 0.33915974625767137, 'lambda_l2': 0.07719850800938255}. Best is trial 57 with value: 235.26450316640677.\n"
     ]
    },
    {
     "name": "stdout",
     "output_type": "stream",
     "text": [
      "\n",
      "Training until validation scores don't improve for 100 rounds\n",
      "[500]\ttrain's l1: 210.344\tvalid's l1: 240.587\n",
      "[1000]\ttrain's l1: 180.143\tvalid's l1: 237.846\n",
      "[1500]\ttrain's l1: 163.112\tvalid's l1: 237.183\n",
      "[2000]\ttrain's l1: 151.621\tvalid's l1: 236.786\n",
      "Early stopping, best iteration is:\n",
      "[2166]\ttrain's l1: 147.828\tvalid's l1: 236.685\n"
     ]
    },
    {
     "name": "stderr",
     "output_type": "stream",
     "text": [
      "[I 2024-04-28 11:58:26,885] Trial 87 finished with value: 236.6854380634196 and parameters: {'num_leaves': 143, 'min_data_in_leaf': 12, 'max_bin': 263, 'bagging_fraction': 0.8323389682958622, 'feature_fraction': 0.5417378939278449, 'min_gain_to_split': 0.75607094749864, 'lambda_l1': 0.17534437375445006, 'lambda_l2': 0.06460598966850983}. Best is trial 57 with value: 235.26450316640677.\n"
     ]
    },
    {
     "name": "stdout",
     "output_type": "stream",
     "text": [
      "\n",
      "Training until validation scores don't improve for 100 rounds\n",
      "[500]\ttrain's l1: 208.767\tvalid's l1: 240.245\n",
      "[1000]\ttrain's l1: 178.17\tvalid's l1: 237.148\n",
      "[1500]\ttrain's l1: 160.695\tvalid's l1: 236.097\n",
      "[2000]\ttrain's l1: 148.416\tvalid's l1: 235.542\n",
      "[2500]\ttrain's l1: 138.466\tvalid's l1: 235.268\n",
      "Early stopping, best iteration is:\n",
      "[2716]\ttrain's l1: 134.961\tvalid's l1: 235.181\n"
     ]
    },
    {
     "name": "stderr",
     "output_type": "stream",
     "text": [
      "[I 2024-04-28 11:59:04,582] Trial 88 finished with value: 235.1812005889211 and parameters: {'num_leaves': 150, 'min_data_in_leaf': 11, 'max_bin': 324, 'bagging_fraction': 0.8001089777481872, 'feature_fraction': 0.4906756575950541, 'min_gain_to_split': 0.3115313146716406, 'lambda_l1': 0.11413245198498384, 'lambda_l2': 0.08290927701801915}. Best is trial 88 with value: 235.1812005889211.\n"
     ]
    },
    {
     "name": "stdout",
     "output_type": "stream",
     "text": [
      "\n",
      "Training until validation scores don't improve for 100 rounds\n",
      "[500]\ttrain's l1: 205.342\tvalid's l1: 240.98\n",
      "[1000]\ttrain's l1: 176.369\tvalid's l1: 238.009\n",
      "[1500]\ttrain's l1: 157.648\tvalid's l1: 237.433\n",
      "Early stopping, best iteration is:\n",
      "[1799]\ttrain's l1: 149.829\tvalid's l1: 237.174\n"
     ]
    },
    {
     "name": "stderr",
     "output_type": "stream",
     "text": [
      "[I 2024-04-28 11:59:31,064] Trial 89 finished with value: 237.17425112177176 and parameters: {'num_leaves': 159, 'min_data_in_leaf': 11, 'max_bin': 311, 'bagging_fraction': 0.8030814703511457, 'feature_fraction': 0.4900107591010459, 'min_gain_to_split': 0.301384224797171, 'lambda_l1': 0.12378117612398418, 'lambda_l2': 0.11025449326202201}. Best is trial 88 with value: 235.1812005889211.\n"
     ]
    },
    {
     "name": "stdout",
     "output_type": "stream",
     "text": [
      "\n",
      "Training until validation scores don't improve for 100 rounds\n",
      "[500]\ttrain's l1: 211.543\tvalid's l1: 241.538\n",
      "[1000]\ttrain's l1: 181.326\tvalid's l1: 238.69\n",
      "[1500]\ttrain's l1: 165.765\tvalid's l1: 238.06\n",
      "Early stopping, best iteration is:\n",
      "[1825]\ttrain's l1: 158.512\tvalid's l1: 237.752\n"
     ]
    },
    {
     "name": "stderr",
     "output_type": "stream",
     "text": [
      "[I 2024-04-28 11:59:55,179] Trial 90 finished with value: 237.75222018604322 and parameters: {'num_leaves': 149, 'min_data_in_leaf': 16, 'max_bin': 228, 'bagging_fraction': 0.8089656287477576, 'feature_fraction': 0.4737795935691583, 'min_gain_to_split': 0.22937597684934857, 'lambda_l1': 0.1048207042834301, 'lambda_l2': 0.12794973783591698}. Best is trial 88 with value: 235.1812005889211.\n"
     ]
    },
    {
     "name": "stdout",
     "output_type": "stream",
     "text": [
      "\n",
      "Training until validation scores don't improve for 100 rounds\n",
      "[500]\ttrain's l1: 210.846\tvalid's l1: 241.564\n",
      "[1000]\ttrain's l1: 180.796\tvalid's l1: 238.532\n",
      "[1500]\ttrain's l1: 161.431\tvalid's l1: 237.602\n",
      "[2000]\ttrain's l1: 147.259\tvalid's l1: 237.083\n",
      "Early stopping, best iteration is:\n",
      "[2104]\ttrain's l1: 145.378\tvalid's l1: 237.032\n"
     ]
    },
    {
     "name": "stderr",
     "output_type": "stream",
     "text": [
      "[I 2024-04-28 12:00:23,078] Trial 91 finished with value: 237.03181596004399 and parameters: {'num_leaves': 142, 'min_data_in_leaf': 11, 'max_bin': 329, 'bagging_fraction': 0.8204508076832608, 'feature_fraction': 0.4822670526071401, 'min_gain_to_split': 0.367261844847426, 'lambda_l1': 0.09338295737569627, 'lambda_l2': 0.08029031242888213}. Best is trial 88 with value: 235.1812005889211.\n"
     ]
    },
    {
     "name": "stdout",
     "output_type": "stream",
     "text": [
      "\n",
      "Training until validation scores don't improve for 100 rounds\n",
      "[500]\ttrain's l1: 213.681\tvalid's l1: 240.384\n",
      "[1000]\ttrain's l1: 185.128\tvalid's l1: 237.499\n",
      "[1500]\ttrain's l1: 166.563\tvalid's l1: 236.535\n",
      "[2000]\ttrain's l1: 152.255\tvalid's l1: 236.145\n",
      "Early stopping, best iteration is:\n",
      "[1993]\ttrain's l1: 152.492\tvalid's l1: 236.116\n"
     ]
    },
    {
     "name": "stderr",
     "output_type": "stream",
     "text": [
      "[I 2024-04-28 12:00:48,214] Trial 92 finished with value: 236.1160039573513 and parameters: {'num_leaves': 130, 'min_data_in_leaf': 10, 'max_bin': 323, 'bagging_fraction': 0.8062871812799097, 'feature_fraction': 0.4964792570820795, 'min_gain_to_split': 0.5444604497611367, 'lambda_l1': 0.15624915390610306, 'lambda_l2': 0.16111942334938972}. Best is trial 88 with value: 235.1812005889211.\n"
     ]
    },
    {
     "name": "stdout",
     "output_type": "stream",
     "text": [
      "\n",
      "Training until validation scores don't improve for 100 rounds\n",
      "[500]\ttrain's l1: 207.934\tvalid's l1: 240.577\n",
      "[1000]\ttrain's l1: 176.998\tvalid's l1: 237.837\n",
      "[1500]\ttrain's l1: 159.671\tvalid's l1: 236.914\n",
      "[2000]\ttrain's l1: 146.285\tvalid's l1: 236.486\n",
      "Early stopping, best iteration is:\n",
      "[2090]\ttrain's l1: 143.859\tvalid's l1: 236.322\n"
     ]
    },
    {
     "name": "stderr",
     "output_type": "stream",
     "text": [
      "[I 2024-04-28 12:01:17,386] Trial 93 finished with value: 236.32156329513936 and parameters: {'num_leaves': 147, 'min_data_in_leaf': 8, 'max_bin': 335, 'bagging_fraction': 0.8002974367112223, 'feature_fraction': 0.5256443306327676, 'min_gain_to_split': 0.43827665161367646, 'lambda_l1': 0.14316678981503914, 'lambda_l2': 0.19383461533038485}. Best is trial 88 with value: 235.1812005889211.\n"
     ]
    },
    {
     "name": "stdout",
     "output_type": "stream",
     "text": [
      "\n",
      "Training until validation scores don't improve for 100 rounds\n",
      "[500]\ttrain's l1: 208.153\tvalid's l1: 240.902\n",
      "[1000]\ttrain's l1: 178.864\tvalid's l1: 237.678\n",
      "Early stopping, best iteration is:\n",
      "[1225]\ttrain's l1: 169.847\tvalid's l1: 237.245\n"
     ]
    },
    {
     "name": "stderr",
     "output_type": "stream",
     "text": [
      "[I 2024-04-28 12:01:36,574] Trial 94 finished with value: 237.24499151054619 and parameters: {'num_leaves': 152, 'min_data_in_leaf': 13, 'max_bin': 344, 'bagging_fraction': 0.8506323296146138, 'feature_fraction': 0.5793386868815859, 'min_gain_to_split': 0.3331585084205676, 'lambda_l1': 0.11524961242562087, 'lambda_l2': 0.08432308178274438}. Best is trial 88 with value: 235.1812005889211.\n"
     ]
    },
    {
     "name": "stdout",
     "output_type": "stream",
     "text": [
      "\n",
      "Training until validation scores don't improve for 100 rounds\n",
      "[500]\ttrain's l1: 215.479\tvalid's l1: 240.921\n",
      "[1000]\ttrain's l1: 186.811\tvalid's l1: 238.009\n",
      "[1500]\ttrain's l1: 170.022\tvalid's l1: 237.098\n",
      "[2000]\ttrain's l1: 158.195\tvalid's l1: 236.578\n",
      "Early stopping, best iteration is:\n",
      "[2081]\ttrain's l1: 156.542\tvalid's l1: 236.484\n"
     ]
    },
    {
     "name": "stderr",
     "output_type": "stream",
     "text": [
      "[I 2024-04-28 12:02:01,332] Trial 95 finished with value: 236.48444809925226 and parameters: {'num_leaves': 123, 'min_data_in_leaf': 11, 'max_bin': 318, 'bagging_fraction': 0.8148603365002697, 'feature_fraction': 0.5051076675703334, 'min_gain_to_split': 0.11460452031259222, 'lambda_l1': 0.07957166614534496, 'lambda_l2': 0.04145910642149966}. Best is trial 88 with value: 235.1812005889211.\n"
     ]
    },
    {
     "name": "stdout",
     "output_type": "stream",
     "text": [
      "\n",
      "Training until validation scores don't improve for 100 rounds\n",
      "[500]\ttrain's l1: 211.305\tvalid's l1: 239.988\n",
      "[1000]\ttrain's l1: 183.101\tvalid's l1: 237.094\n",
      "[1500]\ttrain's l1: 166.736\tvalid's l1: 236.3\n",
      "[2000]\ttrain's l1: 153.722\tvalid's l1: 235.871\n",
      "Early stopping, best iteration is:\n",
      "[2034]\ttrain's l1: 152.808\tvalid's l1: 235.84\n"
     ]
    },
    {
     "name": "stderr",
     "output_type": "stream",
     "text": [
      "[I 2024-04-28 12:02:27,830] Trial 96 finished with value: 235.840134574238 and parameters: {'num_leaves': 137, 'min_data_in_leaf': 14, 'max_bin': 353, 'bagging_fraction': 0.8392516831062601, 'feature_fraction': 0.5324436075690419, 'min_gain_to_split': 0.6525993756473674, 'lambda_l1': 0.2206323903945351, 'lambda_l2': 0.023164206198321994}. Best is trial 88 with value: 235.1812005889211.\n"
     ]
    },
    {
     "name": "stdout",
     "output_type": "stream",
     "text": [
      "\n",
      "Training until validation scores don't improve for 100 rounds\n",
      "[500]\ttrain's l1: 232.144\tvalid's l1: 242.41\n",
      "[1000]\ttrain's l1: 210.025\tvalid's l1: 238.546\n",
      "[1500]\ttrain's l1: 195.526\tvalid's l1: 237.147\n",
      "[2000]\ttrain's l1: 185.674\tvalid's l1: 236.578\n",
      "Early stopping, best iteration is:\n",
      "[2362]\ttrain's l1: 179.302\tvalid's l1: 236.328\n"
     ]
    },
    {
     "name": "stderr",
     "output_type": "stream",
     "text": [
      "[I 2024-04-28 12:02:45,838] Trial 97 finished with value: 236.32822042976062 and parameters: {'num_leaves': 68, 'min_data_in_leaf': 19, 'max_bin': 353, 'bagging_fraction': 0.8463259541301997, 'feature_fraction': 0.5326952734746041, 'min_gain_to_split': 0.6544886631621478, 'lambda_l1': 0.2609168420068563, 'lambda_l2': 0.022001215568491935}. Best is trial 88 with value: 235.1812005889211.\n"
     ]
    },
    {
     "name": "stdout",
     "output_type": "stream",
     "text": [
      "\n",
      "Training until validation scores don't improve for 100 rounds\n",
      "[500]\ttrain's l1: 204.428\tvalid's l1: 240.511\n",
      "[1000]\ttrain's l1: 174.742\tvalid's l1: 237.884\n",
      "[1500]\ttrain's l1: 158.057\tvalid's l1: 237.115\n",
      "[2000]\ttrain's l1: 146.26\tvalid's l1: 236.722\n",
      "Early stopping, best iteration is:\n",
      "[2223]\ttrain's l1: 141.226\tvalid's l1: 236.547\n"
     ]
    },
    {
     "name": "stderr",
     "output_type": "stream",
     "text": [
      "[I 2024-04-28 12:03:32,460] Trial 98 finished with value: 236.54701371419168 and parameters: {'num_leaves': 166, 'min_data_in_leaf': 14, 'max_bin': 304, 'bagging_fraction': 0.841516074407701, 'feature_fraction': 0.5539494712352055, 'min_gain_to_split': 0.2657624097505597, 'lambda_l1': 0.16795133833834708, 'lambda_l2': 0.07028602979057885}. Best is trial 88 with value: 235.1812005889211.\n"
     ]
    },
    {
     "name": "stdout",
     "output_type": "stream",
     "text": [
      "\n",
      "Training until validation scores don't improve for 100 rounds\n",
      "[500]\ttrain's l1: 207.37\tvalid's l1: 239.861\n",
      "[1000]\ttrain's l1: 177.132\tvalid's l1: 237.52\n",
      "Early stopping, best iteration is:\n",
      "[1199]\ttrain's l1: 168.39\tvalid's l1: 237.118\n"
     ]
    },
    {
     "name": "stderr",
     "output_type": "stream",
     "text": [
      "[I 2024-04-28 12:03:52,488] Trial 99 finished with value: 237.1183874453523 and parameters: {'num_leaves': 157, 'min_data_in_leaf': 12, 'max_bin': 347, 'bagging_fraction': 0.8635963373373013, 'feature_fraction': 0.4604381815520106, 'min_gain_to_split': 0.3983718321808707, 'lambda_l1': 0.22343609310549215, 'lambda_l2': 0.018094510357437997}. Best is trial 88 with value: 235.1812005889211.\n"
     ]
    },
    {
     "name": "stdout",
     "output_type": "stream",
     "text": [
      "\n"
     ]
    }
   ],
   "source": [
    "study = optuna.create_study(sampler=optuna.samplers.TPESampler(seed=0), direction='minimize')\n",
    "study.optimize(objective, n_trials=100)"
   ]
  },
  {
   "cell_type": "markdown",
   "metadata": {},
   "source": [
    "最適化が終わると、結果を確認できる。今回のベストなパラメタは下記の通り。"
   ]
  },
  {
   "cell_type": "code",
   "execution_count": 10,
   "metadata": {},
   "outputs": [
    {
     "name": "stdout",
     "output_type": "stream",
     "text": [
      "trial 88\n",
      "MAE bset: 235.18\n"
     ]
    },
    {
     "data": {
      "text/plain": [
       "{'num_leaves': 150,\n",
       " 'min_data_in_leaf': 11,\n",
       " 'max_bin': 324,\n",
       " 'bagging_fraction': 0.8001089777481872,\n",
       " 'feature_fraction': 0.4906756575950541,\n",
       " 'min_gain_to_split': 0.3115313146716406,\n",
       " 'lambda_l1': 0.11413245198498384,\n",
       " 'lambda_l2': 0.08290927701801915}"
      ]
     },
     "metadata": {},
     "output_type": "display_data"
    }
   ],
   "source": [
    "# 最適化の結果確認\n",
    "trial = study.best_trial\n",
    "print(f'trial {trial.number}')\n",
    "print('MAE bset: %.2f'% trial.value)\n",
    "display(trial.params)"
   ]
  },
  {
   "cell_type": "markdown",
   "metadata": {},
   "source": [
    "ベースのパラメタの設定に対して、最適化した項目についてはベストなパラメタ設定値で更新する。"
   ]
  },
  {
   "cell_type": "code",
   "execution_count": 11,
   "metadata": {},
   "outputs": [
    {
     "data": {
      "text/plain": [
       "{'num_leaves': 150,\n",
       " 'min_data_in_leaf': 11,\n",
       " 'max_bin': 324,\n",
       " 'bagging_fraction': 0.8001089777481872,\n",
       " 'feature_fraction': 0.4906756575950541,\n",
       " 'min_gain_to_split': 0.3115313146716406,\n",
       " 'lambda_l1': 0.11413245198498384,\n",
       " 'lambda_l2': 0.08290927701801915,\n",
       " 'objective': 'mae',\n",
       " 'random_seed': 1234,\n",
       " 'learning_rate': 0.02,\n",
       " 'min_data_in_bin': 3,\n",
       " 'bagging_freq': 1,\n",
       " 'bagging_seed': 0,\n",
       " 'verbose': -1}"
      ]
     },
     "metadata": {},
     "output_type": "display_data"
    }
   ],
   "source": [
    "# 最適化ハイパーパラメータの設定\n",
    "params_best = trial.params\n",
    "params_best.update(params_base)\n",
    "display(params_best)"
   ]
  },
  {
   "cell_type": "markdown",
   "metadata": {},
   "source": [
    "変数の重要度ではなく、パラメタの重要を確認することもできる。"
   ]
  },
  {
   "cell_type": "code",
   "execution_count": 12,
   "metadata": {},
   "outputs": [
    {
     "data": {
      "application/vnd.plotly.v1+json": {
       "config": {
        "plotlyServerURL": "https://plot.ly"
       },
       "data": [
        {
         "cliponaxis": false,
         "hovertemplate": [
          "min_gain_to_split (FloatDistribution): 0.06833986911137825<extra></extra>",
          "lambda_l2 (FloatDistribution): 0.0806269725410543<extra></extra>",
          "lambda_l1 (FloatDistribution): 0.08333391567308561<extra></extra>",
          "num_leaves (IntDistribution): 0.10408547707271806<extra></extra>",
          "min_data_in_leaf (IntDistribution): 0.13400632083286904<extra></extra>",
          "bagging_fraction (FloatDistribution): 0.14537223776327513<extra></extra>",
          "feature_fraction (FloatDistribution): 0.16147492504546718<extra></extra>",
          "max_bin (IntDistribution): 0.2227602819601524<extra></extra>"
         ],
         "name": "Objective Value",
         "orientation": "h",
         "text": [
          "0.07",
          "0.08",
          "0.08",
          "0.10",
          "0.13",
          "0.15",
          "0.16",
          "0.22"
         ],
         "textposition": "outside",
         "type": "bar",
         "x": [
          0.06833986911137825,
          0.0806269725410543,
          0.08333391567308561,
          0.10408547707271806,
          0.13400632083286904,
          0.14537223776327513,
          0.16147492504546718,
          0.2227602819601524
         ],
         "y": [
          "min_gain_to_split",
          "lambda_l2",
          "lambda_l1",
          "num_leaves",
          "min_data_in_leaf",
          "bagging_fraction",
          "feature_fraction",
          "max_bin"
         ]
        }
       ],
       "layout": {
        "template": {
         "data": {
          "bar": [
           {
            "error_x": {
             "color": "#2a3f5f"
            },
            "error_y": {
             "color": "#2a3f5f"
            },
            "marker": {
             "line": {
              "color": "#E5ECF6",
              "width": 0.5
             },
             "pattern": {
              "fillmode": "overlay",
              "size": 10,
              "solidity": 0.2
             }
            },
            "type": "bar"
           }
          ],
          "barpolar": [
           {
            "marker": {
             "line": {
              "color": "#E5ECF6",
              "width": 0.5
             },
             "pattern": {
              "fillmode": "overlay",
              "size": 10,
              "solidity": 0.2
             }
            },
            "type": "barpolar"
           }
          ],
          "carpet": [
           {
            "aaxis": {
             "endlinecolor": "#2a3f5f",
             "gridcolor": "white",
             "linecolor": "white",
             "minorgridcolor": "white",
             "startlinecolor": "#2a3f5f"
            },
            "baxis": {
             "endlinecolor": "#2a3f5f",
             "gridcolor": "white",
             "linecolor": "white",
             "minorgridcolor": "white",
             "startlinecolor": "#2a3f5f"
            },
            "type": "carpet"
           }
          ],
          "choropleth": [
           {
            "colorbar": {
             "outlinewidth": 0,
             "ticks": ""
            },
            "type": "choropleth"
           }
          ],
          "contour": [
           {
            "colorbar": {
             "outlinewidth": 0,
             "ticks": ""
            },
            "colorscale": [
             [
              0,
              "#0d0887"
             ],
             [
              0.1111111111111111,
              "#46039f"
             ],
             [
              0.2222222222222222,
              "#7201a8"
             ],
             [
              0.3333333333333333,
              "#9c179e"
             ],
             [
              0.4444444444444444,
              "#bd3786"
             ],
             [
              0.5555555555555556,
              "#d8576b"
             ],
             [
              0.6666666666666666,
              "#ed7953"
             ],
             [
              0.7777777777777778,
              "#fb9f3a"
             ],
             [
              0.8888888888888888,
              "#fdca26"
             ],
             [
              1,
              "#f0f921"
             ]
            ],
            "type": "contour"
           }
          ],
          "contourcarpet": [
           {
            "colorbar": {
             "outlinewidth": 0,
             "ticks": ""
            },
            "type": "contourcarpet"
           }
          ],
          "heatmap": [
           {
            "colorbar": {
             "outlinewidth": 0,
             "ticks": ""
            },
            "colorscale": [
             [
              0,
              "#0d0887"
             ],
             [
              0.1111111111111111,
              "#46039f"
             ],
             [
              0.2222222222222222,
              "#7201a8"
             ],
             [
              0.3333333333333333,
              "#9c179e"
             ],
             [
              0.4444444444444444,
              "#bd3786"
             ],
             [
              0.5555555555555556,
              "#d8576b"
             ],
             [
              0.6666666666666666,
              "#ed7953"
             ],
             [
              0.7777777777777778,
              "#fb9f3a"
             ],
             [
              0.8888888888888888,
              "#fdca26"
             ],
             [
              1,
              "#f0f921"
             ]
            ],
            "type": "heatmap"
           }
          ],
          "heatmapgl": [
           {
            "colorbar": {
             "outlinewidth": 0,
             "ticks": ""
            },
            "colorscale": [
             [
              0,
              "#0d0887"
             ],
             [
              0.1111111111111111,
              "#46039f"
             ],
             [
              0.2222222222222222,
              "#7201a8"
             ],
             [
              0.3333333333333333,
              "#9c179e"
             ],
             [
              0.4444444444444444,
              "#bd3786"
             ],
             [
              0.5555555555555556,
              "#d8576b"
             ],
             [
              0.6666666666666666,
              "#ed7953"
             ],
             [
              0.7777777777777778,
              "#fb9f3a"
             ],
             [
              0.8888888888888888,
              "#fdca26"
             ],
             [
              1,
              "#f0f921"
             ]
            ],
            "type": "heatmapgl"
           }
          ],
          "histogram": [
           {
            "marker": {
             "pattern": {
              "fillmode": "overlay",
              "size": 10,
              "solidity": 0.2
             }
            },
            "type": "histogram"
           }
          ],
          "histogram2d": [
           {
            "colorbar": {
             "outlinewidth": 0,
             "ticks": ""
            },
            "colorscale": [
             [
              0,
              "#0d0887"
             ],
             [
              0.1111111111111111,
              "#46039f"
             ],
             [
              0.2222222222222222,
              "#7201a8"
             ],
             [
              0.3333333333333333,
              "#9c179e"
             ],
             [
              0.4444444444444444,
              "#bd3786"
             ],
             [
              0.5555555555555556,
              "#d8576b"
             ],
             [
              0.6666666666666666,
              "#ed7953"
             ],
             [
              0.7777777777777778,
              "#fb9f3a"
             ],
             [
              0.8888888888888888,
              "#fdca26"
             ],
             [
              1,
              "#f0f921"
             ]
            ],
            "type": "histogram2d"
           }
          ],
          "histogram2dcontour": [
           {
            "colorbar": {
             "outlinewidth": 0,
             "ticks": ""
            },
            "colorscale": [
             [
              0,
              "#0d0887"
             ],
             [
              0.1111111111111111,
              "#46039f"
             ],
             [
              0.2222222222222222,
              "#7201a8"
             ],
             [
              0.3333333333333333,
              "#9c179e"
             ],
             [
              0.4444444444444444,
              "#bd3786"
             ],
             [
              0.5555555555555556,
              "#d8576b"
             ],
             [
              0.6666666666666666,
              "#ed7953"
             ],
             [
              0.7777777777777778,
              "#fb9f3a"
             ],
             [
              0.8888888888888888,
              "#fdca26"
             ],
             [
              1,
              "#f0f921"
             ]
            ],
            "type": "histogram2dcontour"
           }
          ],
          "mesh3d": [
           {
            "colorbar": {
             "outlinewidth": 0,
             "ticks": ""
            },
            "type": "mesh3d"
           }
          ],
          "parcoords": [
           {
            "line": {
             "colorbar": {
              "outlinewidth": 0,
              "ticks": ""
             }
            },
            "type": "parcoords"
           }
          ],
          "pie": [
           {
            "automargin": true,
            "type": "pie"
           }
          ],
          "scatter": [
           {
            "fillpattern": {
             "fillmode": "overlay",
             "size": 10,
             "solidity": 0.2
            },
            "type": "scatter"
           }
          ],
          "scatter3d": [
           {
            "line": {
             "colorbar": {
              "outlinewidth": 0,
              "ticks": ""
             }
            },
            "marker": {
             "colorbar": {
              "outlinewidth": 0,
              "ticks": ""
             }
            },
            "type": "scatter3d"
           }
          ],
          "scattercarpet": [
           {
            "marker": {
             "colorbar": {
              "outlinewidth": 0,
              "ticks": ""
             }
            },
            "type": "scattercarpet"
           }
          ],
          "scattergeo": [
           {
            "marker": {
             "colorbar": {
              "outlinewidth": 0,
              "ticks": ""
             }
            },
            "type": "scattergeo"
           }
          ],
          "scattergl": [
           {
            "marker": {
             "colorbar": {
              "outlinewidth": 0,
              "ticks": ""
             }
            },
            "type": "scattergl"
           }
          ],
          "scattermapbox": [
           {
            "marker": {
             "colorbar": {
              "outlinewidth": 0,
              "ticks": ""
             }
            },
            "type": "scattermapbox"
           }
          ],
          "scatterpolar": [
           {
            "marker": {
             "colorbar": {
              "outlinewidth": 0,
              "ticks": ""
             }
            },
            "type": "scatterpolar"
           }
          ],
          "scatterpolargl": [
           {
            "marker": {
             "colorbar": {
              "outlinewidth": 0,
              "ticks": ""
             }
            },
            "type": "scatterpolargl"
           }
          ],
          "scatterternary": [
           {
            "marker": {
             "colorbar": {
              "outlinewidth": 0,
              "ticks": ""
             }
            },
            "type": "scatterternary"
           }
          ],
          "surface": [
           {
            "colorbar": {
             "outlinewidth": 0,
             "ticks": ""
            },
            "colorscale": [
             [
              0,
              "#0d0887"
             ],
             [
              0.1111111111111111,
              "#46039f"
             ],
             [
              0.2222222222222222,
              "#7201a8"
             ],
             [
              0.3333333333333333,
              "#9c179e"
             ],
             [
              0.4444444444444444,
              "#bd3786"
             ],
             [
              0.5555555555555556,
              "#d8576b"
             ],
             [
              0.6666666666666666,
              "#ed7953"
             ],
             [
              0.7777777777777778,
              "#fb9f3a"
             ],
             [
              0.8888888888888888,
              "#fdca26"
             ],
             [
              1,
              "#f0f921"
             ]
            ],
            "type": "surface"
           }
          ],
          "table": [
           {
            "cells": {
             "fill": {
              "color": "#EBF0F8"
             },
             "line": {
              "color": "white"
             }
            },
            "header": {
             "fill": {
              "color": "#C8D4E3"
             },
             "line": {
              "color": "white"
             }
            },
            "type": "table"
           }
          ]
         },
         "layout": {
          "annotationdefaults": {
           "arrowcolor": "#2a3f5f",
           "arrowhead": 0,
           "arrowwidth": 1
          },
          "autotypenumbers": "strict",
          "coloraxis": {
           "colorbar": {
            "outlinewidth": 0,
            "ticks": ""
           }
          },
          "colorscale": {
           "diverging": [
            [
             0,
             "#8e0152"
            ],
            [
             0.1,
             "#c51b7d"
            ],
            [
             0.2,
             "#de77ae"
            ],
            [
             0.3,
             "#f1b6da"
            ],
            [
             0.4,
             "#fde0ef"
            ],
            [
             0.5,
             "#f7f7f7"
            ],
            [
             0.6,
             "#e6f5d0"
            ],
            [
             0.7,
             "#b8e186"
            ],
            [
             0.8,
             "#7fbc41"
            ],
            [
             0.9,
             "#4d9221"
            ],
            [
             1,
             "#276419"
            ]
           ],
           "sequential": [
            [
             0,
             "#0d0887"
            ],
            [
             0.1111111111111111,
             "#46039f"
            ],
            [
             0.2222222222222222,
             "#7201a8"
            ],
            [
             0.3333333333333333,
             "#9c179e"
            ],
            [
             0.4444444444444444,
             "#bd3786"
            ],
            [
             0.5555555555555556,
             "#d8576b"
            ],
            [
             0.6666666666666666,
             "#ed7953"
            ],
            [
             0.7777777777777778,
             "#fb9f3a"
            ],
            [
             0.8888888888888888,
             "#fdca26"
            ],
            [
             1,
             "#f0f921"
            ]
           ],
           "sequentialminus": [
            [
             0,
             "#0d0887"
            ],
            [
             0.1111111111111111,
             "#46039f"
            ],
            [
             0.2222222222222222,
             "#7201a8"
            ],
            [
             0.3333333333333333,
             "#9c179e"
            ],
            [
             0.4444444444444444,
             "#bd3786"
            ],
            [
             0.5555555555555556,
             "#d8576b"
            ],
            [
             0.6666666666666666,
             "#ed7953"
            ],
            [
             0.7777777777777778,
             "#fb9f3a"
            ],
            [
             0.8888888888888888,
             "#fdca26"
            ],
            [
             1,
             "#f0f921"
            ]
           ]
          },
          "colorway": [
           "#636efa",
           "#EF553B",
           "#00cc96",
           "#ab63fa",
           "#FFA15A",
           "#19d3f3",
           "#FF6692",
           "#B6E880",
           "#FF97FF",
           "#FECB52"
          ],
          "font": {
           "color": "#2a3f5f"
          },
          "geo": {
           "bgcolor": "white",
           "lakecolor": "white",
           "landcolor": "#E5ECF6",
           "showlakes": true,
           "showland": true,
           "subunitcolor": "white"
          },
          "hoverlabel": {
           "align": "left"
          },
          "hovermode": "closest",
          "mapbox": {
           "style": "light"
          },
          "paper_bgcolor": "white",
          "plot_bgcolor": "#E5ECF6",
          "polar": {
           "angularaxis": {
            "gridcolor": "white",
            "linecolor": "white",
            "ticks": ""
           },
           "bgcolor": "#E5ECF6",
           "radialaxis": {
            "gridcolor": "white",
            "linecolor": "white",
            "ticks": ""
           }
          },
          "scene": {
           "xaxis": {
            "backgroundcolor": "#E5ECF6",
            "gridcolor": "white",
            "gridwidth": 2,
            "linecolor": "white",
            "showbackground": true,
            "ticks": "",
            "zerolinecolor": "white"
           },
           "yaxis": {
            "backgroundcolor": "#E5ECF6",
            "gridcolor": "white",
            "gridwidth": 2,
            "linecolor": "white",
            "showbackground": true,
            "ticks": "",
            "zerolinecolor": "white"
           },
           "zaxis": {
            "backgroundcolor": "#E5ECF6",
            "gridcolor": "white",
            "gridwidth": 2,
            "linecolor": "white",
            "showbackground": true,
            "ticks": "",
            "zerolinecolor": "white"
           }
          },
          "shapedefaults": {
           "line": {
            "color": "#2a3f5f"
           }
          },
          "ternary": {
           "aaxis": {
            "gridcolor": "white",
            "linecolor": "white",
            "ticks": ""
           },
           "baxis": {
            "gridcolor": "white",
            "linecolor": "white",
            "ticks": ""
           },
           "bgcolor": "#E5ECF6",
           "caxis": {
            "gridcolor": "white",
            "linecolor": "white",
            "ticks": ""
           }
          },
          "title": {
           "x": 0.05
          },
          "xaxis": {
           "automargin": true,
           "gridcolor": "white",
           "linecolor": "white",
           "ticks": "",
           "title": {
            "standoff": 15
           },
           "zerolinecolor": "white",
           "zerolinewidth": 2
          },
          "yaxis": {
           "automargin": true,
           "gridcolor": "white",
           "linecolor": "white",
           "ticks": "",
           "title": {
            "standoff": 15
           },
           "zerolinecolor": "white",
           "zerolinewidth": 2
          }
         }
        },
        "title": {
         "text": "Hyperparameter Importances"
        },
        "xaxis": {
         "title": {
          "text": "Hyperparameter Importance"
         }
        },
        "yaxis": {
         "title": {
          "text": "Hyperparameter"
         }
        }
       }
      }
     },
     "metadata": {},
     "output_type": "display_data"
    }
   ],
   "source": [
    "optuna.visualization.plot_param_importances(study).show()"
   ]
  },
  {
   "cell_type": "markdown",
   "metadata": {},
   "source": [
    "他にもハイパーパラメタ間の関係性を可視化できる。横軸は探索範囲、色の濃さは試行回数が増えると濃くなる。"
   ]
  },
  {
   "cell_type": "code",
   "execution_count": 13,
   "metadata": {},
   "outputs": [
    {
     "data": {
      "application/vnd.plotly.v1+json": {
       "config": {
        "plotlyServerURL": "https://plot.ly"
       },
       "data": [
        {
         "marker": {
          "color": [
           0,
           1,
           2,
           3,
           4,
           5,
           6,
           7,
           8,
           9,
           10,
           11,
           12,
           13,
           14,
           15,
           16,
           17,
           18,
           19,
           20,
           21,
           22,
           23,
           24,
           25,
           26,
           27,
           28,
           29,
           30,
           31,
           32,
           33,
           34,
           35,
           36,
           37,
           38,
           39,
           40,
           41,
           42,
           43,
           44,
           45,
           46,
           47,
           48,
           49,
           50,
           51,
           52,
           53,
           54,
           55,
           56,
           57,
           58,
           59,
           60,
           61,
           62,
           63,
           64,
           65,
           66,
           67,
           68,
           69,
           70,
           71,
           72,
           73,
           74,
           75,
           76,
           77,
           78,
           79,
           80,
           81,
           82,
           83,
           84,
           85,
           86,
           87,
           88,
           89,
           90,
           91,
           92,
           93,
           94,
           95,
           96,
           97,
           98,
           99
          ],
          "colorbar": {
           "title": {
            "text": "Trial"
           },
           "x": 1,
           "xpad": 40
          },
          "colorscale": [
           [
            0,
            "rgb(247,251,255)"
           ],
           [
            0.125,
            "rgb(222,235,247)"
           ],
           [
            0.25,
            "rgb(198,219,239)"
           ],
           [
            0.375,
            "rgb(158,202,225)"
           ],
           [
            0.5,
            "rgb(107,174,214)"
           ],
           [
            0.625,
            "rgb(66,146,198)"
           ],
           [
            0.75,
            "rgb(33,113,181)"
           ],
           [
            0.875,
            "rgb(8,81,156)"
           ],
           [
            1,
            "rgb(8,48,107)"
           ]
          ],
          "line": {
           "color": "Grey",
           "width": 0.5
          },
          "showscale": true
         },
         "mode": "markers",
         "name": "Feasible Trial",
         "showlegend": false,
         "type": "scatter",
         "x": [
          321,
          359,
          356,
          228,
          203,
          340,
          314,
          293,
          365,
          348,
          391,
          390,
          268,
          368,
          286,
          273,
          257,
          299,
          327,
          243,
          288,
          372,
          370,
          335,
          310,
          351,
          396,
          284,
          307,
          333,
          326,
          361,
          381,
          345,
          360,
          336,
          382,
          211,
          320,
          353,
          330,
          362,
          380,
          342,
          366,
          356,
          345,
          319,
          274,
          304,
          399,
          362,
          370,
          375,
          385,
          360,
          253,
          251,
          250,
          236,
          259,
          263,
          230,
          249,
          275,
          261,
          291,
          218,
          282,
          251,
          286,
          281,
          299,
          258,
          245,
          279,
          268,
          268,
          239,
          296,
          314,
          337,
          255,
          350,
          332,
          350,
          339,
          263,
          324,
          311,
          228,
          329,
          323,
          335,
          344,
          318,
          353,
          353,
          304,
          347
         ],
         "xaxis": "x",
         "y": [
          237.90199720387386,
          236.04279778272314,
          237.87415843340005,
          237.91809022881404,
          236.7510295842597,
          236.49481946813438,
          237.43096630921642,
          236.66095885435365,
          235.65561745916793,
          236.4888765017299,
          236.77849591524506,
          236.50540680707786,
          237.34724962024052,
          237.75555983103507,
          235.99617473006344,
          237.18704395824466,
          236.4820488569499,
          236.4701264457281,
          236.85148461517295,
          236.60864054791233,
          238.15495271607296,
          236.6801151964905,
          237.2730166445701,
          236.810507183064,
          236.20389791209124,
          236.2166087586728,
          237.35786933287127,
          236.21812800460395,
          236.79318388963026,
          235.91365692467656,
          236.24099793606888,
          236.12966074472928,
          236.57804227065375,
          236.75851917591896,
          237.3457700924357,
          236.74068014688683,
          237.24219833357563,
          236.79478392299725,
          238.52189009015945,
          237.31566400891148,
          237.2317184620627,
          236.10896450223308,
          237.04302947277068,
          237.04647016885679,
          236.96612032746637,
          237.4876968643942,
          237.00333114296885,
          236.3540342359435,
          237.01839284912856,
          237.630250004464,
          236.32651546816084,
          236.41500734905017,
          237.2853255542685,
          237.07240084075917,
          237.43762566521502,
          236.04693350776992,
          235.83956056914454,
          235.26450316640677,
          236.43120937182283,
          237.37379262714845,
          235.92476845969637,
          236.93270262654804,
          238.740588665897,
          236.18974468468562,
          237.69932225334747,
          237.08549236449812,
          236.69797562428033,
          236.4458663979148,
          235.77089982084365,
          237.4442272720875,
          236.85215098857583,
          236.6642942984755,
          237.71810246752358,
          237.1971193981631,
          237.1967512328077,
          236.79768473080932,
          237.73769272084238,
          236.52213102705804,
          238.1793115605022,
          236.53875851685086,
          236.64125720161053,
          236.0308612432883,
          236.97502598813097,
          235.74599683864116,
          237.0151878330228,
          236.56941558020563,
          236.60182710648445,
          236.6854380634196,
          235.1812005889211,
          237.17425112177176,
          237.75222018604322,
          237.03181596004399,
          236.1160039573513,
          236.32156329513936,
          237.24499151054619,
          236.48444809925226,
          235.840134574238,
          236.32822042976062,
          236.54701371419168,
          237.1183874453523
         ],
         "yaxis": "y"
        },
        {
         "marker": {
          "color": [
           0,
           1,
           2,
           3,
           4,
           5,
           6,
           7,
           8,
           9,
           10,
           11,
           12,
           13,
           14,
           15,
           16,
           17,
           18,
           19,
           20,
           21,
           22,
           23,
           24,
           25,
           26,
           27,
           28,
           29,
           30,
           31,
           32,
           33,
           34,
           35,
           36,
           37,
           38,
           39,
           40,
           41,
           42,
           43,
           44,
           45,
           46,
           47,
           48,
           49,
           50,
           51,
           52,
           53,
           54,
           55,
           56,
           57,
           58,
           59,
           60,
           61,
           62,
           63,
           64,
           65,
           66,
           67,
           68,
           69,
           70,
           71,
           72,
           73,
           74,
           75,
           76,
           77,
           78,
           79,
           80,
           81,
           82,
           83,
           84,
           85,
           86,
           87,
           88,
           89,
           90,
           91,
           92,
           93,
           94,
           95,
           96,
           97,
           98,
           99
          ],
          "colorbar": {
           "title": {
            "text": "Trial"
           },
           "x": 1,
           "xpad": 40
          },
          "colorscale": [
           [
            0,
            "rgb(247,251,255)"
           ],
           [
            0.125,
            "rgb(222,235,247)"
           ],
           [
            0.25,
            "rgb(198,219,239)"
           ],
           [
            0.375,
            "rgb(158,202,225)"
           ],
           [
            0.5,
            "rgb(107,174,214)"
           ],
           [
            0.625,
            "rgb(66,146,198)"
           ],
           [
            0.75,
            "rgb(33,113,181)"
           ],
           [
            0.875,
            "rgb(8,81,156)"
           ],
           [
            1,
            "rgb(8,48,107)"
           ]
          ],
          "line": {
           "color": "Grey",
           "width": 0.5
          },
          "showscale": false
         },
         "mode": "markers",
         "name": "Feasible Trial",
         "showlegend": false,
         "type": "scatter",
         "x": [
          22,
          13,
          26,
          20,
          18,
          14,
          12,
          9,
          12,
          19,
          3,
          7,
          11,
          5,
          16,
          16,
          25,
          16,
          29,
          9,
          22,
          13,
          15,
          10,
          7,
          18,
          13,
          2,
          16,
          21,
          23,
          18,
          21,
          24,
          27,
          20,
          14,
          17,
          14,
          11,
          20,
          18,
          12,
          19,
          8,
          17,
          15,
          22,
          11,
          5,
          20,
          18,
          18,
          15,
          17,
          13,
          13,
          13,
          10,
          12,
          14,
          13,
          14,
          10,
          12,
          15,
          11,
          9,
          16,
          16,
          13,
          14,
          15,
          16,
          12,
          29,
          14,
          17,
          13,
          27,
          15,
          10,
          8,
          11,
          10,
          6,
          9,
          12,
          11,
          11,
          16,
          11,
          10,
          8,
          13,
          11,
          14,
          19,
          14,
          12
         ],
         "xaxis": "x2",
         "y": [
          237.90199720387386,
          236.04279778272314,
          237.87415843340005,
          237.91809022881404,
          236.7510295842597,
          236.49481946813438,
          237.43096630921642,
          236.66095885435365,
          235.65561745916793,
          236.4888765017299,
          236.77849591524506,
          236.50540680707786,
          237.34724962024052,
          237.75555983103507,
          235.99617473006344,
          237.18704395824466,
          236.4820488569499,
          236.4701264457281,
          236.85148461517295,
          236.60864054791233,
          238.15495271607296,
          236.6801151964905,
          237.2730166445701,
          236.810507183064,
          236.20389791209124,
          236.2166087586728,
          237.35786933287127,
          236.21812800460395,
          236.79318388963026,
          235.91365692467656,
          236.24099793606888,
          236.12966074472928,
          236.57804227065375,
          236.75851917591896,
          237.3457700924357,
          236.74068014688683,
          237.24219833357563,
          236.79478392299725,
          238.52189009015945,
          237.31566400891148,
          237.2317184620627,
          236.10896450223308,
          237.04302947277068,
          237.04647016885679,
          236.96612032746637,
          237.4876968643942,
          237.00333114296885,
          236.3540342359435,
          237.01839284912856,
          237.630250004464,
          236.32651546816084,
          236.41500734905017,
          237.2853255542685,
          237.07240084075917,
          237.43762566521502,
          236.04693350776992,
          235.83956056914454,
          235.26450316640677,
          236.43120937182283,
          237.37379262714845,
          235.92476845969637,
          236.93270262654804,
          238.740588665897,
          236.18974468468562,
          237.69932225334747,
          237.08549236449812,
          236.69797562428033,
          236.4458663979148,
          235.77089982084365,
          237.4442272720875,
          236.85215098857583,
          236.6642942984755,
          237.71810246752358,
          237.1971193981631,
          237.1967512328077,
          236.79768473080932,
          237.73769272084238,
          236.52213102705804,
          238.1793115605022,
          236.53875851685086,
          236.64125720161053,
          236.0308612432883,
          236.97502598813097,
          235.74599683864116,
          237.0151878330228,
          236.56941558020563,
          236.60182710648445,
          236.6854380634196,
          235.1812005889211,
          237.17425112177176,
          237.75222018604322,
          237.03181596004399,
          236.1160039573513,
          236.32156329513936,
          237.24499151054619,
          236.48444809925226,
          235.840134574238,
          236.32822042976062,
          236.54701371419168,
          237.1183874453523
         ],
         "yaxis": "y2"
        },
        {
         "marker": {
          "color": [
           0,
           1,
           2,
           3,
           4,
           5,
           6,
           7,
           8,
           9,
           10,
           11,
           12,
           13,
           14,
           15,
           16,
           17,
           18,
           19,
           20,
           21,
           22,
           23,
           24,
           25,
           26,
           27,
           28,
           29,
           30,
           31,
           32,
           33,
           34,
           35,
           36,
           37,
           38,
           39,
           40,
           41,
           42,
           43,
           44,
           45,
           46,
           47,
           48,
           49,
           50,
           51,
           52,
           53,
           54,
           55,
           56,
           57,
           58,
           59,
           60,
           61,
           62,
           63,
           64,
           65,
           66,
           67,
           68,
           69,
           70,
           71,
           72,
           73,
           74,
           75,
           76,
           77,
           78,
           79,
           80,
           81,
           82,
           83,
           84,
           85,
           86,
           87,
           88,
           89,
           90,
           91,
           92,
           93,
           94,
           95,
           96,
           97,
           98,
           99
          ],
          "colorbar": {
           "title": {
            "text": "Trial"
           },
           "x": 1,
           "xpad": 40
          },
          "colorscale": [
           [
            0,
            "rgb(247,251,255)"
           ],
           [
            0.125,
            "rgb(222,235,247)"
           ],
           [
            0.25,
            "rgb(198,219,239)"
           ],
           [
            0.375,
            "rgb(158,202,225)"
           ],
           [
            0.5,
            "rgb(107,174,214)"
           ],
           [
            0.625,
            "rgb(66,146,198)"
           ],
           [
            0.75,
            "rgb(33,113,181)"
           ],
           [
            0.875,
            "rgb(8,81,156)"
           ],
           [
            1,
            "rgb(8,48,107)"
           ]
          ],
          "line": {
           "color": "Grey",
           "width": 0.5
          },
          "showscale": false
         },
         "mode": "markers",
         "name": "Feasible Trial",
         "showlegend": false,
         "type": "scatter",
         "x": [
          0.19578897201212997,
          0.70989362574059,
          0.3965675081771009,
          0.06750312521595925,
          0.17134364197119656,
          0.21941976179005757,
          0.015998881492631498,
          0.016624564693643644,
          0.015566709318481201,
          0.017393745944806985,
          0.05360980835049379,
          0.9049911227773816,
          0.0328616173682592,
          0.9388287242054529,
          0.42943856658548824,
          0.10373252221566119,
          0.3876262713636515,
          0.03101261064296623,
          0.10535752232713108,
          0.010560166273212131,
          0.4808699456639286,
          0.5666178688900945,
          0.6762782123011323,
          0.2898846225050468,
          0.28113262269594985,
          0.150014663749436,
          0.6957347211033131,
          0.042172835690966616,
          0.3151094309199207,
          0.07904360573731628,
          0.07710979563237344,
          0.0239789552545694,
          0.1256629425495207,
          0.222326782074729,
          0.010503479684929748,
          0.07010588258610989,
          0.4201189737018469,
          0.18773295182506497,
          0.05316584975763165,
          0.6885658481308785,
          0.024796397535378177,
          0.02135770281691728,
          0.013988056555222346,
          0.02386078105383538,
          0.018129364120422754,
          0.03892139099115998,
          0.0144034082586589,
          0.019062000723892178,
          0.08570536399508226,
          0.0578424258626578,
          0.827502472446221,
          0.024005463168462842,
          0.030247503568516604,
          0.012351985116541573,
          0.02060647183179166,
          0.5349915306904427,
          0.5418555335024524,
          0.530029042105932,
          0.374247218413021,
          0.9927509630709427,
          0.6014011467244147,
          0.5723597038069765,
          0.48424575821856264,
          0.35210780814723946,
          0.8309665267312248,
          0.6183581364369035,
          0.4497111494698698,
          0.24151183592353748,
          0.7988009356057066,
          0.8299604883723238,
          0.5026352241915127,
          0.6464215219628571,
          0.8050963000358874,
          0.7038820408730404,
          0.7428613744154082,
          0.1470073540261832,
          0.3365440206895263,
          0.4053561852562054,
          0.5893063030222384,
          0.2731134181719145,
          0.9264056808165818,
          0.5270151291859737,
          0.5151114034147517,
          0.4235937413915954,
          0.4147785229251452,
          0.4621229050353945,
          0.6149194135028393,
          0.75607094749864,
          0.3115313146716406,
          0.301384224797171,
          0.22937597684934857,
          0.367261844847426,
          0.5444604497611367,
          0.43827665161367646,
          0.3331585084205676,
          0.11460452031259222,
          0.6525993756473674,
          0.6544886631621478,
          0.2657624097505597,
          0.3983718321808707
         ],
         "xaxis": "x3",
         "y": [
          237.90199720387386,
          236.04279778272314,
          237.87415843340005,
          237.91809022881404,
          236.7510295842597,
          236.49481946813438,
          237.43096630921642,
          236.66095885435365,
          235.65561745916793,
          236.4888765017299,
          236.77849591524506,
          236.50540680707786,
          237.34724962024052,
          237.75555983103507,
          235.99617473006344,
          237.18704395824466,
          236.4820488569499,
          236.4701264457281,
          236.85148461517295,
          236.60864054791233,
          238.15495271607296,
          236.6801151964905,
          237.2730166445701,
          236.810507183064,
          236.20389791209124,
          236.2166087586728,
          237.35786933287127,
          236.21812800460395,
          236.79318388963026,
          235.91365692467656,
          236.24099793606888,
          236.12966074472928,
          236.57804227065375,
          236.75851917591896,
          237.3457700924357,
          236.74068014688683,
          237.24219833357563,
          236.79478392299725,
          238.52189009015945,
          237.31566400891148,
          237.2317184620627,
          236.10896450223308,
          237.04302947277068,
          237.04647016885679,
          236.96612032746637,
          237.4876968643942,
          237.00333114296885,
          236.3540342359435,
          237.01839284912856,
          237.630250004464,
          236.32651546816084,
          236.41500734905017,
          237.2853255542685,
          237.07240084075917,
          237.43762566521502,
          236.04693350776992,
          235.83956056914454,
          235.26450316640677,
          236.43120937182283,
          237.37379262714845,
          235.92476845969637,
          236.93270262654804,
          238.740588665897,
          236.18974468468562,
          237.69932225334747,
          237.08549236449812,
          236.69797562428033,
          236.4458663979148,
          235.77089982084365,
          237.4442272720875,
          236.85215098857583,
          236.6642942984755,
          237.71810246752358,
          237.1971193981631,
          237.1967512328077,
          236.79768473080932,
          237.73769272084238,
          236.52213102705804,
          238.1793115605022,
          236.53875851685086,
          236.64125720161053,
          236.0308612432883,
          236.97502598813097,
          235.74599683864116,
          237.0151878330228,
          236.56941558020563,
          236.60182710648445,
          236.6854380634196,
          235.1812005889211,
          237.17425112177176,
          237.75222018604322,
          237.03181596004399,
          236.1160039573513,
          236.32156329513936,
          237.24499151054619,
          236.48444809925226,
          235.840134574238,
          236.32822042976062,
          236.54701371419168,
          237.1183874453523
         ],
         "yaxis": "y3"
        },
        {
         "marker": {
          "color": [
           0,
           1,
           2,
           3,
           4,
           5,
           6,
           7,
           8,
           9,
           10,
           11,
           12,
           13,
           14,
           15,
           16,
           17,
           18,
           19,
           20,
           21,
           22,
           23,
           24,
           25,
           26,
           27,
           28,
           29,
           30,
           31,
           32,
           33,
           34,
           35,
           36,
           37,
           38,
           39,
           40,
           41,
           42,
           43,
           44,
           45,
           46,
           47,
           48,
           49,
           50,
           51,
           52,
           53,
           54,
           55,
           56,
           57,
           58,
           59,
           60,
           61,
           62,
           63,
           64,
           65,
           66,
           67,
           68,
           69,
           70,
           71,
           72,
           73,
           74,
           75,
           76,
           77,
           78,
           79,
           80,
           81,
           82,
           83,
           84,
           85,
           86,
           87,
           88,
           89,
           90,
           91,
           92,
           93,
           94,
           95,
           96,
           97,
           98,
           99
          ],
          "colorbar": {
           "title": {
            "text": "Trial"
           },
           "x": 1,
           "xpad": 40
          },
          "colorscale": [
           [
            0,
            "rgb(247,251,255)"
           ],
           [
            0.125,
            "rgb(222,235,247)"
           ],
           [
            0.25,
            "rgb(198,219,239)"
           ],
           [
            0.375,
            "rgb(158,202,225)"
           ],
           [
            0.5,
            "rgb(107,174,214)"
           ],
           [
            0.625,
            "rgb(66,146,198)"
           ],
           [
            0.75,
            "rgb(33,113,181)"
           ],
           [
            0.875,
            "rgb(8,81,156)"
           ],
           [
            1,
            "rgb(8,48,107)"
           ]
          ],
          "line": {
           "color": "Grey",
           "width": 0.5
          },
          "showscale": false
         },
         "mode": "markers",
         "name": "Feasible Trial",
         "showlegend": false,
         "type": "scatter",
         "x": [
          132,
          195,
          53,
          67,
          118,
          104,
          97,
          148,
          79,
          197,
          83,
          200,
          166,
          170,
          78,
          77,
          50,
          96,
          116,
          68,
          85,
          138,
          180,
          107,
          151,
          66,
          88,
          184,
          123,
          135,
          131,
          156,
          76,
          62,
          113,
          142,
          99,
          163,
          59,
          127,
          189,
          173,
          193,
          173,
          187,
          177,
          161,
          72,
          90,
          108,
          199,
          154,
          156,
          138,
          169,
          145,
          146,
          146,
          134,
          147,
          120,
          120,
          82,
          132,
          94,
          127,
          114,
          100,
          141,
          140,
          149,
          135,
          77,
          144,
          161,
          124,
          59,
          82,
          119,
          110,
          153,
          129,
          129,
          137,
          139,
          133,
          136,
          143,
          150,
          159,
          149,
          142,
          130,
          147,
          152,
          123,
          137,
          68,
          166,
          157
         ],
         "xaxis": "x4",
         "y": [
          237.90199720387386,
          236.04279778272314,
          237.87415843340005,
          237.91809022881404,
          236.7510295842597,
          236.49481946813438,
          237.43096630921642,
          236.66095885435365,
          235.65561745916793,
          236.4888765017299,
          236.77849591524506,
          236.50540680707786,
          237.34724962024052,
          237.75555983103507,
          235.99617473006344,
          237.18704395824466,
          236.4820488569499,
          236.4701264457281,
          236.85148461517295,
          236.60864054791233,
          238.15495271607296,
          236.6801151964905,
          237.2730166445701,
          236.810507183064,
          236.20389791209124,
          236.2166087586728,
          237.35786933287127,
          236.21812800460395,
          236.79318388963026,
          235.91365692467656,
          236.24099793606888,
          236.12966074472928,
          236.57804227065375,
          236.75851917591896,
          237.3457700924357,
          236.74068014688683,
          237.24219833357563,
          236.79478392299725,
          238.52189009015945,
          237.31566400891148,
          237.2317184620627,
          236.10896450223308,
          237.04302947277068,
          237.04647016885679,
          236.96612032746637,
          237.4876968643942,
          237.00333114296885,
          236.3540342359435,
          237.01839284912856,
          237.630250004464,
          236.32651546816084,
          236.41500734905017,
          237.2853255542685,
          237.07240084075917,
          237.43762566521502,
          236.04693350776992,
          235.83956056914454,
          235.26450316640677,
          236.43120937182283,
          237.37379262714845,
          235.92476845969637,
          236.93270262654804,
          238.740588665897,
          236.18974468468562,
          237.69932225334747,
          237.08549236449812,
          236.69797562428033,
          236.4458663979148,
          235.77089982084365,
          237.4442272720875,
          236.85215098857583,
          236.6642942984755,
          237.71810246752358,
          237.1971193981631,
          237.1967512328077,
          236.79768473080932,
          237.73769272084238,
          236.52213102705804,
          238.1793115605022,
          236.53875851685086,
          236.64125720161053,
          236.0308612432883,
          236.97502598813097,
          235.74599683864116,
          237.0151878330228,
          236.56941558020563,
          236.60182710648445,
          236.6854380634196,
          235.1812005889211,
          237.17425112177176,
          237.75222018604322,
          237.03181596004399,
          236.1160039573513,
          236.32156329513936,
          237.24499151054619,
          236.48444809925226,
          235.840134574238,
          236.32822042976062,
          236.54701371419168,
          237.1183874453523
         ],
         "yaxis": "y4"
        }
       ],
       "layout": {
        "template": {
         "data": {
          "bar": [
           {
            "error_x": {
             "color": "#2a3f5f"
            },
            "error_y": {
             "color": "#2a3f5f"
            },
            "marker": {
             "line": {
              "color": "#E5ECF6",
              "width": 0.5
             },
             "pattern": {
              "fillmode": "overlay",
              "size": 10,
              "solidity": 0.2
             }
            },
            "type": "bar"
           }
          ],
          "barpolar": [
           {
            "marker": {
             "line": {
              "color": "#E5ECF6",
              "width": 0.5
             },
             "pattern": {
              "fillmode": "overlay",
              "size": 10,
              "solidity": 0.2
             }
            },
            "type": "barpolar"
           }
          ],
          "carpet": [
           {
            "aaxis": {
             "endlinecolor": "#2a3f5f",
             "gridcolor": "white",
             "linecolor": "white",
             "minorgridcolor": "white",
             "startlinecolor": "#2a3f5f"
            },
            "baxis": {
             "endlinecolor": "#2a3f5f",
             "gridcolor": "white",
             "linecolor": "white",
             "minorgridcolor": "white",
             "startlinecolor": "#2a3f5f"
            },
            "type": "carpet"
           }
          ],
          "choropleth": [
           {
            "colorbar": {
             "outlinewidth": 0,
             "ticks": ""
            },
            "type": "choropleth"
           }
          ],
          "contour": [
           {
            "colorbar": {
             "outlinewidth": 0,
             "ticks": ""
            },
            "colorscale": [
             [
              0,
              "#0d0887"
             ],
             [
              0.1111111111111111,
              "#46039f"
             ],
             [
              0.2222222222222222,
              "#7201a8"
             ],
             [
              0.3333333333333333,
              "#9c179e"
             ],
             [
              0.4444444444444444,
              "#bd3786"
             ],
             [
              0.5555555555555556,
              "#d8576b"
             ],
             [
              0.6666666666666666,
              "#ed7953"
             ],
             [
              0.7777777777777778,
              "#fb9f3a"
             ],
             [
              0.8888888888888888,
              "#fdca26"
             ],
             [
              1,
              "#f0f921"
             ]
            ],
            "type": "contour"
           }
          ],
          "contourcarpet": [
           {
            "colorbar": {
             "outlinewidth": 0,
             "ticks": ""
            },
            "type": "contourcarpet"
           }
          ],
          "heatmap": [
           {
            "colorbar": {
             "outlinewidth": 0,
             "ticks": ""
            },
            "colorscale": [
             [
              0,
              "#0d0887"
             ],
             [
              0.1111111111111111,
              "#46039f"
             ],
             [
              0.2222222222222222,
              "#7201a8"
             ],
             [
              0.3333333333333333,
              "#9c179e"
             ],
             [
              0.4444444444444444,
              "#bd3786"
             ],
             [
              0.5555555555555556,
              "#d8576b"
             ],
             [
              0.6666666666666666,
              "#ed7953"
             ],
             [
              0.7777777777777778,
              "#fb9f3a"
             ],
             [
              0.8888888888888888,
              "#fdca26"
             ],
             [
              1,
              "#f0f921"
             ]
            ],
            "type": "heatmap"
           }
          ],
          "heatmapgl": [
           {
            "colorbar": {
             "outlinewidth": 0,
             "ticks": ""
            },
            "colorscale": [
             [
              0,
              "#0d0887"
             ],
             [
              0.1111111111111111,
              "#46039f"
             ],
             [
              0.2222222222222222,
              "#7201a8"
             ],
             [
              0.3333333333333333,
              "#9c179e"
             ],
             [
              0.4444444444444444,
              "#bd3786"
             ],
             [
              0.5555555555555556,
              "#d8576b"
             ],
             [
              0.6666666666666666,
              "#ed7953"
             ],
             [
              0.7777777777777778,
              "#fb9f3a"
             ],
             [
              0.8888888888888888,
              "#fdca26"
             ],
             [
              1,
              "#f0f921"
             ]
            ],
            "type": "heatmapgl"
           }
          ],
          "histogram": [
           {
            "marker": {
             "pattern": {
              "fillmode": "overlay",
              "size": 10,
              "solidity": 0.2
             }
            },
            "type": "histogram"
           }
          ],
          "histogram2d": [
           {
            "colorbar": {
             "outlinewidth": 0,
             "ticks": ""
            },
            "colorscale": [
             [
              0,
              "#0d0887"
             ],
             [
              0.1111111111111111,
              "#46039f"
             ],
             [
              0.2222222222222222,
              "#7201a8"
             ],
             [
              0.3333333333333333,
              "#9c179e"
             ],
             [
              0.4444444444444444,
              "#bd3786"
             ],
             [
              0.5555555555555556,
              "#d8576b"
             ],
             [
              0.6666666666666666,
              "#ed7953"
             ],
             [
              0.7777777777777778,
              "#fb9f3a"
             ],
             [
              0.8888888888888888,
              "#fdca26"
             ],
             [
              1,
              "#f0f921"
             ]
            ],
            "type": "histogram2d"
           }
          ],
          "histogram2dcontour": [
           {
            "colorbar": {
             "outlinewidth": 0,
             "ticks": ""
            },
            "colorscale": [
             [
              0,
              "#0d0887"
             ],
             [
              0.1111111111111111,
              "#46039f"
             ],
             [
              0.2222222222222222,
              "#7201a8"
             ],
             [
              0.3333333333333333,
              "#9c179e"
             ],
             [
              0.4444444444444444,
              "#bd3786"
             ],
             [
              0.5555555555555556,
              "#d8576b"
             ],
             [
              0.6666666666666666,
              "#ed7953"
             ],
             [
              0.7777777777777778,
              "#fb9f3a"
             ],
             [
              0.8888888888888888,
              "#fdca26"
             ],
             [
              1,
              "#f0f921"
             ]
            ],
            "type": "histogram2dcontour"
           }
          ],
          "mesh3d": [
           {
            "colorbar": {
             "outlinewidth": 0,
             "ticks": ""
            },
            "type": "mesh3d"
           }
          ],
          "parcoords": [
           {
            "line": {
             "colorbar": {
              "outlinewidth": 0,
              "ticks": ""
             }
            },
            "type": "parcoords"
           }
          ],
          "pie": [
           {
            "automargin": true,
            "type": "pie"
           }
          ],
          "scatter": [
           {
            "fillpattern": {
             "fillmode": "overlay",
             "size": 10,
             "solidity": 0.2
            },
            "type": "scatter"
           }
          ],
          "scatter3d": [
           {
            "line": {
             "colorbar": {
              "outlinewidth": 0,
              "ticks": ""
             }
            },
            "marker": {
             "colorbar": {
              "outlinewidth": 0,
              "ticks": ""
             }
            },
            "type": "scatter3d"
           }
          ],
          "scattercarpet": [
           {
            "marker": {
             "colorbar": {
              "outlinewidth": 0,
              "ticks": ""
             }
            },
            "type": "scattercarpet"
           }
          ],
          "scattergeo": [
           {
            "marker": {
             "colorbar": {
              "outlinewidth": 0,
              "ticks": ""
             }
            },
            "type": "scattergeo"
           }
          ],
          "scattergl": [
           {
            "marker": {
             "colorbar": {
              "outlinewidth": 0,
              "ticks": ""
             }
            },
            "type": "scattergl"
           }
          ],
          "scattermapbox": [
           {
            "marker": {
             "colorbar": {
              "outlinewidth": 0,
              "ticks": ""
             }
            },
            "type": "scattermapbox"
           }
          ],
          "scatterpolar": [
           {
            "marker": {
             "colorbar": {
              "outlinewidth": 0,
              "ticks": ""
             }
            },
            "type": "scatterpolar"
           }
          ],
          "scatterpolargl": [
           {
            "marker": {
             "colorbar": {
              "outlinewidth": 0,
              "ticks": ""
             }
            },
            "type": "scatterpolargl"
           }
          ],
          "scatterternary": [
           {
            "marker": {
             "colorbar": {
              "outlinewidth": 0,
              "ticks": ""
             }
            },
            "type": "scatterternary"
           }
          ],
          "surface": [
           {
            "colorbar": {
             "outlinewidth": 0,
             "ticks": ""
            },
            "colorscale": [
             [
              0,
              "#0d0887"
             ],
             [
              0.1111111111111111,
              "#46039f"
             ],
             [
              0.2222222222222222,
              "#7201a8"
             ],
             [
              0.3333333333333333,
              "#9c179e"
             ],
             [
              0.4444444444444444,
              "#bd3786"
             ],
             [
              0.5555555555555556,
              "#d8576b"
             ],
             [
              0.6666666666666666,
              "#ed7953"
             ],
             [
              0.7777777777777778,
              "#fb9f3a"
             ],
             [
              0.8888888888888888,
              "#fdca26"
             ],
             [
              1,
              "#f0f921"
             ]
            ],
            "type": "surface"
           }
          ],
          "table": [
           {
            "cells": {
             "fill": {
              "color": "#EBF0F8"
             },
             "line": {
              "color": "white"
             }
            },
            "header": {
             "fill": {
              "color": "#C8D4E3"
             },
             "line": {
              "color": "white"
             }
            },
            "type": "table"
           }
          ]
         },
         "layout": {
          "annotationdefaults": {
           "arrowcolor": "#2a3f5f",
           "arrowhead": 0,
           "arrowwidth": 1
          },
          "autotypenumbers": "strict",
          "coloraxis": {
           "colorbar": {
            "outlinewidth": 0,
            "ticks": ""
           }
          },
          "colorscale": {
           "diverging": [
            [
             0,
             "#8e0152"
            ],
            [
             0.1,
             "#c51b7d"
            ],
            [
             0.2,
             "#de77ae"
            ],
            [
             0.3,
             "#f1b6da"
            ],
            [
             0.4,
             "#fde0ef"
            ],
            [
             0.5,
             "#f7f7f7"
            ],
            [
             0.6,
             "#e6f5d0"
            ],
            [
             0.7,
             "#b8e186"
            ],
            [
             0.8,
             "#7fbc41"
            ],
            [
             0.9,
             "#4d9221"
            ],
            [
             1,
             "#276419"
            ]
           ],
           "sequential": [
            [
             0,
             "#0d0887"
            ],
            [
             0.1111111111111111,
             "#46039f"
            ],
            [
             0.2222222222222222,
             "#7201a8"
            ],
            [
             0.3333333333333333,
             "#9c179e"
            ],
            [
             0.4444444444444444,
             "#bd3786"
            ],
            [
             0.5555555555555556,
             "#d8576b"
            ],
            [
             0.6666666666666666,
             "#ed7953"
            ],
            [
             0.7777777777777778,
             "#fb9f3a"
            ],
            [
             0.8888888888888888,
             "#fdca26"
            ],
            [
             1,
             "#f0f921"
            ]
           ],
           "sequentialminus": [
            [
             0,
             "#0d0887"
            ],
            [
             0.1111111111111111,
             "#46039f"
            ],
            [
             0.2222222222222222,
             "#7201a8"
            ],
            [
             0.3333333333333333,
             "#9c179e"
            ],
            [
             0.4444444444444444,
             "#bd3786"
            ],
            [
             0.5555555555555556,
             "#d8576b"
            ],
            [
             0.6666666666666666,
             "#ed7953"
            ],
            [
             0.7777777777777778,
             "#fb9f3a"
            ],
            [
             0.8888888888888888,
             "#fdca26"
            ],
            [
             1,
             "#f0f921"
            ]
           ]
          },
          "colorway": [
           "#636efa",
           "#EF553B",
           "#00cc96",
           "#ab63fa",
           "#FFA15A",
           "#19d3f3",
           "#FF6692",
           "#B6E880",
           "#FF97FF",
           "#FECB52"
          ],
          "font": {
           "color": "#2a3f5f"
          },
          "geo": {
           "bgcolor": "white",
           "lakecolor": "white",
           "landcolor": "#E5ECF6",
           "showlakes": true,
           "showland": true,
           "subunitcolor": "white"
          },
          "hoverlabel": {
           "align": "left"
          },
          "hovermode": "closest",
          "mapbox": {
           "style": "light"
          },
          "paper_bgcolor": "white",
          "plot_bgcolor": "#E5ECF6",
          "polar": {
           "angularaxis": {
            "gridcolor": "white",
            "linecolor": "white",
            "ticks": ""
           },
           "bgcolor": "#E5ECF6",
           "radialaxis": {
            "gridcolor": "white",
            "linecolor": "white",
            "ticks": ""
           }
          },
          "scene": {
           "xaxis": {
            "backgroundcolor": "#E5ECF6",
            "gridcolor": "white",
            "gridwidth": 2,
            "linecolor": "white",
            "showbackground": true,
            "ticks": "",
            "zerolinecolor": "white"
           },
           "yaxis": {
            "backgroundcolor": "#E5ECF6",
            "gridcolor": "white",
            "gridwidth": 2,
            "linecolor": "white",
            "showbackground": true,
            "ticks": "",
            "zerolinecolor": "white"
           },
           "zaxis": {
            "backgroundcolor": "#E5ECF6",
            "gridcolor": "white",
            "gridwidth": 2,
            "linecolor": "white",
            "showbackground": true,
            "ticks": "",
            "zerolinecolor": "white"
           }
          },
          "shapedefaults": {
           "line": {
            "color": "#2a3f5f"
           }
          },
          "ternary": {
           "aaxis": {
            "gridcolor": "white",
            "linecolor": "white",
            "ticks": ""
           },
           "baxis": {
            "gridcolor": "white",
            "linecolor": "white",
            "ticks": ""
           },
           "bgcolor": "#E5ECF6",
           "caxis": {
            "gridcolor": "white",
            "linecolor": "white",
            "ticks": ""
           }
          },
          "title": {
           "x": 0.05
          },
          "xaxis": {
           "automargin": true,
           "gridcolor": "white",
           "linecolor": "white",
           "ticks": "",
           "title": {
            "standoff": 15
           },
           "zerolinecolor": "white",
           "zerolinewidth": 2
          },
          "yaxis": {
           "automargin": true,
           "gridcolor": "white",
           "linecolor": "white",
           "ticks": "",
           "title": {
            "standoff": 15
           },
           "zerolinecolor": "white",
           "zerolinewidth": 2
          }
         }
        },
        "title": {
         "text": "Slice Plot"
        },
        "width": 1200,
        "xaxis": {
         "anchor": "y",
         "domain": [
          0,
          0.2125
         ],
         "title": {
          "text": "max_bin"
         }
        },
        "xaxis2": {
         "anchor": "y2",
         "domain": [
          0.2625,
          0.475
         ],
         "title": {
          "text": "min_data_in_leaf"
         }
        },
        "xaxis3": {
         "anchor": "y3",
         "domain": [
          0.525,
          0.7375
         ],
         "title": {
          "text": "min_gain_to_split"
         },
         "type": "log"
        },
        "xaxis4": {
         "anchor": "y4",
         "domain": [
          0.7875,
          1
         ],
         "title": {
          "text": "num_leaves"
         }
        },
        "yaxis": {
         "anchor": "x",
         "domain": [
          0,
          1
         ],
         "title": {
          "text": "Objective Value"
         }
        },
        "yaxis2": {
         "anchor": "x2",
         "domain": [
          0,
          1
         ],
         "matches": "y",
         "showticklabels": false
        },
        "yaxis3": {
         "anchor": "x3",
         "domain": [
          0,
          1
         ],
         "matches": "y",
         "showticklabels": false
        },
        "yaxis4": {
         "anchor": "x4",
         "domain": [
          0,
          1
         ],
         "matches": "y",
         "showticklabels": false
        }
       }
      }
     },
     "metadata": {},
     "output_type": "display_data"
    },
    {
     "data": {
      "application/vnd.plotly.v1+json": {
       "config": {
        "plotlyServerURL": "https://plot.ly"
       },
       "data": [
        {
         "marker": {
          "color": [
           0,
           1,
           2,
           3,
           4,
           5,
           6,
           7,
           8,
           9,
           10,
           11,
           12,
           13,
           14,
           15,
           16,
           17,
           18,
           19,
           20,
           21,
           22,
           23,
           24,
           25,
           26,
           27,
           28,
           29,
           30,
           31,
           32,
           33,
           34,
           35,
           36,
           37,
           38,
           39,
           40,
           41,
           42,
           43,
           44,
           45,
           46,
           47,
           48,
           49,
           50,
           51,
           52,
           53,
           54,
           55,
           56,
           57,
           58,
           59,
           60,
           61,
           62,
           63,
           64,
           65,
           66,
           67,
           68,
           69,
           70,
           71,
           72,
           73,
           74,
           75,
           76,
           77,
           78,
           79,
           80,
           81,
           82,
           83,
           84,
           85,
           86,
           87,
           88,
           89,
           90,
           91,
           92,
           93,
           94,
           95,
           96,
           97,
           98,
           99
          ],
          "colorbar": {
           "title": {
            "text": "Trial"
           },
           "x": 1,
           "xpad": 40
          },
          "colorscale": [
           [
            0,
            "rgb(247,251,255)"
           ],
           [
            0.125,
            "rgb(222,235,247)"
           ],
           [
            0.25,
            "rgb(198,219,239)"
           ],
           [
            0.375,
            "rgb(158,202,225)"
           ],
           [
            0.5,
            "rgb(107,174,214)"
           ],
           [
            0.625,
            "rgb(66,146,198)"
           ],
           [
            0.75,
            "rgb(33,113,181)"
           ],
           [
            0.875,
            "rgb(8,81,156)"
           ],
           [
            1,
            "rgb(8,48,107)"
           ]
          ],
          "line": {
           "color": "Grey",
           "width": 0.5
          },
          "showscale": true
         },
         "mode": "markers",
         "name": "Feasible Trial",
         "showlegend": false,
         "type": "scatter",
         "x": [
          0.8817324774495345,
          0.8793342379629356,
          0.9305018222370228,
          0.9417003375574375,
          0.8926453245613816,
          0.8090338207443906,
          0.865790227019348,
          0.8366638388002404,
          0.8145651913689592,
          0.8058781688381481,
          0.8357161822219233,
          0.9096802355740166,
          0.8512860328238031,
          0.9044426307401884,
          0.862886007456836,
          0.8194760213704181,
          0.8568739829848442,
          0.8302959455273252,
          0.848411584453707,
          0.8013347171732064,
          0.8235030875726516,
          0.8754994028573677,
          0.8916797266120838,
          0.8645565269601095,
          0.9190604846590462,
          0.8918646812355281,
          0.8410868672734293,
          0.8675426045146947,
          0.8814221801453758,
          0.8157005061959461,
          0.815443472429358,
          0.8274180775188443,
          0.8113577125002743,
          0.9457128893421759,
          0.8450918344457371,
          0.9318776444492488,
          0.8838571269400856,
          0.8579735447049261,
          0.898612916271706,
          0.8320358083536873,
          0.8771355422770301,
          0.828288864769305,
          0.8175390494863679,
          0.8107874167674909,
          0.8019763628218576,
          0.8233450596353301,
          0.8386948180343542,
          0.8586381345083396,
          0.8657640541060783,
          0.9132446737747685,
          0.8079193043343926,
          0.8260321563773461,
          0.8183004793889923,
          0.8279836082973473,
          0.8328171418163904,
          0.8418329609434024,
          0.8519006757125833,
          0.8471473939573079,
          0.8497634350679077,
          0.8690108504990468,
          0.8543740198067203,
          0.855399763563875,
          0.8532373863782683,
          0.8622075659270164,
          0.8699557327970496,
          0.8861736806121712,
          0.8485652667845736,
          0.8751603011387193,
          0.8433798524309817,
          0.8359562623586627,
          0.8456443543564716,
          0.8418535178328683,
          0.8713959353314212,
          0.8613078581192725,
          0.8533627696614045,
          0.8447208810731918,
          0.8794663882944702,
          0.8141910736009135,
          0.82201793029943,
          0.8584492388465184,
          0.8878593019746438,
          0.8374030235042265,
          0.8364958501949994,
          0.8035275119630318,
          0.8025303919831033,
          0.8055487736547136,
          0.8124947411055126,
          0.8323389682958622,
          0.8001089777481872,
          0.8030814703511457,
          0.8089656287477576,
          0.8204508076832608,
          0.8062871812799097,
          0.8002974367112223,
          0.8506323296146138,
          0.8148603365002697,
          0.8392516831062601,
          0.8463259541301997,
          0.841516074407701,
          0.8635963373373013
         ],
         "xaxis": "x",
         "y": [
          237.90199720387386,
          236.04279778272314,
          237.87415843340005,
          237.91809022881404,
          236.7510295842597,
          236.49481946813438,
          237.43096630921642,
          236.66095885435365,
          235.65561745916793,
          236.4888765017299,
          236.77849591524506,
          236.50540680707786,
          237.34724962024052,
          237.75555983103507,
          235.99617473006344,
          237.18704395824466,
          236.4820488569499,
          236.4701264457281,
          236.85148461517295,
          236.60864054791233,
          238.15495271607296,
          236.6801151964905,
          237.2730166445701,
          236.810507183064,
          236.20389791209124,
          236.2166087586728,
          237.35786933287127,
          236.21812800460395,
          236.79318388963026,
          235.91365692467656,
          236.24099793606888,
          236.12966074472928,
          236.57804227065375,
          236.75851917591896,
          237.3457700924357,
          236.74068014688683,
          237.24219833357563,
          236.79478392299725,
          238.52189009015945,
          237.31566400891148,
          237.2317184620627,
          236.10896450223308,
          237.04302947277068,
          237.04647016885679,
          236.96612032746637,
          237.4876968643942,
          237.00333114296885,
          236.3540342359435,
          237.01839284912856,
          237.630250004464,
          236.32651546816084,
          236.41500734905017,
          237.2853255542685,
          237.07240084075917,
          237.43762566521502,
          236.04693350776992,
          235.83956056914454,
          235.26450316640677,
          236.43120937182283,
          237.37379262714845,
          235.92476845969637,
          236.93270262654804,
          238.740588665897,
          236.18974468468562,
          237.69932225334747,
          237.08549236449812,
          236.69797562428033,
          236.4458663979148,
          235.77089982084365,
          237.4442272720875,
          236.85215098857583,
          236.6642942984755,
          237.71810246752358,
          237.1971193981631,
          237.1967512328077,
          236.79768473080932,
          237.73769272084238,
          236.52213102705804,
          238.1793115605022,
          236.53875851685086,
          236.64125720161053,
          236.0308612432883,
          236.97502598813097,
          235.74599683864116,
          237.0151878330228,
          236.56941558020563,
          236.60182710648445,
          236.6854380634196,
          235.1812005889211,
          237.17425112177176,
          237.75222018604322,
          237.03181596004399,
          236.1160039573513,
          236.32156329513936,
          237.24499151054619,
          236.48444809925226,
          235.840134574238,
          236.32822042976062,
          236.54701371419168,
          237.1183874453523
         ],
         "yaxis": "y"
        },
        {
         "marker": {
          "color": [
           0,
           1,
           2,
           3,
           4,
           5,
           6,
           7,
           8,
           9,
           10,
           11,
           12,
           13,
           14,
           15,
           16,
           17,
           18,
           19,
           20,
           21,
           22,
           23,
           24,
           25,
           26,
           27,
           28,
           29,
           30,
           31,
           32,
           33,
           34,
           35,
           36,
           37,
           38,
           39,
           40,
           41,
           42,
           43,
           44,
           45,
           46,
           47,
           48,
           49,
           50,
           51,
           52,
           53,
           54,
           55,
           56,
           57,
           58,
           59,
           60,
           61,
           62,
           63,
           64,
           65,
           66,
           67,
           68,
           69,
           70,
           71,
           72,
           73,
           74,
           75,
           76,
           77,
           78,
           79,
           80,
           81,
           82,
           83,
           84,
           85,
           86,
           87,
           88,
           89,
           90,
           91,
           92,
           93,
           94,
           95,
           96,
           97,
           98,
           99
          ],
          "colorbar": {
           "title": {
            "text": "Trial"
           },
           "x": 1,
           "xpad": 40
          },
          "colorscale": [
           [
            0,
            "rgb(247,251,255)"
           ],
           [
            0.125,
            "rgb(222,235,247)"
           ],
           [
            0.25,
            "rgb(198,219,239)"
           ],
           [
            0.375,
            "rgb(158,202,225)"
           ],
           [
            0.5,
            "rgb(107,174,214)"
           ],
           [
            0.625,
            "rgb(66,146,198)"
           ],
           [
            0.75,
            "rgb(33,113,181)"
           ],
           [
            0.875,
            "rgb(8,81,156)"
           ],
           [
            1,
            "rgb(8,48,107)"
           ]
          ],
          "line": {
           "color": "Grey",
           "width": 0.5
          },
          "showscale": false
         },
         "mode": "markers",
         "name": "Feasible Trial",
         "showlegend": false,
         "type": "scatter",
         "x": [
          0.47709643980167143,
          0.5204133683281797,
          0.6435855026698292,
          0.5065544965250215,
          0.5336287168167264,
          0.5500300146337003,
          0.6465121514177679,
          0.3976908750936559,
          0.6013834722496412,
          0.43484208877292285,
          0.5842248758067577,
          0.5915466403322428,
          0.4607500244006538,
          0.58559941302925,
          0.5397785450167522,
          0.36080515104506394,
          0.6087651018902488,
          0.5704042920791986,
          0.6145911652032466,
          0.5574690097365729,
          0.4872261355544814,
          0.5188904796381929,
          0.5299494674011451,
          0.5418755071824922,
          0.6208537366876744,
          0.43660624774833806,
          0.5134930240798171,
          0.5595100003007657,
          0.49271662121638965,
          0.46601308343463044,
          0.46473200009670795,
          0.44119461228124274,
          0.47473509596912794,
          0.41258572558751955,
          0.5039794182925476,
          0.5221533919758714,
          0.5676218584674619,
          0.4850684238251827,
          0.6355090686631634,
          0.4530839961448627,
          0.5402131529856775,
          0.43874058734286636,
          0.3955449292863458,
          0.40377223376713867,
          0.41803355136084613,
          0.3783707898650715,
          0.5015048637004599,
          0.4523690933436574,
          0.4226408232402487,
          0.5850477231434984,
          0.5971706615366871,
          0.4476945751947487,
          0.4761038783639385,
          0.46529967640912034,
          0.43153580995673,
          0.44010316449091025,
          0.5274569716416012,
          0.5300170587993218,
          0.5288353361772918,
          0.5463439310533582,
          0.5119260900097656,
          0.5126912431981115,
          0.5559120374592704,
          0.5243780121677495,
          0.5690913784066323,
          0.5367471721251368,
          0.4920424216605598,
          0.5119117680852953,
          0.5500419729708115,
          0.5506728150430964,
          0.5750991248039893,
          0.5290028948084063,
          0.4969218222150992,
          0.5175520199007576,
          0.535239461692516,
          0.5087869923370848,
          0.6368670745993081,
          0.5956464667381293,
          0.5486632361532855,
          0.6061835483146555,
          0.5602223925199918,
          0.5200252466970353,
          0.5028465780220502,
          0.48196902510688955,
          0.4821178457846372,
          0.5196612487229378,
          0.46799955144467337,
          0.5417378939278449,
          0.4906756575950541,
          0.4900107591010459,
          0.4737795935691583,
          0.4822670526071401,
          0.4964792570820795,
          0.5256443306327676,
          0.5793386868815859,
          0.5051076675703334,
          0.5324436075690419,
          0.5326952734746041,
          0.5539494712352055,
          0.4604381815520106
         ],
         "xaxis": "x2",
         "y": [
          237.90199720387386,
          236.04279778272314,
          237.87415843340005,
          237.91809022881404,
          236.7510295842597,
          236.49481946813438,
          237.43096630921642,
          236.66095885435365,
          235.65561745916793,
          236.4888765017299,
          236.77849591524506,
          236.50540680707786,
          237.34724962024052,
          237.75555983103507,
          235.99617473006344,
          237.18704395824466,
          236.4820488569499,
          236.4701264457281,
          236.85148461517295,
          236.60864054791233,
          238.15495271607296,
          236.6801151964905,
          237.2730166445701,
          236.810507183064,
          236.20389791209124,
          236.2166087586728,
          237.35786933287127,
          236.21812800460395,
          236.79318388963026,
          235.91365692467656,
          236.24099793606888,
          236.12966074472928,
          236.57804227065375,
          236.75851917591896,
          237.3457700924357,
          236.74068014688683,
          237.24219833357563,
          236.79478392299725,
          238.52189009015945,
          237.31566400891148,
          237.2317184620627,
          236.10896450223308,
          237.04302947277068,
          237.04647016885679,
          236.96612032746637,
          237.4876968643942,
          237.00333114296885,
          236.3540342359435,
          237.01839284912856,
          237.630250004464,
          236.32651546816084,
          236.41500734905017,
          237.2853255542685,
          237.07240084075917,
          237.43762566521502,
          236.04693350776992,
          235.83956056914454,
          235.26450316640677,
          236.43120937182283,
          237.37379262714845,
          235.92476845969637,
          236.93270262654804,
          238.740588665897,
          236.18974468468562,
          237.69932225334747,
          237.08549236449812,
          236.69797562428033,
          236.4458663979148,
          235.77089982084365,
          237.4442272720875,
          236.85215098857583,
          236.6642942984755,
          237.71810246752358,
          237.1971193981631,
          237.1967512328077,
          236.79768473080932,
          237.73769272084238,
          236.52213102705804,
          238.1793115605022,
          236.53875851685086,
          236.64125720161053,
          236.0308612432883,
          236.97502598813097,
          235.74599683864116,
          237.0151878330228,
          236.56941558020563,
          236.60182710648445,
          236.6854380634196,
          235.1812005889211,
          237.17425112177176,
          237.75222018604322,
          237.03181596004399,
          236.1160039573513,
          236.32156329513936,
          237.24499151054619,
          236.48444809925226,
          235.840134574238,
          236.32822042976062,
          236.54701371419168,
          237.1183874453523
         ],
         "yaxis": "y2"
        },
        {
         "marker": {
          "color": [
           0,
           1,
           2,
           3,
           4,
           5,
           6,
           7,
           8,
           9,
           10,
           11,
           12,
           13,
           14,
           15,
           16,
           17,
           18,
           19,
           20,
           21,
           22,
           23,
           24,
           25,
           26,
           27,
           28,
           29,
           30,
           31,
           32,
           33,
           34,
           35,
           36,
           37,
           38,
           39,
           40,
           41,
           42,
           43,
           44,
           45,
           46,
           47,
           48,
           49,
           50,
           51,
           52,
           53,
           54,
           55,
           56,
           57,
           58,
           59,
           60,
           61,
           62,
           63,
           64,
           65,
           66,
           67,
           68,
           69,
           70,
           71,
           72,
           73,
           74,
           75,
           76,
           77,
           78,
           79,
           80,
           81,
           82,
           83,
           84,
           85,
           86,
           87,
           88,
           89,
           90,
           91,
           92,
           93,
           94,
           95,
           96,
           97,
           98,
           99
          ],
          "colorbar": {
           "title": {
            "text": "Trial"
           },
           "x": 1,
           "xpad": 40
          },
          "colorscale": [
           [
            0,
            "rgb(247,251,255)"
           ],
           [
            0.125,
            "rgb(222,235,247)"
           ],
           [
            0.25,
            "rgb(198,219,239)"
           ],
           [
            0.375,
            "rgb(158,202,225)"
           ],
           [
            0.5,
            "rgb(107,174,214)"
           ],
           [
            0.625,
            "rgb(66,146,198)"
           ],
           [
            0.75,
            "rgb(33,113,181)"
           ],
           [
            0.875,
            "rgb(8,81,156)"
           ],
           [
            1,
            "rgb(8,48,107)"
           ]
          ],
          "line": {
           "color": "Grey",
           "width": 0.5
          },
          "showscale": false
         },
         "mode": "markers",
         "name": "Feasible Trial",
         "showlegend": false,
         "type": "scatter",
         "x": [
          0.07501954443620121,
          0.013869861245357327,
          0.08374496868436809,
          0.0338151426782029,
          0.7717846862118064,
          0.02634905974115613,
          0.02616697456085447,
          0.2054277828628595,
          0.8972612866432508,
          0.0391093317225106,
          0.5572928896695891,
          0.010541614913744073,
          0.31211954149297433,
          0.010844293740159572,
          0.19359529526377192,
          0.18289097673470622,
          0.9793529142759247,
          0.43671151056231206,
          0.15293473617730233,
          0.46359235383252323,
          0.25239575188604774,
          0.11337128605062564,
          0.06374852356016922,
          0.35109882050191366,
          0.050655215432331265,
          0.13121751967620296,
          0.016062309232733503,
          0.6456102795658157,
          0.016446309375618865,
          0.09596184468318783,
          0.09041928795380516,
          0.06899455220876063,
          0.2407347115743868,
          0.05596167327683969,
          0.08784653317391136,
          0.8439348219469328,
          0.02020135586864959,
          0.04049601042529863,
          0.029746598642597606,
          0.6515501617296781,
          0.16003167935077925,
          0.06626575007954774,
          0.11078526982049426,
          0.045633491607060005,
          0.06954159505743414,
          0.023832322307667252,
          0.012879232138385347,
          0.03599759553560018,
          0.3152494743356325,
          0.20899878992862272,
          0.12785101361316728,
          0.08041229965890322,
          0.05831940242225012,
          0.06987933097163028,
          0.42264880834173646,
          0.10328831442577009,
          0.18542067120398756,
          0.18946351069277742,
          0.2669022891071202,
          0.18023086454871545,
          0.37763041513730117,
          0.5145455987605931,
          0.3811649880388397,
          0.20876636046812938,
          0.14296093518121966,
          0.2979982425298104,
          0.18077831874774797,
          0.6413587522163825,
          0.9867606070352145,
          0.7719885670668842,
          0.9978662546296421,
          0.8295544039982219,
          0.5082944069151233,
          0.23987526639321902,
          0.621402490917656,
          0.3728504902366464,
          0.9181337781996168,
          0.7012436608066326,
          0.5487019276083499,
          0.1340022321710099,
          0.16194291198957553,
          0.2031089990890604,
          0.2839096011487384,
          0.2281799160979559,
          0.224670540253942,
          0.1970269827746917,
          0.33915974625767137,
          0.17534437375445006,
          0.11413245198498384,
          0.12378117612398418,
          0.1048207042834301,
          0.09338295737569627,
          0.15624915390610306,
          0.14316678981503914,
          0.11524961242562087,
          0.07957166614534496,
          0.2206323903945351,
          0.2609168420068563,
          0.16795133833834708,
          0.22343609310549215
         ],
         "xaxis": "x3",
         "y": [
          237.90199720387386,
          236.04279778272314,
          237.87415843340005,
          237.91809022881404,
          236.7510295842597,
          236.49481946813438,
          237.43096630921642,
          236.66095885435365,
          235.65561745916793,
          236.4888765017299,
          236.77849591524506,
          236.50540680707786,
          237.34724962024052,
          237.75555983103507,
          235.99617473006344,
          237.18704395824466,
          236.4820488569499,
          236.4701264457281,
          236.85148461517295,
          236.60864054791233,
          238.15495271607296,
          236.6801151964905,
          237.2730166445701,
          236.810507183064,
          236.20389791209124,
          236.2166087586728,
          237.35786933287127,
          236.21812800460395,
          236.79318388963026,
          235.91365692467656,
          236.24099793606888,
          236.12966074472928,
          236.57804227065375,
          236.75851917591896,
          237.3457700924357,
          236.74068014688683,
          237.24219833357563,
          236.79478392299725,
          238.52189009015945,
          237.31566400891148,
          237.2317184620627,
          236.10896450223308,
          237.04302947277068,
          237.04647016885679,
          236.96612032746637,
          237.4876968643942,
          237.00333114296885,
          236.3540342359435,
          237.01839284912856,
          237.630250004464,
          236.32651546816084,
          236.41500734905017,
          237.2853255542685,
          237.07240084075917,
          237.43762566521502,
          236.04693350776992,
          235.83956056914454,
          235.26450316640677,
          236.43120937182283,
          237.37379262714845,
          235.92476845969637,
          236.93270262654804,
          238.740588665897,
          236.18974468468562,
          237.69932225334747,
          237.08549236449812,
          236.69797562428033,
          236.4458663979148,
          235.77089982084365,
          237.4442272720875,
          236.85215098857583,
          236.6642942984755,
          237.71810246752358,
          237.1971193981631,
          237.1967512328077,
          236.79768473080932,
          237.73769272084238,
          236.52213102705804,
          238.1793115605022,
          236.53875851685086,
          236.64125720161053,
          236.0308612432883,
          236.97502598813097,
          235.74599683864116,
          237.0151878330228,
          236.56941558020563,
          236.60182710648445,
          236.6854380634196,
          235.1812005889211,
          237.17425112177176,
          237.75222018604322,
          237.03181596004399,
          236.1160039573513,
          236.32156329513936,
          237.24499151054619,
          236.48444809925226,
          235.840134574238,
          236.32822042976062,
          236.54701371419168,
          237.1183874453523
         ],
         "yaxis": "y3"
        },
        {
         "marker": {
          "color": [
           0,
           1,
           2,
           3,
           4,
           5,
           6,
           7,
           8,
           9,
           10,
           11,
           12,
           13,
           14,
           15,
           16,
           17,
           18,
           19,
           20,
           21,
           22,
           23,
           24,
           25,
           26,
           27,
           28,
           29,
           30,
           31,
           32,
           33,
           34,
           35,
           36,
           37,
           38,
           39,
           40,
           41,
           42,
           43,
           44,
           45,
           46,
           47,
           48,
           49,
           50,
           51,
           52,
           53,
           54,
           55,
           56,
           57,
           58,
           59,
           60,
           61,
           62,
           63,
           64,
           65,
           66,
           67,
           68,
           69,
           70,
           71,
           72,
           73,
           74,
           75,
           76,
           77,
           78,
           79,
           80,
           81,
           82,
           83,
           84,
           85,
           86,
           87,
           88,
           89,
           90,
           91,
           92,
           93,
           94,
           95,
           96,
           97,
           98,
           99
          ],
          "colorbar": {
           "title": {
            "text": "Trial"
           },
           "x": 1,
           "xpad": 40
          },
          "colorscale": [
           [
            0,
            "rgb(247,251,255)"
           ],
           [
            0.125,
            "rgb(222,235,247)"
           ],
           [
            0.25,
            "rgb(198,219,239)"
           ],
           [
            0.375,
            "rgb(158,202,225)"
           ],
           [
            0.5,
            "rgb(107,174,214)"
           ],
           [
            0.625,
            "rgb(66,146,198)"
           ],
           [
            0.75,
            "rgb(33,113,181)"
           ],
           [
            0.875,
            "rgb(8,81,156)"
           ],
           [
            1,
            "rgb(8,48,107)"
           ]
          ],
          "line": {
           "color": "Grey",
           "width": 0.5
          },
          "showscale": false
         },
         "mode": "markers",
         "name": "Feasible Trial",
         "showlegend": false,
         "type": "scatter",
         "x": [
          0.6074996073425692,
          0.014936835544198456,
          0.36396393567863894,
          0.35356346291488117,
          0.2310152225018237,
          0.018107254066631072,
          0.021019338091154416,
          0.018895826938026012,
          0.08655704137361815,
          0.0172764870082179,
          0.06472055193755138,
          0.058124160400173014,
          0.1445025316423963,
          0.04439926537109432,
          0.033350638031589996,
          0.10149202583503752,
          0.03616006467893494,
          0.03289661533553797,
          0.010435734042374887,
          0.09461005786730879,
          0.1440819934477305,
          0.010033309544949355,
          0.029013676426363686,
          0.06053843869232326,
          0.026302119419792214,
          0.013924297485022394,
          0.045884695553740466,
          0.0788142444998995,
          0.12036225613805414,
          0.013469554556527796,
          0.022766148843651874,
          0.012736088993969143,
          0.014271293430217125,
          0.22094546046325925,
          0.04222546158953629,
          0.6480358601192391,
          0.025591932574176277,
          0.37878163636342677,
          0.017167106744070057,
          0.02056814145984198,
          0.2531233362355415,
          0.011953270004917742,
          0.013516560473803353,
          0.015863245708581285,
          0.010694746285161136,
          0.958077028791698,
          0.018412595108910097,
          0.012077555890627556,
          0.02276537286268009,
          0.04626242777440837,
          0.07343993751060925,
          0.011797830090729794,
          0.015782079629015663,
          0.03599023159557302,
          0.019586846074833308,
          0.030622738471299975,
          0.03083510094490388,
          0.030032877203494818,
          0.054221111043070196,
          0.028296686100386964,
          0.036970601486864624,
          0.03778480595765627,
          0.024374679035151753,
          0.05291622259261815,
          0.03407325432505745,
          0.04135111428347393,
          0.06959985525041139,
          0.0493493628157809,
          0.09235017410256606,
          0.08708244448888668,
          0.10805396990739176,
          0.13817787310105473,
          0.06037608331998582,
          0.16743479014412976,
          0.031298968332338674,
          0.09132281633059126,
          0.020965583962349647,
          0.027438239665896553,
          0.03810670658792882,
          0.016300081126361374,
          0.17390166111418223,
          0.03234857725416275,
          0.025191932707756517,
          0.11322809717124409,
          0.09861350879003808,
          0.12085493620723302,
          0.07719850800938255,
          0.06460598966850983,
          0.08290927701801915,
          0.11025449326202201,
          0.12794973783591698,
          0.08029031242888213,
          0.16111942334938972,
          0.19383461533038485,
          0.08432308178274438,
          0.04145910642149966,
          0.023164206198321994,
          0.022001215568491935,
          0.07028602979057885,
          0.018094510357437997
         ],
         "xaxis": "x4",
         "y": [
          237.90199720387386,
          236.04279778272314,
          237.87415843340005,
          237.91809022881404,
          236.7510295842597,
          236.49481946813438,
          237.43096630921642,
          236.66095885435365,
          235.65561745916793,
          236.4888765017299,
          236.77849591524506,
          236.50540680707786,
          237.34724962024052,
          237.75555983103507,
          235.99617473006344,
          237.18704395824466,
          236.4820488569499,
          236.4701264457281,
          236.85148461517295,
          236.60864054791233,
          238.15495271607296,
          236.6801151964905,
          237.2730166445701,
          236.810507183064,
          236.20389791209124,
          236.2166087586728,
          237.35786933287127,
          236.21812800460395,
          236.79318388963026,
          235.91365692467656,
          236.24099793606888,
          236.12966074472928,
          236.57804227065375,
          236.75851917591896,
          237.3457700924357,
          236.74068014688683,
          237.24219833357563,
          236.79478392299725,
          238.52189009015945,
          237.31566400891148,
          237.2317184620627,
          236.10896450223308,
          237.04302947277068,
          237.04647016885679,
          236.96612032746637,
          237.4876968643942,
          237.00333114296885,
          236.3540342359435,
          237.01839284912856,
          237.630250004464,
          236.32651546816084,
          236.41500734905017,
          237.2853255542685,
          237.07240084075917,
          237.43762566521502,
          236.04693350776992,
          235.83956056914454,
          235.26450316640677,
          236.43120937182283,
          237.37379262714845,
          235.92476845969637,
          236.93270262654804,
          238.740588665897,
          236.18974468468562,
          237.69932225334747,
          237.08549236449812,
          236.69797562428033,
          236.4458663979148,
          235.77089982084365,
          237.4442272720875,
          236.85215098857583,
          236.6642942984755,
          237.71810246752358,
          237.1971193981631,
          237.1967512328077,
          236.79768473080932,
          237.73769272084238,
          236.52213102705804,
          238.1793115605022,
          236.53875851685086,
          236.64125720161053,
          236.0308612432883,
          236.97502598813097,
          235.74599683864116,
          237.0151878330228,
          236.56941558020563,
          236.60182710648445,
          236.6854380634196,
          235.1812005889211,
          237.17425112177176,
          237.75222018604322,
          237.03181596004399,
          236.1160039573513,
          236.32156329513936,
          237.24499151054619,
          236.48444809925226,
          235.840134574238,
          236.32822042976062,
          236.54701371419168,
          237.1183874453523
         ],
         "yaxis": "y4"
        }
       ],
       "layout": {
        "template": {
         "data": {
          "bar": [
           {
            "error_x": {
             "color": "#2a3f5f"
            },
            "error_y": {
             "color": "#2a3f5f"
            },
            "marker": {
             "line": {
              "color": "#E5ECF6",
              "width": 0.5
             },
             "pattern": {
              "fillmode": "overlay",
              "size": 10,
              "solidity": 0.2
             }
            },
            "type": "bar"
           }
          ],
          "barpolar": [
           {
            "marker": {
             "line": {
              "color": "#E5ECF6",
              "width": 0.5
             },
             "pattern": {
              "fillmode": "overlay",
              "size": 10,
              "solidity": 0.2
             }
            },
            "type": "barpolar"
           }
          ],
          "carpet": [
           {
            "aaxis": {
             "endlinecolor": "#2a3f5f",
             "gridcolor": "white",
             "linecolor": "white",
             "minorgridcolor": "white",
             "startlinecolor": "#2a3f5f"
            },
            "baxis": {
             "endlinecolor": "#2a3f5f",
             "gridcolor": "white",
             "linecolor": "white",
             "minorgridcolor": "white",
             "startlinecolor": "#2a3f5f"
            },
            "type": "carpet"
           }
          ],
          "choropleth": [
           {
            "colorbar": {
             "outlinewidth": 0,
             "ticks": ""
            },
            "type": "choropleth"
           }
          ],
          "contour": [
           {
            "colorbar": {
             "outlinewidth": 0,
             "ticks": ""
            },
            "colorscale": [
             [
              0,
              "#0d0887"
             ],
             [
              0.1111111111111111,
              "#46039f"
             ],
             [
              0.2222222222222222,
              "#7201a8"
             ],
             [
              0.3333333333333333,
              "#9c179e"
             ],
             [
              0.4444444444444444,
              "#bd3786"
             ],
             [
              0.5555555555555556,
              "#d8576b"
             ],
             [
              0.6666666666666666,
              "#ed7953"
             ],
             [
              0.7777777777777778,
              "#fb9f3a"
             ],
             [
              0.8888888888888888,
              "#fdca26"
             ],
             [
              1,
              "#f0f921"
             ]
            ],
            "type": "contour"
           }
          ],
          "contourcarpet": [
           {
            "colorbar": {
             "outlinewidth": 0,
             "ticks": ""
            },
            "type": "contourcarpet"
           }
          ],
          "heatmap": [
           {
            "colorbar": {
             "outlinewidth": 0,
             "ticks": ""
            },
            "colorscale": [
             [
              0,
              "#0d0887"
             ],
             [
              0.1111111111111111,
              "#46039f"
             ],
             [
              0.2222222222222222,
              "#7201a8"
             ],
             [
              0.3333333333333333,
              "#9c179e"
             ],
             [
              0.4444444444444444,
              "#bd3786"
             ],
             [
              0.5555555555555556,
              "#d8576b"
             ],
             [
              0.6666666666666666,
              "#ed7953"
             ],
             [
              0.7777777777777778,
              "#fb9f3a"
             ],
             [
              0.8888888888888888,
              "#fdca26"
             ],
             [
              1,
              "#f0f921"
             ]
            ],
            "type": "heatmap"
           }
          ],
          "heatmapgl": [
           {
            "colorbar": {
             "outlinewidth": 0,
             "ticks": ""
            },
            "colorscale": [
             [
              0,
              "#0d0887"
             ],
             [
              0.1111111111111111,
              "#46039f"
             ],
             [
              0.2222222222222222,
              "#7201a8"
             ],
             [
              0.3333333333333333,
              "#9c179e"
             ],
             [
              0.4444444444444444,
              "#bd3786"
             ],
             [
              0.5555555555555556,
              "#d8576b"
             ],
             [
              0.6666666666666666,
              "#ed7953"
             ],
             [
              0.7777777777777778,
              "#fb9f3a"
             ],
             [
              0.8888888888888888,
              "#fdca26"
             ],
             [
              1,
              "#f0f921"
             ]
            ],
            "type": "heatmapgl"
           }
          ],
          "histogram": [
           {
            "marker": {
             "pattern": {
              "fillmode": "overlay",
              "size": 10,
              "solidity": 0.2
             }
            },
            "type": "histogram"
           }
          ],
          "histogram2d": [
           {
            "colorbar": {
             "outlinewidth": 0,
             "ticks": ""
            },
            "colorscale": [
             [
              0,
              "#0d0887"
             ],
             [
              0.1111111111111111,
              "#46039f"
             ],
             [
              0.2222222222222222,
              "#7201a8"
             ],
             [
              0.3333333333333333,
              "#9c179e"
             ],
             [
              0.4444444444444444,
              "#bd3786"
             ],
             [
              0.5555555555555556,
              "#d8576b"
             ],
             [
              0.6666666666666666,
              "#ed7953"
             ],
             [
              0.7777777777777778,
              "#fb9f3a"
             ],
             [
              0.8888888888888888,
              "#fdca26"
             ],
             [
              1,
              "#f0f921"
             ]
            ],
            "type": "histogram2d"
           }
          ],
          "histogram2dcontour": [
           {
            "colorbar": {
             "outlinewidth": 0,
             "ticks": ""
            },
            "colorscale": [
             [
              0,
              "#0d0887"
             ],
             [
              0.1111111111111111,
              "#46039f"
             ],
             [
              0.2222222222222222,
              "#7201a8"
             ],
             [
              0.3333333333333333,
              "#9c179e"
             ],
             [
              0.4444444444444444,
              "#bd3786"
             ],
             [
              0.5555555555555556,
              "#d8576b"
             ],
             [
              0.6666666666666666,
              "#ed7953"
             ],
             [
              0.7777777777777778,
              "#fb9f3a"
             ],
             [
              0.8888888888888888,
              "#fdca26"
             ],
             [
              1,
              "#f0f921"
             ]
            ],
            "type": "histogram2dcontour"
           }
          ],
          "mesh3d": [
           {
            "colorbar": {
             "outlinewidth": 0,
             "ticks": ""
            },
            "type": "mesh3d"
           }
          ],
          "parcoords": [
           {
            "line": {
             "colorbar": {
              "outlinewidth": 0,
              "ticks": ""
             }
            },
            "type": "parcoords"
           }
          ],
          "pie": [
           {
            "automargin": true,
            "type": "pie"
           }
          ],
          "scatter": [
           {
            "fillpattern": {
             "fillmode": "overlay",
             "size": 10,
             "solidity": 0.2
            },
            "type": "scatter"
           }
          ],
          "scatter3d": [
           {
            "line": {
             "colorbar": {
              "outlinewidth": 0,
              "ticks": ""
             }
            },
            "marker": {
             "colorbar": {
              "outlinewidth": 0,
              "ticks": ""
             }
            },
            "type": "scatter3d"
           }
          ],
          "scattercarpet": [
           {
            "marker": {
             "colorbar": {
              "outlinewidth": 0,
              "ticks": ""
             }
            },
            "type": "scattercarpet"
           }
          ],
          "scattergeo": [
           {
            "marker": {
             "colorbar": {
              "outlinewidth": 0,
              "ticks": ""
             }
            },
            "type": "scattergeo"
           }
          ],
          "scattergl": [
           {
            "marker": {
             "colorbar": {
              "outlinewidth": 0,
              "ticks": ""
             }
            },
            "type": "scattergl"
           }
          ],
          "scattermapbox": [
           {
            "marker": {
             "colorbar": {
              "outlinewidth": 0,
              "ticks": ""
             }
            },
            "type": "scattermapbox"
           }
          ],
          "scatterpolar": [
           {
            "marker": {
             "colorbar": {
              "outlinewidth": 0,
              "ticks": ""
             }
            },
            "type": "scatterpolar"
           }
          ],
          "scatterpolargl": [
           {
            "marker": {
             "colorbar": {
              "outlinewidth": 0,
              "ticks": ""
             }
            },
            "type": "scatterpolargl"
           }
          ],
          "scatterternary": [
           {
            "marker": {
             "colorbar": {
              "outlinewidth": 0,
              "ticks": ""
             }
            },
            "type": "scatterternary"
           }
          ],
          "surface": [
           {
            "colorbar": {
             "outlinewidth": 0,
             "ticks": ""
            },
            "colorscale": [
             [
              0,
              "#0d0887"
             ],
             [
              0.1111111111111111,
              "#46039f"
             ],
             [
              0.2222222222222222,
              "#7201a8"
             ],
             [
              0.3333333333333333,
              "#9c179e"
             ],
             [
              0.4444444444444444,
              "#bd3786"
             ],
             [
              0.5555555555555556,
              "#d8576b"
             ],
             [
              0.6666666666666666,
              "#ed7953"
             ],
             [
              0.7777777777777778,
              "#fb9f3a"
             ],
             [
              0.8888888888888888,
              "#fdca26"
             ],
             [
              1,
              "#f0f921"
             ]
            ],
            "type": "surface"
           }
          ],
          "table": [
           {
            "cells": {
             "fill": {
              "color": "#EBF0F8"
             },
             "line": {
              "color": "white"
             }
            },
            "header": {
             "fill": {
              "color": "#C8D4E3"
             },
             "line": {
              "color": "white"
             }
            },
            "type": "table"
           }
          ]
         },
         "layout": {
          "annotationdefaults": {
           "arrowcolor": "#2a3f5f",
           "arrowhead": 0,
           "arrowwidth": 1
          },
          "autotypenumbers": "strict",
          "coloraxis": {
           "colorbar": {
            "outlinewidth": 0,
            "ticks": ""
           }
          },
          "colorscale": {
           "diverging": [
            [
             0,
             "#8e0152"
            ],
            [
             0.1,
             "#c51b7d"
            ],
            [
             0.2,
             "#de77ae"
            ],
            [
             0.3,
             "#f1b6da"
            ],
            [
             0.4,
             "#fde0ef"
            ],
            [
             0.5,
             "#f7f7f7"
            ],
            [
             0.6,
             "#e6f5d0"
            ],
            [
             0.7,
             "#b8e186"
            ],
            [
             0.8,
             "#7fbc41"
            ],
            [
             0.9,
             "#4d9221"
            ],
            [
             1,
             "#276419"
            ]
           ],
           "sequential": [
            [
             0,
             "#0d0887"
            ],
            [
             0.1111111111111111,
             "#46039f"
            ],
            [
             0.2222222222222222,
             "#7201a8"
            ],
            [
             0.3333333333333333,
             "#9c179e"
            ],
            [
             0.4444444444444444,
             "#bd3786"
            ],
            [
             0.5555555555555556,
             "#d8576b"
            ],
            [
             0.6666666666666666,
             "#ed7953"
            ],
            [
             0.7777777777777778,
             "#fb9f3a"
            ],
            [
             0.8888888888888888,
             "#fdca26"
            ],
            [
             1,
             "#f0f921"
            ]
           ],
           "sequentialminus": [
            [
             0,
             "#0d0887"
            ],
            [
             0.1111111111111111,
             "#46039f"
            ],
            [
             0.2222222222222222,
             "#7201a8"
            ],
            [
             0.3333333333333333,
             "#9c179e"
            ],
            [
             0.4444444444444444,
             "#bd3786"
            ],
            [
             0.5555555555555556,
             "#d8576b"
            ],
            [
             0.6666666666666666,
             "#ed7953"
            ],
            [
             0.7777777777777778,
             "#fb9f3a"
            ],
            [
             0.8888888888888888,
             "#fdca26"
            ],
            [
             1,
             "#f0f921"
            ]
           ]
          },
          "colorway": [
           "#636efa",
           "#EF553B",
           "#00cc96",
           "#ab63fa",
           "#FFA15A",
           "#19d3f3",
           "#FF6692",
           "#B6E880",
           "#FF97FF",
           "#FECB52"
          ],
          "font": {
           "color": "#2a3f5f"
          },
          "geo": {
           "bgcolor": "white",
           "lakecolor": "white",
           "landcolor": "#E5ECF6",
           "showlakes": true,
           "showland": true,
           "subunitcolor": "white"
          },
          "hoverlabel": {
           "align": "left"
          },
          "hovermode": "closest",
          "mapbox": {
           "style": "light"
          },
          "paper_bgcolor": "white",
          "plot_bgcolor": "#E5ECF6",
          "polar": {
           "angularaxis": {
            "gridcolor": "white",
            "linecolor": "white",
            "ticks": ""
           },
           "bgcolor": "#E5ECF6",
           "radialaxis": {
            "gridcolor": "white",
            "linecolor": "white",
            "ticks": ""
           }
          },
          "scene": {
           "xaxis": {
            "backgroundcolor": "#E5ECF6",
            "gridcolor": "white",
            "gridwidth": 2,
            "linecolor": "white",
            "showbackground": true,
            "ticks": "",
            "zerolinecolor": "white"
           },
           "yaxis": {
            "backgroundcolor": "#E5ECF6",
            "gridcolor": "white",
            "gridwidth": 2,
            "linecolor": "white",
            "showbackground": true,
            "ticks": "",
            "zerolinecolor": "white"
           },
           "zaxis": {
            "backgroundcolor": "#E5ECF6",
            "gridcolor": "white",
            "gridwidth": 2,
            "linecolor": "white",
            "showbackground": true,
            "ticks": "",
            "zerolinecolor": "white"
           }
          },
          "shapedefaults": {
           "line": {
            "color": "#2a3f5f"
           }
          },
          "ternary": {
           "aaxis": {
            "gridcolor": "white",
            "linecolor": "white",
            "ticks": ""
           },
           "baxis": {
            "gridcolor": "white",
            "linecolor": "white",
            "ticks": ""
           },
           "bgcolor": "#E5ECF6",
           "caxis": {
            "gridcolor": "white",
            "linecolor": "white",
            "ticks": ""
           }
          },
          "title": {
           "x": 0.05
          },
          "xaxis": {
           "automargin": true,
           "gridcolor": "white",
           "linecolor": "white",
           "ticks": "",
           "title": {
            "standoff": 15
           },
           "zerolinecolor": "white",
           "zerolinewidth": 2
          },
          "yaxis": {
           "automargin": true,
           "gridcolor": "white",
           "linecolor": "white",
           "ticks": "",
           "title": {
            "standoff": 15
           },
           "zerolinecolor": "white",
           "zerolinewidth": 2
          }
         }
        },
        "title": {
         "text": "Slice Plot"
        },
        "width": 1200,
        "xaxis": {
         "anchor": "y",
         "domain": [
          0,
          0.2125
         ],
         "title": {
          "text": "bagging_fraction"
         }
        },
        "xaxis2": {
         "anchor": "y2",
         "domain": [
          0.2625,
          0.475
         ],
         "title": {
          "text": "feature_fraction"
         }
        },
        "xaxis3": {
         "anchor": "y3",
         "domain": [
          0.525,
          0.7375
         ],
         "title": {
          "text": "lambda_l1"
         },
         "type": "log"
        },
        "xaxis4": {
         "anchor": "y4",
         "domain": [
          0.7875,
          1
         ],
         "title": {
          "text": "lambda_l2"
         },
         "type": "log"
        },
        "yaxis": {
         "anchor": "x",
         "domain": [
          0,
          1
         ],
         "title": {
          "text": "Objective Value"
         }
        },
        "yaxis2": {
         "anchor": "x2",
         "domain": [
          0,
          1
         ],
         "matches": "y",
         "showticklabels": false
        },
        "yaxis3": {
         "anchor": "x3",
         "domain": [
          0,
          1
         ],
         "matches": "y",
         "showticklabels": false
        },
        "yaxis4": {
         "anchor": "x4",
         "domain": [
          0,
          1
         ],
         "matches": "y",
         "showticklabels": false
        }
       }
      }
     },
     "metadata": {},
     "output_type": "display_data"
    }
   ],
   "source": [
    "fig = optuna.visualization.plot_slice(study, params=['min_data_in_leaf', 'num_leaves', 'max_bin', 'min_gain_to_split'])\n",
    "fig.show()\n",
    "fig = optuna.visualization.plot_slice(study, params=['lambda_l1', 'lambda_l2', 'bagging_fraction', 'feature_fraction'])\n",
    "fig.show()\n"
   ]
  },
  {
   "cell_type": "markdown",
   "metadata": {},
   "source": [
    "## 最適化パラメタで再学習\n",
    "\n",
    "Optunaで計算した最適なパラメタを利用して、ホールドアウト法で再学習を行う。再学習したモデルで予測値を計算する。他の分析結果と比較できるように`random_state=0`で分割する。"
   ]
  },
  {
   "cell_type": "code",
   "execution_count": 14,
   "metadata": {},
   "outputs": [
    {
     "name": "stdout",
     "output_type": "stream",
     "text": [
      "X_trの形状： (34502, 31)  y_trの形状： (34502,)  X_vaの形状： (8626, 31)  y_vaの形状： (8626,)\n"
     ]
    }
   ],
   "source": [
    "# 学習データの一部を検証データに分割\n",
    "X_tr, X_va, y_tr, y_va = train_test_split(X_train, y_train, test_size=0.2, shuffle=True, random_state=0)\n",
    "print('X_trの形状：', X_tr.shape, ' y_trの形状：', y_tr.shape, ' X_vaの形状：', X_va.shape, ' y_vaの形状：', y_va.shape)"
   ]
  },
  {
   "cell_type": "code",
   "execution_count": 15,
   "metadata": {},
   "outputs": [
    {
     "name": "stdout",
     "output_type": "stream",
     "text": [
      "Training until validation scores don't improve for 100 rounds\n",
      "[500]\ttrain's l1: 208.18\tvalid's l1: 246.471\n",
      "[1000]\ttrain's l1: 177.985\tvalid's l1: 243.127\n",
      "Early stopping, best iteration is:\n",
      "[1332]\ttrain's l1: 165.75\tvalid's l1: 242.326\n"
     ]
    }
   ],
   "source": [
    "# 最適化ハイパーパラメータを用いた学習\n",
    "lgb_train = lgb.Dataset(X_tr, y_tr)\n",
    "lgb_eval = lgb.Dataset(X_va, y_va, reference=lgb_train)\n",
    "\n",
    "# 最適化ハイパーパラメータを読み込み\n",
    "model = lgb.train(\n",
    "  params_best,\n",
    "  lgb_train,\n",
    "  num_boost_round=10000,\n",
    "  valid_sets=[lgb_train, lgb_eval],\n",
    "  valid_names=['train', 'valid'],\n",
    "  callbacks=[lgb.early_stopping(100),\n",
    "  lgb.log_evaluation(500)]\n",
    "  )"
   ]
  },
  {
   "cell_type": "markdown",
   "metadata": {},
   "source": [
    "テストデータを使って評価する。ここには記載していないが、書籍の内容だと、他の分析結果よりもMAEが10近く改善している。"
   ]
  },
  {
   "cell_type": "code",
   "execution_count": 16,
   "metadata": {},
   "outputs": [
    {
     "name": "stdout",
     "output_type": "stream",
     "text": [
      "MAE valid: 242.33\n",
      "MAE test: 242.00\n"
     ]
    }
   ],
   "source": [
    "# 検証データの予測と評価\n",
    "y_va_pred = model.predict(X_va, num_iteration=model.best_iteration) \n",
    "print('MAE valid: %.2f' % (mean_absolute_error(y_va, y_va_pred)))\n",
    "\n",
    "# テストデータの予測と評価\n",
    "y_test_pred = model.predict(X_test, num_iteration=model.best_iteration) \n",
    "print('MAE test: %.2f' % (mean_absolute_error(y_test, y_test_pred)))"
   ]
  },
  {
   "cell_type": "code",
   "execution_count": 17,
   "metadata": {},
   "outputs": [
    {
     "data": {
      "image/png": "[encoded data removed]",
      "text/plain": [
       "<Figure size 800x400 with 1 Axes>"
      ]
     },
     "metadata": {},
     "output_type": "display_data"
    }
   ],
   "source": [
    "# 特徴量重要度の可視化\n",
    "importances = model.feature_importance(importance_type='gain') # 特徴量重要度\n",
    "indices = np.argsort(importances)[::-1] # 特徴量重要度を降順にソート\n",
    "\n",
    "plt.figure(figsize=(8, 4)) #プロットのサイズ指定\n",
    "plt.title('Feature Importance') # プロットのタイトルを作成\n",
    "plt.bar(range(len(indices)), importances[indices]) # 棒グラフを追加\n",
    "plt.xticks(range(len(indices)), X.columns[indices], rotation=90) # X軸に特徴量の名前を追加\n",
    "plt.show() # プロットを表示"
   ]
  }
 ],
 "metadata": {
  "kernelspec": {
   "display_name": "boat",
   "language": "python",
   "name": "python3"
  },
  "language_info": {
   "codemirror_mode": {
    "name": "ipython",
    "version": 3
   },
   "file_extension": ".py",
   "mimetype": "text/x-python",
   "name": "python",
   "nbconvert_exporter": "python",
   "pygments_lexer": "ipython3",
   "version": "3.8.19"
  }
 },
 "nbformat": 4,
 "nbformat_minor": 2
}
