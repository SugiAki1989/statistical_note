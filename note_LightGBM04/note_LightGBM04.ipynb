{
 "cells": [
  {
   "cell_type": "markdown",
   "metadata": {},
   "source": [
    "# はじめに\n",
    "\n",
    "このノートでは、lightGBMのアルゴリズムに関して、基本的な部分をおさらいして、まとめている。下記の書籍のコードと論文を参考にしている。\n",
    "\n",
    "- [LightGBM予測モデル実装ハンドブック](https://www.shuwasystem.co.jp/book/9784798067612.html)\n",
    "- [LightGBM: A Highly Efficient Gradient Boosting Decision Tree](https://proceedings.neurips.cc/paper_files/paper/2017/file/6449f44a102fde848669bdd9eb6b76fa-Paper.pdf)\n",
    "\n",
    "今回はlightGBMで2値分類に対して、アーリーストッピングを使って、どのようにバリデーションを行うかに焦点をあてている。"
   ]
  },
  {
   "cell_type": "markdown",
   "metadata": {},
   "source": [
    "## モデルの学習\n",
    "\n",
    "必要なライブラリをインポートしておく。"
   ]
  },
  {
   "cell_type": "code",
   "execution_count": 1,
   "metadata": {},
   "outputs": [],
   "source": [
    "# ライブラリのインポート\n",
    "%matplotlib inline\n",
    "import pandas as pd\n",
    "import numpy as np\n",
    "import lightgbm as lgb\n",
    "import matplotlib.pyplot as plt\n",
    "from sklearn.model_selection import train_test_split\n",
    "from sklearn.preprocessing import LabelEncoder\n",
    "from sklearn.metrics import accuracy_score\n",
    "from sklearn.metrics import f1_score\n",
    "# 層化分割のクロスバリデーション\n",
    "from sklearn.metrics import log_loss\n",
    "from sklearn.model_selection import StratifiedKFold\n",
    "import warnings\n",
    "warnings.filterwarnings('ignore', category=UserWarning)"
   ]
  },
  {
   "cell_type": "markdown",
   "metadata": {},
   "source": [
    "ここで使用するデータは、1994年のアメリカの国勢調査に関するサンプルデータ。データの説明は下記の通り。`income`が目的変数で5万ドルを基準に2つに分割されている。\n",
    "\n",
    "|変数|説明|\n",
    "|:---|:---|\n",
    "|`age`| 年齢|\n",
    "|`workclass`| 雇用形態|\n",
    "|`fnlwgt`| ？|\n",
    "|`education`| 学歴|\n",
    "|`education-num`| 教育年数|\n",
    "|`marital-status`| 配偶者のありなし|\n",
    "|`occupation`| 職業|\n",
    "|`relationship`| 世帯内の関係|\n",
    "|`race`| 人物|\n",
    "|`gender`| 性別|\n",
    "|`capital-gain`| キャピタルゲイン|\n",
    "|`capital-loss`| キャピタルロス|\n",
    "|`hours-per-week`| 1週間の労働時間|\n",
    "|`native-country`| 母国|\n",
    "|`income`| 収入(<=50Kは5万ドル以下、>50kは5万ドル超え)|\n"
   ]
  },
  {
   "cell_type": "code",
   "execution_count": 2,
   "metadata": {},
   "outputs": [
    {
     "data": {
      "text/html": [
       "<div>\n",
       "<style scoped>\n",
       "    .dataframe tbody tr th:only-of-type {\n",
       "        vertical-align: middle;\n",
       "    }\n",
       "\n",
       "    .dataframe tbody tr th {\n",
       "        vertical-align: top;\n",
       "    }\n",
       "\n",
       "    .dataframe thead th {\n",
       "        text-align: right;\n",
       "    }\n",
       "</style>\n",
       "<table border=\"1\" class=\"dataframe\">\n",
       "  <thead>\n",
       "    <tr style=\"text-align: right;\">\n",
       "      <th></th>\n",
       "      <th>age</th>\n",
       "      <th>workclass</th>\n",
       "      <th>fnlwgt</th>\n",
       "      <th>education</th>\n",
       "      <th>education-num</th>\n",
       "      <th>marital-status</th>\n",
       "      <th>occupation</th>\n",
       "      <th>relationship</th>\n",
       "      <th>race</th>\n",
       "      <th>gender</th>\n",
       "      <th>capital-gain</th>\n",
       "      <th>capital-loss</th>\n",
       "      <th>hours-per-week</th>\n",
       "      <th>native-country</th>\n",
       "      <th>income</th>\n",
       "    </tr>\n",
       "  </thead>\n",
       "  <tbody>\n",
       "    <tr>\n",
       "      <th>0</th>\n",
       "      <td>39</td>\n",
       "      <td>State-gov</td>\n",
       "      <td>77516</td>\n",
       "      <td>Bachelors</td>\n",
       "      <td>13</td>\n",
       "      <td>Never-married</td>\n",
       "      <td>Adm-clerical</td>\n",
       "      <td>Not-in-family</td>\n",
       "      <td>White</td>\n",
       "      <td>Male</td>\n",
       "      <td>2174</td>\n",
       "      <td>0</td>\n",
       "      <td>40</td>\n",
       "      <td>United-States</td>\n",
       "      <td>&lt;=50K</td>\n",
       "    </tr>\n",
       "    <tr>\n",
       "      <th>1</th>\n",
       "      <td>50</td>\n",
       "      <td>Self-emp-not-inc</td>\n",
       "      <td>83311</td>\n",
       "      <td>Bachelors</td>\n",
       "      <td>13</td>\n",
       "      <td>Married-civ-spouse</td>\n",
       "      <td>Exec-managerial</td>\n",
       "      <td>Husband</td>\n",
       "      <td>White</td>\n",
       "      <td>Male</td>\n",
       "      <td>0</td>\n",
       "      <td>0</td>\n",
       "      <td>13</td>\n",
       "      <td>United-States</td>\n",
       "      <td>&lt;=50K</td>\n",
       "    </tr>\n",
       "    <tr>\n",
       "      <th>2</th>\n",
       "      <td>38</td>\n",
       "      <td>Private</td>\n",
       "      <td>215646</td>\n",
       "      <td>HS-grad</td>\n",
       "      <td>9</td>\n",
       "      <td>Divorced</td>\n",
       "      <td>Handlers-cleaners</td>\n",
       "      <td>Not-in-family</td>\n",
       "      <td>White</td>\n",
       "      <td>Male</td>\n",
       "      <td>0</td>\n",
       "      <td>0</td>\n",
       "      <td>40</td>\n",
       "      <td>United-States</td>\n",
       "      <td>&lt;=50K</td>\n",
       "    </tr>\n",
       "    <tr>\n",
       "      <th>3</th>\n",
       "      <td>53</td>\n",
       "      <td>Private</td>\n",
       "      <td>234721</td>\n",
       "      <td>11th</td>\n",
       "      <td>7</td>\n",
       "      <td>Married-civ-spouse</td>\n",
       "      <td>Handlers-cleaners</td>\n",
       "      <td>Husband</td>\n",
       "      <td>Black</td>\n",
       "      <td>Male</td>\n",
       "      <td>0</td>\n",
       "      <td>0</td>\n",
       "      <td>40</td>\n",
       "      <td>United-States</td>\n",
       "      <td>&lt;=50K</td>\n",
       "    </tr>\n",
       "    <tr>\n",
       "      <th>4</th>\n",
       "      <td>28</td>\n",
       "      <td>Private</td>\n",
       "      <td>338409</td>\n",
       "      <td>Bachelors</td>\n",
       "      <td>13</td>\n",
       "      <td>Married-civ-spouse</td>\n",
       "      <td>Prof-specialty</td>\n",
       "      <td>Wife</td>\n",
       "      <td>Black</td>\n",
       "      <td>Female</td>\n",
       "      <td>0</td>\n",
       "      <td>0</td>\n",
       "      <td>40</td>\n",
       "      <td>Cuba</td>\n",
       "      <td>&lt;=50K</td>\n",
       "    </tr>\n",
       "  </tbody>\n",
       "</table>\n",
       "</div>"
      ],
      "text/plain": [
       "   age          workclass  fnlwgt   education  education-num  \\\n",
       "0   39          State-gov   77516   Bachelors             13   \n",
       "1   50   Self-emp-not-inc   83311   Bachelors             13   \n",
       "2   38            Private  215646     HS-grad              9   \n",
       "3   53            Private  234721        11th              7   \n",
       "4   28            Private  338409   Bachelors             13   \n",
       "\n",
       "        marital-status          occupation    relationship    race   gender  \\\n",
       "0        Never-married        Adm-clerical   Not-in-family   White     Male   \n",
       "1   Married-civ-spouse     Exec-managerial         Husband   White     Male   \n",
       "2             Divorced   Handlers-cleaners   Not-in-family   White     Male   \n",
       "3   Married-civ-spouse   Handlers-cleaners         Husband   Black     Male   \n",
       "4   Married-civ-spouse      Prof-specialty            Wife   Black   Female   \n",
       "\n",
       "   capital-gain  capital-loss  hours-per-week  native-country  income  \n",
       "0          2174             0              40   United-States   <=50K  \n",
       "1             0             0              13   United-States   <=50K  \n",
       "2             0             0              40   United-States   <=50K  \n",
       "3             0             0              40   United-States   <=50K  \n",
       "4             0             0              40            Cuba   <=50K  "
      ]
     },
     "execution_count": 2,
     "metadata": {},
     "output_type": "execute_result"
    }
   ],
   "source": [
    "# データセットの読み込み\n",
    "df = pd.read_csv('https://archive.ics.uci.edu/ml/machine-learning-databases/adult/adult.data', header=None)\n",
    "df.columns =['age', 'workclass', 'fnlwgt', 'education', 'education-num', 'marital-status', 'occupation', 'relationship', 'race', 'gender', 'capital-gain', 'capital-loss', 'hours-per-week', 'native-country', 'income']\n",
    "df.head()"
   ]
  },
  {
   "cell_type": "markdown",
   "metadata": {},
   "source": [
    "モデルを学習させるための前処理を行っておく。"
   ]
  },
  {
   "cell_type": "code",
   "execution_count": 3,
   "metadata": {},
   "outputs": [],
   "source": [
    "# 前処理\n",
    "# 文字列の半角スペース削除\n",
    "cat_cols = ['workclass', 'education', 'marital-status', 'occupation', 'relationship', 'race', 'gender', 'native-country', 'income']\n",
    "for s in cat_cols:\n",
    "  df[s] =df[s].str.replace(' ', '')\n",
    "\n",
    "# United-Statesのレコードに絞り特徴量native-countryを削除\n",
    "df = df[df['native-country'].isin(['United-States'])]\n",
    "df = df.drop(['native-country'], axis=1)\n",
    "df.reset_index(inplace=True, drop=True)\n",
    "\n",
    "# 正解ラベルの数値への置換\n",
    "df['income'] = df['income'].replace('<=50K', 0)\n",
    "df['income'] = df['income'].replace('>50K', 1)\n"
   ]
  },
  {
   "cell_type": "markdown",
   "metadata": {},
   "source": [
    "## ホールドアウト法\n",
    "\n",
    "アーリーストッピングの機能を使う以前にモデル評価における、データの分割をおさらいしておく。ハイパーパラメタのチューニングが不要なモデル以外では、学習とテストの2種類にデータを分けて評価を行うことは少ないと思われる。学習と検証、テストの3種類に分けて評価するのが一般的。このようにデータを分割することで、検証データでパラメタのチューニングを行い、テストデータはモデルの汎化性能を高めるために利用する。\n",
    "\n",
    "加え、データを分割する方法も考えないといけないが、まず、ホールドアウト法を利用して、学習、検証、テストを6:2:2くらいの割合でデータを分割し、アーリーストッピングの機能を使ってみる。"
   ]
  },
  {
   "cell_type": "code",
   "execution_count": 4,
   "metadata": {},
   "outputs": [
    {
     "name": "stdout",
     "output_type": "stream",
     "text": [
      "X_trの形状： (18668, 13)  y_trの形状： (18668,)\n",
      "X_vaの形状： (4668, 13)  y_vaの形状： (4668,)\n",
      "X_testの形状： (5834, 13)  y_testの形状： (5834,)\n"
     ]
    }
   ],
   "source": [
    "# 特徴量と目的変数の設定\n",
    "X = df.drop(['income'], axis=1)\n",
    "y = df['income']\n",
    "# 学習データとテストデータに分割\n",
    "X_train, X_test, y_train, y_test = train_test_split(X, y, test_size=0.2, shuffle=True, stratify=y, random_state=0)\n",
    "# print('X_trainの形状：', X_train.shape, ' y_trainの形状：', y_train.shape, ' X_testの形状：', X_test.shape, ' y_testの形状：', y_test.shape)\n",
    "\n",
    "# カテゴリ変数の前処理\n",
    "# カテゴリ変数のlabel encoding\n",
    "cat_cols = ['workclass', 'education', 'marital-status', 'occupation', 'relationship', 'race', 'gender']\n",
    "\n",
    "for c in cat_cols:\n",
    "    le = LabelEncoder()\n",
    "    le.fit(X_train[c])\n",
    "    X_train[c] = le.transform(X_train[c])\n",
    "    X_test[c] = le.transform(X_test[c])\n",
    "\n",
    "    # データ型をcategory型に変換\n",
    "    X_train[c] = X_train[c].astype('category')\n",
    "    X_test[c] = X_test[c].astype('category')\n",
    "\n",
    "#X_train.info()\n",
    "# 学習データの20%を検証データに分割\n",
    "X_tr, X_va, y_tr, y_va = train_test_split(X_train, y_train, test_size=0.2, shuffle=True, stratify=y_train, random_state=0)\n",
    "print('X_trの形状：', X_tr.shape, ' y_trの形状：', y_tr.shape)\n",
    "print('X_vaの形状：', X_va.shape, ' y_vaの形状：', y_va.shape)\n",
    "print('X_testの形状：', X_test.shape, ' y_testの形状：', y_test.shape)"
   ]
  },
  {
   "cell_type": "markdown",
   "metadata": {},
   "source": [
    "学習データ、検証データを利用してモデルを学習する。そもそもアーリーストッピングとは何か。アーリーストッピングはブースティング回数をコントロールする機能で、LightGBMはブースティング回数を増やせば増やすほどテストデータに対して過学習をしてしまいやすい性質がある。そこでアーリーストッピングでは、検証データをパラメタのチューニングに使用し、検証データの誤差が低下しなくなったら、ブースティング回数をその時点で終了させる。こうすることでモデルの過学習を防ぐことができる。下記では、`early_stopping(10)`としているため、10回実行しても誤差が低下しないとき、学習を終了する。"
   ]
  },
  {
   "cell_type": "code",
   "execution_count": 5,
   "metadata": {},
   "outputs": [
    {
     "name": "stdout",
     "output_type": "stream",
     "text": [
      "Training until validation scores don't improve for 10 rounds\n",
      "[100]\ttrain's binary_logloss: 0.285093\tvalid's binary_logloss: 0.297689\n",
      "[200]\ttrain's binary_logloss: 0.271357\tvalid's binary_logloss: 0.291118\n",
      "Early stopping, best iteration is:\n",
      "[200]\ttrain's binary_logloss: 0.271357\tvalid's binary_logloss: 0.291118\n"
     ]
    }
   ],
   "source": [
    "lgb_train = lgb.Dataset(X_tr, y_tr)\n",
    "lgb_eval = lgb.Dataset(X_va, y_va, reference=lgb_train)\n",
    "\n",
    "params = {\n",
    "    'objective': 'binary',\n",
    "    'num_leaves': 5,\n",
    "    'seed': 0,\n",
    "    'verbose': -1,\n",
    "}\n",
    "\n",
    "# 誤差プロットの格納用データ\n",
    "evals_result = {} \n",
    "# モデルの学習\n",
    "model = lgb.train(\n",
    "  params,\n",
    "  lgb_train,\n",
    "  num_boost_round=500,\n",
    "  valid_sets=[lgb_train, lgb_eval],\n",
    "  valid_names=['train', 'valid'],\n",
    "  callbacks=[\n",
    "    lgb.early_stopping(10),\n",
    "    lgb.log_evaluation(100),\n",
    "    lgb.record_evaluation(evals_result)\n",
    "    ]\n",
    "  )"
   ]
  },
  {
   "cell_type": "markdown",
   "metadata": {},
   "source": [
    "学習データと検証データの誤差プロットを確認すると、200回目あたりでオレンジ色の線が下降しなくなっている。つまり、学習しても誤差が改善されないので、この時点で学習が終了されている。"
   ]
  },
  {
   "cell_type": "code",
   "execution_count": 6,
   "metadata": {},
   "outputs": [
    {
     "data": {
      "text/plain": [
       "<Axes: title={'center': 'Metric during training'}, xlabel='Iterations', ylabel='binary_logloss'>"
      ]
     },
     "execution_count": 6,
     "metadata": {},
     "output_type": "execute_result"
    },
    {
     "data": {
      "image/png": "[encoded data removed]",
      "text/plain": [
       "<Figure size 640x480 with 1 Axes>"
      ]
     },
     "metadata": {},
     "output_type": "display_data"
    }
   ],
   "source": [
    "# 学習が停止したブースティング回数\n",
    "# model.best_iteration: 200\n",
    "# 学習データと検証データの誤差プロット\n",
    "lgb.plot_metric(evals_result)"
   ]
  },
  {
   "cell_type": "markdown",
   "metadata": {},
   "source": [
    "検証データの予測と評価、テストデータの予測と評価を行うことで、検証データが過学習しているかを確認する。まずは検証データの評価指標は`Accuracy=0.87`、`F1-score=0.70`である。一方で、テストデータの評価指標は`Accuracy=0.86`、`F1-score=0.68`であるため、少しではあるが、検証データに過学習してしまっていることがわかる。"
   ]
  },
  {
   "cell_type": "code",
   "execution_count": 7,
   "metadata": {},
   "outputs": [
    {
     "name": "stdout",
     "output_type": "stream",
     "text": [
      "ラベル1の確率： [0.03758662 0.00051379 0.16303104 ... 0.00878358 0.07152312 0.41445192]\n",
      "予測ラベル値： [0. 0. 0. ... 0. 0. 0.]\n",
      "accuracy = 0.87\n",
      "F1-score = 0.70\n"
     ]
    }
   ],
   "source": [
    "# 検証データの予測と評価\n",
    "y_va_pred_proba = model.predict(X_va, num_iteration=model.best_iteration) # ラベル1の確率\n",
    "print('ラベル1の確率：', y_va_pred_proba)\n",
    "y_va_pred = np.round(y_va_pred_proba) # 確率をラベル0 or 1に変換\n",
    "print('予測ラベル値：', y_va_pred)\n",
    "\n",
    "ac_score = accuracy_score(y_va, y_va_pred)\n",
    "print('accuracy = %.2f' % (ac_score))\n",
    "\n",
    "f1 = f1_score(y_va, y_va_pred)\n",
    "print('F1-score = %.2f' % (f1))"
   ]
  },
  {
   "cell_type": "code",
   "execution_count": 8,
   "metadata": {},
   "outputs": [
    {
     "name": "stdout",
     "output_type": "stream",
     "text": [
      "ラベル1の確率： [0.02738649 0.1740557  0.19527131 ... 0.99293736 0.04875194 0.04739031]\n",
      "予測ラベル値： [0. 0. 0. ... 1. 0. 0.]\n",
      "accuracy = 0.86\n",
      "F1-score = 0.68\n"
     ]
    }
   ],
   "source": [
    "# テストデータの予測と評価\n",
    "y_test_pred_proba = model.predict(X_test, num_iteration=model.best_iteration) # ラベル1の確率\n",
    "print('ラベル1の確率：', y_test_pred_proba)\n",
    "y_test_pred = np.round(y_test_pred_proba) # 確率をラベル0 or 1に変換\n",
    "print('予測ラベル値：', y_test_pred)\n",
    "\n",
    "ac_score = accuracy_score(y_test, y_test_pred)\n",
    "print('accuracy = %.2f' % (ac_score))\n",
    "\n",
    "f1 = f1_score(y_test, y_test_pred)\n",
    "print('F1-score = %.2f' % (f1))"
   ]
  },
  {
   "cell_type": "markdown",
   "metadata": {},
   "source": [
    "## クロスバリデーション法\n",
    "\n",
    "ホールドアウト法は、データを学習、検証、テストデータに3分割する。このとき、場合によっては、サンプルデータに偏りが生じてしまい、偏ったデータに対して学習することで汎化性能が失われる可能性がある。これを回避する方法として、クロスバリデーション法がある。\n",
    "\n",
    "クロスバリデーション法では、学習データを分割する回数をK回に増やす。分割単位をHoldと呼ぶが、K-Hold作って、モデルを複数個作って、学習、検証していき、最終的には平均化することで偏りを防止する。例えば5Holdの場合、下記のようなイメージとなる。また、各Holdの学習に使用していない検証データのHoldを`Out Of Hold(oof)`と呼ぶ。`oof`は学習データの長さと同じになる。"
   ]
  },
  {
   "cell_type": "code",
   "execution_count": 9,
   "metadata": {},
   "outputs": [],
   "source": [
    "# - Hold1: train / train / train / train / VALID\n",
    "# - Hold2: train / train / train / VALID / train\n",
    "# - Hold3: train / train / VALID / train / train\n",
    "# - Hold4: train / VALID / train / train / train\n",
    "# - Hold5: VALID / train / train / train / train\n",
    "# ↓\n",
    "# - Eval: VALID / VALID / VALID / VALID / VALID\n",
    "# ↓\n",
    "# 平均化"
   ]
  },
  {
   "cell_type": "markdown",
   "metadata": {},
   "source": [
    "クロスバリデーションはホールドアウト法に比べると、時間もかかり、コードも少し複雑になる。"
   ]
  },
  {
   "cell_type": "code",
   "execution_count": 10,
   "metadata": {},
   "outputs": [
    {
     "name": "stdout",
     "output_type": "stream",
     "text": [
      "Training until validation scores don't improve for 10 rounds\n",
      "[100]\ttrain's binary_logloss: 0.288706\tvalid's binary_logloss: 0.287306\n",
      "[200]\ttrain's binary_logloss: 0.275793\tvalid's binary_logloss: 0.278749\n",
      "Early stopping, best iteration is:\n",
      "[278]\ttrain's binary_logloss: 0.268845\tvalid's binary_logloss: 0.275477\n",
      "------------------------------------------------------------------------\n",
      "fold 1 accuracy_score: 0.873179   logloss: 0.275477\n",
      "------------------------------------------------------------------------\n",
      "Training until validation scores don't improve for 10 rounds\n",
      "[100]\ttrain's binary_logloss: 0.287829\tvalid's binary_logloss: 0.29263\n",
      "[200]\ttrain's binary_logloss: 0.274043\tvalid's binary_logloss: 0.284794\n",
      "Early stopping, best iteration is:\n",
      "[212]\ttrain's binary_logloss: 0.272111\tvalid's binary_logloss: 0.283514\n",
      "------------------------------------------------------------------------\n",
      "fold 2 accuracy_score: 0.875509   logloss: 0.283514\n",
      "------------------------------------------------------------------------\n",
      "Training until validation scores don't improve for 10 rounds\n",
      "[100]\ttrain's binary_logloss: 0.286818\tvalid's binary_logloss: 0.29414\n",
      "[200]\ttrain's binary_logloss: 0.27296\tvalid's binary_logloss: 0.286963\n",
      "Early stopping, best iteration is:\n",
      "[243]\ttrain's binary_logloss: 0.268831\tvalid's binary_logloss: 0.284629\n",
      "------------------------------------------------------------------------\n",
      "fold 3 accuracy_score: 0.868867   logloss: 0.284629\n",
      "------------------------------------------------------------------------\n",
      "Training until validation scores don't improve for 10 rounds\n",
      "[100]\ttrain's binary_logloss: 0.285241\tvalid's binary_logloss: 0.299504\n",
      "[200]\ttrain's binary_logloss: 0.27159\tvalid's binary_logloss: 0.291395\n",
      "[300]\ttrain's binary_logloss: 0.263487\tvalid's binary_logloss: 0.288628\n",
      "Early stopping, best iteration is:\n",
      "[297]\ttrain's binary_logloss: 0.263727\tvalid's binary_logloss: 0.288521\n",
      "------------------------------------------------------------------------\n",
      "fold 4 accuracy_score: 0.874438   logloss: 0.288521\n",
      "------------------------------------------------------------------------\n",
      "Training until validation scores don't improve for 10 rounds\n",
      "[100]\ttrain's binary_logloss: 0.286321\tvalid's binary_logloss: 0.296634\n",
      "[200]\ttrain's binary_logloss: 0.271693\tvalid's binary_logloss: 0.289273\n",
      "Early stopping, best iteration is:\n",
      "[243]\ttrain's binary_logloss: 0.26774\tvalid's binary_logloss: 0.287875\n",
      "------------------------------------------------------------------------\n",
      "fold 5 accuracy_score: 0.864367   logloss: 0.287875\n",
      "------------------------------------------------------------------------\n"
     ]
    }
   ],
   "source": [
    "params = {\n",
    "    'objective': 'binary',\n",
    "    'num_leaves': 5,\n",
    "    'seed': 0,\n",
    "    'verbose': -1,\n",
    "}\n",
    "\n",
    "# 格納用データの作成\n",
    "accuracy_scores = []\n",
    "logloss_scores = []\n",
    "models = []\n",
    "oof = np.zeros(len(X_train))\n",
    "\n",
    "# KFoldを用いて学習データを5分割してモデルを作成\n",
    "kf = StratifiedKFold(n_splits=5, shuffle=True, random_state=1)\n",
    "for fold, (tr_idx, va_idx) in enumerate(kf.split(X_train, y_train)):\n",
    "    X_tr = X_train.iloc[tr_idx] # 学習データX\n",
    "    X_va = X_train.iloc[va_idx] # 検証データX\n",
    "    y_tr = y_train.iloc[tr_idx] # 学習データY\n",
    "    y_va = y_train.iloc[va_idx] # 検証データY\n",
    "\n",
    "    lgb_train = lgb.Dataset(X_tr, y_tr)                     # 学習データ\n",
    "    lgb_eval = lgb.Dataset(X_va, y_va, reference=lgb_train) # 検証データ\n",
    "\n",
    "    model = lgb.train(\n",
    "        params,\n",
    "        lgb_train,\n",
    "        num_boost_round=500,\n",
    "        valid_sets=[lgb_train, lgb_eval],\n",
    "        valid_names=['train', 'valid'],\n",
    "        callbacks=[lgb.early_stopping(10), # 各ホールドに対してアーリーストッピングを適用\n",
    "        lgb.log_evaluation(100)]\n",
    "        )\n",
    "\n",
    "    y_va_pred = model.predict(X_va, num_iteration=model.best_iteration) # 検証データXで検証データ予測Yhatを予測\n",
    "    accuracy = accuracy_score(y_va, np.round(y_va_pred))                # 検証データの予測値の評価\n",
    "    logloss = log_loss(y_va, y_va_pred)\n",
    "    print('------------------------------------------------------------------------')\n",
    "    print(f'fold {fold+1} accuracy_score: {accuracy:4f}   logloss: {logloss:4f}')\n",
    "    print('------------------------------------------------------------------------')\n",
    "    \n",
    "    # スコア、モデル、予測値の格納\n",
    "    accuracy_scores.append(accuracy)\n",
    "    logloss_scores.append(logloss)\n",
    "    models.append(model)\n",
    "    oof[va_idx] = y_va_pred # 使用された検証データを対応するインデックスの位置に保存\n",
    "\n"
   ]
  },
  {
   "cell_type": "markdown",
   "metadata": {},
   "source": [
    "あとは検証データの予測値で評価されているスコアを平均する。"
   ]
  },
  {
   "cell_type": "code",
   "execution_count": 11,
   "metadata": {},
   "outputs": [
    {
     "name": "stdout",
     "output_type": "stream",
     "text": [
      "[0.8731790916880892, 0.8755088922219841, 0.8688665095350332, 0.8744375401757017, 0.8643668309406471]\n",
      "[0.2754773200078629, 0.28351396797714135, 0.28462885695176876, 0.28852073572865367, 0.28787500874310196]\n",
      "CV accuracy score: 0.871272 \n",
      "CV logloss score: 0.284003 \n"
     ]
    }
   ],
   "source": [
    "# foldごとの検証データの正解率\n",
    "print(accuracy_scores) \n",
    "print(logloss_scores)\n",
    "\n",
    "# クロスバリデーションの平均スコア\n",
    "cv_accuracy_score = np.mean(accuracy_scores)\n",
    "cv_logloss_score = np.mean(logloss_scores)\n",
    "\n",
    "print(f'CV accuracy score: {cv_accuracy_score:4f} ')\n",
    "print(f'CV logloss score: {cv_logloss_score:4f} ')"
   ]
  },
  {
   "cell_type": "markdown",
   "metadata": {},
   "source": [
    "## クロスバリデーション後の予測モデル\n",
    "\n",
    "クロスバリデーション法でモデルを学習したときの疑問として、テストデータはどのモデルで予測すればよいのだろうか。これに関してはいくつかの方法がある。ここでは`K=5`で話を進める。\n",
    "\n",
    "- 1つ目: 1個の予測モデルを選択して予測値を計算する\n",
    "- 2つ目: 5個の予測モデルそれぞれを用いて、テストデータで予測し、平均化することで予測値を計算する\n",
    "- 3つ目: ベストなパラメタを使って、学習、検証データをまとめて学習データとして、再学習した1個の予測モデルで予測値を計算する\n",
    "\n",
    "ここでは2つ目の方法を実装する。"
   ]
  },
  {
   "cell_type": "code",
   "execution_count": 12,
   "metadata": {},
   "outputs": [
    {
     "name": "stdout",
     "output_type": "stream",
     "text": [
      "モデルごとの予測： (5, 5834)\n",
      "[[0.02017636 0.20380873 0.24776816 ... 0.99661032 0.05167082 0.03540748]\n",
      " [0.04249922 0.18700294 0.19434167 ... 0.995257   0.03221527 0.0447415 ]\n",
      " [0.02775357 0.19899315 0.23513707 ... 0.99278964 0.04744272 0.04556685]\n",
      " [0.0273054  0.19537114 0.2057344  ... 0.9970839  0.03791429 0.03745138]\n",
      " [0.03392626 0.21499187 0.20476193 ... 0.99682943 0.03255846 0.03882356]]\n"
     ]
    }
   ],
   "source": [
    "# モデルごとのテストデータの予測\n",
    "preds = []\n",
    "for model in models:\n",
    "  # クロスバリデーションで作成したモデルで予測\n",
    "  y_test_pred = model.predict(X_test, num_iteration=model.best_iteration)\n",
    "  # 5つの1次元配列[array([ ... ]),array([ ... ]),...,array([ ... ])]\n",
    "  preds.append(y_test_pred) \n",
    "\n",
    "# 5つの1次元配列が行として積み重ねられた2次元の配列[[ ... ], [ ... ], ..., [ ... ]]\n",
    "y_test_preds = np.array(preds) \n",
    "print('モデルごとの予測：', y_test_preds.shape)\n",
    "print(y_test_preds)"
   ]
  },
  {
   "cell_type": "markdown",
   "metadata": {},
   "source": [
    "これらの各予測値のインデックスに対応する部分を平均化する。つまり、最初の場合は、下記の平均となる。"
   ]
  },
  {
   "cell_type": "code",
   "execution_count": 13,
   "metadata": {},
   "outputs": [
    {
     "data": {
      "text/plain": [
       "0.030332161999999996"
      ]
     },
     "execution_count": 13,
     "metadata": {},
     "output_type": "execute_result"
    }
   ],
   "source": [
    "(0.02017636 + 0.04249922 + 0.02775357 + 0.0273054 + 0.03392626) / 5"
   ]
  },
  {
   "cell_type": "code",
   "execution_count": 14,
   "metadata": {},
   "outputs": [
    {
     "name": "stdout",
     "output_type": "stream",
     "text": [
      "全モデルの予測確率の平均： (5834,)\n",
      "[0.03033216 0.20003357 0.21754865 ... 0.99571406 0.04036031 0.04039815]\n"
     ]
    }
   ],
   "source": [
    "# 全モデルの予測平均\n",
    "# axis=0は列方向に関数を適用\n",
    "y_test_pred_mean = np.mean(y_test_preds ,axis=0)\n",
    "print('全モデルの予測確率の平均：', y_test_pred_mean.shape)\n",
    "print(y_test_pred_mean)"
   ]
  },
  {
   "cell_type": "markdown",
   "metadata": {},
   "source": [
    "あとは最終的に平均化された予測値を利用して、テストデータで評価する。"
   ]
  },
  {
   "cell_type": "code",
   "execution_count": 15,
   "metadata": {},
   "outputs": [
    {
     "name": "stdout",
     "output_type": "stream",
     "text": [
      "------------------------------------------------------------------------\n",
      "accuracy_score: 0.863558   logloss: 0.287875\n",
      "------------------------------------------------------------------------\n"
     ]
    }
   ],
   "source": [
    "accuracy = accuracy_score(y_test, np.round(y_test_pred_mean)) \n",
    "logloss = log_loss(y_va, y_va_pred)\n",
    "print('------------------------------------------------------------------------')\n",
    "print(f'accuracy_score: {accuracy:4f}   logloss: {logloss:4f}')\n",
    "print('------------------------------------------------------------------------')"
   ]
  }
 ],
 "metadata": {
  "kernelspec": {
   "display_name": "boat",
   "language": "python",
   "name": "python3"
  },
  "language_info": {
   "codemirror_mode": {
    "name": "ipython",
    "version": 3
   },
   "file_extension": ".py",
   "mimetype": "text/x-python",
   "name": "python",
   "nbconvert_exporter": "python",
   "pygments_lexer": "ipython3",
   "version": "3.8.19"
  }
 },
 "nbformat": 4,
 "nbformat_minor": 2
}
