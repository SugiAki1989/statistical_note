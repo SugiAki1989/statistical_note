{
 "cells": [
  {
   "cell_type": "markdown",
   "metadata": {},
   "source": [
    "# はじめに\n",
    "\n",
    "このノートではLightGBMを理解するために、下記のmeanxaiの動画を参考にしながら、LightGBMのアルゴリズムについて理解を深める。\n",
    "\n",
    "- [[MXML-12-03] Light GBM [3/5] - Exclusive Feature Bundling (EFB), Greedy Bundling](https://www.youtube.com/watch?v=Y-IvfsjmqOQ&list=PLQXYdeUrQvu5z2hYI6TTiqBLCq7qWJ45n&index=4)\n",
    "- [[MXML-12-04] Light GBM [4/5] - Merge Exclusive Features for EFB](https://www.youtube.com/watch?v=orSRRtWtPwE&list=PLQXYdeUrQvu5z2hYI6TTiqBLCq7qWJ45n&index=6)\n",
    "\n",
    "\n",
    "今回は、Exclusive Feature Bundling(EFB)アルゴリズム、EFBに対するMerge Exclusive Featuresアルゴリズムに焦点をあてる。"
   ]
  },
  {
   "cell_type": "markdown",
   "metadata": {},
   "source": [
    "## Exclusive Feature Bundling(EFB)アルゴリズム\n",
    "\n",
    "EFBアルゴリズムは、特徴量の数を効果的にまとめてしまうことを提案しているアルゴリズム。具体的には、多くのスパースな特徴量は排他的で、互いに0以外の値を取っている(コンフリクト)ことは少ない。そのため、特徴量の多くがスパースなケースなどでは、個々の特徴から同じ特徴を持つようにまとめて(バンドル)しまえば、ロスレスで効率的に学習を進めることができる。\n",
    "\n",
    "- Greedy Bundling: コンフリクトの回数が一定の閾値以下であればバンドルする\n",
    "- Merge Exclusive Features: 同じバンドルに含まれる特徴量を、各値が取る範囲が被らないように範囲をシフトさせてまとめる\n",
    "\n",
    "まずは、Greedy Bundlingから始める。下記のデータがあったとき、F0とF1はいくつかの値がコンフリクトしている(×で表現している)。6個がコンフリクトしている状態。\n",
    "\n",
    "|No| F0| F1| F2| F3| F4|\n",
    "|:--|:--|:--|:--|:--|:--|\n",
    "|0|×1|×1|0|0|1|\n",
    "|1|0|0|1|1|1|\n",
    "|2|×1|×2|0|0|2|\n",
    "|3|0|0|2|3|1|\n",
    "|4|×2|×1|0|0|3|\n",
    "|5|×3|×3|0|0|1|\n",
    "|6|0|0|3|0|2|\n",
    "|7|×1|×2|3|4|3|\n",
    "|8|1|0|1|0|0|\n",
    "|9|×2|×3|0|0|1|\n",
    "\n",
    "F1とF2はほとんどが排他的な状態になっている(◯で表現している)。1個がコンフリクトしている状態。\n",
    "\n",
    "|No| F0| F1| F2| F3| F4|\n",
    "|:--|:--|:--|:--|:--|:--|\n",
    "|0|1|◯1|◯0|0|1|\n",
    "|1|0|◯0|◯1|1|1|\n",
    "|2|1|◯2|◯0|0|2|\n",
    "|3|0|◯0|◯2|3|1|\n",
    "|4|2|◯1|◯0|0|3|\n",
    "|5|3|◯3|◯0|0|1|\n",
    "|6|0|◯0|◯3|0|2|\n",
    "|7|1|2|3|4|3|\n",
    "|8|1|◯0|◯1|0|0|\n",
    "|9|2|◯3|◯0|0|1|\n",
    "\n",
    "このように各特徴量ごとにコンフリクトの数を計算し、コンフリクト集計行列にまとめるとわかりやすい。\n",
    "\n",
    "|| F0| F1| F2| F3| F4|\n",
    "|:--|:--|:--|:--|:--|:--|\n",
    "|F0| | 6 | 2 | 1 | 6 |\n",
    "|F1|6 |  | 1 | 1 | 6 |\n",
    "|F2|2 | 1 |  | 3 | 4 |\n",
    "|F3|1 | 1 | 3 |  | 3 |\n",
    "|F4| 6| 6 | 4 | 3 |  |\n",
    "|$\\sum$| 15| 14 | 10 | 8 | 19 |\n",
    "\n",
    "そして、合計行を降順に並び替えたものをSearch Orderと呼ぶ。これを見るとF4は最も多くのコンフリクトが発生していることがわかる。\n",
    "\n",
    "|| F4| F0| F1| F2| F3|\n",
    "|:--|:--|:--|:--|:--|:--|\n",
    "|$\\sum$| 19| 15 | 14 | 10 | 8 |"
   ]
  },
  {
   "cell_type": "markdown",
   "metadata": {},
   "source": [
    "これらの情報をもとにグラフにするとなおわかりよい。まずはコンフリクト許容値$K$を設定する。$K=1$とすることで、不要なパスを削除できる。F0とF3、F1とF2がバンドルされる。F3はすでにバンドルされているので、F1とバンドルされない。\n",
    "\n",
    "<img src='./BoostBundle.png'>\n",
    "\n",
    "|No| F0| F3|| F1| F2|| F4|\n",
    "|:--|:--|:--|:--|:--|:--|:--|:--|\n",
    "|0|1|0| |1|0| |1|\n",
    "|1|0|1| |0|1| |1|\n",
    "|2|1|0| |2|0| |2|\n",
    "|3|0|3| |0|2| |1|\n",
    "|4|2|0| |1|0| |3|\n",
    "|5|3|0| |3|0| |1|\n",
    "|6|0|0| |0|3| |2|\n",
    "|7|1|4| |2|3| |3|\n",
    "|8|1|0| |0|1| |0|\n",
    "|9|2|0| |3|0| |1|\n",
    "\n",
    "このような形でバンドルする特徴量を見つけていく。実際のアルゴリズムについては、文字での説明が難しいので、コードを用いて理解する。"
   ]
  },
  {
   "cell_type": "markdown",
   "metadata": {},
   "source": [
    "## Exclusive Feature Bundling(EFB)アルゴリズムの実装"
   ]
  },
  {
   "cell_type": "code",
   "execution_count": 26,
   "metadata": {},
   "outputs": [
    {
     "name": "stdout",
     "output_type": "stream",
     "text": [
      "bundles: [[4], [0, 3], [1, 2]]\n",
      "bundlesConflict: [0.0, 1.0, 1.0]\n"
     ]
    }
   ],
   "source": [
    "import numpy as np\n",
    "\n",
    "x = np.array([[1, 1, 0, 0, 1],\n",
    "              [0, 0, 1, 1, 1],\n",
    "              [1, 2, 0, 0, 2],\n",
    "              [0, 0, 2, 3, 1],\n",
    "              [2, 1, 0, 0, 3],\n",
    "              [3, 3, 0, 0, 1],\n",
    "              [0, 0, 3, 0, 2],\n",
    "              [1, 2, 3, 4, 3],\n",
    "              [1, 0, 1, 0, 0],\n",
    "              [2, 3, 0, 0, 2]])\n",
    "\n",
    "# コンフリクト行列\n",
    "n_row = x. shape [0]\n",
    "n_col = x. shape [1]\n",
    "conflictCnt = np.zeros((n_col, n_col))\n",
    "\n",
    "# コンフリクトの数を数える。コンフリクトしていない場合、かけ合わせると0になる\n",
    "for i in range(n_col):\n",
    "  for j in range(i+1, n_col):\n",
    "    conflictCnt[i, j] = len(np. where(x[:, i] * x[:, j] > 0)[0])\n",
    "\n",
    "iu = np.triu_indices(n_col, 1)\n",
    "il = (iu[1], iu[0])\n",
    "conflictCnt[il] = conflictCnt[iu]\n",
    "\n",
    "# search order行列を作る\n",
    "degree = conflictCnt.sum(axis=0)\n",
    "searchOrder = np.argsort(degree)[::-1] # 降順\n",
    "\n",
    "# コンフリクトの許容値\n",
    "K=1 \n",
    "bundles, bundlesConflict = [], [] \n",
    "\n",
    "for i in searchOrder:\n",
    "  needNew = True\n",
    "  for j in range(len(bundles)): \n",
    "    # 最初はからなのでスキップされる\n",
    "    cnt = conflictCnt[bundles[j][-1], i]\n",
    "\n",
    "    # 許容値K以下をバンドルの候補とする\n",
    "    if cnt + bundlesConflict[j] <= K:\n",
    "      # i 番目の特徴量をj番目のバンドルに追加\n",
    "      bundles[j].append(i)\n",
    "      # j番目のバンドルに含まれる特徴量のコンフリクト数を更新\n",
    "      bundlesConflict[j] += cnt\n",
    "      needNew = False\n",
    "      break\n",
    "\n",
    "  if needNew:\n",
    "    bundles.append([i])\n",
    "    bundlesConflict.append(0.)\n",
    "\n",
    "print('bundles:', bundles)\n",
    "print ('bundlesConflict:', bundlesConflict)"
   ]
  },
  {
   "cell_type": "markdown",
   "metadata": {},
   "source": [
    "## Merge Exclusive Featuresアルゴリズム\n",
    "\n",
    "Merge Exclusive Featuresアルゴリズムについて。このアルゴリズムはバンドルされた個々の特徴量から同じ特徴を持つように構築するアルゴリズム。つまり、何でもかんでも合成すればよいのではなく、元の特徴を識別できるように構築する必要がある。ヒストグラムベースの分割アルゴリズムは連続値ではなく離散ビンで値を保存するため、排他的な特徴を異なるビンに移動して共存させることができる。\n",
    "\n",
    "具体的には、オフセットを追加することで実現する。特徴量Aは範囲0-10で、特徴量Bは範囲0-20だとする。特徴量Bにオフセットとして10を追加する。オフセットは特徴量Aの最大値であり、バンドルされた特徴量は0−30の範囲をとるようになる。Greedy Bundlingの説明で使用したデータを利用する。`F = [1: F0, 2:F3]`である。まずはF0,F3の最大値を取得して、`binRange = [0, 3, 7(3+4)]`を作成する。2つ目の特徴量の最大値は1つ目の特徴量の最大値にプラスする。あとは、F0,F3の各値を比較して、`newBin`を作成する。2つ目の特徴量が0️のときは、1つ目の特徴量をそのまま持ってくる。反対に、1つ目の特徴量が0️のときは、2つ目の特徴量に1つ目の特徴量の最大範囲を足し合わせる。コンフリクトしている部分は、1つ目の特徴量の値に`binRange`の1つ目の値である0を足して、2つ目の特徴量の値に`binRange`の2つ目の値である3を足しあわせる。\n",
    "\n",
    "|No| F0(j=1)| F3(j=2)||newBin|\n",
    "|:--|:--|:--|:--|:--|\n",
    "|i=1|1|0 | F[1].bin[1]=1≠0(F[2].bin[1]=0) → newBin[0]=1+0 |1|\n",
    "|i=2|0|1 | 2つ目の特徴量の1は1つ目の特徴量の最大範囲を足すため1+3=4|4|\n",
    "|i=3|1|0 | |1|\n",
    "|i=4|0|3 | (F[1].bin[4]=0)F[2].bin[1]=3≠0 → newBin[4]=3+3 |6|\n",
    "|i=5|2|0 | |2|\n",
    "|i=6|3|0 | F[1].bin[6]=3≠0(F[2].bin[6]=0) → newBin[6]=3+0 |3|\n",
    "|i=7|0|0 | |0|\n",
    "|i=8|1|4 | F[1].bin[8]=1≠0(F[2].bin[8]=4≠0) → newBin[8]=1+0(newBin[8]=4+3) |7|\n",
    "|i=9|1|0 | |1|\n",
    "|i=10|2|0| F[1].bin[10]=2≠0(F[2].bin[10]=0) → newBin[10]=2+0 |2|"
   ]
  },
  {
   "cell_type": "markdown",
   "metadata": {},
   "source": [
    "## Merge Exclusive Featuresアルゴリズムの実装\n"
   ]
  },
  {
   "cell_type": "code",
   "execution_count": 32,
   "metadata": {},
   "outputs": [
    {
     "name": "stdout",
     "output_type": "stream",
     "text": [
      "newBin: [1 4 1 6 2 3 0 7 1 2]\n",
      "binRanges: [0, 3, 7]\n"
     ]
    }
   ],
   "source": [
    "x = np.array([[1, 1, 0, 0, 1],\n",
    "              [0, 0, 1, 1, 1],\n",
    "              [1, 2, 0, 0, 2],\n",
    "              [0, 0, 2, 3, 1],\n",
    "              [2, 1, 0, 0, 3],\n",
    "              [3, 3, 0, 0, 1],\n",
    "              [0, 0, 3, 0, 2],\n",
    "              [1, 2, 3, 4, 3],\n",
    "              [1, 0, 1, 0, 0],\n",
    "              [2, 3, 0, 0, 2]])\n",
    "\n",
    "\n",
    "# Greedy Bundlingの結果\n",
    "bundles = [[4], [0, 3], [1, 2]]\n",
    "\n",
    "# Algorithm: Merge Exclusive Features \n",
    "def merge_features(numData, F): \n",
    "  binRanges = [0]\n",
    "  totalBin = 0\n",
    "  for f in F:\n",
    "    totalBin += np.max(f) \n",
    "    binRanges.append(totalBin) \n",
    "\n",
    "  newBin = np.zeros(numData, dtype=int) \n",
    "  for i in range(numData):\n",
    "    newBin[i] = 0\n",
    "    for j in range(len(F)): \n",
    "      if F[j][i] != 0:\n",
    "          newBin[i] = F[j][i] + binRanges[j]\n",
    "  return newBin, binRanges\n",
    "  \n",
    "F = [x[:, i] for i in bundles[1]]\n",
    "newBin, binRanges = merge_features(x.shape[0], F)\n",
    "print('newBin:', newBin)\n",
    "print('binRanges:', binRanges)"
   ]
  }
 ],
 "metadata": {
  "kernelspec": {
   "display_name": "boat",
   "language": "python",
   "name": "python3"
  },
  "language_info": {
   "codemirror_mode": {
    "name": "ipython",
    "version": 3
   },
   "file_extension": ".py",
   "mimetype": "text/x-python",
   "name": "python",
   "nbconvert_exporter": "python",
   "pygments_lexer": "ipython3",
   "version": "3.8.19"
  }
 },
 "nbformat": 4,
 "nbformat_minor": 2
}
