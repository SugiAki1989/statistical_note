{
 "cells": [
  {
   "cell_type": "markdown",
   "metadata": {},
   "source": [
    "# はじめに\n",
    "\n",
    "このノートではLightGBMを理解するために、下記のmeanxaiの動画を参考にしながら、LightGBMのアルゴリズムについて理解を深める。\n",
    "\n",
    "- [[MXML-12-01] Light GBM [1/5] - Histogram-based split finding](https://www.youtube.com/watch?v=N39NE4Nj6vc&list=PLQXYdeUrQvu5z2hYI6TTiqBLCq7qWJ45n)\n",
    "\n",
    "今回は、Histogram-based split findingに焦点をあてる。"
   ]
  },
  {
   "cell_type": "markdown",
   "metadata": {},
   "source": [
    "## Histogram-based split findingアルゴリズム\n",
    "\n",
    "Histogram-based split findingアルゴリズムは、ヒストグラムを利用して最適な分割点を高速に計算する。アルゴリズムの手順をまとめる前に、下記のような簡単なデータを使って、このアルゴリズムのイメージを掴んでおく。"
   ]
  },
  {
   "cell_type": "code",
   "execution_count": 25,
   "metadata": {},
   "outputs": [],
   "source": [
    "%matplotlib inline\n",
    "import matplotlib.pyplot as plt\n",
    "import numpy as np\n",
    "\n",
    "id =[0, 1, 2, 3, 4, 5, 6, 7, 8, 9, 10, 11, 12, 13, 14, 15, 16, 17, 18, 19]\n",
    "x = [0.41, 0.22, 0.7 , 0.06, 0.48, 0.8 , 0.05, 0.72, 0.34, 0.15, 0.6 , 0.31, 0.01, 0.02, 0.29, 0.55, 0.53, 0.22, 0.4 , 0.98]\n",
    "y = [0, 0, 1, 0, 0, 1, 0, 1, 0, 0, 1, 1, 0, 0, 1, 1, 1, 0, 0, 1]\n",
    "y0 = 0.5\n",
    "# [0.5, 0.5, -0.5, 0.5, 0.5, -0.5, 0.5, -0.5, 0.5, 0.5, -0.5, -0.5, 0.5, 0.5, -0.5, -0.5, -0.5, 0.5, 0.5, -0.5]\n",
    "g = [-1*(v - y0) for v in y]\n",
    "h = 0.5* (1-0.5)"
   ]
  },
  {
   "cell_type": "markdown",
   "metadata": {},
   "source": [
    "ヒストグラムを使うアルゴリズムなので、$x$を0.2単位で分割し、ヒストグラムのもととなる表を作成する。"
   ]
  },
  {
   "cell_type": "markdown",
   "metadata": {},
   "source": [
    "|Range|Bin|ID| $\\sum$ g|\n",
    "|:---|:---|:---|:---|\n",
    "|0.0 $\\le$ x $\\lt$ 0.2|0|3,6,9,12,13|2.5|\n",
    "|0.2 $\\le$ x $\\lt$ 0.4|1|1.8.11.14.17|0.5|\n",
    "|0.4 $\\le$ x $\\lt$ 0.6|2|0,4,15,16,18|0.5|\n",
    "|0.6 $\\le$ x $\\lt$ 0.8|3|2,7,10|-1.5|\n",
    "|0.8 $\\le$ x $\\lt$ 1.0|4|5,19|-1.0|\n",
    "\n"
   ]
  },
  {
   "cell_type": "markdown",
   "metadata": {},
   "source": [
    "ビンにアサインされたデータの$\\sum$ gを計算し、分割点の候補を検討する。$y$軸は$g$である。ヒストグラムにして可視化するとわかりよい。このヒストグラムを見ると、各ビンの間を分割点の候補として検討できそうである。"
   ]
  },
  {
   "cell_type": "code",
   "execution_count": 26,
   "metadata": {},
   "outputs": [
    {
     "data": {
      "image/png": "[encoded data removed]",
      "text/plain": [
       "<Figure size 500x400 with 1 Axes>"
      ]
     },
     "metadata": {},
     "output_type": "display_data"
    }
   ],
   "source": [
    "g_sum, bins = np.histogram(x, 5, weights=g)\n",
    "plt.figure(figsize=(5, 4))\n",
    "plt.bar(np.arange(0, g_sum.shape[0]), g_sum)\n",
    "plt.show()"
   ]
  },
  {
   "cell_type": "markdown",
   "metadata": {},
   "source": [
    "各候補となる分割点ごとにScoreを計算したのが下記である。最大のScoreを得られているのは0.6(ビン2とビン3の間)である。この分割点を観察するとわかるが、分割すると残差の方向性に偏りを発生させられるため、Scoreが大きくなりやすい。"
   ]
  },
  {
   "cell_type": "markdown",
   "metadata": {},
   "source": [
    "$$\n",
    "score = \\frac{ (\\sum_{i \\in I_{L}} g_{i})^2 }{ \\sum_{i \\in I_{L}} h_{i} + \\lambda}\n",
    "$$"
   ]
  },
  {
   "cell_type": "markdown",
   "metadata": {},
   "source": [
    "\n",
    "|Candidate|$\\sum$ g (L)|$\\sum$ g (R)| Score(L)| Score(R)| Score(L+R)|\n",
    "|:---|:---|:---|:---|:---|:---|\n",
    "|0.2|2.5|-1.5|2.5^2/(0.25*5)=5.0|(-1.5)^2/(0.25*15)=0.6|5.6|\n",
    "|0.4|3.0|-2.0|3.0^2/(0.25*5)=3.6|(-2.0)^2/(0.25*10)=1.6|5.2|\n",
    "|0.6|3.5|-2.5|3.5^2/(0.25*15)=3.27|(-2.5)^2/(0.25*5)=5.0|9.94|\n",
    "|0.8|2.0|-1.0|2.0^2/(0.25*18)=0.89|(-1.0)^2/(0.25*2)=2.0|2.89|"
   ]
  },
  {
   "cell_type": "markdown",
   "metadata": {},
   "source": [
    "XGboostでもApproximate Algorithm、Weighted Quantile Sketch for Split Findingなどが高速化のために提案されていたが、LightGBMでは高速化のためにHistogram-based split findingアルゴリズムが利用される。下記の画像を参考に、アルゴリズムの手順をまとめておく。\n",
    "\n",
    "1. $x_{0},x_{1}$の各々でヒストグラムを作成する。$y$軸は各ビンごとの$g=-(y-\\hat{y})$の合計。\n",
    "2. ヒストグラムを利用し、Gainが最も高くなる分割点を探索する。(当たり前ながら、可視化されたヒストグラムを見ながら探すわけではない)\n",
    "3. $x_{0},x_{1}$のGainが高くなる分割点を比較して、Gainが高くなる分割点を選ぶ\n",
    "\n",
    "この方法はヒストグラムを大量に作成するため、計算コストが高い。そのため、並列化を行い高速化を行う。"
   ]
  },
  {
   "cell_type": "markdown",
   "metadata": {},
   "source": [
    "<img src='./BoostHist.png'>\n"
   ]
  },
  {
   "cell_type": "markdown",
   "metadata": {},
   "source": [
    "## Histogram-based split findingアルゴリズムの実装"
   ]
  },
  {
   "cell_type": "code",
   "execution_count": null,
   "metadata": {},
   "outputs": [],
   "source": [
    "# --------------------------------\n",
    "# $ python3 histogram-based.py\n",
    "# --------------------------------\n",
    "# histogram-based\n",
    "import numpy as np\n",
    "from sklearn.datasets import make_blobs\n",
    "from multiprocessing.pool import Pool\n",
    "\n",
    "# Create a training data set.\n",
    "x, y = make_blobs(n_samples=300, n_features=2, centers=[[0., 0.], [0.5, 0.3]], cluster_std=0.15, center_box=(-1., 1.))\n",
    "\n",
    "def find_local_split_point(f, s_point, g, h, G, H, r, p_score):\n",
    "  \"\"\"\n",
    "  f: 特徴量ベクトル x[:,0], x[:,1]\n",
    "  s_point: 分割点リスト\n",
    "  \"\"\"\n",
    "  GL = HL = 0.0\n",
    "  l_bound = -np.inf   \n",
    "  max_gain = -np.inf \n",
    "\n",
    "  # jは候補点\n",
    "  for j in s_point:\n",
    "    # 左右の葉にjを基準に割り振る\n",
    "    left  = np.where(np.logical_and(f > l_bound, f <= j))[0]\n",
    "    right = np.where(f > j)[0]\n",
    "\n",
    "    # 分割後に左右の葉でScoreを計算\n",
    "    GL += g[left].sum()\n",
    "    HL += (h[left] * (1. - h[left])).sum()\n",
    "    GR = G - GL\n",
    "    HR = H - HL\n",
    "    # Gainを計算\n",
    "    gain = (GL ** 2)/ (HL + r) + (GR ** 2)/(HR + r) - p_score\n",
    "    \n",
    "    # Gainが最大の点を探す\n",
    "    if gain > max_gain: \n",
    "      max_gain = gain\n",
    "      b_point = j \n",
    "    l_bound = j\n",
    "  return b_point, max_gain\n",
    "\n",
    "if __name__ == '__main__':\n",
    "    y0 = np.ones(shape=y.shape) * 0.5 # 初期予測値\n",
    "    g = -(y - y0)                     # 負の残差\n",
    "    h = y0 * (1.0 - y0)               # ヘシアン\n",
    "\n",
    "    # 各特徴量でベストな分割点を探す\n",
    "    G = g.sum()\n",
    "    H = h.sum()\n",
    "    r = 0.0\n",
    "    gamma = 0.0\n",
    "    p_score = (G ** 2) / (H + r) # Scoreを計算\n",
    "\n",
    "    # 各特徴量でヒストグラムを作成\n",
    "    n_bin = 30 \n",
    "    g0_parent, f0_bin = np.histogram(x[:, 0], n_bin, weights=g) # 特徴量0のヒストグラム\n",
    "    g1_parent, f1_bin = np.histogram(x[:, 1], n_bin, weights=g) # 特徴量1のヒストグラム\n",
    "\n",
    "    # 直列パーティションニングで並列化\n",
    "    mp = Pool(2)\n",
    "    args = [[x[:, 0], f0_bin], [x[:, 1], f1_bin]]\n",
    "    ret = mp.starmap_async(find_local_split_point, [(x[:, 0], f0_bin, g, h, G, H, r, p_score), (x[:, 1], f1_bin, g, h, G, H, r, p_score)])\n",
    "\n",
    "    mp.close()\n",
    "    mp.join()\n",
    "\n",
    "    results = ret.get()\n",
    "    p1    = results[0][0]\n",
    "    p2    = results[1][0]\n",
    "    gain1 = results[0][1]\n",
    "    gain2 = results[1][1]\n",
    "\n",
    "    if gain1 > gain2:\n",
    "        b_fid = 0\n",
    "        b_point = p1\n",
    "    else:\n",
    "        b_fid = 1\n",
    "        b_point = p2\n",
    "\n",
    "    print('\\nbest feature id =', b_fid)\n",
    "    print( 'best split point =', b_point.round(3))"
   ]
  },
  {
   "cell_type": "markdown",
   "metadata": {},
   "source": [
    "実行結果は下記の通り。特徴量0の0.298がベストな分割点となっている。"
   ]
  },
  {
   "cell_type": "code",
   "execution_count": 33,
   "metadata": {},
   "outputs": [],
   "source": [
    "# best feature id = 0\n",
    "# best split point = 0.298"
   ]
  }
 ],
 "metadata": {
  "kernelspec": {
   "display_name": "boat",
   "language": "python",
   "name": "python3"
  },
  "language_info": {
   "codemirror_mode": {
    "name": "ipython",
    "version": 3
   },
   "file_extension": ".py",
   "mimetype": "text/x-python",
   "name": "python",
   "nbconvert_exporter": "python",
   "pygments_lexer": "ipython3",
   "version": "3.8.19"
  }
 },
 "nbformat": 4,
 "nbformat_minor": 2
}
