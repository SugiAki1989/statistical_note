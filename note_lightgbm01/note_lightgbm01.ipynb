{
 "cells": [
  {
   "cell_type": "markdown",
   "metadata": {},
   "source": [
    "# はじめに\n",
    "\n",
    "このノートでは、lightGBMのアルゴリズムに関して、基本的な部分をおさらいして、まとめている。下記の書籍のコードと論文を参考にしている。\n",
    "\n",
    "- [LightGBM予測モデル実装ハンドブック](https://www.shuwasystem.co.jp/book/9784798067612.html)\n",
    "- [LightGBM: A Highly Efficient Gradient Boosting Decision Tree](https://proceedings.neurips.cc/paper_files/paper/2017/file/6449f44a102fde848669bdd9eb6b76fa-Paper.pdf)\n",
    "\n",
    "詳細な数理についてではなく、Pythonのライブラリを利用して、アルゴリズムを理解する。"
   ]
  },
  {
   "cell_type": "markdown",
   "metadata": {},
   "source": [
    "## 勾配ブースティング回帰のアルゴリズム\n",
    "\n",
    "勾配ブースティング回帰は、回帰木を並列ではなく、直列につなぎ合わせることで、学習を進めていく。そのため、学習させ続けることで、簡単に過学習してしまう。予測値の算出に関しても、1つ回帰木の葉から予測値を得るのではなく、複数の回帰木の葉を重みづけて計算される。とはいえ、文字だけでは理解しにくいので、下記の書籍を参考にコードを書いて理解していく。\n",
    "\n",
    "- [LightGBM予測モデル実装ハンドブック](https://www.shuwasystem.co.jp/book/9784798067612.html)\n",
    "\n",
    "まずは深さが1のLightGBMを通じて予測値の算出過程を理解する。深さが1のLightGBMの場合、予測値は下記の通り計算される。$\\eta$は学習率である。\n",
    "\n",
    "$$\n",
    "\\hat{y} = \\hat{y}^{(0)} + \\eta w_{1}(X)\n",
    "$$\n",
    "\n",
    "イメージとしては、初期値に対して、残差をもとに計算される重みと学習率を使って予測値を算出する。"
   ]
  },
  {
   "cell_type": "markdown",
   "metadata": {},
   "source": [
    "## モデルの学習\n",
    "\n",
    "必要なライブラリをインポートしておく。"
   ]
  },
  {
   "cell_type": "code",
   "execution_count": 1,
   "metadata": {},
   "outputs": [],
   "source": [
    "%matplotlib inline\n",
    "import pandas as pd\n",
    "import numpy as np\n",
    "import matplotlib.pyplot as plt\n",
    "import sklearn\n",
    "import lightgbm as lgb\n",
    "import graphviz\n",
    "\n",
    "from sklearn.model_selection import train_test_split\n",
    "from sklearn.metrics import mean_squared_error"
   ]
  },
  {
   "cell_type": "markdown",
   "metadata": {},
   "source": [
    "ここで使用するデータは、ボストン市の住宅価格に関するサンプルデータ。データの説明は下記の通り。\n",
    "\n",
    "|変数|説明|\n",
    "|:---|:---|\n",
    "|`CRIM`\t|人口1人当たりの犯罪発生数|\n",
    "|`ZN`|25,000平方フィート以上の住居区画の占める割合|\n",
    "|`INDUS`|小売業以外の商業が占める面積の割合|\n",
    "|`CHAS`|チャールズ川によるダミー変数 (1: 川の周辺, 0: それ以外)|\n",
    "|`NOX`|NOx の濃度|\n",
    "|`RM`|住居の平均部屋数|\n",
    "|`AGE`|1940 年より前に建てられた物件の割合|\n",
    "|`DIS`|5つのボストン市の雇用施設からの距離|\n",
    "|`RAD`|高速道路へのアクセスしやすさ|\n",
    "|`TAX`|$10,000 ドルあたりの不動産税率の総計|\n",
    "|`PTRATIO`|町毎の児童と教師の比率|\n",
    "|`B`|町毎の黒人 (Bk) の比率を次の式で表したもの。 1000(Bk – 0.63)^2|\n",
    "|`LSTAT`|\t給与の低い職業に従事する人口の割合 (%)|\n",
    "|`MEDV`|\t所有者が占有している家屋の$ 1000単位の中央値。24という表記だと24000ドル。|\n"
   ]
  },
  {
   "cell_type": "code",
   "execution_count": 2,
   "metadata": {},
   "outputs": [
    {
     "data": {
      "text/html": [
       "<div>\n",
       "<style scoped>\n",
       "    .dataframe tbody tr th:only-of-type {\n",
       "        vertical-align: middle;\n",
       "    }\n",
       "\n",
       "    .dataframe tbody tr th {\n",
       "        vertical-align: top;\n",
       "    }\n",
       "\n",
       "    .dataframe thead th {\n",
       "        text-align: right;\n",
       "    }\n",
       "</style>\n",
       "<table border=\"1\" class=\"dataframe\">\n",
       "  <thead>\n",
       "    <tr style=\"text-align: right;\">\n",
       "      <th></th>\n",
       "      <th>CRIM</th>\n",
       "      <th>ZN</th>\n",
       "      <th>INDUS</th>\n",
       "      <th>CHAS</th>\n",
       "      <th>NOX</th>\n",
       "      <th>RM</th>\n",
       "      <th>AGE</th>\n",
       "      <th>DIS</th>\n",
       "      <th>RAD</th>\n",
       "      <th>TAX</th>\n",
       "      <th>PTRATIO</th>\n",
       "      <th>B</th>\n",
       "      <th>LSTAT</th>\n",
       "      <th>MEDV</th>\n",
       "    </tr>\n",
       "  </thead>\n",
       "  <tbody>\n",
       "    <tr>\n",
       "      <th>0</th>\n",
       "      <td>0.00632</td>\n",
       "      <td>18.0</td>\n",
       "      <td>2.31</td>\n",
       "      <td>0</td>\n",
       "      <td>0.538</td>\n",
       "      <td>6.575</td>\n",
       "      <td>65.2</td>\n",
       "      <td>4.0900</td>\n",
       "      <td>1</td>\n",
       "      <td>296.0</td>\n",
       "      <td>15.3</td>\n",
       "      <td>396.90</td>\n",
       "      <td>4.98</td>\n",
       "      <td>24.0</td>\n",
       "    </tr>\n",
       "    <tr>\n",
       "      <th>1</th>\n",
       "      <td>0.02731</td>\n",
       "      <td>0.0</td>\n",
       "      <td>7.07</td>\n",
       "      <td>0</td>\n",
       "      <td>0.469</td>\n",
       "      <td>6.421</td>\n",
       "      <td>78.9</td>\n",
       "      <td>4.9671</td>\n",
       "      <td>2</td>\n",
       "      <td>242.0</td>\n",
       "      <td>17.8</td>\n",
       "      <td>396.90</td>\n",
       "      <td>9.14</td>\n",
       "      <td>21.6</td>\n",
       "    </tr>\n",
       "    <tr>\n",
       "      <th>2</th>\n",
       "      <td>0.02729</td>\n",
       "      <td>0.0</td>\n",
       "      <td>7.07</td>\n",
       "      <td>0</td>\n",
       "      <td>0.469</td>\n",
       "      <td>7.185</td>\n",
       "      <td>61.1</td>\n",
       "      <td>4.9671</td>\n",
       "      <td>2</td>\n",
       "      <td>242.0</td>\n",
       "      <td>17.8</td>\n",
       "      <td>392.83</td>\n",
       "      <td>4.03</td>\n",
       "      <td>34.7</td>\n",
       "    </tr>\n",
       "    <tr>\n",
       "      <th>3</th>\n",
       "      <td>0.03237</td>\n",
       "      <td>0.0</td>\n",
       "      <td>2.18</td>\n",
       "      <td>0</td>\n",
       "      <td>0.458</td>\n",
       "      <td>6.998</td>\n",
       "      <td>45.8</td>\n",
       "      <td>6.0622</td>\n",
       "      <td>3</td>\n",
       "      <td>222.0</td>\n",
       "      <td>18.7</td>\n",
       "      <td>394.63</td>\n",
       "      <td>2.94</td>\n",
       "      <td>33.4</td>\n",
       "    </tr>\n",
       "    <tr>\n",
       "      <th>4</th>\n",
       "      <td>0.06905</td>\n",
       "      <td>0.0</td>\n",
       "      <td>2.18</td>\n",
       "      <td>0</td>\n",
       "      <td>0.458</td>\n",
       "      <td>7.147</td>\n",
       "      <td>54.2</td>\n",
       "      <td>6.0622</td>\n",
       "      <td>3</td>\n",
       "      <td>222.0</td>\n",
       "      <td>18.7</td>\n",
       "      <td>396.90</td>\n",
       "      <td>5.33</td>\n",
       "      <td>36.2</td>\n",
       "    </tr>\n",
       "  </tbody>\n",
       "</table>\n",
       "</div>"
      ],
      "text/plain": [
       "      CRIM    ZN  INDUS  CHAS    NOX     RM   AGE     DIS  RAD    TAX  \\\n",
       "0  0.00632  18.0   2.31     0  0.538  6.575  65.2  4.0900    1  296.0   \n",
       "1  0.02731   0.0   7.07     0  0.469  6.421  78.9  4.9671    2  242.0   \n",
       "2  0.02729   0.0   7.07     0  0.469  7.185  61.1  4.9671    2  242.0   \n",
       "3  0.03237   0.0   2.18     0  0.458  6.998  45.8  6.0622    3  222.0   \n",
       "4  0.06905   0.0   2.18     0  0.458  7.147  54.2  6.0622    3  222.0   \n",
       "\n",
       "   PTRATIO       B  LSTAT  MEDV  \n",
       "0     15.3  396.90   4.98  24.0  \n",
       "1     17.8  396.90   9.14  21.6  \n",
       "2     17.8  392.83   4.03  34.7  \n",
       "3     18.7  394.63   2.94  33.4  \n",
       "4     18.7  396.90   5.33  36.2  "
      ]
     },
     "execution_count": 2,
     "metadata": {},
     "output_type": "execute_result"
    }
   ],
   "source": [
    "# データセットの読み込み\n",
    "df = pd.read_csv('https://archive.ics.uci.edu/ml/machine-learning-databases/housing/housing.data', header=None, sep='\\s+')\n",
    "df.columns=['CRIM', 'ZN', 'INDUS', 'CHAS', 'NOX', 'RM', 'AGE', 'DIS', 'RAD', 'TAX', 'PTRATIO', 'B', 'LSTAT', 'MEDV']\n",
    "df.head()\n"
   ]
  },
  {
   "cell_type": "markdown",
   "metadata": {},
   "source": [
    "目的変数は、所有者が占有している家屋の$1000単位の中央値`MEDV`で、24という表記だと24000ドルを意味する。特徴量は`MEDV`以外とする。また、予測値の計算過程を理解するためにデータ分割は簡単にしておく。"
   ]
  },
  {
   "cell_type": "code",
   "execution_count": 3,
   "metadata": {},
   "outputs": [
    {
     "name": "stdout",
     "output_type": "stream",
     "text": [
      "X_trainの形状： (100, 1)  y_trainの形状： (100,)\n"
     ]
    }
   ],
   "source": [
    "# 特徴量と目的変数の設定\n",
    "# X = df.drop(['MEDV'], axis=1)\n",
    "# y = df['MEDV']\n",
    "\n",
    "# 学習データとテストデータに分割\n",
    "# X_train, X_test, y_train, y_test = train_test_split(X, y, test_size=0.2, shuffle=True, random_state=0)\n",
    "# print('X_trainの形状：', X_train.shape, ' y_trainの形状：', y_train.shape, ' X_testの形状：', X_test.shape, ' y_testの形状：', y_test.shape)\n",
    "\n",
    "# 特徴量と目的変数の設定\n",
    "# 特徴量と目的変数の設定\n",
    "X_train = df.loc[:99, ['RM']] # 特徴量に100件のRM（平均部屋数）を設定\n",
    "y_train = df.loc[:99, 'MEDV'] # 正解値に100件のMEDV（住宅価格）を設定\n",
    "print('X_trainの形状：', X_train.shape, ' y_trainの形状：', y_train.shape)"
   ]
  },
  {
   "cell_type": "markdown",
   "metadata": {},
   "source": [
    "|パラメタ名|説明|\n",
    "|:---|:---|\n",
    "|`objective`|\t損失関数の種類|\n",
    "|`metric`|\t`objective`と異なる評価指標を使用する場合に利用|\n",
    "|`learning_rate`|学習率。1回のブースティングで加算する重みの比率。|\n",
    "|`num_leaves`|モデルが持つ葉の最大値|\n",
    "|`max_depth`|決定木の深さの上限|\n",
    "|`min_data_in_leaf`|葉の作成に必要な最小のサンプル数|\n",
    "|`max_bin`|ヒストグラムのbinの件数の最大値|\n",
    "|`min_data_in_bin`|ヒストグラムの1つのbinに含まれる最小のサンプル数|\n",
    "|`n_estimators`|決定木の数|\n",
    "|`verbose`|学習プロセスの詳細を表示するかどうかを制御|\n",
    "|`early_stopping_rounds`|\t学習を重ねても評価指標が改善しなくなった場合の停止するときの回数|\n",
    "\n",
    "LightGBMは、特徴量をヒストグラムでビニングして分割点の計算を高速化するが、ここではその機能は無効にする。イメージとしては下記のとおり。"
   ]
  },
  {
   "cell_type": "code",
   "execution_count": 4,
   "metadata": {},
   "outputs": [
    {
     "data": {
      "text/plain": [
       "array([[<Axes: title={'center': 'RM'}>]], dtype=object)"
      ]
     },
     "execution_count": 4,
     "metadata": {},
     "output_type": "execute_result"
    },
    {
     "data": {
      "image/png": "[encoded data removed]",
      "text/plain": [
       "<Figure size 640x480 with 1 Axes>"
      ]
     },
     "metadata": {},
     "output_type": "display_data"
    }
   ],
   "source": [
    "# max_bin=20\n",
    "X_train.hist(bins=20) # 100件レコードに対してbinが20のヒストグラム"
   ]
  },
  {
   "cell_type": "markdown",
   "metadata": {},
   "source": [
    "ここでは予測値の算出過程を理解するために、深さは1に設定して、モデルを学習する。"
   ]
  },
  {
   "cell_type": "code",
   "execution_count": 5,
   "metadata": {},
   "outputs": [],
   "source": [
    "# ハイパーパラメータの設定\n",
    "lgb_train = lgb.Dataset(X_train, y_train)\n",
    "\n",
    "params = {\n",
    "    'objective': 'mse',\n",
    "    'metric': 'mse',\n",
    "    'learning_rate': 0.8,\n",
    "    'max_depth': 1,\n",
    "    'min_data_in_leaf': 1,\n",
    "    'min_data_in_bin': 1,\n",
    "    'max_bin': 100,\n",
    "    'seed': 0,\n",
    "    'verbose': -1,\n",
    "}\n",
    "\n",
    "# モデルの学習\n",
    "model = lgb.train(\n",
    "  params,                            # パラメタ\n",
    "  lgb_train,                         # 学習データ\n",
    "  num_boost_round=1,                # ブースティング回数\n",
    "  valid_sets=[lgb_train],            # 誤差の計算に使用する学習データ\n",
    "  valid_names=['train'],             # ログの表示ラベル\n",
    "  callbacks=[lgb.log_evaluation(5)]  # 評価過程を表示。学習データの予測値と正解値の誤差が一致している。\n",
    ")"
   ]
  },
  {
   "cell_type": "markdown",
   "metadata": {},
   "source": [
    "学習データの予測と評価しておく。今回の設定であれば、`l2`は`MSE`なので、学習データの予測値と正解値の誤差が一致する。"
   ]
  },
  {
   "cell_type": "code",
   "execution_count": 6,
   "metadata": {},
   "outputs": [
    {
     "name": "stdout",
     "output_type": "stream",
     "text": [
      "MSE train: 17.10\n"
     ]
    }
   ],
   "source": [
    "# 学習データの予測と評価\n",
    "y_train_pred = model.predict(X_train)\n",
    "print('MSE train: %.2f' % (mean_squared_error(y_train, y_train_pred)))\n",
    "# print('RMSE train: %.2f' % (mean_squared_error(y_train, y_train_pred) ** 0.5))\n",
    "# print('------------------------------------------')\n",
    "# テストデータの予測と評価\n",
    "# y_test_pred = model.predict(X_test)\n",
    "# print('MSE test: %.2f' % (mean_squared_error(y_test, y_test_pred)))\n",
    "# print('RMSE test: %.2f' % (mean_squared_error(y_test, y_test_pred) ** 0.5))\n"
   ]
  },
  {
   "cell_type": "markdown",
   "metadata": {},
   "source": [
    "決定木の深さが1なので、予測値は2種類しか存在しない。ここでの目的どおり、予測値21.04がどのように計算されたのかを理解していく。"
   ]
  },
  {
   "cell_type": "code",
   "execution_count": 7,
   "metadata": {},
   "outputs": [
    {
     "data": {
      "text/plain": [
       "[21.040890996699986, 31.608467316627504]"
      ]
     },
     "execution_count": 7,
     "metadata": {},
     "output_type": "execute_result"
    }
   ],
   "source": [
    "list(set(y_train_pred))"
   ]
  },
  {
   "cell_type": "markdown",
   "metadata": {},
   "source": [
    "ブースティングしている決定木は1つなので、可視化できる木は1つのみ。これをみると、`RM<=6.793`で分割されていることがわかる。"
   ]
  },
  {
   "cell_type": "code",
   "execution_count": 14,
   "metadata": {},
   "outputs": [
    {
     "data": {
      "text/plain": [
       "<Axes: >"
      ]
     },
     "execution_count": 14,
     "metadata": {},
     "output_type": "execute_result"
    },
    {
     "data": {
      "image/png": "[encoded data removed]",
      "text/plain": [
       "<Figure size 500x500 with 1 Axes>"
      ]
     },
     "metadata": {},
     "output_type": "display_data"
    }
   ],
   "source": [
    "# 1本目の木の可視化\n",
    "lgb.plot_tree(model, tree_index=0, figsize=(5, 5))"
   ]
  },
  {
   "cell_type": "markdown",
   "metadata": {},
   "source": [
    "`RM<=6.793`で分割されていることを理解するためには、可視化してみるとわかりよい。しきい値でデータを分割し、葉を左右で分けている。"
   ]
  },
  {
   "cell_type": "code",
   "execution_count": 9,
   "metadata": {},
   "outputs": [
    {
     "data": {
      "image/png": "[encoded data removed]",
      "text/plain": [
       "<Figure size 800x400 with 1 Axes>"
      ]
     },
     "metadata": {},
     "output_type": "display_data"
    }
   ],
   "source": [
    "# データと予測値の可視化\n",
    "plt.figure(figsize=(8, 4)) #プロットのサイズ指定\n",
    "X = X_train.values.flatten() # numpy配列に変換し、1次元配列に変換\n",
    "y = y_train.values # numpy配列に変換\n",
    "\n",
    "# Xの最小値から最大値まで0.01刻みのX_pltを作成し、2次元配列に変換\n",
    "X_plt = np.arange(X.min(), X.max(), 0.01)[:, np.newaxis]\n",
    "y_pred = model.predict(X_plt) # 住宅価格を予測\n",
    "\n",
    "# 学習データ(平均部屋数と住宅価格)の散布図と予測値のプロット\n",
    "plt.scatter(X, y, color='royalblue', label='data')\n",
    "plt.plot(X_plt, y_pred, color='tomato', label='LightGBM')\n",
    "plt.plot(X_plt, np.full_like(X_plt, np.mean(y)), color='gray', label='Mean') # 平均ラインをプロット\n",
    "plt.ylabel('Price in $1000s [MEDV]')\n",
    "plt.xlabel('average number of rooms [RM]')\n",
    "plt.title('Boston house-prices')\n",
    "plt.legend(loc='upper right')\n",
    "# x軸の目盛りを0.1刻みに設定\n",
    "plt.xticks(np.arange(5, 8, 0.2), rotation=45)\n",
    "\n",
    "\n",
    "plt.show()"
   ]
  },
  {
   "cell_type": "markdown",
   "metadata": {},
   "source": [
    "## 予測値の計算過程\n",
    "\n",
    "深さ1の場合、予測値は下記の通り計算される。\n",
    "\n",
    "$$\n",
    "\\hat{y} = \\hat{y}^{(0)} + \\eta w_{1}(X)\n",
    "$$\n",
    "\n",
    "$\\hat{y}^{(0)}$はデータの平均値から計算される。　\n"
   ]
  },
  {
   "cell_type": "code",
   "execution_count": 10,
   "metadata": {},
   "outputs": [
    {
     "name": "stdout",
     "output_type": "stream",
     "text": [
      "samples: 100\n",
      "pred0: 22.30900000000001\n"
     ]
    }
   ],
   "source": [
    "# 初期値\n",
    "print('samples:', len(y)) # レコード数\n",
    "pred0 = sum(y)/len(y) # 予測値（平均）\n",
    "print('pred0:', pred0)"
   ]
  },
  {
   "cell_type": "markdown",
   "metadata": {},
   "source": [
    "100件のデータは`RM<=6.793`で分割されるため、これを再現する。まずは左のリーフを考える。"
   ]
  },
  {
   "cell_type": "code",
   "execution_count": 11,
   "metadata": {},
   "outputs": [
    {
     "name": "stdout",
     "output_type": "stream",
     "text": [
      "X_left: [6.575 6.421 6.43  6.012 6.172 5.631 6.004 6.377 6.009 5.889 5.949 6.096\n",
      " 5.834 5.935 5.99  5.456 5.727 5.57  5.965 6.142 5.813 5.924 5.599 5.813\n",
      " 6.047 6.495 6.674 5.713 6.072 5.95  5.701 6.096 5.933 5.841 5.85  5.966\n",
      " 6.595 6.77  6.169 6.211 6.069 5.682 5.786 6.03  5.399 5.602 5.963 6.115\n",
      " 6.511 5.998 5.888 6.383 6.145 5.927 5.741 5.966 6.456 6.762 6.29  5.787\n",
      " 5.878 5.594 5.885 6.417 5.961 6.065 6.245 6.273 6.286 6.279 6.14  6.232\n",
      " 5.874 6.727 6.619 6.302 6.167 6.389 6.63  6.015 6.121 6.417 6.405 6.442\n",
      " 6.211 6.249 6.625 6.163]\n",
      "----------------------------------------------------------------------------------------\n",
      "y_left: [24.  21.6 28.7 22.9 27.1 16.5 18.9 15.  18.9 21.7 20.4 18.2 19.9 23.1\n",
      " 17.5 20.2 18.2 13.6 19.6 15.2 14.5 15.6 13.9 16.6 14.8 18.4 21.  12.7\n",
      " 14.5 13.2 13.1 13.5 18.9 20.  21.  24.7 30.8 26.6 25.3 24.7 21.2 19.3\n",
      " 20.  16.6 14.4 19.4 19.7 20.5 25.  23.4 18.9 24.7 23.3 19.6 18.7 16.\n",
      " 22.2 25.  23.5 19.4 22.  17.4 20.9 24.2 21.7 22.8 23.4 24.1 21.4 20.\n",
      " 20.8 21.2 20.3 28.  23.9 24.8 22.9 23.9 26.6 22.5 22.2 22.6 22.  22.9\n",
      " 25.  20.6 28.4 21.4]\n"
     ]
    }
   ],
   "source": [
    "# 左葉のレコード\n",
    "threshold = 6.793 # 左右に分割する分割点\n",
    "X_left = X[X<=threshold] # 左葉の特徴量\n",
    "y_left = y[X<=threshold] # 左葉の正解値\n",
    "print('X_left:', X_left)\n",
    "print('----------------------------------------------------------------------------------------')\n",
    "print('y_left:', y_left)\n"
   ]
  },
  {
   "cell_type": "markdown",
   "metadata": {},
   "source": [
    "最初の残差は、目的変数と初期値の差分になる。重みは`mse`を指定したため、残差の平均値になる。そのため、まずは残差を計算し、残差の平均値を求める。そして、学習率を重みにかけて、初期値と足し合わせる。そうすることで、予測値の21.04が得られる。"
   ]
  },
  {
   "cell_type": "code",
   "execution_count": 12,
   "metadata": {},
   "outputs": [
    {
     "name": "stdout",
     "output_type": "stream",
     "text": [
      "samples_left: 88\n",
      "weight_left: -1.5851363636363767\n",
      "y_pred_left: 21.040890909090912\n"
     ]
    }
   ],
   "source": [
    "# 左葉の予測値\n",
    "print('samples_left:', len(y_left)) # 左葉のレコード数\n",
    "residual_left = y_left - pred0 # 残差\n",
    "weight_left = sum(residual_left)/len(y_left) # 重み\n",
    "print('weight_left:', weight_left)\n",
    "y_pred_left = pred0 + 0.8 * weight_left # 左葉の予測値\n",
    "print('y_pred_left:', y_pred_left)"
   ]
  },
  {
   "cell_type": "markdown",
   "metadata": {},
   "source": [
    "右葉の予測値も同じように計算すれば、予測値31.60が得られる。"
   ]
  },
  {
   "cell_type": "code",
   "execution_count": 13,
   "metadata": {},
   "outputs": [
    {
     "name": "stdout",
     "output_type": "stream",
     "text": [
      "X_right: [7.185 6.998 7.147 7.024 7.249 6.816 7.104 7.007 7.079 8.069 7.82  7.416]\n",
      "y_right: [34.7 33.4 36.2 34.9 35.4 31.6 33.  23.6 28.7 38.7 43.8 33.2]\n",
      "samples_right: 12\n",
      "weight_right: 11.624333333333324\n",
      "y_pred_right: 31.608466666666672\n"
     ]
    }
   ],
   "source": [
    "# 右葉のレコード\n",
    "X_right = X[threshold<X] # 右葉の特徴量\n",
    "y_right = y[threshold<X] # 右葉の正解値\n",
    "print('X_right:', X_right)\n",
    "print('y_right:', y_right)\n",
    "# 右葉の予測値\n",
    "print('samples_right:', len(y_right)) # 右葉のレコード数\n",
    "residual_right = y_right - pred0 # 残差\n",
    "weight_right = sum(residual_right)/len(y_right) # 重み\n",
    "print('weight_right:', weight_right)\n",
    "y_pred_right = pred0 + 0.8 * weight_right # 右葉の予測値\n",
    "print('y_pred_right:', y_pred_right)"
   ]
  }
 ],
 "metadata": {
  "kernelspec": {
   "display_name": "boat",
   "language": "python",
   "name": "python3"
  },
  "language_info": {
   "codemirror_mode": {
    "name": "ipython",
    "version": 3
   },
   "file_extension": ".py",
   "mimetype": "text/x-python",
   "name": "python",
   "nbconvert_exporter": "python",
   "pygments_lexer": "ipython3",
   "version": "3.8.19"
  }
 },
 "nbformat": 4,
 "nbformat_minor": 2
}
